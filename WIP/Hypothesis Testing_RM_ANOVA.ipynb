{
 "cells": [
  {
   "cell_type": "markdown",
   "metadata": {
    "colab_type": "text",
    "id": "ZM6DyjYckZl2"
   },
   "source": [
    "\n",
    "# Hypothesis Testing with Neuro Data - RM ANOVA"
   ]
  },
  {
   "cell_type": "markdown",
   "metadata": {},
   "source": [
    "## NOTES"
   ]
  },
  {
   "cell_type": "markdown",
   "metadata": {},
   "source": [
    "- This notebook is intended to walk through preparing my binge drinking data for Hypothesis Testing\n",
    "- Specifically, in this notebook I will attempt to use the most appropriate stat tests, which are not taught in the Learn curriculum\n",
    "\n",
    "\n",
    "- **Repeated Measures ANOVA in Python**\n",
    "-  **Two way RM ANOVA**"
   ]
  },
  {
   "cell_type": "markdown",
   "metadata": {},
   "source": [
    "### REFERENCES"
   ]
  },
  {
   "cell_type": "markdown",
   "metadata": {},
   "source": [
    "- [RM ANOVA IN Python with Statsmodels](https://www.marsja.se/repeated-measures-anova-in-python-using-statsmodels/)\n",
    "- One-way RM ANOVA (other packages): https://www.marsja.se/repeated-measures-anova-using-python/\n",
    "- Two-Way: https://marsja.se/two-way-anova-repeated-measures-using-python/\n"
   ]
  },
  {
   "cell_type": "markdown",
   "metadata": {},
   "source": [
    "# Statistical Tests Summary Table"
   ]
  },
  {
   "cell_type": "markdown",
   "metadata": {},
   "source": [
    "\n",
    "\n",
    "| Parametric tests (means) | Function | Nonparametric tests (medians) | Function |\n",
    " | --- | --- | --- | --- |\n",
    " | 1-sample t test |`scipy.stats.ttest_1samp()`|  1-sample Wilcoxon |`scipy.stats.wilcoxon`|\n",
    " | 2-sample t test |`scipy.stats.ttest_ind()` | Mann-Whitney U test |`scipy.stats.mannwhitneyu()` |\n",
    " | One-Way ANOVA | `scipy.stats.f_oneway()` | Kruskal-Wallis | `scipy.stats.kruskal` | \n",
    " \n",
    " \n",
    " | Factorial DOE with one factor and one blocking variable |Friedman test  |\n"
   ]
  },
  {
   "cell_type": "markdown",
   "metadata": {},
   "source": [
    "# Hypothesis Testing: Mouse Data"
   ]
  },
  {
   "cell_type": "code",
   "execution_count": 1,
   "metadata": {
    "ExecuteTime": {
     "end_time": "2020-07-01T01:31:14.138383Z",
     "start_time": "2020-07-01T01:31:09.561075Z"
    },
    "colab": {
     "base_uri": "https://localhost:8080/",
     "height": 221
    },
    "colab_type": "code",
    "id": "soGUgJ9RRJOp",
    "outputId": "e919e060-8aae-48d4-ed29-3b4637408f13"
   },
   "outputs": [
    {
     "name": "stdout",
     "output_type": "stream",
     "text": [
      "fsds_1007219  v0.7.22 loaded.  Read the docs: https://fsds.readthedocs.io/en/latest/ \n"
     ]
    },
    {
     "data": {
      "text/html": [
       "<style  type=\"text/css\" >\n",
       "</style><table id=\"T_8cfa89d0_bb3a_11ea_8341_4865ee12e626\" ><caption>Loaded Packages and Handles</caption><thead>    <tr>        <th class=\"col_heading level0 col0\" >Handle</th>        <th class=\"col_heading level0 col1\" >Package</th>        <th class=\"col_heading level0 col2\" >Description</th>    </tr></thead><tbody>\n",
       "                <tr>\n",
       "                                <td id=\"T_8cfa89d0_bb3a_11ea_8341_4865ee12e626row0_col0\" class=\"data row0 col0\" >dp</td>\n",
       "                        <td id=\"T_8cfa89d0_bb3a_11ea_8341_4865ee12e626row0_col1\" class=\"data row0 col1\" >IPython.display</td>\n",
       "                        <td id=\"T_8cfa89d0_bb3a_11ea_8341_4865ee12e626row0_col2\" class=\"data row0 col2\" >Display modules with helpful display and clearing commands.</td>\n",
       "            </tr>\n",
       "            <tr>\n",
       "                                <td id=\"T_8cfa89d0_bb3a_11ea_8341_4865ee12e626row1_col0\" class=\"data row1 col0\" >fs</td>\n",
       "                        <td id=\"T_8cfa89d0_bb3a_11ea_8341_4865ee12e626row1_col1\" class=\"data row1 col1\" >fsds_100719</td>\n",
       "                        <td id=\"T_8cfa89d0_bb3a_11ea_8341_4865ee12e626row1_col2\" class=\"data row1 col2\" >Custom data science bootcamp student package</td>\n",
       "            </tr>\n",
       "            <tr>\n",
       "                                <td id=\"T_8cfa89d0_bb3a_11ea_8341_4865ee12e626row2_col0\" class=\"data row2 col0\" >mpl</td>\n",
       "                        <td id=\"T_8cfa89d0_bb3a_11ea_8341_4865ee12e626row2_col1\" class=\"data row2 col1\" >matplotlib</td>\n",
       "                        <td id=\"T_8cfa89d0_bb3a_11ea_8341_4865ee12e626row2_col2\" class=\"data row2 col2\" >Matplotlib's base OOP module with formatting artists</td>\n",
       "            </tr>\n",
       "            <tr>\n",
       "                                <td id=\"T_8cfa89d0_bb3a_11ea_8341_4865ee12e626row3_col0\" class=\"data row3 col0\" >plt</td>\n",
       "                        <td id=\"T_8cfa89d0_bb3a_11ea_8341_4865ee12e626row3_col1\" class=\"data row3 col1\" >matplotlib.pyplot</td>\n",
       "                        <td id=\"T_8cfa89d0_bb3a_11ea_8341_4865ee12e626row3_col2\" class=\"data row3 col2\" >Matplotlib's matlab-like plotting module</td>\n",
       "            </tr>\n",
       "            <tr>\n",
       "                                <td id=\"T_8cfa89d0_bb3a_11ea_8341_4865ee12e626row4_col0\" class=\"data row4 col0\" >np</td>\n",
       "                        <td id=\"T_8cfa89d0_bb3a_11ea_8341_4865ee12e626row4_col1\" class=\"data row4 col1\" >numpy</td>\n",
       "                        <td id=\"T_8cfa89d0_bb3a_11ea_8341_4865ee12e626row4_col2\" class=\"data row4 col2\" >scientific computing with Python</td>\n",
       "            </tr>\n",
       "            <tr>\n",
       "                                <td id=\"T_8cfa89d0_bb3a_11ea_8341_4865ee12e626row5_col0\" class=\"data row5 col0\" >pd</td>\n",
       "                        <td id=\"T_8cfa89d0_bb3a_11ea_8341_4865ee12e626row5_col1\" class=\"data row5 col1\" >pandas</td>\n",
       "                        <td id=\"T_8cfa89d0_bb3a_11ea_8341_4865ee12e626row5_col2\" class=\"data row5 col2\" >High performance data structures and tools</td>\n",
       "            </tr>\n",
       "            <tr>\n",
       "                                <td id=\"T_8cfa89d0_bb3a_11ea_8341_4865ee12e626row6_col0\" class=\"data row6 col0\" >sns</td>\n",
       "                        <td id=\"T_8cfa89d0_bb3a_11ea_8341_4865ee12e626row6_col1\" class=\"data row6 col1\" >seaborn</td>\n",
       "                        <td id=\"T_8cfa89d0_bb3a_11ea_8341_4865ee12e626row6_col2\" class=\"data row6 col2\" >High-level data visualization library based on matplotlib</td>\n",
       "            </tr>\n",
       "    </tbody></table>"
      ],
      "text/plain": [
       "<pandas.io.formats.style.Styler at 0x1253c6e48>"
      ]
     },
     "metadata": {},
     "output_type": "display_data"
    },
    {
     "data": {
      "text/html": [
       "        <script type=\"text/javascript\">\n",
       "        window.PlotlyConfig = {MathJaxConfig: 'local'};\n",
       "        if (window.MathJax) {MathJax.Hub.Config({SVG: {font: \"STIX-Web\"}});}\n",
       "        if (typeof require !== 'undefined') {\n",
       "        require.undef(\"plotly\");\n",
       "        requirejs.config({\n",
       "            paths: {\n",
       "                'plotly': ['https://cdn.plot.ly/plotly-latest.min']\n",
       "            }\n",
       "        });\n",
       "        require(['plotly'], function(Plotly) {\n",
       "            window._Plotly = Plotly;\n",
       "        });\n",
       "        }\n",
       "        </script>\n",
       "        "
      ]
     },
     "metadata": {},
     "output_type": "display_data"
    },
    {
     "name": "stdout",
     "output_type": "stream",
     "text": [
      "[i] Pandas .iplot() method activated.\n"
     ]
    }
   ],
   "source": [
    "!pip install -U fsds_100719\n",
    "from fsds_100719.imports import *"
   ]
  },
  {
   "cell_type": "markdown",
   "metadata": {},
   "source": [
    "## Hypothesis\n",
    "> Question: does stimulation of CRF Neurons in the central amygdala increase alcohol consumption?\n",
    "\n",
    "- Metric: licks for alcohol\n",
    "- Two groups: Control and Experimental (ChR2)\n",
    "\n",
    "\n",
    "- $H_1$: There is a significant difference in average licks for alcohol between control and experimental/stimulated mice.\n",
    "\n",
    "- $H_0$: There is no significant difference in licks for alcohol between control and experimental/stimulated mice.\n",
    "\n",
    "$\\alpha$=0.05\n"
   ]
  },
  {
   "cell_type": "markdown",
   "metadata": {},
   "source": [
    "### Step 1: which type of test?"
   ]
  },
  {
   "cell_type": "markdown",
   "metadata": {},
   "source": [
    "- What type of data?\n",
    "    - Numerical\n",
    "- How many groups?\n",
    "    - 2 groups"
   ]
  },
  {
   "cell_type": "code",
   "execution_count": 2,
   "metadata": {
    "ExecuteTime": {
     "end_time": "2020-07-01T01:31:14.142976Z",
     "start_time": "2020-07-01T01:31:14.139763Z"
    },
    "scrolled": true
   },
   "outputs": [
    {
     "data": {
      "text/html": [
       "<img src=\"https://raw.githubusercontent.com/jirvingphd/fsds_100719_cohort_notes/master/images/sect_20_neuro_data.png\">"
      ],
      "text/plain": [
       "<IPython.core.display.HTML object>"
      ]
     },
     "execution_count": 2,
     "metadata": {},
     "output_type": "execute_result"
    }
   ],
   "source": [
    "from IPython.display import HTML\n",
    "HTML('<img src=\"https://raw.githubusercontent.com/jirvingphd/fsds_100719_cohort_notes/master/images/sect_20_neuro_data.png\">')"
   ]
  },
  {
   "cell_type": "markdown",
   "metadata": {},
   "source": [
    "## Obtaining/Preprocessing Data"
   ]
  },
  {
   "cell_type": "code",
   "execution_count": 3,
   "metadata": {
    "ExecuteTime": {
     "end_time": "2020-07-01T01:31:14.147361Z",
     "start_time": "2020-07-01T01:31:14.144810Z"
    }
   },
   "outputs": [],
   "source": [
    "plt.style.use('seaborn-poster')\n",
    "pd.set_option('display.max_columns',0)\n",
    "pd.set_option('display.precision',3)"
   ]
  },
  {
   "cell_type": "code",
   "execution_count": 4,
   "metadata": {
    "ExecuteTime": {
     "end_time": "2020-07-01T01:31:14.197004Z",
     "start_time": "2020-07-01T01:31:14.148814Z"
    }
   },
   "outputs": [
    {
     "data": {
      "text/html": [
       "<div>\n",
       "<style scoped>\n",
       "    .dataframe tbody tr th:only-of-type {\n",
       "        vertical-align: middle;\n",
       "    }\n",
       "\n",
       "    .dataframe tbody tr th {\n",
       "        vertical-align: top;\n",
       "    }\n",
       "\n",
       "    .dataframe thead th {\n",
       "        text-align: right;\n",
       "    }\n",
       "</style>\n",
       "<table border=\"1\" class=\"dataframe\">\n",
       "  <thead>\n",
       "    <tr style=\"text-align: right;\">\n",
       "      <th></th>\n",
       "      <th>Group</th>\n",
       "      <th>Sex</th>\n",
       "      <th>BL1</th>\n",
       "      <th>BL2</th>\n",
       "      <th>BL3</th>\n",
       "      <th>BL4</th>\n",
       "      <th>S1</th>\n",
       "      <th>S2</th>\n",
       "      <th>S3</th>\n",
       "      <th>S4</th>\n",
       "      <th>PS1</th>\n",
       "      <th>PS2</th>\n",
       "      <th>PS3</th>\n",
       "      <th>PS4</th>\n",
       "      <th>R1</th>\n",
       "      <th>R2</th>\n",
       "      <th>R3</th>\n",
       "      <th>R4</th>\n",
       "      <th>R5</th>\n",
       "      <th>R6</th>\n",
       "      <th>R7</th>\n",
       "      <th>R8</th>\n",
       "    </tr>\n",
       "    <tr>\n",
       "      <th>Mouse_ID</th>\n",
       "      <th></th>\n",
       "      <th></th>\n",
       "      <th></th>\n",
       "      <th></th>\n",
       "      <th></th>\n",
       "      <th></th>\n",
       "      <th></th>\n",
       "      <th></th>\n",
       "      <th></th>\n",
       "      <th></th>\n",
       "      <th></th>\n",
       "      <th></th>\n",
       "      <th></th>\n",
       "      <th></th>\n",
       "      <th></th>\n",
       "      <th></th>\n",
       "      <th></th>\n",
       "      <th></th>\n",
       "      <th></th>\n",
       "      <th></th>\n",
       "      <th></th>\n",
       "      <th></th>\n",
       "    </tr>\n",
       "  </thead>\n",
       "  <tbody>\n",
       "    <tr>\n",
       "      <th>1</th>\n",
       "      <td>Control</td>\n",
       "      <td>F</td>\n",
       "      <td>665</td>\n",
       "      <td>863</td>\n",
       "      <td>631</td>\n",
       "      <td>629</td>\n",
       "      <td>583</td>\n",
       "      <td>801</td>\n",
       "      <td>723</td>\n",
       "      <td>707</td>\n",
       "      <td>732</td>\n",
       "      <td>680</td>\n",
       "      <td>684</td>\n",
       "      <td>485</td>\n",
       "      <td>65</td>\n",
       "      <td>301</td>\n",
       "      <td>351</td>\n",
       "      <td>441</td>\n",
       "      <td>675</td>\n",
       "      <td>554</td>\n",
       "      <td>541</td>\n",
       "      <td>545</td>\n",
       "    </tr>\n",
       "    <tr>\n",
       "      <th>2</th>\n",
       "      <td>Control</td>\n",
       "      <td>F</td>\n",
       "      <td>859</td>\n",
       "      <td>849</td>\n",
       "      <td>685</td>\n",
       "      <td>731</td>\n",
       "      <td>854</td>\n",
       "      <td>1103</td>\n",
       "      <td>645</td>\n",
       "      <td>633</td>\n",
       "      <td>733</td>\n",
       "      <td>662</td>\n",
       "      <td>605</td>\n",
       "      <td>623</td>\n",
       "      <td>128</td>\n",
       "      <td>268</td>\n",
       "      <td>462</td>\n",
       "      <td>569</td>\n",
       "      <td>988</td>\n",
       "      <td>728</td>\n",
       "      <td>933</td>\n",
       "      <td>564</td>\n",
       "    </tr>\n",
       "    <tr>\n",
       "      <th>3</th>\n",
       "      <td>Control</td>\n",
       "      <td>F</td>\n",
       "      <td>589</td>\n",
       "      <td>507</td>\n",
       "      <td>635</td>\n",
       "      <td>902</td>\n",
       "      <td>699</td>\n",
       "      <td>743</td>\n",
       "      <td>761</td>\n",
       "      <td>949</td>\n",
       "      <td>872</td>\n",
       "      <td>952</td>\n",
       "      <td>828</td>\n",
       "      <td>806</td>\n",
       "      <td>129</td>\n",
       "      <td>311</td>\n",
       "      <td>669</td>\n",
       "      <td>666</td>\n",
       "      <td>516</td>\n",
       "      <td>579</td>\n",
       "      <td>913</td>\n",
       "      <td>736</td>\n",
       "    </tr>\n",
       "    <tr>\n",
       "      <th>4</th>\n",
       "      <td>Control</td>\n",
       "      <td>M</td>\n",
       "      <td>939</td>\n",
       "      <td>909</td>\n",
       "      <td>850</td>\n",
       "      <td>756</td>\n",
       "      <td>807</td>\n",
       "      <td>617</td>\n",
       "      <td>526</td>\n",
       "      <td>736</td>\n",
       "      <td>743</td>\n",
       "      <td>625</td>\n",
       "      <td>690</td>\n",
       "      <td>759</td>\n",
       "      <td>281</td>\n",
       "      <td>357</td>\n",
       "      <td>386</td>\n",
       "      <td>585</td>\n",
       "      <td>565</td>\n",
       "      <td>550</td>\n",
       "      <td>806</td>\n",
       "      <td>732</td>\n",
       "    </tr>\n",
       "    <tr>\n",
       "      <th>5</th>\n",
       "      <td>ChR2</td>\n",
       "      <td>F</td>\n",
       "      <td>710</td>\n",
       "      <td>505</td>\n",
       "      <td>494</td>\n",
       "      <td>596</td>\n",
       "      <td>620</td>\n",
       "      <td>589</td>\n",
       "      <td>676</td>\n",
       "      <td>537</td>\n",
       "      <td>779</td>\n",
       "      <td>537</td>\n",
       "      <td>581</td>\n",
       "      <td>515</td>\n",
       "      <td>477</td>\n",
       "      <td>659</td>\n",
       "      <td>737</td>\n",
       "      <td>606</td>\n",
       "      <td>713</td>\n",
       "      <td>682</td>\n",
       "      <td>709</td>\n",
       "      <td>759</td>\n",
       "    </tr>\n",
       "  </tbody>\n",
       "</table>\n",
       "</div>"
      ],
      "text/plain": [
       "            Group Sex  BL1  BL2  BL3  BL4  ...   R3   R4   R5   R6   R7   R8\n",
       "Mouse_ID                                   ...                              \n",
       "1         Control   F  665  863  631  629  ...  351  441  675  554  541  545\n",
       "2         Control   F  859  849  685  731  ...  462  569  988  728  933  564\n",
       "3         Control   F  589  507  635  902  ...  669  666  516  579  913  736\n",
       "4         Control   M  939  909  850  756  ...  386  585  565  550  806  732\n",
       "5            ChR2   F  710  505  494  596  ...  737  606  713  682  709  759\n",
       "\n",
       "[5 rows x 22 columns]"
      ]
     },
     "execution_count": 4,
     "metadata": {},
     "output_type": "execute_result"
    }
   ],
   "source": [
    "df = pd.read_csv('../datasets/neuro_drinking_data.csv')#\"/Users/jamesirving/Datasets/opto_DID_drinking_data.xlsx\",\n",
    "                   #sheet_name='lick_data')\n",
    "# fix colnames for statsmodels\n",
    "df.columns = [col.replace(' ','_') for col in df.columns]\n",
    "\n",
    "\n",
    "## Remaking Mouse IDS\n",
    "mouse_ids = list(df['Mouse_ID'].unique())\n",
    "new_ids = dict(zip(mouse_ids, range(1,len(mouse_ids)+1)))\n",
    "\n",
    "df['Mouse_ID'] = df['Mouse_ID'].map(new_ids).astype(str)\n",
    "df = df.drop(columns=['Batch'])\n",
    "df.set_index('Mouse_ID',inplace=True)\n",
    "df.head()"
   ]
  },
  {
   "cell_type": "code",
   "execution_count": 5,
   "metadata": {
    "ExecuteTime": {
     "end_time": "2020-07-01T01:31:14.204791Z",
     "start_time": "2020-07-01T01:31:14.198681Z"
    }
   },
   "outputs": [
    {
     "data": {
      "text/plain": [
       "{'R1': 'R1_1',\n",
       " 'R2': 'R1_2',\n",
       " 'R3': 'R1_3',\n",
       " 'R4': 'R1_4',\n",
       " 'R5': 'R2_1',\n",
       " 'R6': 'R2_2',\n",
       " 'R7': 'R2_3',\n",
       " 'R8': 'R2_4'}"
      ]
     },
     "execution_count": 5,
     "metadata": {},
     "output_type": "execute_result"
    }
   ],
   "source": [
    "## Making Reinstatement 2 separate phases\n",
    "R_cols = [col for col in df.columns if 'R' in col]\n",
    "\n",
    "## Make dict with new column names\n",
    "rename_dict = {}\n",
    "for col in R_cols:\n",
    "    day = int(col[-1])\n",
    "    \n",
    "    if day<5:\n",
    "        week=1\n",
    "        day_name = day\n",
    "    else:\n",
    "        week=2\n",
    "        day_name = day-4\n",
    "        \n",
    "    rename_dict[col] = f'R{week}_{day_name}'\n",
    "\n",
    "rename_dict"
   ]
  },
  {
   "cell_type": "code",
   "execution_count": 6,
   "metadata": {
    "ExecuteTime": {
     "end_time": "2020-07-01T01:31:14.251564Z",
     "start_time": "2020-07-01T01:31:14.206648Z"
    }
   },
   "outputs": [
    {
     "data": {
      "text/html": [
       "<div>\n",
       "<style scoped>\n",
       "    .dataframe tbody tr th:only-of-type {\n",
       "        vertical-align: middle;\n",
       "    }\n",
       "\n",
       "    .dataframe tbody tr th {\n",
       "        vertical-align: top;\n",
       "    }\n",
       "\n",
       "    .dataframe thead th {\n",
       "        text-align: right;\n",
       "    }\n",
       "</style>\n",
       "<table border=\"1\" class=\"dataframe\">\n",
       "  <thead>\n",
       "    <tr style=\"text-align: right;\">\n",
       "      <th></th>\n",
       "      <th>Group</th>\n",
       "      <th>Sex</th>\n",
       "      <th>BL1</th>\n",
       "      <th>BL2</th>\n",
       "      <th>BL3</th>\n",
       "      <th>BL4</th>\n",
       "      <th>S1</th>\n",
       "      <th>S2</th>\n",
       "      <th>S3</th>\n",
       "      <th>S4</th>\n",
       "      <th>PS1</th>\n",
       "      <th>PS2</th>\n",
       "      <th>PS3</th>\n",
       "      <th>PS4</th>\n",
       "      <th>R1_1</th>\n",
       "      <th>R1_2</th>\n",
       "      <th>R1_3</th>\n",
       "      <th>R1_4</th>\n",
       "      <th>R2_1</th>\n",
       "      <th>R2_2</th>\n",
       "      <th>R2_3</th>\n",
       "      <th>R2_4</th>\n",
       "    </tr>\n",
       "    <tr>\n",
       "      <th>Mouse_ID</th>\n",
       "      <th></th>\n",
       "      <th></th>\n",
       "      <th></th>\n",
       "      <th></th>\n",
       "      <th></th>\n",
       "      <th></th>\n",
       "      <th></th>\n",
       "      <th></th>\n",
       "      <th></th>\n",
       "      <th></th>\n",
       "      <th></th>\n",
       "      <th></th>\n",
       "      <th></th>\n",
       "      <th></th>\n",
       "      <th></th>\n",
       "      <th></th>\n",
       "      <th></th>\n",
       "      <th></th>\n",
       "      <th></th>\n",
       "      <th></th>\n",
       "      <th></th>\n",
       "      <th></th>\n",
       "    </tr>\n",
       "  </thead>\n",
       "  <tbody>\n",
       "    <tr>\n",
       "      <th>1</th>\n",
       "      <td>Control</td>\n",
       "      <td>F</td>\n",
       "      <td>665</td>\n",
       "      <td>863</td>\n",
       "      <td>631</td>\n",
       "      <td>629</td>\n",
       "      <td>583</td>\n",
       "      <td>801</td>\n",
       "      <td>723</td>\n",
       "      <td>707</td>\n",
       "      <td>732</td>\n",
       "      <td>680</td>\n",
       "      <td>684</td>\n",
       "      <td>485</td>\n",
       "      <td>65</td>\n",
       "      <td>301</td>\n",
       "      <td>351</td>\n",
       "      <td>441</td>\n",
       "      <td>675</td>\n",
       "      <td>554</td>\n",
       "      <td>541</td>\n",
       "      <td>545</td>\n",
       "    </tr>\n",
       "    <tr>\n",
       "      <th>2</th>\n",
       "      <td>Control</td>\n",
       "      <td>F</td>\n",
       "      <td>859</td>\n",
       "      <td>849</td>\n",
       "      <td>685</td>\n",
       "      <td>731</td>\n",
       "      <td>854</td>\n",
       "      <td>1103</td>\n",
       "      <td>645</td>\n",
       "      <td>633</td>\n",
       "      <td>733</td>\n",
       "      <td>662</td>\n",
       "      <td>605</td>\n",
       "      <td>623</td>\n",
       "      <td>128</td>\n",
       "      <td>268</td>\n",
       "      <td>462</td>\n",
       "      <td>569</td>\n",
       "      <td>988</td>\n",
       "      <td>728</td>\n",
       "      <td>933</td>\n",
       "      <td>564</td>\n",
       "    </tr>\n",
       "    <tr>\n",
       "      <th>3</th>\n",
       "      <td>Control</td>\n",
       "      <td>F</td>\n",
       "      <td>589</td>\n",
       "      <td>507</td>\n",
       "      <td>635</td>\n",
       "      <td>902</td>\n",
       "      <td>699</td>\n",
       "      <td>743</td>\n",
       "      <td>761</td>\n",
       "      <td>949</td>\n",
       "      <td>872</td>\n",
       "      <td>952</td>\n",
       "      <td>828</td>\n",
       "      <td>806</td>\n",
       "      <td>129</td>\n",
       "      <td>311</td>\n",
       "      <td>669</td>\n",
       "      <td>666</td>\n",
       "      <td>516</td>\n",
       "      <td>579</td>\n",
       "      <td>913</td>\n",
       "      <td>736</td>\n",
       "    </tr>\n",
       "    <tr>\n",
       "      <th>4</th>\n",
       "      <td>Control</td>\n",
       "      <td>M</td>\n",
       "      <td>939</td>\n",
       "      <td>909</td>\n",
       "      <td>850</td>\n",
       "      <td>756</td>\n",
       "      <td>807</td>\n",
       "      <td>617</td>\n",
       "      <td>526</td>\n",
       "      <td>736</td>\n",
       "      <td>743</td>\n",
       "      <td>625</td>\n",
       "      <td>690</td>\n",
       "      <td>759</td>\n",
       "      <td>281</td>\n",
       "      <td>357</td>\n",
       "      <td>386</td>\n",
       "      <td>585</td>\n",
       "      <td>565</td>\n",
       "      <td>550</td>\n",
       "      <td>806</td>\n",
       "      <td>732</td>\n",
       "    </tr>\n",
       "    <tr>\n",
       "      <th>5</th>\n",
       "      <td>ChR2</td>\n",
       "      <td>F</td>\n",
       "      <td>710</td>\n",
       "      <td>505</td>\n",
       "      <td>494</td>\n",
       "      <td>596</td>\n",
       "      <td>620</td>\n",
       "      <td>589</td>\n",
       "      <td>676</td>\n",
       "      <td>537</td>\n",
       "      <td>779</td>\n",
       "      <td>537</td>\n",
       "      <td>581</td>\n",
       "      <td>515</td>\n",
       "      <td>477</td>\n",
       "      <td>659</td>\n",
       "      <td>737</td>\n",
       "      <td>606</td>\n",
       "      <td>713</td>\n",
       "      <td>682</td>\n",
       "      <td>709</td>\n",
       "      <td>759</td>\n",
       "    </tr>\n",
       "    <tr>\n",
       "      <th>6</th>\n",
       "      <td>ChR2</td>\n",
       "      <td>F</td>\n",
       "      <td>564</td>\n",
       "      <td>808</td>\n",
       "      <td>589</td>\n",
       "      <td>596</td>\n",
       "      <td>591</td>\n",
       "      <td>580</td>\n",
       "      <td>419</td>\n",
       "      <td>463</td>\n",
       "      <td>707</td>\n",
       "      <td>625</td>\n",
       "      <td>547</td>\n",
       "      <td>595</td>\n",
       "      <td>532</td>\n",
       "      <td>951</td>\n",
       "      <td>901</td>\n",
       "      <td>851</td>\n",
       "      <td>807</td>\n",
       "      <td>858</td>\n",
       "      <td>802</td>\n",
       "      <td>803</td>\n",
       "    </tr>\n",
       "    <tr>\n",
       "      <th>7</th>\n",
       "      <td>ChR2</td>\n",
       "      <td>M</td>\n",
       "      <td>722</td>\n",
       "      <td>732</td>\n",
       "      <td>783</td>\n",
       "      <td>946</td>\n",
       "      <td>882</td>\n",
       "      <td>723</td>\n",
       "      <td>764</td>\n",
       "      <td>892</td>\n",
       "      <td>621</td>\n",
       "      <td>764</td>\n",
       "      <td>720</td>\n",
       "      <td>478</td>\n",
       "      <td>297</td>\n",
       "      <td>558</td>\n",
       "      <td>803</td>\n",
       "      <td>694</td>\n",
       "      <td>855</td>\n",
       "      <td>797</td>\n",
       "      <td>938</td>\n",
       "      <td>878</td>\n",
       "    </tr>\n",
       "    <tr>\n",
       "      <th>8</th>\n",
       "      <td>ChR2</td>\n",
       "      <td>M</td>\n",
       "      <td>497</td>\n",
       "      <td>649</td>\n",
       "      <td>586</td>\n",
       "      <td>506</td>\n",
       "      <td>546</td>\n",
       "      <td>493</td>\n",
       "      <td>456</td>\n",
       "      <td>601</td>\n",
       "      <td>437</td>\n",
       "      <td>462</td>\n",
       "      <td>704</td>\n",
       "      <td>498</td>\n",
       "      <td>10</td>\n",
       "      <td>44</td>\n",
       "      <td>86</td>\n",
       "      <td>284</td>\n",
       "      <td>212</td>\n",
       "      <td>133</td>\n",
       "      <td>141</td>\n",
       "      <td>274</td>\n",
       "    </tr>\n",
       "    <tr>\n",
       "      <th>9</th>\n",
       "      <td>ChR2</td>\n",
       "      <td>M</td>\n",
       "      <td>741</td>\n",
       "      <td>668</td>\n",
       "      <td>778</td>\n",
       "      <td>638</td>\n",
       "      <td>759</td>\n",
       "      <td>791</td>\n",
       "      <td>568</td>\n",
       "      <td>664</td>\n",
       "      <td>390</td>\n",
       "      <td>346</td>\n",
       "      <td>773</td>\n",
       "      <td>682</td>\n",
       "      <td>3</td>\n",
       "      <td>212</td>\n",
       "      <td>417</td>\n",
       "      <td>443</td>\n",
       "      <td>486</td>\n",
       "      <td>444</td>\n",
       "      <td>533</td>\n",
       "      <td>578</td>\n",
       "    </tr>\n",
       "    <tr>\n",
       "      <th>10</th>\n",
       "      <td>ChR2</td>\n",
       "      <td>M</td>\n",
       "      <td>953</td>\n",
       "      <td>988</td>\n",
       "      <td>579</td>\n",
       "      <td>706</td>\n",
       "      <td>1106</td>\n",
       "      <td>812</td>\n",
       "      <td>902</td>\n",
       "      <td>835</td>\n",
       "      <td>829</td>\n",
       "      <td>801</td>\n",
       "      <td>1011</td>\n",
       "      <td>919</td>\n",
       "      <td>274</td>\n",
       "      <td>559</td>\n",
       "      <td>840</td>\n",
       "      <td>890</td>\n",
       "      <td>724</td>\n",
       "      <td>793</td>\n",
       "      <td>559</td>\n",
       "      <td>700</td>\n",
       "    </tr>\n",
       "    <tr>\n",
       "      <th>11</th>\n",
       "      <td>ChR2</td>\n",
       "      <td>M</td>\n",
       "      <td>753</td>\n",
       "      <td>613</td>\n",
       "      <td>573</td>\n",
       "      <td>642</td>\n",
       "      <td>820</td>\n",
       "      <td>752</td>\n",
       "      <td>759</td>\n",
       "      <td>564</td>\n",
       "      <td>635</td>\n",
       "      <td>641</td>\n",
       "      <td>706</td>\n",
       "      <td>763</td>\n",
       "      <td>287</td>\n",
       "      <td>526</td>\n",
       "      <td>841</td>\n",
       "      <td>838</td>\n",
       "      <td>691</td>\n",
       "      <td>657</td>\n",
       "      <td>680</td>\n",
       "      <td>781</td>\n",
       "    </tr>\n",
       "    <tr>\n",
       "      <th>12</th>\n",
       "      <td>Control</td>\n",
       "      <td>M</td>\n",
       "      <td>494</td>\n",
       "      <td>602</td>\n",
       "      <td>570</td>\n",
       "      <td>530</td>\n",
       "      <td>570</td>\n",
       "      <td>396</td>\n",
       "      <td>403</td>\n",
       "      <td>380</td>\n",
       "      <td>362</td>\n",
       "      <td>467</td>\n",
       "      <td>491</td>\n",
       "      <td>557</td>\n",
       "      <td>98</td>\n",
       "      <td>262</td>\n",
       "      <td>344</td>\n",
       "      <td>388</td>\n",
       "      <td>435</td>\n",
       "      <td>551</td>\n",
       "      <td>552</td>\n",
       "      <td>537</td>\n",
       "    </tr>\n",
       "    <tr>\n",
       "      <th>13</th>\n",
       "      <td>Control</td>\n",
       "      <td>M</td>\n",
       "      <td>587</td>\n",
       "      <td>630</td>\n",
       "      <td>564</td>\n",
       "      <td>627</td>\n",
       "      <td>572</td>\n",
       "      <td>419</td>\n",
       "      <td>369</td>\n",
       "      <td>416</td>\n",
       "      <td>403</td>\n",
       "      <td>552</td>\n",
       "      <td>575</td>\n",
       "      <td>589</td>\n",
       "      <td>172</td>\n",
       "      <td>298</td>\n",
       "      <td>422</td>\n",
       "      <td>596</td>\n",
       "      <td>447</td>\n",
       "      <td>589</td>\n",
       "      <td>463</td>\n",
       "      <td>364</td>\n",
       "    </tr>\n",
       "    <tr>\n",
       "      <th>14</th>\n",
       "      <td>Control</td>\n",
       "      <td>M</td>\n",
       "      <td>917</td>\n",
       "      <td>680</td>\n",
       "      <td>737</td>\n",
       "      <td>596</td>\n",
       "      <td>699</td>\n",
       "      <td>484</td>\n",
       "      <td>452</td>\n",
       "      <td>438</td>\n",
       "      <td>547</td>\n",
       "      <td>729</td>\n",
       "      <td>830</td>\n",
       "      <td>411</td>\n",
       "      <td>71</td>\n",
       "      <td>386</td>\n",
       "      <td>581</td>\n",
       "      <td>832</td>\n",
       "      <td>586</td>\n",
       "      <td>610</td>\n",
       "      <td>634</td>\n",
       "      <td>716</td>\n",
       "    </tr>\n",
       "    <tr>\n",
       "      <th>15</th>\n",
       "      <td>Control</td>\n",
       "      <td>F</td>\n",
       "      <td>440</td>\n",
       "      <td>767</td>\n",
       "      <td>642</td>\n",
       "      <td>623</td>\n",
       "      <td>532</td>\n",
       "      <td>663</td>\n",
       "      <td>601</td>\n",
       "      <td>553</td>\n",
       "      <td>315</td>\n",
       "      <td>434</td>\n",
       "      <td>543</td>\n",
       "      <td>619</td>\n",
       "      <td>115</td>\n",
       "      <td>101</td>\n",
       "      <td>356</td>\n",
       "      <td>457</td>\n",
       "      <td>412</td>\n",
       "      <td>582</td>\n",
       "      <td>549</td>\n",
       "      <td>696</td>\n",
       "    </tr>\n",
       "    <tr>\n",
       "      <th>16</th>\n",
       "      <td>ChR2</td>\n",
       "      <td>M</td>\n",
       "      <td>715</td>\n",
       "      <td>469</td>\n",
       "      <td>392</td>\n",
       "      <td>333</td>\n",
       "      <td>492</td>\n",
       "      <td>594</td>\n",
       "      <td>695</td>\n",
       "      <td>568</td>\n",
       "      <td>916</td>\n",
       "      <td>675</td>\n",
       "      <td>669</td>\n",
       "      <td>895</td>\n",
       "      <td>98</td>\n",
       "      <td>558</td>\n",
       "      <td>977</td>\n",
       "      <td>956</td>\n",
       "      <td>974</td>\n",
       "      <td>1049</td>\n",
       "      <td>1366</td>\n",
       "      <td>942</td>\n",
       "    </tr>\n",
       "    <tr>\n",
       "      <th>17</th>\n",
       "      <td>ChR2</td>\n",
       "      <td>F</td>\n",
       "      <td>184</td>\n",
       "      <td>250</td>\n",
       "      <td>373</td>\n",
       "      <td>457</td>\n",
       "      <td>505</td>\n",
       "      <td>475</td>\n",
       "      <td>519</td>\n",
       "      <td>578</td>\n",
       "      <td>542</td>\n",
       "      <td>477</td>\n",
       "      <td>601</td>\n",
       "      <td>390</td>\n",
       "      <td>131</td>\n",
       "      <td>656</td>\n",
       "      <td>845</td>\n",
       "      <td>699</td>\n",
       "      <td>494</td>\n",
       "      <td>920</td>\n",
       "      <td>431</td>\n",
       "      <td>521</td>\n",
       "    </tr>\n",
       "    <tr>\n",
       "      <th>18</th>\n",
       "      <td>ChR2</td>\n",
       "      <td>F</td>\n",
       "      <td>934</td>\n",
       "      <td>1237</td>\n",
       "      <td>354</td>\n",
       "      <td>705</td>\n",
       "      <td>646</td>\n",
       "      <td>619</td>\n",
       "      <td>885</td>\n",
       "      <td>626</td>\n",
       "      <td>496</td>\n",
       "      <td>954</td>\n",
       "      <td>718</td>\n",
       "      <td>821</td>\n",
       "      <td>170</td>\n",
       "      <td>909</td>\n",
       "      <td>1049</td>\n",
       "      <td>994</td>\n",
       "      <td>675</td>\n",
       "      <td>803</td>\n",
       "      <td>866</td>\n",
       "      <td>880</td>\n",
       "    </tr>\n",
       "    <tr>\n",
       "      <th>19</th>\n",
       "      <td>ChR2</td>\n",
       "      <td>F</td>\n",
       "      <td>578</td>\n",
       "      <td>548</td>\n",
       "      <td>556</td>\n",
       "      <td>479</td>\n",
       "      <td>533</td>\n",
       "      <td>721</td>\n",
       "      <td>651</td>\n",
       "      <td>546</td>\n",
       "      <td>537</td>\n",
       "      <td>564</td>\n",
       "      <td>519</td>\n",
       "      <td>446</td>\n",
       "      <td>601</td>\n",
       "      <td>565</td>\n",
       "      <td>450</td>\n",
       "      <td>684</td>\n",
       "      <td>1675</td>\n",
       "      <td>976</td>\n",
       "      <td>1249</td>\n",
       "      <td>1047</td>\n",
       "    </tr>\n",
       "    <tr>\n",
       "      <th>20</th>\n",
       "      <td>ChR2</td>\n",
       "      <td>M</td>\n",
       "      <td>400</td>\n",
       "      <td>193</td>\n",
       "      <td>188</td>\n",
       "      <td>350</td>\n",
       "      <td>232</td>\n",
       "      <td>34</td>\n",
       "      <td>65</td>\n",
       "      <td>158</td>\n",
       "      <td>89</td>\n",
       "      <td>175</td>\n",
       "      <td>186</td>\n",
       "      <td>319</td>\n",
       "      <td>14</td>\n",
       "      <td>60</td>\n",
       "      <td>118</td>\n",
       "      <td>149</td>\n",
       "      <td>133</td>\n",
       "      <td>270</td>\n",
       "      <td>472</td>\n",
       "      <td>293</td>\n",
       "    </tr>\n",
       "    <tr>\n",
       "      <th>21</th>\n",
       "      <td>ChR2</td>\n",
       "      <td>M</td>\n",
       "      <td>448</td>\n",
       "      <td>221</td>\n",
       "      <td>505</td>\n",
       "      <td>459</td>\n",
       "      <td>483</td>\n",
       "      <td>491</td>\n",
       "      <td>394</td>\n",
       "      <td>673</td>\n",
       "      <td>593</td>\n",
       "      <td>444</td>\n",
       "      <td>430</td>\n",
       "      <td>630</td>\n",
       "      <td>176</td>\n",
       "      <td>611</td>\n",
       "      <td>680</td>\n",
       "      <td>552</td>\n",
       "      <td>652</td>\n",
       "      <td>879</td>\n",
       "      <td>990</td>\n",
       "      <td>900</td>\n",
       "    </tr>\n",
       "    <tr>\n",
       "      <th>22</th>\n",
       "      <td>Control</td>\n",
       "      <td>F</td>\n",
       "      <td>270</td>\n",
       "      <td>132</td>\n",
       "      <td>250</td>\n",
       "      <td>192</td>\n",
       "      <td>364</td>\n",
       "      <td>229</td>\n",
       "      <td>219</td>\n",
       "      <td>329</td>\n",
       "      <td>120</td>\n",
       "      <td>147</td>\n",
       "      <td>186</td>\n",
       "      <td>337</td>\n",
       "      <td>8</td>\n",
       "      <td>70</td>\n",
       "      <td>18</td>\n",
       "      <td>175</td>\n",
       "      <td>232</td>\n",
       "      <td>238</td>\n",
       "      <td>209</td>\n",
       "      <td>200</td>\n",
       "    </tr>\n",
       "  </tbody>\n",
       "</table>\n",
       "</div>"
      ],
      "text/plain": [
       "            Group Sex  BL1   BL2  BL3  BL4  ...  R1_3  R1_4  R2_1  R2_2  R2_3  R2_4\n",
       "Mouse_ID                                    ...                                    \n",
       "1         Control   F  665   863  631  629  ...   351   441   675   554   541   545\n",
       "2         Control   F  859   849  685  731  ...   462   569   988   728   933   564\n",
       "3         Control   F  589   507  635  902  ...   669   666   516   579   913   736\n",
       "4         Control   M  939   909  850  756  ...   386   585   565   550   806   732\n",
       "5            ChR2   F  710   505  494  596  ...   737   606   713   682   709   759\n",
       "6            ChR2   F  564   808  589  596  ...   901   851   807   858   802   803\n",
       "7            ChR2   M  722   732  783  946  ...   803   694   855   797   938   878\n",
       "8            ChR2   M  497   649  586  506  ...    86   284   212   133   141   274\n",
       "9            ChR2   M  741   668  778  638  ...   417   443   486   444   533   578\n",
       "10           ChR2   M  953   988  579  706  ...   840   890   724   793   559   700\n",
       "11           ChR2   M  753   613  573  642  ...   841   838   691   657   680   781\n",
       "12        Control   M  494   602  570  530  ...   344   388   435   551   552   537\n",
       "13        Control   M  587   630  564  627  ...   422   596   447   589   463   364\n",
       "14        Control   M  917   680  737  596  ...   581   832   586   610   634   716\n",
       "15        Control   F  440   767  642  623  ...   356   457   412   582   549   696\n",
       "16           ChR2   M  715   469  392  333  ...   977   956   974  1049  1366   942\n",
       "17           ChR2   F  184   250  373  457  ...   845   699   494   920   431   521\n",
       "18           ChR2   F  934  1237  354  705  ...  1049   994   675   803   866   880\n",
       "19           ChR2   F  578   548  556  479  ...   450   684  1675   976  1249  1047\n",
       "20           ChR2   M  400   193  188  350  ...   118   149   133   270   472   293\n",
       "21           ChR2   M  448   221  505  459  ...   680   552   652   879   990   900\n",
       "22        Control   F  270   132  250  192  ...    18   175   232   238   209   200\n",
       "\n",
       "[22 rows x 22 columns]"
      ]
     },
     "execution_count": 6,
     "metadata": {},
     "output_type": "execute_result"
    }
   ],
   "source": [
    "df = df.rename(rename_dict,axis=1)\n",
    "df"
   ]
  },
  {
   "cell_type": "markdown",
   "metadata": {},
   "source": [
    "#### Laying Out Our Approach\n",
    "\n",
    "1. Make a **dict/lists of the column names** that should be **averaged together** (`col_dict`)\n",
    "\n",
    "2. Make a new df of means using `col_dict`\n",
    "\n",
    "3. Make a grp dict using  `df_means.groupby('Group').groups` \n",
    "\n",
    "- Visualize the two populations\n",
    "\n",
    "- Prepare for hypothesis tests\n",
    "    - Either use `grps` dict to reference the correct columsn to pass into tests\n",
    "\n",
    "<!---\n",
    "**Variables:**\n",
    "\n",
    "- `col_dict` (dict): dict of column names to be grouped together for means\n",
    "- `df_means` (df): df of col_dict column means.\n",
    "- `grps` (dict): groupby dict where keys = 'Group' column and values = row indices\n",
    "\n",
    "- `data` (dict): Dictionary of...\n",
    "    - Series of each phase by group? --->"
   ]
  },
  {
   "cell_type": "code",
   "execution_count": 7,
   "metadata": {
    "ExecuteTime": {
     "end_time": "2020-07-01T01:31:14.260499Z",
     "start_time": "2020-07-01T01:31:14.252895Z"
    }
   },
   "outputs": [
    {
     "data": {
      "text/plain": [
       "{'BL': ['BL1', 'BL2', 'BL3', 'BL4'],\n",
       " 'S': ['S1', 'S2', 'S3', 'S4'],\n",
       " 'PS': ['PS1', 'PS2', 'PS3', 'PS4'],\n",
       " 'R1': ['R1_1', 'R1_2', 'R1_3', 'R1_4'],\n",
       " 'R2': ['R2_1', 'R2_2', 'R2_3', 'R2_4']}"
      ]
     },
     "execution_count": 7,
     "metadata": {},
     "output_type": "execute_result"
    }
   ],
   "source": [
    "## Make lists of columns to be averaged together\n",
    "BL_cols = [col for col in df.columns if 'BL' in col]\n",
    "PS_cols = [col for col in df.columns if 'PS' in col]\n",
    "R1_cols = [col for col in df.columns if 'R1_' in col]\n",
    "R2_cols = [col for col in df.columns if 'R2_' in col]\n",
    "\n",
    "S_cols= [col for col in df.drop(PS_cols,axis=1) if 'S' in col]\n",
    "\n",
    "S_cols.remove('Sex')\n",
    "S_cols\n",
    "\n",
    "col_dict = {'BL':BL_cols,\n",
    "           'S':S_cols,\n",
    "           'PS':PS_cols,\n",
    "           'R1':R1_cols,\n",
    "            'R2':R2_cols}\n",
    "\n",
    "\n",
    "col_dict"
   ]
  },
  {
   "cell_type": "code",
   "execution_count": 8,
   "metadata": {
    "ExecuteTime": {
     "end_time": "2020-07-01T01:31:14.267996Z",
     "start_time": "2020-07-01T01:31:14.262964Z"
    },
    "scrolled": true
   },
   "outputs": [
    {
     "data": {
      "text/plain": [
       "{'BL1': 'BL',\n",
       " 'BL2': 'BL',\n",
       " 'BL3': 'BL',\n",
       " 'BL4': 'BL',\n",
       " 'S1': 'S',\n",
       " 'S2': 'S',\n",
       " 'S3': 'S',\n",
       " 'S4': 'S',\n",
       " 'PS1': 'PS',\n",
       " 'PS2': 'PS',\n",
       " 'PS3': 'PS',\n",
       " 'PS4': 'PS',\n",
       " 'R1_1': 'R1',\n",
       " 'R1_2': 'R1',\n",
       " 'R1_3': 'R1',\n",
       " 'R1_4': 'R1',\n",
       " 'R2_1': 'R2',\n",
       " 'R2_2': 'R2',\n",
       " 'R2_3': 'R2',\n",
       " 'R2_4': 'R2'}"
      ]
     },
     "execution_count": 8,
     "metadata": {},
     "output_type": "execute_result"
    }
   ],
   "source": [
    "phase_dict = {}\n",
    "\n",
    "for phase,colnames in col_dict.items():\n",
    "    \n",
    "    for col in colnames:\n",
    "        phase_dict[col] = phase\n",
    "        \n",
    "## Remove the last 4 days of R\n",
    "# remove_me = ['R5','R6','R7','R8']\n",
    "# phase_dict.update(dict(zip(remove_me, [np.nan for i in remove_me])))\n",
    "phase_dict"
   ]
  },
  {
   "cell_type": "markdown",
   "metadata": {},
   "source": [
    "### Melting DF"
   ]
  },
  {
   "cell_type": "code",
   "execution_count": 9,
   "metadata": {
    "ExecuteTime": {
     "end_time": "2020-07-01T01:31:14.291866Z",
     "start_time": "2020-07-01T01:31:14.270334Z"
    }
   },
   "outputs": [
    {
     "data": {
      "text/html": [
       "<div>\n",
       "<style scoped>\n",
       "    .dataframe tbody tr th:only-of-type {\n",
       "        vertical-align: middle;\n",
       "    }\n",
       "\n",
       "    .dataframe tbody tr th {\n",
       "        vertical-align: top;\n",
       "    }\n",
       "\n",
       "    .dataframe thead th {\n",
       "        text-align: right;\n",
       "    }\n",
       "</style>\n",
       "<table border=\"1\" class=\"dataframe\">\n",
       "  <thead>\n",
       "    <tr style=\"text-align: right;\">\n",
       "      <th></th>\n",
       "      <th>Mouse_ID</th>\n",
       "      <th>Group</th>\n",
       "      <th>Sex</th>\n",
       "      <th>Day</th>\n",
       "      <th>Licks</th>\n",
       "    </tr>\n",
       "  </thead>\n",
       "  <tbody>\n",
       "    <tr>\n",
       "      <th>0</th>\n",
       "      <td>1</td>\n",
       "      <td>Control</td>\n",
       "      <td>F</td>\n",
       "      <td>BL1</td>\n",
       "      <td>665</td>\n",
       "    </tr>\n",
       "    <tr>\n",
       "      <th>1</th>\n",
       "      <td>2</td>\n",
       "      <td>Control</td>\n",
       "      <td>F</td>\n",
       "      <td>BL1</td>\n",
       "      <td>859</td>\n",
       "    </tr>\n",
       "    <tr>\n",
       "      <th>2</th>\n",
       "      <td>3</td>\n",
       "      <td>Control</td>\n",
       "      <td>F</td>\n",
       "      <td>BL1</td>\n",
       "      <td>589</td>\n",
       "    </tr>\n",
       "    <tr>\n",
       "      <th>3</th>\n",
       "      <td>4</td>\n",
       "      <td>Control</td>\n",
       "      <td>M</td>\n",
       "      <td>BL1</td>\n",
       "      <td>939</td>\n",
       "    </tr>\n",
       "    <tr>\n",
       "      <th>4</th>\n",
       "      <td>5</td>\n",
       "      <td>ChR2</td>\n",
       "      <td>F</td>\n",
       "      <td>BL1</td>\n",
       "      <td>710</td>\n",
       "    </tr>\n",
       "  </tbody>\n",
       "</table>\n",
       "</div>"
      ],
      "text/plain": [
       "  Mouse_ID    Group Sex  Day  Licks\n",
       "0        1  Control   F  BL1    665\n",
       "1        2  Control   F  BL1    859\n",
       "2        3  Control   F  BL1    589\n",
       "3        4  Control   M  BL1    939\n",
       "4        5     ChR2   F  BL1    710"
      ]
     },
     "execution_count": 9,
     "metadata": {},
     "output_type": "execute_result"
    }
   ],
   "source": [
    "## MELTING THE DATA INTO FORM WORKABLE FOR PLOTS/ANALYSIS\n",
    "df2 = pd.melt(df.reset_index(),id_vars=['Mouse_ID','Group','Sex'],\n",
    "              value_name='Licks',var_name='Day')\n",
    "df2.head()"
   ]
  },
  {
   "cell_type": "code",
   "execution_count": 10,
   "metadata": {
    "ExecuteTime": {
     "end_time": "2020-07-01T01:31:14.321687Z",
     "start_time": "2020-07-01T01:31:14.293105Z"
    },
    "scrolled": true
   },
   "outputs": [
    {
     "data": {
      "text/html": [
       "<div>\n",
       "<style scoped>\n",
       "    .dataframe tbody tr th:only-of-type {\n",
       "        vertical-align: middle;\n",
       "    }\n",
       "\n",
       "    .dataframe tbody tr th {\n",
       "        vertical-align: top;\n",
       "    }\n",
       "\n",
       "    .dataframe thead th {\n",
       "        text-align: right;\n",
       "    }\n",
       "</style>\n",
       "<table border=\"1\" class=\"dataframe\">\n",
       "  <thead>\n",
       "    <tr style=\"text-align: right;\">\n",
       "      <th></th>\n",
       "      <th>Mouse_ID</th>\n",
       "      <th>Group</th>\n",
       "      <th>Sex</th>\n",
       "      <th>Day</th>\n",
       "      <th>Licks</th>\n",
       "      <th>Phase</th>\n",
       "      <th>Day_of_Phase</th>\n",
       "    </tr>\n",
       "  </thead>\n",
       "  <tbody>\n",
       "    <tr>\n",
       "      <th>0</th>\n",
       "      <td>1</td>\n",
       "      <td>Control</td>\n",
       "      <td>F</td>\n",
       "      <td>BL1</td>\n",
       "      <td>665</td>\n",
       "      <td>BL</td>\n",
       "      <td>1</td>\n",
       "    </tr>\n",
       "    <tr>\n",
       "      <th>1</th>\n",
       "      <td>2</td>\n",
       "      <td>Control</td>\n",
       "      <td>F</td>\n",
       "      <td>BL1</td>\n",
       "      <td>859</td>\n",
       "      <td>BL</td>\n",
       "      <td>1</td>\n",
       "    </tr>\n",
       "    <tr>\n",
       "      <th>2</th>\n",
       "      <td>3</td>\n",
       "      <td>Control</td>\n",
       "      <td>F</td>\n",
       "      <td>BL1</td>\n",
       "      <td>589</td>\n",
       "      <td>BL</td>\n",
       "      <td>1</td>\n",
       "    </tr>\n",
       "    <tr>\n",
       "      <th>3</th>\n",
       "      <td>4</td>\n",
       "      <td>Control</td>\n",
       "      <td>M</td>\n",
       "      <td>BL1</td>\n",
       "      <td>939</td>\n",
       "      <td>BL</td>\n",
       "      <td>1</td>\n",
       "    </tr>\n",
       "    <tr>\n",
       "      <th>4</th>\n",
       "      <td>5</td>\n",
       "      <td>ChR2</td>\n",
       "      <td>F</td>\n",
       "      <td>BL1</td>\n",
       "      <td>710</td>\n",
       "      <td>BL</td>\n",
       "      <td>1</td>\n",
       "    </tr>\n",
       "    <tr>\n",
       "      <th>...</th>\n",
       "      <td>...</td>\n",
       "      <td>...</td>\n",
       "      <td>...</td>\n",
       "      <td>...</td>\n",
       "      <td>...</td>\n",
       "      <td>...</td>\n",
       "      <td>...</td>\n",
       "    </tr>\n",
       "    <tr>\n",
       "      <th>435</th>\n",
       "      <td>18</td>\n",
       "      <td>ChR2</td>\n",
       "      <td>F</td>\n",
       "      <td>R2_4</td>\n",
       "      <td>880</td>\n",
       "      <td>R2</td>\n",
       "      <td>4</td>\n",
       "    </tr>\n",
       "    <tr>\n",
       "      <th>436</th>\n",
       "      <td>19</td>\n",
       "      <td>ChR2</td>\n",
       "      <td>F</td>\n",
       "      <td>R2_4</td>\n",
       "      <td>1047</td>\n",
       "      <td>R2</td>\n",
       "      <td>4</td>\n",
       "    </tr>\n",
       "    <tr>\n",
       "      <th>437</th>\n",
       "      <td>20</td>\n",
       "      <td>ChR2</td>\n",
       "      <td>M</td>\n",
       "      <td>R2_4</td>\n",
       "      <td>293</td>\n",
       "      <td>R2</td>\n",
       "      <td>4</td>\n",
       "    </tr>\n",
       "    <tr>\n",
       "      <th>438</th>\n",
       "      <td>21</td>\n",
       "      <td>ChR2</td>\n",
       "      <td>M</td>\n",
       "      <td>R2_4</td>\n",
       "      <td>900</td>\n",
       "      <td>R2</td>\n",
       "      <td>4</td>\n",
       "    </tr>\n",
       "    <tr>\n",
       "      <th>439</th>\n",
       "      <td>22</td>\n",
       "      <td>Control</td>\n",
       "      <td>F</td>\n",
       "      <td>R2_4</td>\n",
       "      <td>200</td>\n",
       "      <td>R2</td>\n",
       "      <td>4</td>\n",
       "    </tr>\n",
       "  </tbody>\n",
       "</table>\n",
       "<p>440 rows × 7 columns</p>\n",
       "</div>"
      ],
      "text/plain": [
       "    Mouse_ID    Group Sex   Day  Licks Phase Day_of_Phase\n",
       "0          1  Control   F   BL1    665    BL            1\n",
       "1          2  Control   F   BL1    859    BL            1\n",
       "2          3  Control   F   BL1    589    BL            1\n",
       "3          4  Control   M   BL1    939    BL            1\n",
       "4          5     ChR2   F   BL1    710    BL            1\n",
       "..       ...      ...  ..   ...    ...   ...          ...\n",
       "435       18     ChR2   F  R2_4    880    R2            4\n",
       "436       19     ChR2   F  R2_4   1047    R2            4\n",
       "437       20     ChR2   M  R2_4    293    R2            4\n",
       "438       21     ChR2   M  R2_4    900    R2            4\n",
       "439       22  Control   F  R2_4    200    R2            4\n",
       "\n",
       "[440 rows x 7 columns]"
      ]
     },
     "execution_count": 10,
     "metadata": {},
     "output_type": "execute_result"
    }
   ],
   "source": [
    "## Mapping Phase from Phase Dict\n",
    "df2['Phase'] = df2['Day'].map(phase_dict)\n",
    "\n",
    "## Getting Day of Phase\n",
    "df2['Day_of_Phase'] = df2['Day'].apply(lambda x: x[-1])\n",
    "df2 = df2.dropna(subset=['Phase'])\n",
    "df2"
   ]
  },
  {
   "cell_type": "code",
   "execution_count": 11,
   "metadata": {
    "ExecuteTime": {
     "end_time": "2020-07-01T01:31:14.328553Z",
     "start_time": "2020-07-01T01:31:14.323037Z"
    }
   },
   "outputs": [],
   "source": [
    "df2.to_csv('../datasets/neuro_drinking_data_melted.csv',index=False)"
   ]
  },
  {
   "cell_type": "markdown",
   "metadata": {},
   "source": [
    "# 📕 TO DO (06/30/20): RM_ANOVA\n",
    "\n",
    "> ## Main Resources\n",
    "- https://www.marsja.se/repeated-measures-anova-in-python-using-statsmodels/\n",
    "\n",
    "> ### Additional Resources\n",
    "- https://www.marsja.se/three-ways-to-carry-out-2-way-anova-with-python/\n",
    "- https://www.marsja.se/four-ways-to-conduct-one-way-anovas-using-python/"
   ]
  },
  {
   "cell_type": "code",
   "execution_count": 12,
   "metadata": {
    "ExecuteTime": {
     "end_time": "2020-07-01T01:31:14.354867Z",
     "start_time": "2020-07-01T01:31:14.329716Z"
    }
   },
   "outputs": [
    {
     "data": {
      "text/html": [
       "<div>\n",
       "<style scoped>\n",
       "    .dataframe tbody tr th:only-of-type {\n",
       "        vertical-align: middle;\n",
       "    }\n",
       "\n",
       "    .dataframe tbody tr th {\n",
       "        vertical-align: top;\n",
       "    }\n",
       "\n",
       "    .dataframe thead th {\n",
       "        text-align: right;\n",
       "    }\n",
       "</style>\n",
       "<table border=\"1\" class=\"dataframe\">\n",
       "  <thead>\n",
       "    <tr style=\"text-align: right;\">\n",
       "      <th></th>\n",
       "      <th>Mouse_ID</th>\n",
       "      <th>Group</th>\n",
       "      <th>Sex</th>\n",
       "      <th>Day</th>\n",
       "      <th>Licks</th>\n",
       "      <th>Phase</th>\n",
       "      <th>Day_of_Phase</th>\n",
       "    </tr>\n",
       "  </thead>\n",
       "  <tbody>\n",
       "    <tr>\n",
       "      <th>0</th>\n",
       "      <td>1</td>\n",
       "      <td>Control</td>\n",
       "      <td>F</td>\n",
       "      <td>BL1</td>\n",
       "      <td>665</td>\n",
       "      <td>BL</td>\n",
       "      <td>1</td>\n",
       "    </tr>\n",
       "    <tr>\n",
       "      <th>1</th>\n",
       "      <td>2</td>\n",
       "      <td>Control</td>\n",
       "      <td>F</td>\n",
       "      <td>BL1</td>\n",
       "      <td>859</td>\n",
       "      <td>BL</td>\n",
       "      <td>1</td>\n",
       "    </tr>\n",
       "    <tr>\n",
       "      <th>2</th>\n",
       "      <td>3</td>\n",
       "      <td>Control</td>\n",
       "      <td>F</td>\n",
       "      <td>BL1</td>\n",
       "      <td>589</td>\n",
       "      <td>BL</td>\n",
       "      <td>1</td>\n",
       "    </tr>\n",
       "    <tr>\n",
       "      <th>3</th>\n",
       "      <td>4</td>\n",
       "      <td>Control</td>\n",
       "      <td>M</td>\n",
       "      <td>BL1</td>\n",
       "      <td>939</td>\n",
       "      <td>BL</td>\n",
       "      <td>1</td>\n",
       "    </tr>\n",
       "    <tr>\n",
       "      <th>4</th>\n",
       "      <td>5</td>\n",
       "      <td>ChR2</td>\n",
       "      <td>F</td>\n",
       "      <td>BL1</td>\n",
       "      <td>710</td>\n",
       "      <td>BL</td>\n",
       "      <td>1</td>\n",
       "    </tr>\n",
       "    <tr>\n",
       "      <th>...</th>\n",
       "      <td>...</td>\n",
       "      <td>...</td>\n",
       "      <td>...</td>\n",
       "      <td>...</td>\n",
       "      <td>...</td>\n",
       "      <td>...</td>\n",
       "      <td>...</td>\n",
       "    </tr>\n",
       "    <tr>\n",
       "      <th>435</th>\n",
       "      <td>18</td>\n",
       "      <td>ChR2</td>\n",
       "      <td>F</td>\n",
       "      <td>R2_4</td>\n",
       "      <td>880</td>\n",
       "      <td>R2</td>\n",
       "      <td>4</td>\n",
       "    </tr>\n",
       "    <tr>\n",
       "      <th>436</th>\n",
       "      <td>19</td>\n",
       "      <td>ChR2</td>\n",
       "      <td>F</td>\n",
       "      <td>R2_4</td>\n",
       "      <td>1047</td>\n",
       "      <td>R2</td>\n",
       "      <td>4</td>\n",
       "    </tr>\n",
       "    <tr>\n",
       "      <th>437</th>\n",
       "      <td>20</td>\n",
       "      <td>ChR2</td>\n",
       "      <td>M</td>\n",
       "      <td>R2_4</td>\n",
       "      <td>293</td>\n",
       "      <td>R2</td>\n",
       "      <td>4</td>\n",
       "    </tr>\n",
       "    <tr>\n",
       "      <th>438</th>\n",
       "      <td>21</td>\n",
       "      <td>ChR2</td>\n",
       "      <td>M</td>\n",
       "      <td>R2_4</td>\n",
       "      <td>900</td>\n",
       "      <td>R2</td>\n",
       "      <td>4</td>\n",
       "    </tr>\n",
       "    <tr>\n",
       "      <th>439</th>\n",
       "      <td>22</td>\n",
       "      <td>Control</td>\n",
       "      <td>F</td>\n",
       "      <td>R2_4</td>\n",
       "      <td>200</td>\n",
       "      <td>R2</td>\n",
       "      <td>4</td>\n",
       "    </tr>\n",
       "  </tbody>\n",
       "</table>\n",
       "<p>440 rows × 7 columns</p>\n",
       "</div>"
      ],
      "text/plain": [
       "     Mouse_ID    Group Sex   Day  Licks Phase  Day_of_Phase\n",
       "0           1  Control   F   BL1    665    BL             1\n",
       "1           2  Control   F   BL1    859    BL             1\n",
       "2           3  Control   F   BL1    589    BL             1\n",
       "3           4  Control   M   BL1    939    BL             1\n",
       "4           5     ChR2   F   BL1    710    BL             1\n",
       "..        ...      ...  ..   ...    ...   ...           ...\n",
       "435        18     ChR2   F  R2_4    880    R2             4\n",
       "436        19     ChR2   F  R2_4   1047    R2             4\n",
       "437        20     ChR2   M  R2_4    293    R2             4\n",
       "438        21     ChR2   M  R2_4    900    R2             4\n",
       "439        22  Control   F  R2_4    200    R2             4\n",
       "\n",
       "[440 rows x 7 columns]"
      ]
     },
     "execution_count": 12,
     "metadata": {},
     "output_type": "execute_result"
    }
   ],
   "source": [
    "df = pd.read_csv('../datasets/neuro_drinking_data_melted.csv')\n",
    "df"
   ]
  },
  {
   "cell_type": "code",
   "execution_count": 13,
   "metadata": {
    "ExecuteTime": {
     "end_time": "2020-07-01T01:31:14.417793Z",
     "start_time": "2020-07-01T01:31:14.356175Z"
    }
   },
   "outputs": [
    {
     "data": {
      "text/html": [
       "<div>\n",
       "<style scoped>\n",
       "    .dataframe tbody tr th:only-of-type {\n",
       "        vertical-align: middle;\n",
       "    }\n",
       "\n",
       "    .dataframe tbody tr th {\n",
       "        vertical-align: top;\n",
       "    }\n",
       "\n",
       "    .dataframe thead tr th {\n",
       "        text-align: left;\n",
       "    }\n",
       "\n",
       "    .dataframe thead tr:last-of-type th {\n",
       "        text-align: right;\n",
       "    }\n",
       "</style>\n",
       "<table border=\"1\" class=\"dataframe\">\n",
       "  <thead>\n",
       "    <tr>\n",
       "      <th></th>\n",
       "      <th>Phase</th>\n",
       "      <th colspan=\"4\" halign=\"left\">BL</th>\n",
       "      <th colspan=\"4\" halign=\"left\">PS</th>\n",
       "      <th colspan=\"4\" halign=\"left\">R1</th>\n",
       "      <th colspan=\"4\" halign=\"left\">R2</th>\n",
       "      <th colspan=\"4\" halign=\"left\">S</th>\n",
       "    </tr>\n",
       "    <tr>\n",
       "      <th></th>\n",
       "      <th>Day_of_Phase</th>\n",
       "      <th>1</th>\n",
       "      <th>2</th>\n",
       "      <th>3</th>\n",
       "      <th>4</th>\n",
       "      <th>1</th>\n",
       "      <th>2</th>\n",
       "      <th>3</th>\n",
       "      <th>4</th>\n",
       "      <th>1</th>\n",
       "      <th>2</th>\n",
       "      <th>3</th>\n",
       "      <th>4</th>\n",
       "      <th>1</th>\n",
       "      <th>2</th>\n",
       "      <th>3</th>\n",
       "      <th>4</th>\n",
       "      <th>1</th>\n",
       "      <th>2</th>\n",
       "      <th>3</th>\n",
       "      <th>4</th>\n",
       "    </tr>\n",
       "    <tr>\n",
       "      <th>Group</th>\n",
       "      <th>Mouse_ID</th>\n",
       "      <th></th>\n",
       "      <th></th>\n",
       "      <th></th>\n",
       "      <th></th>\n",
       "      <th></th>\n",
       "      <th></th>\n",
       "      <th></th>\n",
       "      <th></th>\n",
       "      <th></th>\n",
       "      <th></th>\n",
       "      <th></th>\n",
       "      <th></th>\n",
       "      <th></th>\n",
       "      <th></th>\n",
       "      <th></th>\n",
       "      <th></th>\n",
       "      <th></th>\n",
       "      <th></th>\n",
       "      <th></th>\n",
       "      <th></th>\n",
       "    </tr>\n",
       "  </thead>\n",
       "  <tbody>\n",
       "    <tr>\n",
       "      <th rowspan=\"13\" valign=\"top\">ChR2</th>\n",
       "      <th>5</th>\n",
       "      <td>710</td>\n",
       "      <td>505</td>\n",
       "      <td>494</td>\n",
       "      <td>596</td>\n",
       "      <td>779</td>\n",
       "      <td>537</td>\n",
       "      <td>581</td>\n",
       "      <td>515</td>\n",
       "      <td>477</td>\n",
       "      <td>659</td>\n",
       "      <td>737</td>\n",
       "      <td>606</td>\n",
       "      <td>713</td>\n",
       "      <td>682</td>\n",
       "      <td>709</td>\n",
       "      <td>759</td>\n",
       "      <td>620</td>\n",
       "      <td>589</td>\n",
       "      <td>676</td>\n",
       "      <td>537</td>\n",
       "    </tr>\n",
       "    <tr>\n",
       "      <th>6</th>\n",
       "      <td>564</td>\n",
       "      <td>808</td>\n",
       "      <td>589</td>\n",
       "      <td>596</td>\n",
       "      <td>707</td>\n",
       "      <td>625</td>\n",
       "      <td>547</td>\n",
       "      <td>595</td>\n",
       "      <td>532</td>\n",
       "      <td>951</td>\n",
       "      <td>901</td>\n",
       "      <td>851</td>\n",
       "      <td>807</td>\n",
       "      <td>858</td>\n",
       "      <td>802</td>\n",
       "      <td>803</td>\n",
       "      <td>591</td>\n",
       "      <td>580</td>\n",
       "      <td>419</td>\n",
       "      <td>463</td>\n",
       "    </tr>\n",
       "    <tr>\n",
       "      <th>7</th>\n",
       "      <td>722</td>\n",
       "      <td>732</td>\n",
       "      <td>783</td>\n",
       "      <td>946</td>\n",
       "      <td>621</td>\n",
       "      <td>764</td>\n",
       "      <td>720</td>\n",
       "      <td>478</td>\n",
       "      <td>297</td>\n",
       "      <td>558</td>\n",
       "      <td>803</td>\n",
       "      <td>694</td>\n",
       "      <td>855</td>\n",
       "      <td>797</td>\n",
       "      <td>938</td>\n",
       "      <td>878</td>\n",
       "      <td>882</td>\n",
       "      <td>723</td>\n",
       "      <td>764</td>\n",
       "      <td>892</td>\n",
       "    </tr>\n",
       "    <tr>\n",
       "      <th>8</th>\n",
       "      <td>497</td>\n",
       "      <td>649</td>\n",
       "      <td>586</td>\n",
       "      <td>506</td>\n",
       "      <td>437</td>\n",
       "      <td>462</td>\n",
       "      <td>704</td>\n",
       "      <td>498</td>\n",
       "      <td>10</td>\n",
       "      <td>44</td>\n",
       "      <td>86</td>\n",
       "      <td>284</td>\n",
       "      <td>212</td>\n",
       "      <td>133</td>\n",
       "      <td>141</td>\n",
       "      <td>274</td>\n",
       "      <td>546</td>\n",
       "      <td>493</td>\n",
       "      <td>456</td>\n",
       "      <td>601</td>\n",
       "    </tr>\n",
       "    <tr>\n",
       "      <th>9</th>\n",
       "      <td>741</td>\n",
       "      <td>668</td>\n",
       "      <td>778</td>\n",
       "      <td>638</td>\n",
       "      <td>390</td>\n",
       "      <td>346</td>\n",
       "      <td>773</td>\n",
       "      <td>682</td>\n",
       "      <td>3</td>\n",
       "      <td>212</td>\n",
       "      <td>417</td>\n",
       "      <td>443</td>\n",
       "      <td>486</td>\n",
       "      <td>444</td>\n",
       "      <td>533</td>\n",
       "      <td>578</td>\n",
       "      <td>759</td>\n",
       "      <td>791</td>\n",
       "      <td>568</td>\n",
       "      <td>664</td>\n",
       "    </tr>\n",
       "    <tr>\n",
       "      <th>10</th>\n",
       "      <td>953</td>\n",
       "      <td>988</td>\n",
       "      <td>579</td>\n",
       "      <td>706</td>\n",
       "      <td>829</td>\n",
       "      <td>801</td>\n",
       "      <td>1011</td>\n",
       "      <td>919</td>\n",
       "      <td>274</td>\n",
       "      <td>559</td>\n",
       "      <td>840</td>\n",
       "      <td>890</td>\n",
       "      <td>724</td>\n",
       "      <td>793</td>\n",
       "      <td>559</td>\n",
       "      <td>700</td>\n",
       "      <td>1106</td>\n",
       "      <td>812</td>\n",
       "      <td>902</td>\n",
       "      <td>835</td>\n",
       "    </tr>\n",
       "    <tr>\n",
       "      <th>11</th>\n",
       "      <td>753</td>\n",
       "      <td>613</td>\n",
       "      <td>573</td>\n",
       "      <td>642</td>\n",
       "      <td>635</td>\n",
       "      <td>641</td>\n",
       "      <td>706</td>\n",
       "      <td>763</td>\n",
       "      <td>287</td>\n",
       "      <td>526</td>\n",
       "      <td>841</td>\n",
       "      <td>838</td>\n",
       "      <td>691</td>\n",
       "      <td>657</td>\n",
       "      <td>680</td>\n",
       "      <td>781</td>\n",
       "      <td>820</td>\n",
       "      <td>752</td>\n",
       "      <td>759</td>\n",
       "      <td>564</td>\n",
       "    </tr>\n",
       "    <tr>\n",
       "      <th>16</th>\n",
       "      <td>715</td>\n",
       "      <td>469</td>\n",
       "      <td>392</td>\n",
       "      <td>333</td>\n",
       "      <td>916</td>\n",
       "      <td>675</td>\n",
       "      <td>669</td>\n",
       "      <td>895</td>\n",
       "      <td>98</td>\n",
       "      <td>558</td>\n",
       "      <td>977</td>\n",
       "      <td>956</td>\n",
       "      <td>974</td>\n",
       "      <td>1049</td>\n",
       "      <td>1366</td>\n",
       "      <td>942</td>\n",
       "      <td>492</td>\n",
       "      <td>594</td>\n",
       "      <td>695</td>\n",
       "      <td>568</td>\n",
       "    </tr>\n",
       "    <tr>\n",
       "      <th>17</th>\n",
       "      <td>184</td>\n",
       "      <td>250</td>\n",
       "      <td>373</td>\n",
       "      <td>457</td>\n",
       "      <td>542</td>\n",
       "      <td>477</td>\n",
       "      <td>601</td>\n",
       "      <td>390</td>\n",
       "      <td>131</td>\n",
       "      <td>656</td>\n",
       "      <td>845</td>\n",
       "      <td>699</td>\n",
       "      <td>494</td>\n",
       "      <td>920</td>\n",
       "      <td>431</td>\n",
       "      <td>521</td>\n",
       "      <td>505</td>\n",
       "      <td>475</td>\n",
       "      <td>519</td>\n",
       "      <td>578</td>\n",
       "    </tr>\n",
       "    <tr>\n",
       "      <th>18</th>\n",
       "      <td>934</td>\n",
       "      <td>1237</td>\n",
       "      <td>354</td>\n",
       "      <td>705</td>\n",
       "      <td>496</td>\n",
       "      <td>954</td>\n",
       "      <td>718</td>\n",
       "      <td>821</td>\n",
       "      <td>170</td>\n",
       "      <td>909</td>\n",
       "      <td>1049</td>\n",
       "      <td>994</td>\n",
       "      <td>675</td>\n",
       "      <td>803</td>\n",
       "      <td>866</td>\n",
       "      <td>880</td>\n",
       "      <td>646</td>\n",
       "      <td>619</td>\n",
       "      <td>885</td>\n",
       "      <td>626</td>\n",
       "    </tr>\n",
       "    <tr>\n",
       "      <th>19</th>\n",
       "      <td>578</td>\n",
       "      <td>548</td>\n",
       "      <td>556</td>\n",
       "      <td>479</td>\n",
       "      <td>537</td>\n",
       "      <td>564</td>\n",
       "      <td>519</td>\n",
       "      <td>446</td>\n",
       "      <td>601</td>\n",
       "      <td>565</td>\n",
       "      <td>450</td>\n",
       "      <td>684</td>\n",
       "      <td>1675</td>\n",
       "      <td>976</td>\n",
       "      <td>1249</td>\n",
       "      <td>1047</td>\n",
       "      <td>533</td>\n",
       "      <td>721</td>\n",
       "      <td>651</td>\n",
       "      <td>546</td>\n",
       "    </tr>\n",
       "    <tr>\n",
       "      <th>20</th>\n",
       "      <td>400</td>\n",
       "      <td>193</td>\n",
       "      <td>188</td>\n",
       "      <td>350</td>\n",
       "      <td>89</td>\n",
       "      <td>175</td>\n",
       "      <td>186</td>\n",
       "      <td>319</td>\n",
       "      <td>14</td>\n",
       "      <td>60</td>\n",
       "      <td>118</td>\n",
       "      <td>149</td>\n",
       "      <td>133</td>\n",
       "      <td>270</td>\n",
       "      <td>472</td>\n",
       "      <td>293</td>\n",
       "      <td>232</td>\n",
       "      <td>34</td>\n",
       "      <td>65</td>\n",
       "      <td>158</td>\n",
       "    </tr>\n",
       "    <tr>\n",
       "      <th>21</th>\n",
       "      <td>448</td>\n",
       "      <td>221</td>\n",
       "      <td>505</td>\n",
       "      <td>459</td>\n",
       "      <td>593</td>\n",
       "      <td>444</td>\n",
       "      <td>430</td>\n",
       "      <td>630</td>\n",
       "      <td>176</td>\n",
       "      <td>611</td>\n",
       "      <td>680</td>\n",
       "      <td>552</td>\n",
       "      <td>652</td>\n",
       "      <td>879</td>\n",
       "      <td>990</td>\n",
       "      <td>900</td>\n",
       "      <td>483</td>\n",
       "      <td>491</td>\n",
       "      <td>394</td>\n",
       "      <td>673</td>\n",
       "    </tr>\n",
       "    <tr>\n",
       "      <th rowspan=\"9\" valign=\"top\">Control</th>\n",
       "      <th>1</th>\n",
       "      <td>665</td>\n",
       "      <td>863</td>\n",
       "      <td>631</td>\n",
       "      <td>629</td>\n",
       "      <td>732</td>\n",
       "      <td>680</td>\n",
       "      <td>684</td>\n",
       "      <td>485</td>\n",
       "      <td>65</td>\n",
       "      <td>301</td>\n",
       "      <td>351</td>\n",
       "      <td>441</td>\n",
       "      <td>675</td>\n",
       "      <td>554</td>\n",
       "      <td>541</td>\n",
       "      <td>545</td>\n",
       "      <td>583</td>\n",
       "      <td>801</td>\n",
       "      <td>723</td>\n",
       "      <td>707</td>\n",
       "    </tr>\n",
       "    <tr>\n",
       "      <th>2</th>\n",
       "      <td>859</td>\n",
       "      <td>849</td>\n",
       "      <td>685</td>\n",
       "      <td>731</td>\n",
       "      <td>733</td>\n",
       "      <td>662</td>\n",
       "      <td>605</td>\n",
       "      <td>623</td>\n",
       "      <td>128</td>\n",
       "      <td>268</td>\n",
       "      <td>462</td>\n",
       "      <td>569</td>\n",
       "      <td>988</td>\n",
       "      <td>728</td>\n",
       "      <td>933</td>\n",
       "      <td>564</td>\n",
       "      <td>854</td>\n",
       "      <td>1103</td>\n",
       "      <td>645</td>\n",
       "      <td>633</td>\n",
       "    </tr>\n",
       "    <tr>\n",
       "      <th>3</th>\n",
       "      <td>589</td>\n",
       "      <td>507</td>\n",
       "      <td>635</td>\n",
       "      <td>902</td>\n",
       "      <td>872</td>\n",
       "      <td>952</td>\n",
       "      <td>828</td>\n",
       "      <td>806</td>\n",
       "      <td>129</td>\n",
       "      <td>311</td>\n",
       "      <td>669</td>\n",
       "      <td>666</td>\n",
       "      <td>516</td>\n",
       "      <td>579</td>\n",
       "      <td>913</td>\n",
       "      <td>736</td>\n",
       "      <td>699</td>\n",
       "      <td>743</td>\n",
       "      <td>761</td>\n",
       "      <td>949</td>\n",
       "    </tr>\n",
       "    <tr>\n",
       "      <th>4</th>\n",
       "      <td>939</td>\n",
       "      <td>909</td>\n",
       "      <td>850</td>\n",
       "      <td>756</td>\n",
       "      <td>743</td>\n",
       "      <td>625</td>\n",
       "      <td>690</td>\n",
       "      <td>759</td>\n",
       "      <td>281</td>\n",
       "      <td>357</td>\n",
       "      <td>386</td>\n",
       "      <td>585</td>\n",
       "      <td>565</td>\n",
       "      <td>550</td>\n",
       "      <td>806</td>\n",
       "      <td>732</td>\n",
       "      <td>807</td>\n",
       "      <td>617</td>\n",
       "      <td>526</td>\n",
       "      <td>736</td>\n",
       "    </tr>\n",
       "    <tr>\n",
       "      <th>12</th>\n",
       "      <td>494</td>\n",
       "      <td>602</td>\n",
       "      <td>570</td>\n",
       "      <td>530</td>\n",
       "      <td>362</td>\n",
       "      <td>467</td>\n",
       "      <td>491</td>\n",
       "      <td>557</td>\n",
       "      <td>98</td>\n",
       "      <td>262</td>\n",
       "      <td>344</td>\n",
       "      <td>388</td>\n",
       "      <td>435</td>\n",
       "      <td>551</td>\n",
       "      <td>552</td>\n",
       "      <td>537</td>\n",
       "      <td>570</td>\n",
       "      <td>396</td>\n",
       "      <td>403</td>\n",
       "      <td>380</td>\n",
       "    </tr>\n",
       "    <tr>\n",
       "      <th>13</th>\n",
       "      <td>587</td>\n",
       "      <td>630</td>\n",
       "      <td>564</td>\n",
       "      <td>627</td>\n",
       "      <td>403</td>\n",
       "      <td>552</td>\n",
       "      <td>575</td>\n",
       "      <td>589</td>\n",
       "      <td>172</td>\n",
       "      <td>298</td>\n",
       "      <td>422</td>\n",
       "      <td>596</td>\n",
       "      <td>447</td>\n",
       "      <td>589</td>\n",
       "      <td>463</td>\n",
       "      <td>364</td>\n",
       "      <td>572</td>\n",
       "      <td>419</td>\n",
       "      <td>369</td>\n",
       "      <td>416</td>\n",
       "    </tr>\n",
       "    <tr>\n",
       "      <th>14</th>\n",
       "      <td>917</td>\n",
       "      <td>680</td>\n",
       "      <td>737</td>\n",
       "      <td>596</td>\n",
       "      <td>547</td>\n",
       "      <td>729</td>\n",
       "      <td>830</td>\n",
       "      <td>411</td>\n",
       "      <td>71</td>\n",
       "      <td>386</td>\n",
       "      <td>581</td>\n",
       "      <td>832</td>\n",
       "      <td>586</td>\n",
       "      <td>610</td>\n",
       "      <td>634</td>\n",
       "      <td>716</td>\n",
       "      <td>699</td>\n",
       "      <td>484</td>\n",
       "      <td>452</td>\n",
       "      <td>438</td>\n",
       "    </tr>\n",
       "    <tr>\n",
       "      <th>15</th>\n",
       "      <td>440</td>\n",
       "      <td>767</td>\n",
       "      <td>642</td>\n",
       "      <td>623</td>\n",
       "      <td>315</td>\n",
       "      <td>434</td>\n",
       "      <td>543</td>\n",
       "      <td>619</td>\n",
       "      <td>115</td>\n",
       "      <td>101</td>\n",
       "      <td>356</td>\n",
       "      <td>457</td>\n",
       "      <td>412</td>\n",
       "      <td>582</td>\n",
       "      <td>549</td>\n",
       "      <td>696</td>\n",
       "      <td>532</td>\n",
       "      <td>663</td>\n",
       "      <td>601</td>\n",
       "      <td>553</td>\n",
       "    </tr>\n",
       "    <tr>\n",
       "      <th>22</th>\n",
       "      <td>270</td>\n",
       "      <td>132</td>\n",
       "      <td>250</td>\n",
       "      <td>192</td>\n",
       "      <td>120</td>\n",
       "      <td>147</td>\n",
       "      <td>186</td>\n",
       "      <td>337</td>\n",
       "      <td>8</td>\n",
       "      <td>70</td>\n",
       "      <td>18</td>\n",
       "      <td>175</td>\n",
       "      <td>232</td>\n",
       "      <td>238</td>\n",
       "      <td>209</td>\n",
       "      <td>200</td>\n",
       "      <td>364</td>\n",
       "      <td>229</td>\n",
       "      <td>219</td>\n",
       "      <td>329</td>\n",
       "    </tr>\n",
       "  </tbody>\n",
       "</table>\n",
       "</div>"
      ],
      "text/plain": [
       "Phase              BL                   PS  ...    R2     S                \n",
       "Day_of_Phase        1     2    3    4    1  ...     4     1     2    3    4\n",
       "Group   Mouse_ID                            ...                            \n",
       "ChR2    5         710   505  494  596  779  ...   759   620   589  676  537\n",
       "        6         564   808  589  596  707  ...   803   591   580  419  463\n",
       "        7         722   732  783  946  621  ...   878   882   723  764  892\n",
       "        8         497   649  586  506  437  ...   274   546   493  456  601\n",
       "        9         741   668  778  638  390  ...   578   759   791  568  664\n",
       "        10        953   988  579  706  829  ...   700  1106   812  902  835\n",
       "        11        753   613  573  642  635  ...   781   820   752  759  564\n",
       "        16        715   469  392  333  916  ...   942   492   594  695  568\n",
       "        17        184   250  373  457  542  ...   521   505   475  519  578\n",
       "        18        934  1237  354  705  496  ...   880   646   619  885  626\n",
       "        19        578   548  556  479  537  ...  1047   533   721  651  546\n",
       "        20        400   193  188  350   89  ...   293   232    34   65  158\n",
       "        21        448   221  505  459  593  ...   900   483   491  394  673\n",
       "Control 1         665   863  631  629  732  ...   545   583   801  723  707\n",
       "        2         859   849  685  731  733  ...   564   854  1103  645  633\n",
       "        3         589   507  635  902  872  ...   736   699   743  761  949\n",
       "        4         939   909  850  756  743  ...   732   807   617  526  736\n",
       "        12        494   602  570  530  362  ...   537   570   396  403  380\n",
       "        13        587   630  564  627  403  ...   364   572   419  369  416\n",
       "        14        917   680  737  596  547  ...   716   699   484  452  438\n",
       "        15        440   767  642  623  315  ...   696   532   663  601  553\n",
       "        22        270   132  250  192  120  ...   200   364   229  219  329\n",
       "\n",
       "[22 rows x 20 columns]"
      ]
     },
     "execution_count": 13,
     "metadata": {},
     "output_type": "execute_result"
    }
   ],
   "source": [
    "df3 = df.pivot_table(values='Licks',index=['Group','Mouse_ID'],\n",
    "                      columns=['Phase','Day_of_Phase'])\n",
    "df3"
   ]
  },
  {
   "cell_type": "code",
   "execution_count": 14,
   "metadata": {
    "ExecuteTime": {
     "end_time": "2020-07-01T01:31:14.422441Z",
     "start_time": "2020-07-01T01:31:14.419760Z"
    }
   },
   "outputs": [],
   "source": [
    "# df.groupby(['Group','Mouse_ID'])['Mouse_ID'].count()#.max()"
   ]
  },
  {
   "cell_type": "markdown",
   "metadata": {},
   "source": [
    "### NOTES (06/29/30)"
   ]
  },
  {
   "cell_type": "markdown",
   "metadata": {},
   "source": [
    "- There are 52 observations for ChR2, but only 36 for Control.\n",
    "    - This is probably why RMANOVA returns an error\n",
    "    \n",
    "- Possible Solutions:\n",
    "    - Remove mice from ChR2 group to match Control\n",
    "    - Resample from Control Group to match ChR2"
   ]
  },
  {
   "cell_type": "code",
   "execution_count": 15,
   "metadata": {
    "ExecuteTime": {
     "end_time": "2020-07-01T01:31:14.433616Z",
     "start_time": "2020-07-01T01:31:14.424636Z"
    }
   },
   "outputs": [
    {
     "name": "stdout",
     "output_type": "stream",
     "text": [
      "ChR2\n",
      "13\n",
      "\n",
      "Control\n",
      "9\n",
      "\n"
     ]
    }
   ],
   "source": [
    "data = {}\n",
    "for grp in df.groupby('Group').groups:\n",
    "    data[grp] = df.groupby('Group').get_group(grp)\n",
    "    print(grp)\n",
    "    print(len(data[grp]['Mouse_ID'].unique()))\n",
    "    print()"
   ]
  },
  {
   "cell_type": "code",
   "execution_count": 17,
   "metadata": {
    "ExecuteTime": {
     "end_time": "2020-07-01T01:31:26.677723Z",
     "start_time": "2020-07-01T01:31:26.675437Z"
    }
   },
   "outputs": [],
   "source": [
    "n_to_match = 13"
   ]
  },
  {
   "cell_type": "markdown",
   "metadata": {},
   "source": [
    "### Identifying which Mice to Remove (outliers)"
   ]
  },
  {
   "cell_type": "code",
   "execution_count": 18,
   "metadata": {
    "ExecuteTime": {
     "end_time": "2020-07-01T01:31:28.132228Z",
     "start_time": "2020-07-01T01:31:28.130135Z"
    },
    "code_folding": [
     0
    ]
   },
   "outputs": [],
   "source": [
    "# ## Making df that can be used with plotly express\n",
    "# plotly_df = df2.copy()\n",
    "# # plotly_df['Day_of_Phase'] = plotly_df['Day'].apply(lambda x: x[-1])\n",
    "# plotly_df"
   ]
  },
  {
   "cell_type": "code",
   "execution_count": 19,
   "metadata": {
    "ExecuteTime": {
     "end_time": "2020-07-01T01:31:29.197230Z",
     "start_time": "2020-07-01T01:31:28.516667Z"
    }
   },
   "outputs": [
    {
     "data": {
      "application/vnd.plotly.v1+json": {
       "config": {
        "plotlyServerURL": "https://plot.ly"
       },
       "data": [
        {
         "alignmentgroup": "True",
         "hoverlabel": {
          "namelength": 0
         },
         "hovertemplate": "<b>%{hovertext}</b><br><br>Group=Control<br>Phase=%{x}<br>Licks=%{y}",
         "hovertext": [
          1,
          2,
          3,
          4,
          12,
          13,
          14,
          15,
          22,
          1,
          2,
          3,
          4,
          12,
          13,
          14,
          15,
          22,
          1,
          2,
          3,
          4,
          12,
          13,
          14,
          15,
          22,
          1,
          2,
          3,
          4,
          12,
          13,
          14,
          15,
          22,
          1,
          2,
          3,
          4,
          12,
          13,
          14,
          15,
          22,
          1,
          2,
          3,
          4,
          12,
          13,
          14,
          15,
          22,
          1,
          2,
          3,
          4,
          12,
          13,
          14,
          15,
          22,
          1,
          2,
          3,
          4,
          12,
          13,
          14,
          15,
          22,
          1,
          2,
          3,
          4,
          12,
          13,
          14,
          15,
          22,
          1,
          2,
          3,
          4,
          12,
          13,
          14,
          15,
          22,
          1,
          2,
          3,
          4,
          12,
          13,
          14,
          15,
          22,
          1,
          2,
          3,
          4,
          12,
          13,
          14,
          15,
          22,
          1,
          2,
          3,
          4,
          12,
          13,
          14,
          15,
          22,
          1,
          2,
          3,
          4,
          12,
          13,
          14,
          15,
          22,
          1,
          2,
          3,
          4,
          12,
          13,
          14,
          15,
          22,
          1,
          2,
          3,
          4,
          12,
          13,
          14,
          15,
          22,
          1,
          2,
          3,
          4,
          12,
          13,
          14,
          15,
          22,
          1,
          2,
          3,
          4,
          12,
          13,
          14,
          15,
          22,
          1,
          2,
          3,
          4,
          12,
          13,
          14,
          15,
          22,
          1,
          2,
          3,
          4,
          12,
          13,
          14,
          15,
          22
         ],
         "legendgroup": "Group=Control",
         "marker": {
          "color": "#636efa"
         },
         "name": "Group=Control",
         "notched": false,
         "offsetgroup": "Group=Control",
         "orientation": "v",
         "showlegend": true,
         "type": "box",
         "x": [
          "BL",
          "BL",
          "BL",
          "BL",
          "BL",
          "BL",
          "BL",
          "BL",
          "BL",
          "BL",
          "BL",
          "BL",
          "BL",
          "BL",
          "BL",
          "BL",
          "BL",
          "BL",
          "BL",
          "BL",
          "BL",
          "BL",
          "BL",
          "BL",
          "BL",
          "BL",
          "BL",
          "BL",
          "BL",
          "BL",
          "BL",
          "BL",
          "BL",
          "BL",
          "BL",
          "BL",
          "S",
          "S",
          "S",
          "S",
          "S",
          "S",
          "S",
          "S",
          "S",
          "S",
          "S",
          "S",
          "S",
          "S",
          "S",
          "S",
          "S",
          "S",
          "S",
          "S",
          "S",
          "S",
          "S",
          "S",
          "S",
          "S",
          "S",
          "S",
          "S",
          "S",
          "S",
          "S",
          "S",
          "S",
          "S",
          "S",
          "PS",
          "PS",
          "PS",
          "PS",
          "PS",
          "PS",
          "PS",
          "PS",
          "PS",
          "PS",
          "PS",
          "PS",
          "PS",
          "PS",
          "PS",
          "PS",
          "PS",
          "PS",
          "PS",
          "PS",
          "PS",
          "PS",
          "PS",
          "PS",
          "PS",
          "PS",
          "PS",
          "PS",
          "PS",
          "PS",
          "PS",
          "PS",
          "PS",
          "PS",
          "PS",
          "PS",
          "R1",
          "R1",
          "R1",
          "R1",
          "R1",
          "R1",
          "R1",
          "R1",
          "R1",
          "R1",
          "R1",
          "R1",
          "R1",
          "R1",
          "R1",
          "R1",
          "R1",
          "R1",
          "R1",
          "R1",
          "R1",
          "R1",
          "R1",
          "R1",
          "R1",
          "R1",
          "R1",
          "R1",
          "R1",
          "R1",
          "R1",
          "R1",
          "R1",
          "R1",
          "R1",
          "R1",
          "R2",
          "R2",
          "R2",
          "R2",
          "R2",
          "R2",
          "R2",
          "R2",
          "R2",
          "R2",
          "R2",
          "R2",
          "R2",
          "R2",
          "R2",
          "R2",
          "R2",
          "R2",
          "R2",
          "R2",
          "R2",
          "R2",
          "R2",
          "R2",
          "R2",
          "R2",
          "R2",
          "R2",
          "R2",
          "R2",
          "R2",
          "R2",
          "R2",
          "R2",
          "R2",
          "R2"
         ],
         "x0": " ",
         "xaxis": "x",
         "y": [
          665,
          859,
          589,
          939,
          494,
          587,
          917,
          440,
          270,
          863,
          849,
          507,
          909,
          602,
          630,
          680,
          767,
          132,
          631,
          685,
          635,
          850,
          570,
          564,
          737,
          642,
          250,
          629,
          731,
          902,
          756,
          530,
          627,
          596,
          623,
          192,
          583,
          854,
          699,
          807,
          570,
          572,
          699,
          532,
          364,
          801,
          1103,
          743,
          617,
          396,
          419,
          484,
          663,
          229,
          723,
          645,
          761,
          526,
          403,
          369,
          452,
          601,
          219,
          707,
          633,
          949,
          736,
          380,
          416,
          438,
          553,
          329,
          732,
          733,
          872,
          743,
          362,
          403,
          547,
          315,
          120,
          680,
          662,
          952,
          625,
          467,
          552,
          729,
          434,
          147,
          684,
          605,
          828,
          690,
          491,
          575,
          830,
          543,
          186,
          485,
          623,
          806,
          759,
          557,
          589,
          411,
          619,
          337,
          65,
          128,
          129,
          281,
          98,
          172,
          71,
          115,
          8,
          301,
          268,
          311,
          357,
          262,
          298,
          386,
          101,
          70,
          351,
          462,
          669,
          386,
          344,
          422,
          581,
          356,
          18,
          441,
          569,
          666,
          585,
          388,
          596,
          832,
          457,
          175,
          675,
          988,
          516,
          565,
          435,
          447,
          586,
          412,
          232,
          554,
          728,
          579,
          550,
          551,
          589,
          610,
          582,
          238,
          541,
          933,
          913,
          806,
          552,
          463,
          634,
          549,
          209,
          545,
          564,
          736,
          732,
          537,
          364,
          716,
          696,
          200
         ],
         "y0": " ",
         "yaxis": "y"
        },
        {
         "alignmentgroup": "True",
         "hoverlabel": {
          "namelength": 0
         },
         "hovertemplate": "<b>%{hovertext}</b><br><br>Group=ChR2<br>Phase=%{x}<br>Licks=%{y}",
         "hovertext": [
          5,
          6,
          7,
          8,
          9,
          10,
          11,
          16,
          17,
          18,
          19,
          20,
          21,
          5,
          6,
          7,
          8,
          9,
          10,
          11,
          16,
          17,
          18,
          19,
          20,
          21,
          5,
          6,
          7,
          8,
          9,
          10,
          11,
          16,
          17,
          18,
          19,
          20,
          21,
          5,
          6,
          7,
          8,
          9,
          10,
          11,
          16,
          17,
          18,
          19,
          20,
          21,
          5,
          6,
          7,
          8,
          9,
          10,
          11,
          16,
          17,
          18,
          19,
          20,
          21,
          5,
          6,
          7,
          8,
          9,
          10,
          11,
          16,
          17,
          18,
          19,
          20,
          21,
          5,
          6,
          7,
          8,
          9,
          10,
          11,
          16,
          17,
          18,
          19,
          20,
          21,
          5,
          6,
          7,
          8,
          9,
          10,
          11,
          16,
          17,
          18,
          19,
          20,
          21,
          5,
          6,
          7,
          8,
          9,
          10,
          11,
          16,
          17,
          18,
          19,
          20,
          21,
          5,
          6,
          7,
          8,
          9,
          10,
          11,
          16,
          17,
          18,
          19,
          20,
          21,
          5,
          6,
          7,
          8,
          9,
          10,
          11,
          16,
          17,
          18,
          19,
          20,
          21,
          5,
          6,
          7,
          8,
          9,
          10,
          11,
          16,
          17,
          18,
          19,
          20,
          21,
          5,
          6,
          7,
          8,
          9,
          10,
          11,
          16,
          17,
          18,
          19,
          20,
          21,
          5,
          6,
          7,
          8,
          9,
          10,
          11,
          16,
          17,
          18,
          19,
          20,
          21,
          5,
          6,
          7,
          8,
          9,
          10,
          11,
          16,
          17,
          18,
          19,
          20,
          21,
          5,
          6,
          7,
          8,
          9,
          10,
          11,
          16,
          17,
          18,
          19,
          20,
          21,
          5,
          6,
          7,
          8,
          9,
          10,
          11,
          16,
          17,
          18,
          19,
          20,
          21,
          5,
          6,
          7,
          8,
          9,
          10,
          11,
          16,
          17,
          18,
          19,
          20,
          21,
          5,
          6,
          7,
          8,
          9,
          10,
          11,
          16,
          17,
          18,
          19,
          20,
          21,
          5,
          6,
          7,
          8,
          9,
          10,
          11,
          16,
          17,
          18,
          19,
          20,
          21
         ],
         "legendgroup": "Group=ChR2",
         "marker": {
          "color": "#EF553B"
         },
         "name": "Group=ChR2",
         "notched": false,
         "offsetgroup": "Group=ChR2",
         "orientation": "v",
         "showlegend": true,
         "type": "box",
         "x": [
          "BL",
          "BL",
          "BL",
          "BL",
          "BL",
          "BL",
          "BL",
          "BL",
          "BL",
          "BL",
          "BL",
          "BL",
          "BL",
          "BL",
          "BL",
          "BL",
          "BL",
          "BL",
          "BL",
          "BL",
          "BL",
          "BL",
          "BL",
          "BL",
          "BL",
          "BL",
          "BL",
          "BL",
          "BL",
          "BL",
          "BL",
          "BL",
          "BL",
          "BL",
          "BL",
          "BL",
          "BL",
          "BL",
          "BL",
          "BL",
          "BL",
          "BL",
          "BL",
          "BL",
          "BL",
          "BL",
          "BL",
          "BL",
          "BL",
          "BL",
          "BL",
          "BL",
          "S",
          "S",
          "S",
          "S",
          "S",
          "S",
          "S",
          "S",
          "S",
          "S",
          "S",
          "S",
          "S",
          "S",
          "S",
          "S",
          "S",
          "S",
          "S",
          "S",
          "S",
          "S",
          "S",
          "S",
          "S",
          "S",
          "S",
          "S",
          "S",
          "S",
          "S",
          "S",
          "S",
          "S",
          "S",
          "S",
          "S",
          "S",
          "S",
          "S",
          "S",
          "S",
          "S",
          "S",
          "S",
          "S",
          "S",
          "S",
          "S",
          "S",
          "S",
          "S",
          "PS",
          "PS",
          "PS",
          "PS",
          "PS",
          "PS",
          "PS",
          "PS",
          "PS",
          "PS",
          "PS",
          "PS",
          "PS",
          "PS",
          "PS",
          "PS",
          "PS",
          "PS",
          "PS",
          "PS",
          "PS",
          "PS",
          "PS",
          "PS",
          "PS",
          "PS",
          "PS",
          "PS",
          "PS",
          "PS",
          "PS",
          "PS",
          "PS",
          "PS",
          "PS",
          "PS",
          "PS",
          "PS",
          "PS",
          "PS",
          "PS",
          "PS",
          "PS",
          "PS",
          "PS",
          "PS",
          "PS",
          "PS",
          "PS",
          "PS",
          "PS",
          "PS",
          "R1",
          "R1",
          "R1",
          "R1",
          "R1",
          "R1",
          "R1",
          "R1",
          "R1",
          "R1",
          "R1",
          "R1",
          "R1",
          "R1",
          "R1",
          "R1",
          "R1",
          "R1",
          "R1",
          "R1",
          "R1",
          "R1",
          "R1",
          "R1",
          "R1",
          "R1",
          "R1",
          "R1",
          "R1",
          "R1",
          "R1",
          "R1",
          "R1",
          "R1",
          "R1",
          "R1",
          "R1",
          "R1",
          "R1",
          "R1",
          "R1",
          "R1",
          "R1",
          "R1",
          "R1",
          "R1",
          "R1",
          "R1",
          "R1",
          "R1",
          "R1",
          "R1",
          "R2",
          "R2",
          "R2",
          "R2",
          "R2",
          "R2",
          "R2",
          "R2",
          "R2",
          "R2",
          "R2",
          "R2",
          "R2",
          "R2",
          "R2",
          "R2",
          "R2",
          "R2",
          "R2",
          "R2",
          "R2",
          "R2",
          "R2",
          "R2",
          "R2",
          "R2",
          "R2",
          "R2",
          "R2",
          "R2",
          "R2",
          "R2",
          "R2",
          "R2",
          "R2",
          "R2",
          "R2",
          "R2",
          "R2",
          "R2",
          "R2",
          "R2",
          "R2",
          "R2",
          "R2",
          "R2",
          "R2",
          "R2",
          "R2",
          "R2",
          "R2",
          "R2"
         ],
         "x0": " ",
         "xaxis": "x",
         "y": [
          710,
          564,
          722,
          497,
          741,
          953,
          753,
          715,
          184,
          934,
          578,
          400,
          448,
          505,
          808,
          732,
          649,
          668,
          988,
          613,
          469,
          250,
          1237,
          548,
          193,
          221,
          494,
          589,
          783,
          586,
          778,
          579,
          573,
          392,
          373,
          354,
          556,
          188,
          505,
          596,
          596,
          946,
          506,
          638,
          706,
          642,
          333,
          457,
          705,
          479,
          350,
          459,
          620,
          591,
          882,
          546,
          759,
          1106,
          820,
          492,
          505,
          646,
          533,
          232,
          483,
          589,
          580,
          723,
          493,
          791,
          812,
          752,
          594,
          475,
          619,
          721,
          34,
          491,
          676,
          419,
          764,
          456,
          568,
          902,
          759,
          695,
          519,
          885,
          651,
          65,
          394,
          537,
          463,
          892,
          601,
          664,
          835,
          564,
          568,
          578,
          626,
          546,
          158,
          673,
          779,
          707,
          621,
          437,
          390,
          829,
          635,
          916,
          542,
          496,
          537,
          89,
          593,
          537,
          625,
          764,
          462,
          346,
          801,
          641,
          675,
          477,
          954,
          564,
          175,
          444,
          581,
          547,
          720,
          704,
          773,
          1011,
          706,
          669,
          601,
          718,
          519,
          186,
          430,
          515,
          595,
          478,
          498,
          682,
          919,
          763,
          895,
          390,
          821,
          446,
          319,
          630,
          477,
          532,
          297,
          10,
          3,
          274,
          287,
          98,
          131,
          170,
          601,
          14,
          176,
          659,
          951,
          558,
          44,
          212,
          559,
          526,
          558,
          656,
          909,
          565,
          60,
          611,
          737,
          901,
          803,
          86,
          417,
          840,
          841,
          977,
          845,
          1049,
          450,
          118,
          680,
          606,
          851,
          694,
          284,
          443,
          890,
          838,
          956,
          699,
          994,
          684,
          149,
          552,
          713,
          807,
          855,
          212,
          486,
          724,
          691,
          974,
          494,
          675,
          1675,
          133,
          652,
          682,
          858,
          797,
          133,
          444,
          793,
          657,
          1049,
          920,
          803,
          976,
          270,
          879,
          709,
          802,
          938,
          141,
          533,
          559,
          680,
          1366,
          431,
          866,
          1249,
          472,
          990,
          759,
          803,
          878,
          274,
          578,
          700,
          781,
          942,
          521,
          880,
          1047,
          293,
          900
         ],
         "y0": " ",
         "yaxis": "y"
        }
       ],
       "layout": {
        "boxmode": "group",
        "height": 400,
        "legend": {
         "tracegroupgap": 0
        },
        "margin": {
         "t": 60
        },
        "template": {
         "data": {
          "bar": [
           {
            "error_x": {
             "color": "#2a3f5f"
            },
            "error_y": {
             "color": "#2a3f5f"
            },
            "marker": {
             "line": {
              "color": "#E5ECF6",
              "width": 0.5
             }
            },
            "type": "bar"
           }
          ],
          "barpolar": [
           {
            "marker": {
             "line": {
              "color": "#E5ECF6",
              "width": 0.5
             }
            },
            "type": "barpolar"
           }
          ],
          "carpet": [
           {
            "aaxis": {
             "endlinecolor": "#2a3f5f",
             "gridcolor": "white",
             "linecolor": "white",
             "minorgridcolor": "white",
             "startlinecolor": "#2a3f5f"
            },
            "baxis": {
             "endlinecolor": "#2a3f5f",
             "gridcolor": "white",
             "linecolor": "white",
             "minorgridcolor": "white",
             "startlinecolor": "#2a3f5f"
            },
            "type": "carpet"
           }
          ],
          "choropleth": [
           {
            "colorbar": {
             "outlinewidth": 0,
             "ticks": ""
            },
            "type": "choropleth"
           }
          ],
          "contour": [
           {
            "colorbar": {
             "outlinewidth": 0,
             "ticks": ""
            },
            "colorscale": [
             [
              0,
              "#0d0887"
             ],
             [
              0.1111111111111111,
              "#46039f"
             ],
             [
              0.2222222222222222,
              "#7201a8"
             ],
             [
              0.3333333333333333,
              "#9c179e"
             ],
             [
              0.4444444444444444,
              "#bd3786"
             ],
             [
              0.5555555555555556,
              "#d8576b"
             ],
             [
              0.6666666666666666,
              "#ed7953"
             ],
             [
              0.7777777777777778,
              "#fb9f3a"
             ],
             [
              0.8888888888888888,
              "#fdca26"
             ],
             [
              1,
              "#f0f921"
             ]
            ],
            "type": "contour"
           }
          ],
          "contourcarpet": [
           {
            "colorbar": {
             "outlinewidth": 0,
             "ticks": ""
            },
            "type": "contourcarpet"
           }
          ],
          "heatmap": [
           {
            "colorbar": {
             "outlinewidth": 0,
             "ticks": ""
            },
            "colorscale": [
             [
              0,
              "#0d0887"
             ],
             [
              0.1111111111111111,
              "#46039f"
             ],
             [
              0.2222222222222222,
              "#7201a8"
             ],
             [
              0.3333333333333333,
              "#9c179e"
             ],
             [
              0.4444444444444444,
              "#bd3786"
             ],
             [
              0.5555555555555556,
              "#d8576b"
             ],
             [
              0.6666666666666666,
              "#ed7953"
             ],
             [
              0.7777777777777778,
              "#fb9f3a"
             ],
             [
              0.8888888888888888,
              "#fdca26"
             ],
             [
              1,
              "#f0f921"
             ]
            ],
            "type": "heatmap"
           }
          ],
          "heatmapgl": [
           {
            "colorbar": {
             "outlinewidth": 0,
             "ticks": ""
            },
            "colorscale": [
             [
              0,
              "#0d0887"
             ],
             [
              0.1111111111111111,
              "#46039f"
             ],
             [
              0.2222222222222222,
              "#7201a8"
             ],
             [
              0.3333333333333333,
              "#9c179e"
             ],
             [
              0.4444444444444444,
              "#bd3786"
             ],
             [
              0.5555555555555556,
              "#d8576b"
             ],
             [
              0.6666666666666666,
              "#ed7953"
             ],
             [
              0.7777777777777778,
              "#fb9f3a"
             ],
             [
              0.8888888888888888,
              "#fdca26"
             ],
             [
              1,
              "#f0f921"
             ]
            ],
            "type": "heatmapgl"
           }
          ],
          "histogram": [
           {
            "marker": {
             "colorbar": {
              "outlinewidth": 0,
              "ticks": ""
             }
            },
            "type": "histogram"
           }
          ],
          "histogram2d": [
           {
            "colorbar": {
             "outlinewidth": 0,
             "ticks": ""
            },
            "colorscale": [
             [
              0,
              "#0d0887"
             ],
             [
              0.1111111111111111,
              "#46039f"
             ],
             [
              0.2222222222222222,
              "#7201a8"
             ],
             [
              0.3333333333333333,
              "#9c179e"
             ],
             [
              0.4444444444444444,
              "#bd3786"
             ],
             [
              0.5555555555555556,
              "#d8576b"
             ],
             [
              0.6666666666666666,
              "#ed7953"
             ],
             [
              0.7777777777777778,
              "#fb9f3a"
             ],
             [
              0.8888888888888888,
              "#fdca26"
             ],
             [
              1,
              "#f0f921"
             ]
            ],
            "type": "histogram2d"
           }
          ],
          "histogram2dcontour": [
           {
            "colorbar": {
             "outlinewidth": 0,
             "ticks": ""
            },
            "colorscale": [
             [
              0,
              "#0d0887"
             ],
             [
              0.1111111111111111,
              "#46039f"
             ],
             [
              0.2222222222222222,
              "#7201a8"
             ],
             [
              0.3333333333333333,
              "#9c179e"
             ],
             [
              0.4444444444444444,
              "#bd3786"
             ],
             [
              0.5555555555555556,
              "#d8576b"
             ],
             [
              0.6666666666666666,
              "#ed7953"
             ],
             [
              0.7777777777777778,
              "#fb9f3a"
             ],
             [
              0.8888888888888888,
              "#fdca26"
             ],
             [
              1,
              "#f0f921"
             ]
            ],
            "type": "histogram2dcontour"
           }
          ],
          "mesh3d": [
           {
            "colorbar": {
             "outlinewidth": 0,
             "ticks": ""
            },
            "type": "mesh3d"
           }
          ],
          "parcoords": [
           {
            "line": {
             "colorbar": {
              "outlinewidth": 0,
              "ticks": ""
             }
            },
            "type": "parcoords"
           }
          ],
          "scatter": [
           {
            "marker": {
             "colorbar": {
              "outlinewidth": 0,
              "ticks": ""
             }
            },
            "type": "scatter"
           }
          ],
          "scatter3d": [
           {
            "line": {
             "colorbar": {
              "outlinewidth": 0,
              "ticks": ""
             }
            },
            "marker": {
             "colorbar": {
              "outlinewidth": 0,
              "ticks": ""
             }
            },
            "type": "scatter3d"
           }
          ],
          "scattercarpet": [
           {
            "marker": {
             "colorbar": {
              "outlinewidth": 0,
              "ticks": ""
             }
            },
            "type": "scattercarpet"
           }
          ],
          "scattergeo": [
           {
            "marker": {
             "colorbar": {
              "outlinewidth": 0,
              "ticks": ""
             }
            },
            "type": "scattergeo"
           }
          ],
          "scattergl": [
           {
            "marker": {
             "colorbar": {
              "outlinewidth": 0,
              "ticks": ""
             }
            },
            "type": "scattergl"
           }
          ],
          "scattermapbox": [
           {
            "marker": {
             "colorbar": {
              "outlinewidth": 0,
              "ticks": ""
             }
            },
            "type": "scattermapbox"
           }
          ],
          "scatterpolar": [
           {
            "marker": {
             "colorbar": {
              "outlinewidth": 0,
              "ticks": ""
             }
            },
            "type": "scatterpolar"
           }
          ],
          "scatterpolargl": [
           {
            "marker": {
             "colorbar": {
              "outlinewidth": 0,
              "ticks": ""
             }
            },
            "type": "scatterpolargl"
           }
          ],
          "scatterternary": [
           {
            "marker": {
             "colorbar": {
              "outlinewidth": 0,
              "ticks": ""
             }
            },
            "type": "scatterternary"
           }
          ],
          "surface": [
           {
            "colorbar": {
             "outlinewidth": 0,
             "ticks": ""
            },
            "colorscale": [
             [
              0,
              "#0d0887"
             ],
             [
              0.1111111111111111,
              "#46039f"
             ],
             [
              0.2222222222222222,
              "#7201a8"
             ],
             [
              0.3333333333333333,
              "#9c179e"
             ],
             [
              0.4444444444444444,
              "#bd3786"
             ],
             [
              0.5555555555555556,
              "#d8576b"
             ],
             [
              0.6666666666666666,
              "#ed7953"
             ],
             [
              0.7777777777777778,
              "#fb9f3a"
             ],
             [
              0.8888888888888888,
              "#fdca26"
             ],
             [
              1,
              "#f0f921"
             ]
            ],
            "type": "surface"
           }
          ],
          "table": [
           {
            "cells": {
             "fill": {
              "color": "#EBF0F8"
             },
             "line": {
              "color": "white"
             }
            },
            "header": {
             "fill": {
              "color": "#C8D4E3"
             },
             "line": {
              "color": "white"
             }
            },
            "type": "table"
           }
          ]
         },
         "layout": {
          "annotationdefaults": {
           "arrowcolor": "#2a3f5f",
           "arrowhead": 0,
           "arrowwidth": 1
          },
          "colorscale": {
           "diverging": [
            [
             0,
             "#8e0152"
            ],
            [
             0.1,
             "#c51b7d"
            ],
            [
             0.2,
             "#de77ae"
            ],
            [
             0.3,
             "#f1b6da"
            ],
            [
             0.4,
             "#fde0ef"
            ],
            [
             0.5,
             "#f7f7f7"
            ],
            [
             0.6,
             "#e6f5d0"
            ],
            [
             0.7,
             "#b8e186"
            ],
            [
             0.8,
             "#7fbc41"
            ],
            [
             0.9,
             "#4d9221"
            ],
            [
             1,
             "#276419"
            ]
           ],
           "sequential": [
            [
             0,
             "#0d0887"
            ],
            [
             0.1111111111111111,
             "#46039f"
            ],
            [
             0.2222222222222222,
             "#7201a8"
            ],
            [
             0.3333333333333333,
             "#9c179e"
            ],
            [
             0.4444444444444444,
             "#bd3786"
            ],
            [
             0.5555555555555556,
             "#d8576b"
            ],
            [
             0.6666666666666666,
             "#ed7953"
            ],
            [
             0.7777777777777778,
             "#fb9f3a"
            ],
            [
             0.8888888888888888,
             "#fdca26"
            ],
            [
             1,
             "#f0f921"
            ]
           ],
           "sequentialminus": [
            [
             0,
             "#0d0887"
            ],
            [
             0.1111111111111111,
             "#46039f"
            ],
            [
             0.2222222222222222,
             "#7201a8"
            ],
            [
             0.3333333333333333,
             "#9c179e"
            ],
            [
             0.4444444444444444,
             "#bd3786"
            ],
            [
             0.5555555555555556,
             "#d8576b"
            ],
            [
             0.6666666666666666,
             "#ed7953"
            ],
            [
             0.7777777777777778,
             "#fb9f3a"
            ],
            [
             0.8888888888888888,
             "#fdca26"
            ],
            [
             1,
             "#f0f921"
            ]
           ]
          },
          "colorway": [
           "#636efa",
           "#EF553B",
           "#00cc96",
           "#ab63fa",
           "#FFA15A",
           "#19d3f3",
           "#FF6692",
           "#B6E880",
           "#FF97FF",
           "#FECB52"
          ],
          "font": {
           "color": "#2a3f5f"
          },
          "geo": {
           "bgcolor": "white",
           "lakecolor": "white",
           "landcolor": "#E5ECF6",
           "showlakes": true,
           "showland": true,
           "subunitcolor": "white"
          },
          "hoverlabel": {
           "align": "left"
          },
          "hovermode": "closest",
          "mapbox": {
           "style": "light"
          },
          "paper_bgcolor": "white",
          "plot_bgcolor": "#E5ECF6",
          "polar": {
           "angularaxis": {
            "gridcolor": "white",
            "linecolor": "white",
            "ticks": ""
           },
           "bgcolor": "#E5ECF6",
           "radialaxis": {
            "gridcolor": "white",
            "linecolor": "white",
            "ticks": ""
           }
          },
          "scene": {
           "xaxis": {
            "backgroundcolor": "#E5ECF6",
            "gridcolor": "white",
            "gridwidth": 2,
            "linecolor": "white",
            "showbackground": true,
            "ticks": "",
            "zerolinecolor": "white"
           },
           "yaxis": {
            "backgroundcolor": "#E5ECF6",
            "gridcolor": "white",
            "gridwidth": 2,
            "linecolor": "white",
            "showbackground": true,
            "ticks": "",
            "zerolinecolor": "white"
           },
           "zaxis": {
            "backgroundcolor": "#E5ECF6",
            "gridcolor": "white",
            "gridwidth": 2,
            "linecolor": "white",
            "showbackground": true,
            "ticks": "",
            "zerolinecolor": "white"
           }
          },
          "shapedefaults": {
           "line": {
            "color": "#2a3f5f"
           }
          },
          "ternary": {
           "aaxis": {
            "gridcolor": "white",
            "linecolor": "white",
            "ticks": ""
           },
           "baxis": {
            "gridcolor": "white",
            "linecolor": "white",
            "ticks": ""
           },
           "bgcolor": "#E5ECF6",
           "caxis": {
            "gridcolor": "white",
            "linecolor": "white",
            "ticks": ""
           }
          },
          "title": {
           "x": 0.05
          },
          "xaxis": {
           "automargin": true,
           "gridcolor": "white",
           "linecolor": "white",
           "ticks": "",
           "zerolinecolor": "white",
           "zerolinewidth": 2
          },
          "yaxis": {
           "automargin": true,
           "gridcolor": "white",
           "linecolor": "white",
           "ticks": "",
           "zerolinecolor": "white",
           "zerolinewidth": 2
          }
         }
        },
        "xaxis": {
         "anchor": "y",
         "domain": [
          0,
          0.98
         ],
         "title": {
          "text": "Phase"
         }
        },
        "yaxis": {
         "anchor": "x",
         "domain": [
          0,
          1
         ],
         "title": {
          "text": "Licks"
         }
        }
       }
      },
      "text/html": [
       "<div>\n",
       "        \n",
       "        \n",
       "            <div id=\"5182f76a-f541-4e11-ba84-4e46e38f64fa\" class=\"plotly-graph-div\" style=\"height:400px; width:100%;\"></div>\n",
       "            <script type=\"text/javascript\">\n",
       "                require([\"plotly\"], function(Plotly) {\n",
       "                    window.PLOTLYENV=window.PLOTLYENV || {};\n",
       "                    \n",
       "                if (document.getElementById(\"5182f76a-f541-4e11-ba84-4e46e38f64fa\")) {\n",
       "                    Plotly.newPlot(\n",
       "                        '5182f76a-f541-4e11-ba84-4e46e38f64fa',\n",
       "                        [{\"alignmentgroup\": \"True\", \"hoverlabel\": {\"namelength\": 0}, \"hovertemplate\": \"<b>%{hovertext}</b><br><br>Group=Control<br>Phase=%{x}<br>Licks=%{y}\", \"hovertext\": [1.0, 2.0, 3.0, 4.0, 12.0, 13.0, 14.0, 15.0, 22.0, 1.0, 2.0, 3.0, 4.0, 12.0, 13.0, 14.0, 15.0, 22.0, 1.0, 2.0, 3.0, 4.0, 12.0, 13.0, 14.0, 15.0, 22.0, 1.0, 2.0, 3.0, 4.0, 12.0, 13.0, 14.0, 15.0, 22.0, 1.0, 2.0, 3.0, 4.0, 12.0, 13.0, 14.0, 15.0, 22.0, 1.0, 2.0, 3.0, 4.0, 12.0, 13.0, 14.0, 15.0, 22.0, 1.0, 2.0, 3.0, 4.0, 12.0, 13.0, 14.0, 15.0, 22.0, 1.0, 2.0, 3.0, 4.0, 12.0, 13.0, 14.0, 15.0, 22.0, 1.0, 2.0, 3.0, 4.0, 12.0, 13.0, 14.0, 15.0, 22.0, 1.0, 2.0, 3.0, 4.0, 12.0, 13.0, 14.0, 15.0, 22.0, 1.0, 2.0, 3.0, 4.0, 12.0, 13.0, 14.0, 15.0, 22.0, 1.0, 2.0, 3.0, 4.0, 12.0, 13.0, 14.0, 15.0, 22.0, 1.0, 2.0, 3.0, 4.0, 12.0, 13.0, 14.0, 15.0, 22.0, 1.0, 2.0, 3.0, 4.0, 12.0, 13.0, 14.0, 15.0, 22.0, 1.0, 2.0, 3.0, 4.0, 12.0, 13.0, 14.0, 15.0, 22.0, 1.0, 2.0, 3.0, 4.0, 12.0, 13.0, 14.0, 15.0, 22.0, 1.0, 2.0, 3.0, 4.0, 12.0, 13.0, 14.0, 15.0, 22.0, 1.0, 2.0, 3.0, 4.0, 12.0, 13.0, 14.0, 15.0, 22.0, 1.0, 2.0, 3.0, 4.0, 12.0, 13.0, 14.0, 15.0, 22.0, 1.0, 2.0, 3.0, 4.0, 12.0, 13.0, 14.0, 15.0, 22.0], \"legendgroup\": \"Group=Control\", \"marker\": {\"color\": \"#636efa\"}, \"name\": \"Group=Control\", \"notched\": false, \"offsetgroup\": \"Group=Control\", \"orientation\": \"v\", \"showlegend\": true, \"type\": \"box\", \"x\": [\"BL\", \"BL\", \"BL\", \"BL\", \"BL\", \"BL\", \"BL\", \"BL\", \"BL\", \"BL\", \"BL\", \"BL\", \"BL\", \"BL\", \"BL\", \"BL\", \"BL\", \"BL\", \"BL\", \"BL\", \"BL\", \"BL\", \"BL\", \"BL\", \"BL\", \"BL\", \"BL\", \"BL\", \"BL\", \"BL\", \"BL\", \"BL\", \"BL\", \"BL\", \"BL\", \"BL\", \"S\", \"S\", \"S\", \"S\", \"S\", \"S\", \"S\", \"S\", \"S\", \"S\", \"S\", \"S\", \"S\", \"S\", \"S\", \"S\", \"S\", \"S\", \"S\", \"S\", \"S\", \"S\", \"S\", \"S\", \"S\", \"S\", \"S\", \"S\", \"S\", \"S\", \"S\", \"S\", \"S\", \"S\", \"S\", \"S\", \"PS\", \"PS\", \"PS\", \"PS\", \"PS\", \"PS\", \"PS\", \"PS\", \"PS\", \"PS\", \"PS\", \"PS\", \"PS\", \"PS\", \"PS\", \"PS\", \"PS\", \"PS\", \"PS\", \"PS\", \"PS\", \"PS\", \"PS\", \"PS\", \"PS\", \"PS\", \"PS\", \"PS\", \"PS\", \"PS\", \"PS\", \"PS\", \"PS\", \"PS\", \"PS\", \"PS\", \"R1\", \"R1\", \"R1\", \"R1\", \"R1\", \"R1\", \"R1\", \"R1\", \"R1\", \"R1\", \"R1\", \"R1\", \"R1\", \"R1\", \"R1\", \"R1\", \"R1\", \"R1\", \"R1\", \"R1\", \"R1\", \"R1\", \"R1\", \"R1\", \"R1\", \"R1\", \"R1\", \"R1\", \"R1\", \"R1\", \"R1\", \"R1\", \"R1\", \"R1\", \"R1\", \"R1\", \"R2\", \"R2\", \"R2\", \"R2\", \"R2\", \"R2\", \"R2\", \"R2\", \"R2\", \"R2\", \"R2\", \"R2\", \"R2\", \"R2\", \"R2\", \"R2\", \"R2\", \"R2\", \"R2\", \"R2\", \"R2\", \"R2\", \"R2\", \"R2\", \"R2\", \"R2\", \"R2\", \"R2\", \"R2\", \"R2\", \"R2\", \"R2\", \"R2\", \"R2\", \"R2\", \"R2\"], \"x0\": \" \", \"xaxis\": \"x\", \"y\": [665, 859, 589, 939, 494, 587, 917, 440, 270, 863, 849, 507, 909, 602, 630, 680, 767, 132, 631, 685, 635, 850, 570, 564, 737, 642, 250, 629, 731, 902, 756, 530, 627, 596, 623, 192, 583, 854, 699, 807, 570, 572, 699, 532, 364, 801, 1103, 743, 617, 396, 419, 484, 663, 229, 723, 645, 761, 526, 403, 369, 452, 601, 219, 707, 633, 949, 736, 380, 416, 438, 553, 329, 732, 733, 872, 743, 362, 403, 547, 315, 120, 680, 662, 952, 625, 467, 552, 729, 434, 147, 684, 605, 828, 690, 491, 575, 830, 543, 186, 485, 623, 806, 759, 557, 589, 411, 619, 337, 65, 128, 129, 281, 98, 172, 71, 115, 8, 301, 268, 311, 357, 262, 298, 386, 101, 70, 351, 462, 669, 386, 344, 422, 581, 356, 18, 441, 569, 666, 585, 388, 596, 832, 457, 175, 675, 988, 516, 565, 435, 447, 586, 412, 232, 554, 728, 579, 550, 551, 589, 610, 582, 238, 541, 933, 913, 806, 552, 463, 634, 549, 209, 545, 564, 736, 732, 537, 364, 716, 696, 200], \"y0\": \" \", \"yaxis\": \"y\"}, {\"alignmentgroup\": \"True\", \"hoverlabel\": {\"namelength\": 0}, \"hovertemplate\": \"<b>%{hovertext}</b><br><br>Group=ChR2<br>Phase=%{x}<br>Licks=%{y}\", \"hovertext\": [5.0, 6.0, 7.0, 8.0, 9.0, 10.0, 11.0, 16.0, 17.0, 18.0, 19.0, 20.0, 21.0, 5.0, 6.0, 7.0, 8.0, 9.0, 10.0, 11.0, 16.0, 17.0, 18.0, 19.0, 20.0, 21.0, 5.0, 6.0, 7.0, 8.0, 9.0, 10.0, 11.0, 16.0, 17.0, 18.0, 19.0, 20.0, 21.0, 5.0, 6.0, 7.0, 8.0, 9.0, 10.0, 11.0, 16.0, 17.0, 18.0, 19.0, 20.0, 21.0, 5.0, 6.0, 7.0, 8.0, 9.0, 10.0, 11.0, 16.0, 17.0, 18.0, 19.0, 20.0, 21.0, 5.0, 6.0, 7.0, 8.0, 9.0, 10.0, 11.0, 16.0, 17.0, 18.0, 19.0, 20.0, 21.0, 5.0, 6.0, 7.0, 8.0, 9.0, 10.0, 11.0, 16.0, 17.0, 18.0, 19.0, 20.0, 21.0, 5.0, 6.0, 7.0, 8.0, 9.0, 10.0, 11.0, 16.0, 17.0, 18.0, 19.0, 20.0, 21.0, 5.0, 6.0, 7.0, 8.0, 9.0, 10.0, 11.0, 16.0, 17.0, 18.0, 19.0, 20.0, 21.0, 5.0, 6.0, 7.0, 8.0, 9.0, 10.0, 11.0, 16.0, 17.0, 18.0, 19.0, 20.0, 21.0, 5.0, 6.0, 7.0, 8.0, 9.0, 10.0, 11.0, 16.0, 17.0, 18.0, 19.0, 20.0, 21.0, 5.0, 6.0, 7.0, 8.0, 9.0, 10.0, 11.0, 16.0, 17.0, 18.0, 19.0, 20.0, 21.0, 5.0, 6.0, 7.0, 8.0, 9.0, 10.0, 11.0, 16.0, 17.0, 18.0, 19.0, 20.0, 21.0, 5.0, 6.0, 7.0, 8.0, 9.0, 10.0, 11.0, 16.0, 17.0, 18.0, 19.0, 20.0, 21.0, 5.0, 6.0, 7.0, 8.0, 9.0, 10.0, 11.0, 16.0, 17.0, 18.0, 19.0, 20.0, 21.0, 5.0, 6.0, 7.0, 8.0, 9.0, 10.0, 11.0, 16.0, 17.0, 18.0, 19.0, 20.0, 21.0, 5.0, 6.0, 7.0, 8.0, 9.0, 10.0, 11.0, 16.0, 17.0, 18.0, 19.0, 20.0, 21.0, 5.0, 6.0, 7.0, 8.0, 9.0, 10.0, 11.0, 16.0, 17.0, 18.0, 19.0, 20.0, 21.0, 5.0, 6.0, 7.0, 8.0, 9.0, 10.0, 11.0, 16.0, 17.0, 18.0, 19.0, 20.0, 21.0, 5.0, 6.0, 7.0, 8.0, 9.0, 10.0, 11.0, 16.0, 17.0, 18.0, 19.0, 20.0, 21.0], \"legendgroup\": \"Group=ChR2\", \"marker\": {\"color\": \"#EF553B\"}, \"name\": \"Group=ChR2\", \"notched\": false, \"offsetgroup\": \"Group=ChR2\", \"orientation\": \"v\", \"showlegend\": true, \"type\": \"box\", \"x\": [\"BL\", \"BL\", \"BL\", \"BL\", \"BL\", \"BL\", \"BL\", \"BL\", \"BL\", \"BL\", \"BL\", \"BL\", \"BL\", \"BL\", \"BL\", \"BL\", \"BL\", \"BL\", \"BL\", \"BL\", \"BL\", \"BL\", \"BL\", \"BL\", \"BL\", \"BL\", \"BL\", \"BL\", \"BL\", \"BL\", \"BL\", \"BL\", \"BL\", \"BL\", \"BL\", \"BL\", \"BL\", \"BL\", \"BL\", \"BL\", \"BL\", \"BL\", \"BL\", \"BL\", \"BL\", \"BL\", \"BL\", \"BL\", \"BL\", \"BL\", \"BL\", \"BL\", \"S\", \"S\", \"S\", \"S\", \"S\", \"S\", \"S\", \"S\", \"S\", \"S\", \"S\", \"S\", \"S\", \"S\", \"S\", \"S\", \"S\", \"S\", \"S\", \"S\", \"S\", \"S\", \"S\", \"S\", \"S\", \"S\", \"S\", \"S\", \"S\", \"S\", \"S\", \"S\", \"S\", \"S\", \"S\", \"S\", \"S\", \"S\", \"S\", \"S\", \"S\", \"S\", \"S\", \"S\", \"S\", \"S\", \"S\", \"S\", \"S\", \"S\", \"S\", \"S\", \"PS\", \"PS\", \"PS\", \"PS\", \"PS\", \"PS\", \"PS\", \"PS\", \"PS\", \"PS\", \"PS\", \"PS\", \"PS\", \"PS\", \"PS\", \"PS\", \"PS\", \"PS\", \"PS\", \"PS\", \"PS\", \"PS\", \"PS\", \"PS\", \"PS\", \"PS\", \"PS\", \"PS\", \"PS\", \"PS\", \"PS\", \"PS\", \"PS\", \"PS\", \"PS\", \"PS\", \"PS\", \"PS\", \"PS\", \"PS\", \"PS\", \"PS\", \"PS\", \"PS\", \"PS\", \"PS\", \"PS\", \"PS\", \"PS\", \"PS\", \"PS\", \"PS\", \"R1\", \"R1\", \"R1\", \"R1\", \"R1\", \"R1\", \"R1\", \"R1\", \"R1\", \"R1\", \"R1\", \"R1\", \"R1\", \"R1\", \"R1\", \"R1\", \"R1\", \"R1\", \"R1\", \"R1\", \"R1\", \"R1\", \"R1\", \"R1\", \"R1\", \"R1\", \"R1\", \"R1\", \"R1\", \"R1\", \"R1\", \"R1\", \"R1\", \"R1\", \"R1\", \"R1\", \"R1\", \"R1\", \"R1\", \"R1\", \"R1\", \"R1\", \"R1\", \"R1\", \"R1\", \"R1\", \"R1\", \"R1\", \"R1\", \"R1\", \"R1\", \"R1\", \"R2\", \"R2\", \"R2\", \"R2\", \"R2\", \"R2\", \"R2\", \"R2\", \"R2\", \"R2\", \"R2\", \"R2\", \"R2\", \"R2\", \"R2\", \"R2\", \"R2\", \"R2\", \"R2\", \"R2\", \"R2\", \"R2\", \"R2\", \"R2\", \"R2\", \"R2\", \"R2\", \"R2\", \"R2\", \"R2\", \"R2\", \"R2\", \"R2\", \"R2\", \"R2\", \"R2\", \"R2\", \"R2\", \"R2\", \"R2\", \"R2\", \"R2\", \"R2\", \"R2\", \"R2\", \"R2\", \"R2\", \"R2\", \"R2\", \"R2\", \"R2\", \"R2\"], \"x0\": \" \", \"xaxis\": \"x\", \"y\": [710, 564, 722, 497, 741, 953, 753, 715, 184, 934, 578, 400, 448, 505, 808, 732, 649, 668, 988, 613, 469, 250, 1237, 548, 193, 221, 494, 589, 783, 586, 778, 579, 573, 392, 373, 354, 556, 188, 505, 596, 596, 946, 506, 638, 706, 642, 333, 457, 705, 479, 350, 459, 620, 591, 882, 546, 759, 1106, 820, 492, 505, 646, 533, 232, 483, 589, 580, 723, 493, 791, 812, 752, 594, 475, 619, 721, 34, 491, 676, 419, 764, 456, 568, 902, 759, 695, 519, 885, 651, 65, 394, 537, 463, 892, 601, 664, 835, 564, 568, 578, 626, 546, 158, 673, 779, 707, 621, 437, 390, 829, 635, 916, 542, 496, 537, 89, 593, 537, 625, 764, 462, 346, 801, 641, 675, 477, 954, 564, 175, 444, 581, 547, 720, 704, 773, 1011, 706, 669, 601, 718, 519, 186, 430, 515, 595, 478, 498, 682, 919, 763, 895, 390, 821, 446, 319, 630, 477, 532, 297, 10, 3, 274, 287, 98, 131, 170, 601, 14, 176, 659, 951, 558, 44, 212, 559, 526, 558, 656, 909, 565, 60, 611, 737, 901, 803, 86, 417, 840, 841, 977, 845, 1049, 450, 118, 680, 606, 851, 694, 284, 443, 890, 838, 956, 699, 994, 684, 149, 552, 713, 807, 855, 212, 486, 724, 691, 974, 494, 675, 1675, 133, 652, 682, 858, 797, 133, 444, 793, 657, 1049, 920, 803, 976, 270, 879, 709, 802, 938, 141, 533, 559, 680, 1366, 431, 866, 1249, 472, 990, 759, 803, 878, 274, 578, 700, 781, 942, 521, 880, 1047, 293, 900], \"y0\": \" \", \"yaxis\": \"y\"}],\n",
       "                        {\"boxmode\": \"group\", \"height\": 400, \"legend\": {\"tracegroupgap\": 0}, \"margin\": {\"t\": 60}, \"template\": {\"data\": {\"bar\": [{\"error_x\": {\"color\": \"#2a3f5f\"}, \"error_y\": {\"color\": \"#2a3f5f\"}, \"marker\": {\"line\": {\"color\": \"#E5ECF6\", \"width\": 0.5}}, \"type\": \"bar\"}], \"barpolar\": [{\"marker\": {\"line\": {\"color\": \"#E5ECF6\", \"width\": 0.5}}, \"type\": \"barpolar\"}], \"carpet\": [{\"aaxis\": {\"endlinecolor\": \"#2a3f5f\", \"gridcolor\": \"white\", \"linecolor\": \"white\", \"minorgridcolor\": \"white\", \"startlinecolor\": \"#2a3f5f\"}, \"baxis\": {\"endlinecolor\": \"#2a3f5f\", \"gridcolor\": \"white\", \"linecolor\": \"white\", \"minorgridcolor\": \"white\", \"startlinecolor\": \"#2a3f5f\"}, \"type\": \"carpet\"}], \"choropleth\": [{\"colorbar\": {\"outlinewidth\": 0, \"ticks\": \"\"}, \"type\": \"choropleth\"}], \"contour\": [{\"colorbar\": {\"outlinewidth\": 0, \"ticks\": \"\"}, \"colorscale\": [[0.0, \"#0d0887\"], [0.1111111111111111, \"#46039f\"], [0.2222222222222222, \"#7201a8\"], [0.3333333333333333, \"#9c179e\"], [0.4444444444444444, \"#bd3786\"], [0.5555555555555556, \"#d8576b\"], [0.6666666666666666, \"#ed7953\"], [0.7777777777777778, \"#fb9f3a\"], [0.8888888888888888, \"#fdca26\"], [1.0, \"#f0f921\"]], \"type\": \"contour\"}], \"contourcarpet\": [{\"colorbar\": {\"outlinewidth\": 0, \"ticks\": \"\"}, \"type\": \"contourcarpet\"}], \"heatmap\": [{\"colorbar\": {\"outlinewidth\": 0, \"ticks\": \"\"}, \"colorscale\": [[0.0, \"#0d0887\"], [0.1111111111111111, \"#46039f\"], [0.2222222222222222, \"#7201a8\"], [0.3333333333333333, \"#9c179e\"], [0.4444444444444444, \"#bd3786\"], [0.5555555555555556, \"#d8576b\"], [0.6666666666666666, \"#ed7953\"], [0.7777777777777778, \"#fb9f3a\"], [0.8888888888888888, \"#fdca26\"], [1.0, \"#f0f921\"]], \"type\": \"heatmap\"}], \"heatmapgl\": [{\"colorbar\": {\"outlinewidth\": 0, \"ticks\": \"\"}, \"colorscale\": [[0.0, \"#0d0887\"], [0.1111111111111111, \"#46039f\"], [0.2222222222222222, \"#7201a8\"], [0.3333333333333333, \"#9c179e\"], [0.4444444444444444, \"#bd3786\"], [0.5555555555555556, \"#d8576b\"], [0.6666666666666666, \"#ed7953\"], [0.7777777777777778, \"#fb9f3a\"], [0.8888888888888888, \"#fdca26\"], [1.0, \"#f0f921\"]], \"type\": \"heatmapgl\"}], \"histogram\": [{\"marker\": {\"colorbar\": {\"outlinewidth\": 0, \"ticks\": \"\"}}, \"type\": \"histogram\"}], \"histogram2d\": [{\"colorbar\": {\"outlinewidth\": 0, \"ticks\": \"\"}, \"colorscale\": [[0.0, \"#0d0887\"], [0.1111111111111111, \"#46039f\"], [0.2222222222222222, \"#7201a8\"], [0.3333333333333333, \"#9c179e\"], [0.4444444444444444, \"#bd3786\"], [0.5555555555555556, \"#d8576b\"], [0.6666666666666666, \"#ed7953\"], [0.7777777777777778, \"#fb9f3a\"], [0.8888888888888888, \"#fdca26\"], [1.0, \"#f0f921\"]], \"type\": \"histogram2d\"}], \"histogram2dcontour\": [{\"colorbar\": {\"outlinewidth\": 0, \"ticks\": \"\"}, \"colorscale\": [[0.0, \"#0d0887\"], [0.1111111111111111, \"#46039f\"], [0.2222222222222222, \"#7201a8\"], [0.3333333333333333, \"#9c179e\"], [0.4444444444444444, \"#bd3786\"], [0.5555555555555556, \"#d8576b\"], [0.6666666666666666, \"#ed7953\"], [0.7777777777777778, \"#fb9f3a\"], [0.8888888888888888, \"#fdca26\"], [1.0, \"#f0f921\"]], \"type\": \"histogram2dcontour\"}], \"mesh3d\": [{\"colorbar\": {\"outlinewidth\": 0, \"ticks\": \"\"}, \"type\": \"mesh3d\"}], \"parcoords\": [{\"line\": {\"colorbar\": {\"outlinewidth\": 0, \"ticks\": \"\"}}, \"type\": \"parcoords\"}], \"scatter\": [{\"marker\": {\"colorbar\": {\"outlinewidth\": 0, \"ticks\": \"\"}}, \"type\": \"scatter\"}], \"scatter3d\": [{\"line\": {\"colorbar\": {\"outlinewidth\": 0, \"ticks\": \"\"}}, \"marker\": {\"colorbar\": {\"outlinewidth\": 0, \"ticks\": \"\"}}, \"type\": \"scatter3d\"}], \"scattercarpet\": [{\"marker\": {\"colorbar\": {\"outlinewidth\": 0, \"ticks\": \"\"}}, \"type\": \"scattercarpet\"}], \"scattergeo\": [{\"marker\": {\"colorbar\": {\"outlinewidth\": 0, \"ticks\": \"\"}}, \"type\": \"scattergeo\"}], \"scattergl\": [{\"marker\": {\"colorbar\": {\"outlinewidth\": 0, \"ticks\": \"\"}}, \"type\": \"scattergl\"}], \"scattermapbox\": [{\"marker\": {\"colorbar\": {\"outlinewidth\": 0, \"ticks\": \"\"}}, \"type\": \"scattermapbox\"}], \"scatterpolar\": [{\"marker\": {\"colorbar\": {\"outlinewidth\": 0, \"ticks\": \"\"}}, \"type\": \"scatterpolar\"}], \"scatterpolargl\": [{\"marker\": {\"colorbar\": {\"outlinewidth\": 0, \"ticks\": \"\"}}, \"type\": \"scatterpolargl\"}], \"scatterternary\": [{\"marker\": {\"colorbar\": {\"outlinewidth\": 0, \"ticks\": \"\"}}, \"type\": \"scatterternary\"}], \"surface\": [{\"colorbar\": {\"outlinewidth\": 0, \"ticks\": \"\"}, \"colorscale\": [[0.0, \"#0d0887\"], [0.1111111111111111, \"#46039f\"], [0.2222222222222222, \"#7201a8\"], [0.3333333333333333, \"#9c179e\"], [0.4444444444444444, \"#bd3786\"], [0.5555555555555556, \"#d8576b\"], [0.6666666666666666, \"#ed7953\"], [0.7777777777777778, \"#fb9f3a\"], [0.8888888888888888, \"#fdca26\"], [1.0, \"#f0f921\"]], \"type\": \"surface\"}], \"table\": [{\"cells\": {\"fill\": {\"color\": \"#EBF0F8\"}, \"line\": {\"color\": \"white\"}}, \"header\": {\"fill\": {\"color\": \"#C8D4E3\"}, \"line\": {\"color\": \"white\"}}, \"type\": \"table\"}]}, \"layout\": {\"annotationdefaults\": {\"arrowcolor\": \"#2a3f5f\", \"arrowhead\": 0, \"arrowwidth\": 1}, \"colorscale\": {\"diverging\": [[0, \"#8e0152\"], [0.1, \"#c51b7d\"], [0.2, \"#de77ae\"], [0.3, \"#f1b6da\"], [0.4, \"#fde0ef\"], [0.5, \"#f7f7f7\"], [0.6, \"#e6f5d0\"], [0.7, \"#b8e186\"], [0.8, \"#7fbc41\"], [0.9, \"#4d9221\"], [1, \"#276419\"]], \"sequential\": [[0.0, \"#0d0887\"], [0.1111111111111111, \"#46039f\"], [0.2222222222222222, \"#7201a8\"], [0.3333333333333333, \"#9c179e\"], [0.4444444444444444, \"#bd3786\"], [0.5555555555555556, \"#d8576b\"], [0.6666666666666666, \"#ed7953\"], [0.7777777777777778, \"#fb9f3a\"], [0.8888888888888888, \"#fdca26\"], [1.0, \"#f0f921\"]], \"sequentialminus\": [[0.0, \"#0d0887\"], [0.1111111111111111, \"#46039f\"], [0.2222222222222222, \"#7201a8\"], [0.3333333333333333, \"#9c179e\"], [0.4444444444444444, \"#bd3786\"], [0.5555555555555556, \"#d8576b\"], [0.6666666666666666, \"#ed7953\"], [0.7777777777777778, \"#fb9f3a\"], [0.8888888888888888, \"#fdca26\"], [1.0, \"#f0f921\"]]}, \"colorway\": [\"#636efa\", \"#EF553B\", \"#00cc96\", \"#ab63fa\", \"#FFA15A\", \"#19d3f3\", \"#FF6692\", \"#B6E880\", \"#FF97FF\", \"#FECB52\"], \"font\": {\"color\": \"#2a3f5f\"}, \"geo\": {\"bgcolor\": \"white\", \"lakecolor\": \"white\", \"landcolor\": \"#E5ECF6\", \"showlakes\": true, \"showland\": true, \"subunitcolor\": \"white\"}, \"hoverlabel\": {\"align\": \"left\"}, \"hovermode\": \"closest\", \"mapbox\": {\"style\": \"light\"}, \"paper_bgcolor\": \"white\", \"plot_bgcolor\": \"#E5ECF6\", \"polar\": {\"angularaxis\": {\"gridcolor\": \"white\", \"linecolor\": \"white\", \"ticks\": \"\"}, \"bgcolor\": \"#E5ECF6\", \"radialaxis\": {\"gridcolor\": \"white\", \"linecolor\": \"white\", \"ticks\": \"\"}}, \"scene\": {\"xaxis\": {\"backgroundcolor\": \"#E5ECF6\", \"gridcolor\": \"white\", \"gridwidth\": 2, \"linecolor\": \"white\", \"showbackground\": true, \"ticks\": \"\", \"zerolinecolor\": \"white\"}, \"yaxis\": {\"backgroundcolor\": \"#E5ECF6\", \"gridcolor\": \"white\", \"gridwidth\": 2, \"linecolor\": \"white\", \"showbackground\": true, \"ticks\": \"\", \"zerolinecolor\": \"white\"}, \"zaxis\": {\"backgroundcolor\": \"#E5ECF6\", \"gridcolor\": \"white\", \"gridwidth\": 2, \"linecolor\": \"white\", \"showbackground\": true, \"ticks\": \"\", \"zerolinecolor\": \"white\"}}, \"shapedefaults\": {\"line\": {\"color\": \"#2a3f5f\"}}, \"ternary\": {\"aaxis\": {\"gridcolor\": \"white\", \"linecolor\": \"white\", \"ticks\": \"\"}, \"baxis\": {\"gridcolor\": \"white\", \"linecolor\": \"white\", \"ticks\": \"\"}, \"bgcolor\": \"#E5ECF6\", \"caxis\": {\"gridcolor\": \"white\", \"linecolor\": \"white\", \"ticks\": \"\"}}, \"title\": {\"x\": 0.05}, \"xaxis\": {\"automargin\": true, \"gridcolor\": \"white\", \"linecolor\": \"white\", \"ticks\": \"\", \"zerolinecolor\": \"white\", \"zerolinewidth\": 2}, \"yaxis\": {\"automargin\": true, \"gridcolor\": \"white\", \"linecolor\": \"white\", \"ticks\": \"\", \"zerolinecolor\": \"white\", \"zerolinewidth\": 2}}}, \"xaxis\": {\"anchor\": \"y\", \"domain\": [0.0, 0.98], \"title\": {\"text\": \"Phase\"}}, \"yaxis\": {\"anchor\": \"x\", \"domain\": [0.0, 1.0], \"title\": {\"text\": \"Licks\"}}},\n",
       "                        {\"responsive\": true}\n",
       "                    ).then(function(){\n",
       "                            \n",
       "var gd = document.getElementById('5182f76a-f541-4e11-ba84-4e46e38f64fa');\n",
       "var x = new MutationObserver(function (mutations, observer) {{\n",
       "        var display = window.getComputedStyle(gd).display;\n",
       "        if (!display || display === 'none') {{\n",
       "            console.log([gd, 'removed!']);\n",
       "            Plotly.purge(gd);\n",
       "            observer.disconnect();\n",
       "        }}\n",
       "}});\n",
       "\n",
       "// Listen for the removal of the full notebook cells\n",
       "var notebookContainer = gd.closest('#notebook-container');\n",
       "if (notebookContainer) {{\n",
       "    x.observe(notebookContainer, {childList: true});\n",
       "}}\n",
       "\n",
       "// Listen for the clearing of the current output cell\n",
       "var outputEl = gd.closest('.output');\n",
       "if (outputEl) {{\n",
       "    x.observe(outputEl, {childList: true});\n",
       "}}\n",
       "\n",
       "                        })\n",
       "                };\n",
       "                });\n",
       "            </script>\n",
       "        </div>"
      ]
     },
     "metadata": {},
     "output_type": "display_data"
    }
   ],
   "source": [
    "import plotly.express as px\n",
    "px.box(df,x='Phase',y='Licks',\n",
    "       color='Group',hover_name='Mouse_ID',height=400)#,\n",
    "#       category_orders=['BL','S','PS','R1','R2'])#,points='suspectedoutliers')"
   ]
  },
  {
   "cell_type": "markdown",
   "metadata": {},
   "source": [
    "> - Mice to Remove (try normalized first):\n",
    "    - ChR2:\n",
    "        - 20\n",
    "    - Control:\n",
    "        - "
   ]
  },
  {
   "cell_type": "markdown",
   "metadata": {},
   "source": [
    "# STOPPING POINT [06/30/20]"
   ]
  },
  {
   "cell_type": "code",
   "execution_count": 26,
   "metadata": {
    "ExecuteTime": {
     "end_time": "2020-07-01T01:32:31.479955Z",
     "start_time": "2020-07-01T01:32:31.452797Z"
    }
   },
   "outputs": [
    {
     "data": {
      "text/html": [
       "<div>\n",
       "<style scoped>\n",
       "    .dataframe tbody tr th:only-of-type {\n",
       "        vertical-align: middle;\n",
       "    }\n",
       "\n",
       "    .dataframe tbody tr th {\n",
       "        vertical-align: top;\n",
       "    }\n",
       "\n",
       "    .dataframe thead th {\n",
       "        text-align: right;\n",
       "    }\n",
       "</style>\n",
       "<table border=\"1\" class=\"dataframe\">\n",
       "  <thead>\n",
       "    <tr style=\"text-align: right;\">\n",
       "      <th></th>\n",
       "      <th>Phase</th>\n",
       "      <th>BL</th>\n",
       "      <th>PS</th>\n",
       "      <th>R1</th>\n",
       "      <th>R2</th>\n",
       "      <th>S</th>\n",
       "    </tr>\n",
       "    <tr>\n",
       "      <th>Group</th>\n",
       "      <th>Mouse_ID</th>\n",
       "      <th></th>\n",
       "      <th></th>\n",
       "      <th></th>\n",
       "      <th></th>\n",
       "      <th></th>\n",
       "    </tr>\n",
       "  </thead>\n",
       "  <tbody>\n",
       "    <tr>\n",
       "      <th rowspan=\"13\" valign=\"top\">ChR2</th>\n",
       "      <th>5</th>\n",
       "      <td>576.25</td>\n",
       "      <td>603.00</td>\n",
       "      <td>619.75</td>\n",
       "      <td>715.75</td>\n",
       "      <td>605.50</td>\n",
       "    </tr>\n",
       "    <tr>\n",
       "      <th>6</th>\n",
       "      <td>639.25</td>\n",
       "      <td>618.50</td>\n",
       "      <td>808.75</td>\n",
       "      <td>817.50</td>\n",
       "      <td>513.25</td>\n",
       "    </tr>\n",
       "    <tr>\n",
       "      <th>7</th>\n",
       "      <td>795.75</td>\n",
       "      <td>645.75</td>\n",
       "      <td>588.00</td>\n",
       "      <td>867.00</td>\n",
       "      <td>815.25</td>\n",
       "    </tr>\n",
       "    <tr>\n",
       "      <th>8</th>\n",
       "      <td>559.50</td>\n",
       "      <td>525.25</td>\n",
       "      <td>106.00</td>\n",
       "      <td>190.00</td>\n",
       "      <td>524.00</td>\n",
       "    </tr>\n",
       "    <tr>\n",
       "      <th>9</th>\n",
       "      <td>706.25</td>\n",
       "      <td>547.75</td>\n",
       "      <td>268.75</td>\n",
       "      <td>510.25</td>\n",
       "      <td>695.50</td>\n",
       "    </tr>\n",
       "    <tr>\n",
       "      <th>10</th>\n",
       "      <td>806.50</td>\n",
       "      <td>890.00</td>\n",
       "      <td>640.75</td>\n",
       "      <td>694.00</td>\n",
       "      <td>913.75</td>\n",
       "    </tr>\n",
       "    <tr>\n",
       "      <th>11</th>\n",
       "      <td>645.25</td>\n",
       "      <td>686.25</td>\n",
       "      <td>623.00</td>\n",
       "      <td>702.25</td>\n",
       "      <td>723.75</td>\n",
       "    </tr>\n",
       "    <tr>\n",
       "      <th>16</th>\n",
       "      <td>477.25</td>\n",
       "      <td>788.75</td>\n",
       "      <td>647.25</td>\n",
       "      <td>1082.75</td>\n",
       "      <td>587.25</td>\n",
       "    </tr>\n",
       "    <tr>\n",
       "      <th>17</th>\n",
       "      <td>316.00</td>\n",
       "      <td>502.50</td>\n",
       "      <td>582.75</td>\n",
       "      <td>591.50</td>\n",
       "      <td>519.25</td>\n",
       "    </tr>\n",
       "    <tr>\n",
       "      <th>18</th>\n",
       "      <td>807.50</td>\n",
       "      <td>747.25</td>\n",
       "      <td>780.50</td>\n",
       "      <td>806.00</td>\n",
       "      <td>694.00</td>\n",
       "    </tr>\n",
       "    <tr>\n",
       "      <th>19</th>\n",
       "      <td>540.25</td>\n",
       "      <td>516.50</td>\n",
       "      <td>575.00</td>\n",
       "      <td>1236.75</td>\n",
       "      <td>612.75</td>\n",
       "    </tr>\n",
       "    <tr>\n",
       "      <th>20</th>\n",
       "      <td>282.75</td>\n",
       "      <td>192.25</td>\n",
       "      <td>85.25</td>\n",
       "      <td>292.00</td>\n",
       "      <td>122.25</td>\n",
       "    </tr>\n",
       "    <tr>\n",
       "      <th>21</th>\n",
       "      <td>408.25</td>\n",
       "      <td>524.25</td>\n",
       "      <td>504.75</td>\n",
       "      <td>855.25</td>\n",
       "      <td>510.25</td>\n",
       "    </tr>\n",
       "    <tr>\n",
       "      <th rowspan=\"9\" valign=\"top\">Control</th>\n",
       "      <th>1</th>\n",
       "      <td>697.00</td>\n",
       "      <td>645.25</td>\n",
       "      <td>289.50</td>\n",
       "      <td>578.75</td>\n",
       "      <td>703.50</td>\n",
       "    </tr>\n",
       "    <tr>\n",
       "      <th>2</th>\n",
       "      <td>781.00</td>\n",
       "      <td>655.75</td>\n",
       "      <td>356.75</td>\n",
       "      <td>803.25</td>\n",
       "      <td>808.75</td>\n",
       "    </tr>\n",
       "    <tr>\n",
       "      <th>3</th>\n",
       "      <td>658.25</td>\n",
       "      <td>864.50</td>\n",
       "      <td>443.75</td>\n",
       "      <td>686.00</td>\n",
       "      <td>788.00</td>\n",
       "    </tr>\n",
       "    <tr>\n",
       "      <th>4</th>\n",
       "      <td>863.50</td>\n",
       "      <td>704.25</td>\n",
       "      <td>402.25</td>\n",
       "      <td>663.25</td>\n",
       "      <td>671.50</td>\n",
       "    </tr>\n",
       "    <tr>\n",
       "      <th>12</th>\n",
       "      <td>549.00</td>\n",
       "      <td>469.25</td>\n",
       "      <td>273.00</td>\n",
       "      <td>518.75</td>\n",
       "      <td>437.25</td>\n",
       "    </tr>\n",
       "    <tr>\n",
       "      <th>13</th>\n",
       "      <td>602.00</td>\n",
       "      <td>529.75</td>\n",
       "      <td>372.00</td>\n",
       "      <td>465.75</td>\n",
       "      <td>444.00</td>\n",
       "    </tr>\n",
       "    <tr>\n",
       "      <th>14</th>\n",
       "      <td>732.50</td>\n",
       "      <td>629.25</td>\n",
       "      <td>467.50</td>\n",
       "      <td>636.50</td>\n",
       "      <td>518.25</td>\n",
       "    </tr>\n",
       "    <tr>\n",
       "      <th>15</th>\n",
       "      <td>618.00</td>\n",
       "      <td>477.75</td>\n",
       "      <td>257.25</td>\n",
       "      <td>559.75</td>\n",
       "      <td>587.25</td>\n",
       "    </tr>\n",
       "    <tr>\n",
       "      <th>22</th>\n",
       "      <td>211.00</td>\n",
       "      <td>197.50</td>\n",
       "      <td>67.75</td>\n",
       "      <td>219.75</td>\n",
       "      <td>285.25</td>\n",
       "    </tr>\n",
       "  </tbody>\n",
       "</table>\n",
       "</div>"
      ],
      "text/plain": [
       "Phase                 BL      PS      R1       R2       S\n",
       "Group   Mouse_ID                                         \n",
       "ChR2    5         576.25  603.00  619.75   715.75  605.50\n",
       "        6         639.25  618.50  808.75   817.50  513.25\n",
       "        7         795.75  645.75  588.00   867.00  815.25\n",
       "        8         559.50  525.25  106.00   190.00  524.00\n",
       "        9         706.25  547.75  268.75   510.25  695.50\n",
       "        10        806.50  890.00  640.75   694.00  913.75\n",
       "        11        645.25  686.25  623.00   702.25  723.75\n",
       "        16        477.25  788.75  647.25  1082.75  587.25\n",
       "        17        316.00  502.50  582.75   591.50  519.25\n",
       "        18        807.50  747.25  780.50   806.00  694.00\n",
       "        19        540.25  516.50  575.00  1236.75  612.75\n",
       "        20        282.75  192.25   85.25   292.00  122.25\n",
       "        21        408.25  524.25  504.75   855.25  510.25\n",
       "Control 1         697.00  645.25  289.50   578.75  703.50\n",
       "        2         781.00  655.75  356.75   803.25  808.75\n",
       "        3         658.25  864.50  443.75   686.00  788.00\n",
       "        4         863.50  704.25  402.25   663.25  671.50\n",
       "        12        549.00  469.25  273.00   518.75  437.25\n",
       "        13        602.00  529.75  372.00   465.75  444.00\n",
       "        14        732.50  629.25  467.50   636.50  518.25\n",
       "        15        618.00  477.75  257.25   559.75  587.25\n",
       "        22        211.00  197.50   67.75   219.75  285.25"
      ]
     },
     "metadata": {},
     "output_type": "display_data"
    }
   ],
   "source": [
    "df_anova_phases = df.pivot_table(index=['Group','Mouse_ID'],values='Licks',columns=['Phase'])\n",
    "display(df_anova_phases)"
   ]
  },
  {
   "cell_type": "code",
   "execution_count": 31,
   "metadata": {
    "ExecuteTime": {
     "end_time": "2020-07-01T01:33:16.900546Z",
     "start_time": "2020-07-01T01:33:16.876074Z"
    }
   },
   "outputs": [
    {
     "data": {
      "text/html": [
       "<div>\n",
       "<style scoped>\n",
       "    .dataframe tbody tr th:only-of-type {\n",
       "        vertical-align: middle;\n",
       "    }\n",
       "\n",
       "    .dataframe tbody tr th {\n",
       "        vertical-align: top;\n",
       "    }\n",
       "\n",
       "    .dataframe thead th {\n",
       "        text-align: right;\n",
       "    }\n",
       "</style>\n",
       "<table border=\"1\" class=\"dataframe\">\n",
       "  <thead>\n",
       "    <tr style=\"text-align: right;\">\n",
       "      <th></th>\n",
       "      <th>Mouse_ID</th>\n",
       "      <th>Group</th>\n",
       "      <th>Sex</th>\n",
       "      <th>Day</th>\n",
       "      <th>Licks</th>\n",
       "      <th>Phase</th>\n",
       "      <th>Day_of_Phase</th>\n",
       "    </tr>\n",
       "  </thead>\n",
       "  <tbody>\n",
       "    <tr>\n",
       "      <th>0</th>\n",
       "      <td>1</td>\n",
       "      <td>Control</td>\n",
       "      <td>F</td>\n",
       "      <td>BL1</td>\n",
       "      <td>665</td>\n",
       "      <td>BL</td>\n",
       "      <td>1</td>\n",
       "    </tr>\n",
       "    <tr>\n",
       "      <th>1</th>\n",
       "      <td>2</td>\n",
       "      <td>Control</td>\n",
       "      <td>F</td>\n",
       "      <td>BL1</td>\n",
       "      <td>859</td>\n",
       "      <td>BL</td>\n",
       "      <td>1</td>\n",
       "    </tr>\n",
       "    <tr>\n",
       "      <th>2</th>\n",
       "      <td>3</td>\n",
       "      <td>Control</td>\n",
       "      <td>F</td>\n",
       "      <td>BL1</td>\n",
       "      <td>589</td>\n",
       "      <td>BL</td>\n",
       "      <td>1</td>\n",
       "    </tr>\n",
       "    <tr>\n",
       "      <th>3</th>\n",
       "      <td>4</td>\n",
       "      <td>Control</td>\n",
       "      <td>M</td>\n",
       "      <td>BL1</td>\n",
       "      <td>939</td>\n",
       "      <td>BL</td>\n",
       "      <td>1</td>\n",
       "    </tr>\n",
       "    <tr>\n",
       "      <th>4</th>\n",
       "      <td>5</td>\n",
       "      <td>ChR2</td>\n",
       "      <td>F</td>\n",
       "      <td>BL1</td>\n",
       "      <td>710</td>\n",
       "      <td>BL</td>\n",
       "      <td>1</td>\n",
       "    </tr>\n",
       "    <tr>\n",
       "      <th>...</th>\n",
       "      <td>...</td>\n",
       "      <td>...</td>\n",
       "      <td>...</td>\n",
       "      <td>...</td>\n",
       "      <td>...</td>\n",
       "      <td>...</td>\n",
       "      <td>...</td>\n",
       "    </tr>\n",
       "    <tr>\n",
       "      <th>435</th>\n",
       "      <td>18</td>\n",
       "      <td>ChR2</td>\n",
       "      <td>F</td>\n",
       "      <td>R2_4</td>\n",
       "      <td>880</td>\n",
       "      <td>R2</td>\n",
       "      <td>4</td>\n",
       "    </tr>\n",
       "    <tr>\n",
       "      <th>436</th>\n",
       "      <td>19</td>\n",
       "      <td>ChR2</td>\n",
       "      <td>F</td>\n",
       "      <td>R2_4</td>\n",
       "      <td>1047</td>\n",
       "      <td>R2</td>\n",
       "      <td>4</td>\n",
       "    </tr>\n",
       "    <tr>\n",
       "      <th>437</th>\n",
       "      <td>20</td>\n",
       "      <td>ChR2</td>\n",
       "      <td>M</td>\n",
       "      <td>R2_4</td>\n",
       "      <td>293</td>\n",
       "      <td>R2</td>\n",
       "      <td>4</td>\n",
       "    </tr>\n",
       "    <tr>\n",
       "      <th>438</th>\n",
       "      <td>21</td>\n",
       "      <td>ChR2</td>\n",
       "      <td>M</td>\n",
       "      <td>R2_4</td>\n",
       "      <td>900</td>\n",
       "      <td>R2</td>\n",
       "      <td>4</td>\n",
       "    </tr>\n",
       "    <tr>\n",
       "      <th>439</th>\n",
       "      <td>22</td>\n",
       "      <td>Control</td>\n",
       "      <td>F</td>\n",
       "      <td>R2_4</td>\n",
       "      <td>200</td>\n",
       "      <td>R2</td>\n",
       "      <td>4</td>\n",
       "    </tr>\n",
       "  </tbody>\n",
       "</table>\n",
       "<p>440 rows × 7 columns</p>\n",
       "</div>"
      ],
      "text/plain": [
       "     Mouse_ID    Group Sex   Day  Licks Phase  Day_of_Phase\n",
       "0           1  Control   F   BL1    665    BL             1\n",
       "1           2  Control   F   BL1    859    BL             1\n",
       "2           3  Control   F   BL1    589    BL             1\n",
       "3           4  Control   M   BL1    939    BL             1\n",
       "4           5     ChR2   F   BL1    710    BL             1\n",
       "..        ...      ...  ..   ...    ...   ...           ...\n",
       "435        18     ChR2   F  R2_4    880    R2             4\n",
       "436        19     ChR2   F  R2_4   1047    R2             4\n",
       "437        20     ChR2   M  R2_4    293    R2             4\n",
       "438        21     ChR2   M  R2_4    900    R2             4\n",
       "439        22  Control   F  R2_4    200    R2             4\n",
       "\n",
       "[440 rows x 7 columns]"
      ]
     },
     "execution_count": 31,
     "metadata": {},
     "output_type": "execute_result"
    }
   ],
   "source": [
    "df"
   ]
  },
  {
   "cell_type": "markdown",
   "metadata": {},
   "source": [
    "### Equalizing N's|"
   ]
  },
  {
   "cell_type": "code",
   "execution_count": 21,
   "metadata": {
    "ExecuteTime": {
     "end_time": "2020-07-01T01:31:31.040187Z",
     "start_time": "2020-07-01T01:31:31.036134Z"
    }
   },
   "outputs": [],
   "source": [
    "n_chr2 = len(df_anova_phases.loc['ChR2'])\n",
    "n_control= len(df_anova_phases.loc['Control'])\n",
    "n_to_match = max( n_chr2,n_control)"
   ]
  },
  {
   "cell_type": "code",
   "execution_count": 32,
   "metadata": {
    "ExecuteTime": {
     "end_time": "2020-07-01T01:33:42.051883Z",
     "start_time": "2020-07-01T01:33:42.027887Z"
    }
   },
   "outputs": [
    {
     "data": {
      "text/html": [
       "<div>\n",
       "<style scoped>\n",
       "    .dataframe tbody tr th:only-of-type {\n",
       "        vertical-align: middle;\n",
       "    }\n",
       "\n",
       "    .dataframe tbody tr th {\n",
       "        vertical-align: top;\n",
       "    }\n",
       "\n",
       "    .dataframe thead th {\n",
       "        text-align: right;\n",
       "    }\n",
       "</style>\n",
       "<table border=\"1\" class=\"dataframe\">\n",
       "  <thead>\n",
       "    <tr style=\"text-align: right;\">\n",
       "      <th></th>\n",
       "      <th>Mouse_ID</th>\n",
       "      <th>Group</th>\n",
       "      <th>Sex</th>\n",
       "      <th>Day</th>\n",
       "      <th>Licks</th>\n",
       "      <th>Phase</th>\n",
       "      <th>Day_of_Phase</th>\n",
       "    </tr>\n",
       "  </thead>\n",
       "  <tbody>\n",
       "    <tr>\n",
       "      <th>0</th>\n",
       "      <td>1</td>\n",
       "      <td>Control</td>\n",
       "      <td>F</td>\n",
       "      <td>BL1</td>\n",
       "      <td>665</td>\n",
       "      <td>BL</td>\n",
       "      <td>1</td>\n",
       "    </tr>\n",
       "    <tr>\n",
       "      <th>1</th>\n",
       "      <td>2</td>\n",
       "      <td>Control</td>\n",
       "      <td>F</td>\n",
       "      <td>BL1</td>\n",
       "      <td>859</td>\n",
       "      <td>BL</td>\n",
       "      <td>1</td>\n",
       "    </tr>\n",
       "    <tr>\n",
       "      <th>2</th>\n",
       "      <td>3</td>\n",
       "      <td>Control</td>\n",
       "      <td>F</td>\n",
       "      <td>BL1</td>\n",
       "      <td>589</td>\n",
       "      <td>BL</td>\n",
       "      <td>1</td>\n",
       "    </tr>\n",
       "    <tr>\n",
       "      <th>3</th>\n",
       "      <td>4</td>\n",
       "      <td>Control</td>\n",
       "      <td>M</td>\n",
       "      <td>BL1</td>\n",
       "      <td>939</td>\n",
       "      <td>BL</td>\n",
       "      <td>1</td>\n",
       "    </tr>\n",
       "    <tr>\n",
       "      <th>4</th>\n",
       "      <td>5</td>\n",
       "      <td>ChR2</td>\n",
       "      <td>F</td>\n",
       "      <td>BL1</td>\n",
       "      <td>710</td>\n",
       "      <td>BL</td>\n",
       "      <td>1</td>\n",
       "    </tr>\n",
       "    <tr>\n",
       "      <th>...</th>\n",
       "      <td>...</td>\n",
       "      <td>...</td>\n",
       "      <td>...</td>\n",
       "      <td>...</td>\n",
       "      <td>...</td>\n",
       "      <td>...</td>\n",
       "      <td>...</td>\n",
       "    </tr>\n",
       "    <tr>\n",
       "      <th>435</th>\n",
       "      <td>18</td>\n",
       "      <td>ChR2</td>\n",
       "      <td>F</td>\n",
       "      <td>R2_4</td>\n",
       "      <td>880</td>\n",
       "      <td>R2</td>\n",
       "      <td>4</td>\n",
       "    </tr>\n",
       "    <tr>\n",
       "      <th>436</th>\n",
       "      <td>19</td>\n",
       "      <td>ChR2</td>\n",
       "      <td>F</td>\n",
       "      <td>R2_4</td>\n",
       "      <td>1047</td>\n",
       "      <td>R2</td>\n",
       "      <td>4</td>\n",
       "    </tr>\n",
       "    <tr>\n",
       "      <th>437</th>\n",
       "      <td>20</td>\n",
       "      <td>ChR2</td>\n",
       "      <td>M</td>\n",
       "      <td>R2_4</td>\n",
       "      <td>293</td>\n",
       "      <td>R2</td>\n",
       "      <td>4</td>\n",
       "    </tr>\n",
       "    <tr>\n",
       "      <th>438</th>\n",
       "      <td>21</td>\n",
       "      <td>ChR2</td>\n",
       "      <td>M</td>\n",
       "      <td>R2_4</td>\n",
       "      <td>900</td>\n",
       "      <td>R2</td>\n",
       "      <td>4</td>\n",
       "    </tr>\n",
       "    <tr>\n",
       "      <th>439</th>\n",
       "      <td>22</td>\n",
       "      <td>Control</td>\n",
       "      <td>F</td>\n",
       "      <td>R2_4</td>\n",
       "      <td>200</td>\n",
       "      <td>R2</td>\n",
       "      <td>4</td>\n",
       "    </tr>\n",
       "  </tbody>\n",
       "</table>\n",
       "<p>440 rows × 7 columns</p>\n",
       "</div>"
      ],
      "text/plain": [
       "     Mouse_ID    Group Sex   Day  Licks Phase  Day_of_Phase\n",
       "0           1  Control   F   BL1    665    BL             1\n",
       "1           2  Control   F   BL1    859    BL             1\n",
       "2           3  Control   F   BL1    589    BL             1\n",
       "3           4  Control   M   BL1    939    BL             1\n",
       "4           5     ChR2   F   BL1    710    BL             1\n",
       "..        ...      ...  ..   ...    ...   ...           ...\n",
       "435        18     ChR2   F  R2_4    880    R2             4\n",
       "436        19     ChR2   F  R2_4   1047    R2             4\n",
       "437        20     ChR2   M  R2_4    293    R2             4\n",
       "438        21     ChR2   M  R2_4    900    R2             4\n",
       "439        22  Control   F  R2_4    200    R2             4\n",
       "\n",
       "[440 rows x 7 columns]"
      ]
     },
     "execution_count": 32,
     "metadata": {},
     "output_type": "execute_result"
    }
   ],
   "source": [
    "df"
   ]
  },
  {
   "cell_type": "code",
   "execution_count": 61,
   "metadata": {
    "ExecuteTime": {
     "end_time": "2020-07-01T01:38:23.867443Z",
     "start_time": "2020-07-01T01:38:23.838099Z"
    }
   },
   "outputs": [
    {
     "data": {
      "text/html": [
       "<div>\n",
       "<style scoped>\n",
       "    .dataframe tbody tr th:only-of-type {\n",
       "        vertical-align: middle;\n",
       "    }\n",
       "\n",
       "    .dataframe tbody tr th {\n",
       "        vertical-align: top;\n",
       "    }\n",
       "\n",
       "    .dataframe thead th {\n",
       "        text-align: right;\n",
       "    }\n",
       "</style>\n",
       "<table border=\"1\" class=\"dataframe\">\n",
       "  <thead>\n",
       "    <tr style=\"text-align: right;\">\n",
       "      <th></th>\n",
       "      <th>Mouse_ID</th>\n",
       "      <th>Group</th>\n",
       "      <th>Sex</th>\n",
       "      <th>Day</th>\n",
       "      <th>Licks</th>\n",
       "      <th>Phase</th>\n",
       "      <th>Day_of_Phase</th>\n",
       "    </tr>\n",
       "  </thead>\n",
       "  <tbody>\n",
       "    <tr>\n",
       "      <th>0</th>\n",
       "      <td>1</td>\n",
       "      <td>Control</td>\n",
       "      <td>F</td>\n",
       "      <td>BL1</td>\n",
       "      <td>665</td>\n",
       "      <td>BL</td>\n",
       "      <td>1</td>\n",
       "    </tr>\n",
       "    <tr>\n",
       "      <th>1</th>\n",
       "      <td>2</td>\n",
       "      <td>Control</td>\n",
       "      <td>F</td>\n",
       "      <td>BL1</td>\n",
       "      <td>859</td>\n",
       "      <td>BL</td>\n",
       "      <td>1</td>\n",
       "    </tr>\n",
       "    <tr>\n",
       "      <th>2</th>\n",
       "      <td>3</td>\n",
       "      <td>Control</td>\n",
       "      <td>F</td>\n",
       "      <td>BL1</td>\n",
       "      <td>589</td>\n",
       "      <td>BL</td>\n",
       "      <td>1</td>\n",
       "    </tr>\n",
       "    <tr>\n",
       "      <th>3</th>\n",
       "      <td>4</td>\n",
       "      <td>Control</td>\n",
       "      <td>M</td>\n",
       "      <td>BL1</td>\n",
       "      <td>939</td>\n",
       "      <td>BL</td>\n",
       "      <td>1</td>\n",
       "    </tr>\n",
       "    <tr>\n",
       "      <th>4</th>\n",
       "      <td>5</td>\n",
       "      <td>ChR2</td>\n",
       "      <td>F</td>\n",
       "      <td>BL1</td>\n",
       "      <td>710</td>\n",
       "      <td>BL</td>\n",
       "      <td>1</td>\n",
       "    </tr>\n",
       "    <tr>\n",
       "      <th>...</th>\n",
       "      <td>...</td>\n",
       "      <td>...</td>\n",
       "      <td>...</td>\n",
       "      <td>...</td>\n",
       "      <td>...</td>\n",
       "      <td>...</td>\n",
       "      <td>...</td>\n",
       "    </tr>\n",
       "    <tr>\n",
       "      <th>435</th>\n",
       "      <td>18</td>\n",
       "      <td>ChR2</td>\n",
       "      <td>F</td>\n",
       "      <td>R2_4</td>\n",
       "      <td>880</td>\n",
       "      <td>R2</td>\n",
       "      <td>4</td>\n",
       "    </tr>\n",
       "    <tr>\n",
       "      <th>436</th>\n",
       "      <td>19</td>\n",
       "      <td>ChR2</td>\n",
       "      <td>F</td>\n",
       "      <td>R2_4</td>\n",
       "      <td>1047</td>\n",
       "      <td>R2</td>\n",
       "      <td>4</td>\n",
       "    </tr>\n",
       "    <tr>\n",
       "      <th>437</th>\n",
       "      <td>20</td>\n",
       "      <td>ChR2</td>\n",
       "      <td>M</td>\n",
       "      <td>R2_4</td>\n",
       "      <td>293</td>\n",
       "      <td>R2</td>\n",
       "      <td>4</td>\n",
       "    </tr>\n",
       "    <tr>\n",
       "      <th>438</th>\n",
       "      <td>21</td>\n",
       "      <td>ChR2</td>\n",
       "      <td>M</td>\n",
       "      <td>R2_4</td>\n",
       "      <td>900</td>\n",
       "      <td>R2</td>\n",
       "      <td>4</td>\n",
       "    </tr>\n",
       "    <tr>\n",
       "      <th>439</th>\n",
       "      <td>22</td>\n",
       "      <td>Control</td>\n",
       "      <td>F</td>\n",
       "      <td>R2_4</td>\n",
       "      <td>200</td>\n",
       "      <td>R2</td>\n",
       "      <td>4</td>\n",
       "    </tr>\n",
       "  </tbody>\n",
       "</table>\n",
       "<p>440 rows × 7 columns</p>\n",
       "</div>"
      ],
      "text/plain": [
       "     Mouse_ID    Group Sex   Day  Licks Phase  Day_of_Phase\n",
       "0           1  Control   F   BL1    665    BL             1\n",
       "1           2  Control   F   BL1    859    BL             1\n",
       "2           3  Control   F   BL1    589    BL             1\n",
       "3           4  Control   M   BL1    939    BL             1\n",
       "4           5     ChR2   F   BL1    710    BL             1\n",
       "..        ...      ...  ..   ...    ...   ...           ...\n",
       "435        18     ChR2   F  R2_4    880    R2             4\n",
       "436        19     ChR2   F  R2_4   1047    R2             4\n",
       "437        20     ChR2   M  R2_4    293    R2             4\n",
       "438        21     ChR2   M  R2_4    900    R2             4\n",
       "439        22  Control   F  R2_4    200    R2             4\n",
       "\n",
       "[440 rows x 7 columns]"
      ]
     },
     "execution_count": 61,
     "metadata": {},
     "output_type": "execute_result"
    }
   ],
   "source": [
    "## Resample dfa\n",
    "\n",
    "\n",
    "df_list = []\n",
    "# df_anova_phases.reset_index(inplace=True)\n",
    "for group in df[\"Group\"].unique():\n",
    "    grp_df = df.groupby('Group').get_group(group)\n",
    "    grp_df = grp_df.sample(n=n_to_match,replace=True,random_state=123)\n",
    "    df_list.append(grp_df)\n",
    "df\n"
   ]
  },
  {
   "cell_type": "code",
   "execution_count": 62,
   "metadata": {
    "ExecuteTime": {
     "end_time": "2020-07-01T01:38:25.478712Z",
     "start_time": "2020-07-01T01:38:25.455250Z"
    }
   },
   "outputs": [
    {
     "data": {
      "text/html": [
       "<div>\n",
       "<style scoped>\n",
       "    .dataframe tbody tr th:only-of-type {\n",
       "        vertical-align: middle;\n",
       "    }\n",
       "\n",
       "    .dataframe tbody tr th {\n",
       "        vertical-align: top;\n",
       "    }\n",
       "\n",
       "    .dataframe thead th {\n",
       "        text-align: right;\n",
       "    }\n",
       "</style>\n",
       "<table border=\"1\" class=\"dataframe\">\n",
       "  <thead>\n",
       "    <tr style=\"text-align: right;\">\n",
       "      <th></th>\n",
       "      <th>Mouse_ID</th>\n",
       "      <th>Group</th>\n",
       "      <th>Sex</th>\n",
       "      <th>Day</th>\n",
       "      <th>Licks</th>\n",
       "      <th>Phase</th>\n",
       "      <th>Day_of_Phase</th>\n",
       "    </tr>\n",
       "  </thead>\n",
       "  <tbody>\n",
       "    <tr>\n",
       "      <th>265</th>\n",
       "      <td>2</td>\n",
       "      <td>Control</td>\n",
       "      <td>F</td>\n",
       "      <td>R1_1</td>\n",
       "      <td>128</td>\n",
       "      <td>R1</td>\n",
       "      <td>1</td>\n",
       "    </tr>\n",
       "    <tr>\n",
       "      <th>308</th>\n",
       "      <td>1</td>\n",
       "      <td>Control</td>\n",
       "      <td>F</td>\n",
       "      <td>R1_3</td>\n",
       "      <td>351</td>\n",
       "      <td>R1</td>\n",
       "      <td>3</td>\n",
       "    </tr>\n",
       "    <tr>\n",
       "      <th>157</th>\n",
       "      <td>4</td>\n",
       "      <td>Control</td>\n",
       "      <td>M</td>\n",
       "      <td>S4</td>\n",
       "      <td>736</td>\n",
       "      <td>S</td>\n",
       "      <td>4</td>\n",
       "    </tr>\n",
       "    <tr>\n",
       "      <th>241</th>\n",
       "      <td>22</td>\n",
       "      <td>Control</td>\n",
       "      <td>F</td>\n",
       "      <td>PS3</td>\n",
       "      <td>186</td>\n",
       "      <td>PS</td>\n",
       "      <td>3</td>\n",
       "    </tr>\n",
       "    <tr>\n",
       "      <th>43</th>\n",
       "      <td>22</td>\n",
       "      <td>Control</td>\n",
       "      <td>F</td>\n",
       "      <td>BL2</td>\n",
       "      <td>132</td>\n",
       "      <td>BL</td>\n",
       "      <td>2</td>\n",
       "    </tr>\n",
       "    <tr>\n",
       "      <th>200</th>\n",
       "      <td>3</td>\n",
       "      <td>Control</td>\n",
       "      <td>F</td>\n",
       "      <td>PS2</td>\n",
       "      <td>952</td>\n",
       "      <td>PS</td>\n",
       "      <td>2</td>\n",
       "    </tr>\n",
       "    <tr>\n",
       "      <th>256</th>\n",
       "      <td>15</td>\n",
       "      <td>Control</td>\n",
       "      <td>F</td>\n",
       "      <td>PS4</td>\n",
       "      <td>619</td>\n",
       "      <td>PS</td>\n",
       "      <td>4</td>\n",
       "    </tr>\n",
       "    <tr>\n",
       "      <th>299</th>\n",
       "      <td>14</td>\n",
       "      <td>Control</td>\n",
       "      <td>M</td>\n",
       "      <td>R1_2</td>\n",
       "      <td>386</td>\n",
       "      <td>R1</td>\n",
       "      <td>2</td>\n",
       "    </tr>\n",
       "    <tr>\n",
       "      <th>135</th>\n",
       "      <td>4</td>\n",
       "      <td>Control</td>\n",
       "      <td>M</td>\n",
       "      <td>S3</td>\n",
       "      <td>526</td>\n",
       "      <td>S</td>\n",
       "      <td>3</td>\n",
       "    </tr>\n",
       "    <tr>\n",
       "      <th>233</th>\n",
       "      <td>14</td>\n",
       "      <td>Control</td>\n",
       "      <td>M</td>\n",
       "      <td>PS3</td>\n",
       "      <td>830</td>\n",
       "      <td>PS</td>\n",
       "      <td>3</td>\n",
       "    </tr>\n",
       "    <tr>\n",
       "      <th>276</th>\n",
       "      <td>13</td>\n",
       "      <td>Control</td>\n",
       "      <td>M</td>\n",
       "      <td>R1_1</td>\n",
       "      <td>172</td>\n",
       "      <td>R1</td>\n",
       "      <td>1</td>\n",
       "    </tr>\n",
       "    <tr>\n",
       "      <th>308</th>\n",
       "      <td>1</td>\n",
       "      <td>Control</td>\n",
       "      <td>F</td>\n",
       "      <td>R1_3</td>\n",
       "      <td>351</td>\n",
       "      <td>R1</td>\n",
       "      <td>3</td>\n",
       "    </tr>\n",
       "    <tr>\n",
       "      <th>112</th>\n",
       "      <td>3</td>\n",
       "      <td>Control</td>\n",
       "      <td>F</td>\n",
       "      <td>S2</td>\n",
       "      <td>743</td>\n",
       "      <td>S</td>\n",
       "      <td>2</td>\n",
       "    </tr>\n",
       "    <tr>\n",
       "      <th>169</th>\n",
       "      <td>16</td>\n",
       "      <td>ChR2</td>\n",
       "      <td>M</td>\n",
       "      <td>S4</td>\n",
       "      <td>568</td>\n",
       "      <td>S</td>\n",
       "      <td>4</td>\n",
       "    </tr>\n",
       "    <tr>\n",
       "      <th>391</th>\n",
       "      <td>18</td>\n",
       "      <td>ChR2</td>\n",
       "      <td>F</td>\n",
       "      <td>R2_2</td>\n",
       "      <td>803</td>\n",
       "      <td>R2</td>\n",
       "      <td>2</td>\n",
       "    </tr>\n",
       "    <tr>\n",
       "      <th>30</th>\n",
       "      <td>9</td>\n",
       "      <td>ChR2</td>\n",
       "      <td>M</td>\n",
       "      <td>BL2</td>\n",
       "      <td>668</td>\n",
       "      <td>BL</td>\n",
       "      <td>2</td>\n",
       "    </tr>\n",
       "    <tr>\n",
       "      <th>141</th>\n",
       "      <td>10</td>\n",
       "      <td>ChR2</td>\n",
       "      <td>M</td>\n",
       "      <td>S3</td>\n",
       "      <td>902</td>\n",
       "      <td>S</td>\n",
       "      <td>3</td>\n",
       "    </tr>\n",
       "    <tr>\n",
       "      <th>182</th>\n",
       "      <td>7</td>\n",
       "      <td>ChR2</td>\n",
       "      <td>M</td>\n",
       "      <td>PS1</td>\n",
       "      <td>621</td>\n",
       "      <td>PS</td>\n",
       "      <td>1</td>\n",
       "    </tr>\n",
       "    <tr>\n",
       "      <th>208</th>\n",
       "      <td>11</td>\n",
       "      <td>ChR2</td>\n",
       "      <td>M</td>\n",
       "      <td>PS2</td>\n",
       "      <td>641</td>\n",
       "      <td>PS</td>\n",
       "      <td>2</td>\n",
       "    </tr>\n",
       "    <tr>\n",
       "      <th>97</th>\n",
       "      <td>10</td>\n",
       "      <td>ChR2</td>\n",
       "      <td>M</td>\n",
       "      <td>S1</td>\n",
       "      <td>1106</td>\n",
       "      <td>S</td>\n",
       "      <td>1</td>\n",
       "    </tr>\n",
       "    <tr>\n",
       "      <th>362</th>\n",
       "      <td>11</td>\n",
       "      <td>ChR2</td>\n",
       "      <td>M</td>\n",
       "      <td>R2_1</td>\n",
       "      <td>691</td>\n",
       "      <td>R2</td>\n",
       "      <td>1</td>\n",
       "    </tr>\n",
       "    <tr>\n",
       "      <th>382</th>\n",
       "      <td>9</td>\n",
       "      <td>ChR2</td>\n",
       "      <td>M</td>\n",
       "      <td>R2_2</td>\n",
       "      <td>444</td>\n",
       "      <td>R2</td>\n",
       "      <td>2</td>\n",
       "    </tr>\n",
       "    <tr>\n",
       "      <th>163</th>\n",
       "      <td>10</td>\n",
       "      <td>ChR2</td>\n",
       "      <td>M</td>\n",
       "      <td>S4</td>\n",
       "      <td>835</td>\n",
       "      <td>S</td>\n",
       "      <td>4</td>\n",
       "    </tr>\n",
       "    <tr>\n",
       "      <th>193</th>\n",
       "      <td>18</td>\n",
       "      <td>ChR2</td>\n",
       "      <td>F</td>\n",
       "      <td>PS1</td>\n",
       "      <td>496</td>\n",
       "      <td>PS</td>\n",
       "      <td>1</td>\n",
       "    </tr>\n",
       "    <tr>\n",
       "      <th>215</th>\n",
       "      <td>18</td>\n",
       "      <td>ChR2</td>\n",
       "      <td>F</td>\n",
       "      <td>PS2</td>\n",
       "      <td>954</td>\n",
       "      <td>PS</td>\n",
       "      <td>2</td>\n",
       "    </tr>\n",
       "    <tr>\n",
       "      <th>82</th>\n",
       "      <td>17</td>\n",
       "      <td>ChR2</td>\n",
       "      <td>F</td>\n",
       "      <td>BL4</td>\n",
       "      <td>457</td>\n",
       "      <td>BL</td>\n",
       "      <td>4</td>\n",
       "    </tr>\n",
       "  </tbody>\n",
       "</table>\n",
       "</div>"
      ],
      "text/plain": [
       "     Mouse_ID    Group Sex   Day  Licks Phase  Day_of_Phase\n",
       "265         2  Control   F  R1_1    128    R1             1\n",
       "308         1  Control   F  R1_3    351    R1             3\n",
       "157         4  Control   M    S4    736     S             4\n",
       "241        22  Control   F   PS3    186    PS             3\n",
       "43         22  Control   F   BL2    132    BL             2\n",
       "200         3  Control   F   PS2    952    PS             2\n",
       "256        15  Control   F   PS4    619    PS             4\n",
       "299        14  Control   M  R1_2    386    R1             2\n",
       "135         4  Control   M    S3    526     S             3\n",
       "233        14  Control   M   PS3    830    PS             3\n",
       "276        13  Control   M  R1_1    172    R1             1\n",
       "308         1  Control   F  R1_3    351    R1             3\n",
       "112         3  Control   F    S2    743     S             2\n",
       "169        16     ChR2   M    S4    568     S             4\n",
       "391        18     ChR2   F  R2_2    803    R2             2\n",
       "30          9     ChR2   M   BL2    668    BL             2\n",
       "141        10     ChR2   M    S3    902     S             3\n",
       "182         7     ChR2   M   PS1    621    PS             1\n",
       "208        11     ChR2   M   PS2    641    PS             2\n",
       "97         10     ChR2   M    S1   1106     S             1\n",
       "362        11     ChR2   M  R2_1    691    R2             1\n",
       "382         9     ChR2   M  R2_2    444    R2             2\n",
       "163        10     ChR2   M    S4    835     S             4\n",
       "193        18     ChR2   F   PS1    496    PS             1\n",
       "215        18     ChR2   F   PS2    954    PS             2\n",
       "82         17     ChR2   F   BL4    457    BL             4"
      ]
     },
     "execution_count": 62,
     "metadata": {},
     "output_type": "execute_result"
    }
   ],
   "source": [
    "from statsmodels.stats.anova import AnovaRM\n",
    "df_resamp = pd.concat(df_list)\n",
    "df_resamp"
   ]
  },
  {
   "cell_type": "code",
   "execution_count": 63,
   "metadata": {
    "ExecuteTime": {
     "end_time": "2020-07-01T01:38:26.517203Z",
     "start_time": "2020-07-01T01:38:26.267218Z"
    }
   },
   "outputs": [
    {
     "data": {
      "application/vnd.plotly.v1+json": {
       "config": {
        "plotlyServerURL": "https://plot.ly"
       },
       "data": [
        {
         "alignmentgroup": "True",
         "hoverlabel": {
          "namelength": 0
         },
         "hovertemplate": "<b>%{hovertext}</b><br><br>Group=Control<br>Phase=%{x}<br>Licks=%{y}",
         "hovertext": [
          2,
          1,
          4,
          22,
          22,
          3,
          15,
          14,
          4,
          14,
          13,
          1,
          3
         ],
         "legendgroup": "Group=Control",
         "marker": {
          "color": "#636efa"
         },
         "name": "Group=Control",
         "notched": false,
         "offsetgroup": "Group=Control",
         "orientation": "v",
         "showlegend": true,
         "type": "box",
         "x": [
          "R1",
          "R1",
          "S",
          "PS",
          "BL",
          "PS",
          "PS",
          "R1",
          "S",
          "PS",
          "R1",
          "R1",
          "S"
         ],
         "x0": " ",
         "xaxis": "x",
         "y": [
          128,
          351,
          736,
          186,
          132,
          952,
          619,
          386,
          526,
          830,
          172,
          351,
          743
         ],
         "y0": " ",
         "yaxis": "y"
        },
        {
         "alignmentgroup": "True",
         "hoverlabel": {
          "namelength": 0
         },
         "hovertemplate": "<b>%{hovertext}</b><br><br>Group=ChR2<br>Phase=%{x}<br>Licks=%{y}",
         "hovertext": [
          16,
          18,
          9,
          10,
          7,
          11,
          10,
          11,
          9,
          10,
          18,
          18,
          17
         ],
         "legendgroup": "Group=ChR2",
         "marker": {
          "color": "#EF553B"
         },
         "name": "Group=ChR2",
         "notched": false,
         "offsetgroup": "Group=ChR2",
         "orientation": "v",
         "showlegend": true,
         "type": "box",
         "x": [
          "S",
          "R2",
          "BL",
          "S",
          "PS",
          "PS",
          "S",
          "R2",
          "R2",
          "S",
          "PS",
          "PS",
          "BL"
         ],
         "x0": " ",
         "xaxis": "x",
         "y": [
          568,
          803,
          668,
          902,
          621,
          641,
          1106,
          691,
          444,
          835,
          496,
          954,
          457
         ],
         "y0": " ",
         "yaxis": "y"
        }
       ],
       "layout": {
        "boxmode": "group",
        "height": 400,
        "legend": {
         "tracegroupgap": 0
        },
        "margin": {
         "t": 60
        },
        "template": {
         "data": {
          "bar": [
           {
            "error_x": {
             "color": "#2a3f5f"
            },
            "error_y": {
             "color": "#2a3f5f"
            },
            "marker": {
             "line": {
              "color": "#E5ECF6",
              "width": 0.5
             }
            },
            "type": "bar"
           }
          ],
          "barpolar": [
           {
            "marker": {
             "line": {
              "color": "#E5ECF6",
              "width": 0.5
             }
            },
            "type": "barpolar"
           }
          ],
          "carpet": [
           {
            "aaxis": {
             "endlinecolor": "#2a3f5f",
             "gridcolor": "white",
             "linecolor": "white",
             "minorgridcolor": "white",
             "startlinecolor": "#2a3f5f"
            },
            "baxis": {
             "endlinecolor": "#2a3f5f",
             "gridcolor": "white",
             "linecolor": "white",
             "minorgridcolor": "white",
             "startlinecolor": "#2a3f5f"
            },
            "type": "carpet"
           }
          ],
          "choropleth": [
           {
            "colorbar": {
             "outlinewidth": 0,
             "ticks": ""
            },
            "type": "choropleth"
           }
          ],
          "contour": [
           {
            "colorbar": {
             "outlinewidth": 0,
             "ticks": ""
            },
            "colorscale": [
             [
              0,
              "#0d0887"
             ],
             [
              0.1111111111111111,
              "#46039f"
             ],
             [
              0.2222222222222222,
              "#7201a8"
             ],
             [
              0.3333333333333333,
              "#9c179e"
             ],
             [
              0.4444444444444444,
              "#bd3786"
             ],
             [
              0.5555555555555556,
              "#d8576b"
             ],
             [
              0.6666666666666666,
              "#ed7953"
             ],
             [
              0.7777777777777778,
              "#fb9f3a"
             ],
             [
              0.8888888888888888,
              "#fdca26"
             ],
             [
              1,
              "#f0f921"
             ]
            ],
            "type": "contour"
           }
          ],
          "contourcarpet": [
           {
            "colorbar": {
             "outlinewidth": 0,
             "ticks": ""
            },
            "type": "contourcarpet"
           }
          ],
          "heatmap": [
           {
            "colorbar": {
             "outlinewidth": 0,
             "ticks": ""
            },
            "colorscale": [
             [
              0,
              "#0d0887"
             ],
             [
              0.1111111111111111,
              "#46039f"
             ],
             [
              0.2222222222222222,
              "#7201a8"
             ],
             [
              0.3333333333333333,
              "#9c179e"
             ],
             [
              0.4444444444444444,
              "#bd3786"
             ],
             [
              0.5555555555555556,
              "#d8576b"
             ],
             [
              0.6666666666666666,
              "#ed7953"
             ],
             [
              0.7777777777777778,
              "#fb9f3a"
             ],
             [
              0.8888888888888888,
              "#fdca26"
             ],
             [
              1,
              "#f0f921"
             ]
            ],
            "type": "heatmap"
           }
          ],
          "heatmapgl": [
           {
            "colorbar": {
             "outlinewidth": 0,
             "ticks": ""
            },
            "colorscale": [
             [
              0,
              "#0d0887"
             ],
             [
              0.1111111111111111,
              "#46039f"
             ],
             [
              0.2222222222222222,
              "#7201a8"
             ],
             [
              0.3333333333333333,
              "#9c179e"
             ],
             [
              0.4444444444444444,
              "#bd3786"
             ],
             [
              0.5555555555555556,
              "#d8576b"
             ],
             [
              0.6666666666666666,
              "#ed7953"
             ],
             [
              0.7777777777777778,
              "#fb9f3a"
             ],
             [
              0.8888888888888888,
              "#fdca26"
             ],
             [
              1,
              "#f0f921"
             ]
            ],
            "type": "heatmapgl"
           }
          ],
          "histogram": [
           {
            "marker": {
             "colorbar": {
              "outlinewidth": 0,
              "ticks": ""
             }
            },
            "type": "histogram"
           }
          ],
          "histogram2d": [
           {
            "colorbar": {
             "outlinewidth": 0,
             "ticks": ""
            },
            "colorscale": [
             [
              0,
              "#0d0887"
             ],
             [
              0.1111111111111111,
              "#46039f"
             ],
             [
              0.2222222222222222,
              "#7201a8"
             ],
             [
              0.3333333333333333,
              "#9c179e"
             ],
             [
              0.4444444444444444,
              "#bd3786"
             ],
             [
              0.5555555555555556,
              "#d8576b"
             ],
             [
              0.6666666666666666,
              "#ed7953"
             ],
             [
              0.7777777777777778,
              "#fb9f3a"
             ],
             [
              0.8888888888888888,
              "#fdca26"
             ],
             [
              1,
              "#f0f921"
             ]
            ],
            "type": "histogram2d"
           }
          ],
          "histogram2dcontour": [
           {
            "colorbar": {
             "outlinewidth": 0,
             "ticks": ""
            },
            "colorscale": [
             [
              0,
              "#0d0887"
             ],
             [
              0.1111111111111111,
              "#46039f"
             ],
             [
              0.2222222222222222,
              "#7201a8"
             ],
             [
              0.3333333333333333,
              "#9c179e"
             ],
             [
              0.4444444444444444,
              "#bd3786"
             ],
             [
              0.5555555555555556,
              "#d8576b"
             ],
             [
              0.6666666666666666,
              "#ed7953"
             ],
             [
              0.7777777777777778,
              "#fb9f3a"
             ],
             [
              0.8888888888888888,
              "#fdca26"
             ],
             [
              1,
              "#f0f921"
             ]
            ],
            "type": "histogram2dcontour"
           }
          ],
          "mesh3d": [
           {
            "colorbar": {
             "outlinewidth": 0,
             "ticks": ""
            },
            "type": "mesh3d"
           }
          ],
          "parcoords": [
           {
            "line": {
             "colorbar": {
              "outlinewidth": 0,
              "ticks": ""
             }
            },
            "type": "parcoords"
           }
          ],
          "scatter": [
           {
            "marker": {
             "colorbar": {
              "outlinewidth": 0,
              "ticks": ""
             }
            },
            "type": "scatter"
           }
          ],
          "scatter3d": [
           {
            "line": {
             "colorbar": {
              "outlinewidth": 0,
              "ticks": ""
             }
            },
            "marker": {
             "colorbar": {
              "outlinewidth": 0,
              "ticks": ""
             }
            },
            "type": "scatter3d"
           }
          ],
          "scattercarpet": [
           {
            "marker": {
             "colorbar": {
              "outlinewidth": 0,
              "ticks": ""
             }
            },
            "type": "scattercarpet"
           }
          ],
          "scattergeo": [
           {
            "marker": {
             "colorbar": {
              "outlinewidth": 0,
              "ticks": ""
             }
            },
            "type": "scattergeo"
           }
          ],
          "scattergl": [
           {
            "marker": {
             "colorbar": {
              "outlinewidth": 0,
              "ticks": ""
             }
            },
            "type": "scattergl"
           }
          ],
          "scattermapbox": [
           {
            "marker": {
             "colorbar": {
              "outlinewidth": 0,
              "ticks": ""
             }
            },
            "type": "scattermapbox"
           }
          ],
          "scatterpolar": [
           {
            "marker": {
             "colorbar": {
              "outlinewidth": 0,
              "ticks": ""
             }
            },
            "type": "scatterpolar"
           }
          ],
          "scatterpolargl": [
           {
            "marker": {
             "colorbar": {
              "outlinewidth": 0,
              "ticks": ""
             }
            },
            "type": "scatterpolargl"
           }
          ],
          "scatterternary": [
           {
            "marker": {
             "colorbar": {
              "outlinewidth": 0,
              "ticks": ""
             }
            },
            "type": "scatterternary"
           }
          ],
          "surface": [
           {
            "colorbar": {
             "outlinewidth": 0,
             "ticks": ""
            },
            "colorscale": [
             [
              0,
              "#0d0887"
             ],
             [
              0.1111111111111111,
              "#46039f"
             ],
             [
              0.2222222222222222,
              "#7201a8"
             ],
             [
              0.3333333333333333,
              "#9c179e"
             ],
             [
              0.4444444444444444,
              "#bd3786"
             ],
             [
              0.5555555555555556,
              "#d8576b"
             ],
             [
              0.6666666666666666,
              "#ed7953"
             ],
             [
              0.7777777777777778,
              "#fb9f3a"
             ],
             [
              0.8888888888888888,
              "#fdca26"
             ],
             [
              1,
              "#f0f921"
             ]
            ],
            "type": "surface"
           }
          ],
          "table": [
           {
            "cells": {
             "fill": {
              "color": "#EBF0F8"
             },
             "line": {
              "color": "white"
             }
            },
            "header": {
             "fill": {
              "color": "#C8D4E3"
             },
             "line": {
              "color": "white"
             }
            },
            "type": "table"
           }
          ]
         },
         "layout": {
          "annotationdefaults": {
           "arrowcolor": "#2a3f5f",
           "arrowhead": 0,
           "arrowwidth": 1
          },
          "colorscale": {
           "diverging": [
            [
             0,
             "#8e0152"
            ],
            [
             0.1,
             "#c51b7d"
            ],
            [
             0.2,
             "#de77ae"
            ],
            [
             0.3,
             "#f1b6da"
            ],
            [
             0.4,
             "#fde0ef"
            ],
            [
             0.5,
             "#f7f7f7"
            ],
            [
             0.6,
             "#e6f5d0"
            ],
            [
             0.7,
             "#b8e186"
            ],
            [
             0.8,
             "#7fbc41"
            ],
            [
             0.9,
             "#4d9221"
            ],
            [
             1,
             "#276419"
            ]
           ],
           "sequential": [
            [
             0,
             "#0d0887"
            ],
            [
             0.1111111111111111,
             "#46039f"
            ],
            [
             0.2222222222222222,
             "#7201a8"
            ],
            [
             0.3333333333333333,
             "#9c179e"
            ],
            [
             0.4444444444444444,
             "#bd3786"
            ],
            [
             0.5555555555555556,
             "#d8576b"
            ],
            [
             0.6666666666666666,
             "#ed7953"
            ],
            [
             0.7777777777777778,
             "#fb9f3a"
            ],
            [
             0.8888888888888888,
             "#fdca26"
            ],
            [
             1,
             "#f0f921"
            ]
           ],
           "sequentialminus": [
            [
             0,
             "#0d0887"
            ],
            [
             0.1111111111111111,
             "#46039f"
            ],
            [
             0.2222222222222222,
             "#7201a8"
            ],
            [
             0.3333333333333333,
             "#9c179e"
            ],
            [
             0.4444444444444444,
             "#bd3786"
            ],
            [
             0.5555555555555556,
             "#d8576b"
            ],
            [
             0.6666666666666666,
             "#ed7953"
            ],
            [
             0.7777777777777778,
             "#fb9f3a"
            ],
            [
             0.8888888888888888,
             "#fdca26"
            ],
            [
             1,
             "#f0f921"
            ]
           ]
          },
          "colorway": [
           "#636efa",
           "#EF553B",
           "#00cc96",
           "#ab63fa",
           "#FFA15A",
           "#19d3f3",
           "#FF6692",
           "#B6E880",
           "#FF97FF",
           "#FECB52"
          ],
          "font": {
           "color": "#2a3f5f"
          },
          "geo": {
           "bgcolor": "white",
           "lakecolor": "white",
           "landcolor": "#E5ECF6",
           "showlakes": true,
           "showland": true,
           "subunitcolor": "white"
          },
          "hoverlabel": {
           "align": "left"
          },
          "hovermode": "closest",
          "mapbox": {
           "style": "light"
          },
          "paper_bgcolor": "white",
          "plot_bgcolor": "#E5ECF6",
          "polar": {
           "angularaxis": {
            "gridcolor": "white",
            "linecolor": "white",
            "ticks": ""
           },
           "bgcolor": "#E5ECF6",
           "radialaxis": {
            "gridcolor": "white",
            "linecolor": "white",
            "ticks": ""
           }
          },
          "scene": {
           "xaxis": {
            "backgroundcolor": "#E5ECF6",
            "gridcolor": "white",
            "gridwidth": 2,
            "linecolor": "white",
            "showbackground": true,
            "ticks": "",
            "zerolinecolor": "white"
           },
           "yaxis": {
            "backgroundcolor": "#E5ECF6",
            "gridcolor": "white",
            "gridwidth": 2,
            "linecolor": "white",
            "showbackground": true,
            "ticks": "",
            "zerolinecolor": "white"
           },
           "zaxis": {
            "backgroundcolor": "#E5ECF6",
            "gridcolor": "white",
            "gridwidth": 2,
            "linecolor": "white",
            "showbackground": true,
            "ticks": "",
            "zerolinecolor": "white"
           }
          },
          "shapedefaults": {
           "line": {
            "color": "#2a3f5f"
           }
          },
          "ternary": {
           "aaxis": {
            "gridcolor": "white",
            "linecolor": "white",
            "ticks": ""
           },
           "baxis": {
            "gridcolor": "white",
            "linecolor": "white",
            "ticks": ""
           },
           "bgcolor": "#E5ECF6",
           "caxis": {
            "gridcolor": "white",
            "linecolor": "white",
            "ticks": ""
           }
          },
          "title": {
           "x": 0.05
          },
          "xaxis": {
           "automargin": true,
           "gridcolor": "white",
           "linecolor": "white",
           "ticks": "",
           "zerolinecolor": "white",
           "zerolinewidth": 2
          },
          "yaxis": {
           "automargin": true,
           "gridcolor": "white",
           "linecolor": "white",
           "ticks": "",
           "zerolinecolor": "white",
           "zerolinewidth": 2
          }
         }
        },
        "xaxis": {
         "anchor": "y",
         "domain": [
          0,
          0.98
         ],
         "title": {
          "text": "Phase"
         }
        },
        "yaxis": {
         "anchor": "x",
         "domain": [
          0,
          1
         ],
         "title": {
          "text": "Licks"
         }
        }
       }
      },
      "text/html": [
       "<div>\n",
       "        \n",
       "        \n",
       "            <div id=\"d551139c-4e1d-4189-8663-730a8be4d59a\" class=\"plotly-graph-div\" style=\"height:400px; width:100%;\"></div>\n",
       "            <script type=\"text/javascript\">\n",
       "                require([\"plotly\"], function(Plotly) {\n",
       "                    window.PLOTLYENV=window.PLOTLYENV || {};\n",
       "                    \n",
       "                if (document.getElementById(\"d551139c-4e1d-4189-8663-730a8be4d59a\")) {\n",
       "                    Plotly.newPlot(\n",
       "                        'd551139c-4e1d-4189-8663-730a8be4d59a',\n",
       "                        [{\"alignmentgroup\": \"True\", \"hoverlabel\": {\"namelength\": 0}, \"hovertemplate\": \"<b>%{hovertext}</b><br><br>Group=Control<br>Phase=%{x}<br>Licks=%{y}\", \"hovertext\": [2.0, 1.0, 4.0, 22.0, 22.0, 3.0, 15.0, 14.0, 4.0, 14.0, 13.0, 1.0, 3.0], \"legendgroup\": \"Group=Control\", \"marker\": {\"color\": \"#636efa\"}, \"name\": \"Group=Control\", \"notched\": false, \"offsetgroup\": \"Group=Control\", \"orientation\": \"v\", \"showlegend\": true, \"type\": \"box\", \"x\": [\"R1\", \"R1\", \"S\", \"PS\", \"BL\", \"PS\", \"PS\", \"R1\", \"S\", \"PS\", \"R1\", \"R1\", \"S\"], \"x0\": \" \", \"xaxis\": \"x\", \"y\": [128, 351, 736, 186, 132, 952, 619, 386, 526, 830, 172, 351, 743], \"y0\": \" \", \"yaxis\": \"y\"}, {\"alignmentgroup\": \"True\", \"hoverlabel\": {\"namelength\": 0}, \"hovertemplate\": \"<b>%{hovertext}</b><br><br>Group=ChR2<br>Phase=%{x}<br>Licks=%{y}\", \"hovertext\": [16.0, 18.0, 9.0, 10.0, 7.0, 11.0, 10.0, 11.0, 9.0, 10.0, 18.0, 18.0, 17.0], \"legendgroup\": \"Group=ChR2\", \"marker\": {\"color\": \"#EF553B\"}, \"name\": \"Group=ChR2\", \"notched\": false, \"offsetgroup\": \"Group=ChR2\", \"orientation\": \"v\", \"showlegend\": true, \"type\": \"box\", \"x\": [\"S\", \"R2\", \"BL\", \"S\", \"PS\", \"PS\", \"S\", \"R2\", \"R2\", \"S\", \"PS\", \"PS\", \"BL\"], \"x0\": \" \", \"xaxis\": \"x\", \"y\": [568, 803, 668, 902, 621, 641, 1106, 691, 444, 835, 496, 954, 457], \"y0\": \" \", \"yaxis\": \"y\"}],\n",
       "                        {\"boxmode\": \"group\", \"height\": 400, \"legend\": {\"tracegroupgap\": 0}, \"margin\": {\"t\": 60}, \"template\": {\"data\": {\"bar\": [{\"error_x\": {\"color\": \"#2a3f5f\"}, \"error_y\": {\"color\": \"#2a3f5f\"}, \"marker\": {\"line\": {\"color\": \"#E5ECF6\", \"width\": 0.5}}, \"type\": \"bar\"}], \"barpolar\": [{\"marker\": {\"line\": {\"color\": \"#E5ECF6\", \"width\": 0.5}}, \"type\": \"barpolar\"}], \"carpet\": [{\"aaxis\": {\"endlinecolor\": \"#2a3f5f\", \"gridcolor\": \"white\", \"linecolor\": \"white\", \"minorgridcolor\": \"white\", \"startlinecolor\": \"#2a3f5f\"}, \"baxis\": {\"endlinecolor\": \"#2a3f5f\", \"gridcolor\": \"white\", \"linecolor\": \"white\", \"minorgridcolor\": \"white\", \"startlinecolor\": \"#2a3f5f\"}, \"type\": \"carpet\"}], \"choropleth\": [{\"colorbar\": {\"outlinewidth\": 0, \"ticks\": \"\"}, \"type\": \"choropleth\"}], \"contour\": [{\"colorbar\": {\"outlinewidth\": 0, \"ticks\": \"\"}, \"colorscale\": [[0.0, \"#0d0887\"], [0.1111111111111111, \"#46039f\"], [0.2222222222222222, \"#7201a8\"], [0.3333333333333333, \"#9c179e\"], [0.4444444444444444, \"#bd3786\"], [0.5555555555555556, \"#d8576b\"], [0.6666666666666666, \"#ed7953\"], [0.7777777777777778, \"#fb9f3a\"], [0.8888888888888888, \"#fdca26\"], [1.0, \"#f0f921\"]], \"type\": \"contour\"}], \"contourcarpet\": [{\"colorbar\": {\"outlinewidth\": 0, \"ticks\": \"\"}, \"type\": \"contourcarpet\"}], \"heatmap\": [{\"colorbar\": {\"outlinewidth\": 0, \"ticks\": \"\"}, \"colorscale\": [[0.0, \"#0d0887\"], [0.1111111111111111, \"#46039f\"], [0.2222222222222222, \"#7201a8\"], [0.3333333333333333, \"#9c179e\"], [0.4444444444444444, \"#bd3786\"], [0.5555555555555556, \"#d8576b\"], [0.6666666666666666, \"#ed7953\"], [0.7777777777777778, \"#fb9f3a\"], [0.8888888888888888, \"#fdca26\"], [1.0, \"#f0f921\"]], \"type\": \"heatmap\"}], \"heatmapgl\": [{\"colorbar\": {\"outlinewidth\": 0, \"ticks\": \"\"}, \"colorscale\": [[0.0, \"#0d0887\"], [0.1111111111111111, \"#46039f\"], [0.2222222222222222, \"#7201a8\"], [0.3333333333333333, \"#9c179e\"], [0.4444444444444444, \"#bd3786\"], [0.5555555555555556, \"#d8576b\"], [0.6666666666666666, \"#ed7953\"], [0.7777777777777778, \"#fb9f3a\"], [0.8888888888888888, \"#fdca26\"], [1.0, \"#f0f921\"]], \"type\": \"heatmapgl\"}], \"histogram\": [{\"marker\": {\"colorbar\": {\"outlinewidth\": 0, \"ticks\": \"\"}}, \"type\": \"histogram\"}], \"histogram2d\": [{\"colorbar\": {\"outlinewidth\": 0, \"ticks\": \"\"}, \"colorscale\": [[0.0, \"#0d0887\"], [0.1111111111111111, \"#46039f\"], [0.2222222222222222, \"#7201a8\"], [0.3333333333333333, \"#9c179e\"], [0.4444444444444444, \"#bd3786\"], [0.5555555555555556, \"#d8576b\"], [0.6666666666666666, \"#ed7953\"], [0.7777777777777778, \"#fb9f3a\"], [0.8888888888888888, \"#fdca26\"], [1.0, \"#f0f921\"]], \"type\": \"histogram2d\"}], \"histogram2dcontour\": [{\"colorbar\": {\"outlinewidth\": 0, \"ticks\": \"\"}, \"colorscale\": [[0.0, \"#0d0887\"], [0.1111111111111111, \"#46039f\"], [0.2222222222222222, \"#7201a8\"], [0.3333333333333333, \"#9c179e\"], [0.4444444444444444, \"#bd3786\"], [0.5555555555555556, \"#d8576b\"], [0.6666666666666666, \"#ed7953\"], [0.7777777777777778, \"#fb9f3a\"], [0.8888888888888888, \"#fdca26\"], [1.0, \"#f0f921\"]], \"type\": \"histogram2dcontour\"}], \"mesh3d\": [{\"colorbar\": {\"outlinewidth\": 0, \"ticks\": \"\"}, \"type\": \"mesh3d\"}], \"parcoords\": [{\"line\": {\"colorbar\": {\"outlinewidth\": 0, \"ticks\": \"\"}}, \"type\": \"parcoords\"}], \"scatter\": [{\"marker\": {\"colorbar\": {\"outlinewidth\": 0, \"ticks\": \"\"}}, \"type\": \"scatter\"}], \"scatter3d\": [{\"line\": {\"colorbar\": {\"outlinewidth\": 0, \"ticks\": \"\"}}, \"marker\": {\"colorbar\": {\"outlinewidth\": 0, \"ticks\": \"\"}}, \"type\": \"scatter3d\"}], \"scattercarpet\": [{\"marker\": {\"colorbar\": {\"outlinewidth\": 0, \"ticks\": \"\"}}, \"type\": \"scattercarpet\"}], \"scattergeo\": [{\"marker\": {\"colorbar\": {\"outlinewidth\": 0, \"ticks\": \"\"}}, \"type\": \"scattergeo\"}], \"scattergl\": [{\"marker\": {\"colorbar\": {\"outlinewidth\": 0, \"ticks\": \"\"}}, \"type\": \"scattergl\"}], \"scattermapbox\": [{\"marker\": {\"colorbar\": {\"outlinewidth\": 0, \"ticks\": \"\"}}, \"type\": \"scattermapbox\"}], \"scatterpolar\": [{\"marker\": {\"colorbar\": {\"outlinewidth\": 0, \"ticks\": \"\"}}, \"type\": \"scatterpolar\"}], \"scatterpolargl\": [{\"marker\": {\"colorbar\": {\"outlinewidth\": 0, \"ticks\": \"\"}}, \"type\": \"scatterpolargl\"}], \"scatterternary\": [{\"marker\": {\"colorbar\": {\"outlinewidth\": 0, \"ticks\": \"\"}}, \"type\": \"scatterternary\"}], \"surface\": [{\"colorbar\": {\"outlinewidth\": 0, \"ticks\": \"\"}, \"colorscale\": [[0.0, \"#0d0887\"], [0.1111111111111111, \"#46039f\"], [0.2222222222222222, \"#7201a8\"], [0.3333333333333333, \"#9c179e\"], [0.4444444444444444, \"#bd3786\"], [0.5555555555555556, \"#d8576b\"], [0.6666666666666666, \"#ed7953\"], [0.7777777777777778, \"#fb9f3a\"], [0.8888888888888888, \"#fdca26\"], [1.0, \"#f0f921\"]], \"type\": \"surface\"}], \"table\": [{\"cells\": {\"fill\": {\"color\": \"#EBF0F8\"}, \"line\": {\"color\": \"white\"}}, \"header\": {\"fill\": {\"color\": \"#C8D4E3\"}, \"line\": {\"color\": \"white\"}}, \"type\": \"table\"}]}, \"layout\": {\"annotationdefaults\": {\"arrowcolor\": \"#2a3f5f\", \"arrowhead\": 0, \"arrowwidth\": 1}, \"colorscale\": {\"diverging\": [[0, \"#8e0152\"], [0.1, \"#c51b7d\"], [0.2, \"#de77ae\"], [0.3, \"#f1b6da\"], [0.4, \"#fde0ef\"], [0.5, \"#f7f7f7\"], [0.6, \"#e6f5d0\"], [0.7, \"#b8e186\"], [0.8, \"#7fbc41\"], [0.9, \"#4d9221\"], [1, \"#276419\"]], \"sequential\": [[0.0, \"#0d0887\"], [0.1111111111111111, \"#46039f\"], [0.2222222222222222, \"#7201a8\"], [0.3333333333333333, \"#9c179e\"], [0.4444444444444444, \"#bd3786\"], [0.5555555555555556, \"#d8576b\"], [0.6666666666666666, \"#ed7953\"], [0.7777777777777778, \"#fb9f3a\"], [0.8888888888888888, \"#fdca26\"], [1.0, \"#f0f921\"]], \"sequentialminus\": [[0.0, \"#0d0887\"], [0.1111111111111111, \"#46039f\"], [0.2222222222222222, \"#7201a8\"], [0.3333333333333333, \"#9c179e\"], [0.4444444444444444, \"#bd3786\"], [0.5555555555555556, \"#d8576b\"], [0.6666666666666666, \"#ed7953\"], [0.7777777777777778, \"#fb9f3a\"], [0.8888888888888888, \"#fdca26\"], [1.0, \"#f0f921\"]]}, \"colorway\": [\"#636efa\", \"#EF553B\", \"#00cc96\", \"#ab63fa\", \"#FFA15A\", \"#19d3f3\", \"#FF6692\", \"#B6E880\", \"#FF97FF\", \"#FECB52\"], \"font\": {\"color\": \"#2a3f5f\"}, \"geo\": {\"bgcolor\": \"white\", \"lakecolor\": \"white\", \"landcolor\": \"#E5ECF6\", \"showlakes\": true, \"showland\": true, \"subunitcolor\": \"white\"}, \"hoverlabel\": {\"align\": \"left\"}, \"hovermode\": \"closest\", \"mapbox\": {\"style\": \"light\"}, \"paper_bgcolor\": \"white\", \"plot_bgcolor\": \"#E5ECF6\", \"polar\": {\"angularaxis\": {\"gridcolor\": \"white\", \"linecolor\": \"white\", \"ticks\": \"\"}, \"bgcolor\": \"#E5ECF6\", \"radialaxis\": {\"gridcolor\": \"white\", \"linecolor\": \"white\", \"ticks\": \"\"}}, \"scene\": {\"xaxis\": {\"backgroundcolor\": \"#E5ECF6\", \"gridcolor\": \"white\", \"gridwidth\": 2, \"linecolor\": \"white\", \"showbackground\": true, \"ticks\": \"\", \"zerolinecolor\": \"white\"}, \"yaxis\": {\"backgroundcolor\": \"#E5ECF6\", \"gridcolor\": \"white\", \"gridwidth\": 2, \"linecolor\": \"white\", \"showbackground\": true, \"ticks\": \"\", \"zerolinecolor\": \"white\"}, \"zaxis\": {\"backgroundcolor\": \"#E5ECF6\", \"gridcolor\": \"white\", \"gridwidth\": 2, \"linecolor\": \"white\", \"showbackground\": true, \"ticks\": \"\", \"zerolinecolor\": \"white\"}}, \"shapedefaults\": {\"line\": {\"color\": \"#2a3f5f\"}}, \"ternary\": {\"aaxis\": {\"gridcolor\": \"white\", \"linecolor\": \"white\", \"ticks\": \"\"}, \"baxis\": {\"gridcolor\": \"white\", \"linecolor\": \"white\", \"ticks\": \"\"}, \"bgcolor\": \"#E5ECF6\", \"caxis\": {\"gridcolor\": \"white\", \"linecolor\": \"white\", \"ticks\": \"\"}}, \"title\": {\"x\": 0.05}, \"xaxis\": {\"automargin\": true, \"gridcolor\": \"white\", \"linecolor\": \"white\", \"ticks\": \"\", \"zerolinecolor\": \"white\", \"zerolinewidth\": 2}, \"yaxis\": {\"automargin\": true, \"gridcolor\": \"white\", \"linecolor\": \"white\", \"ticks\": \"\", \"zerolinecolor\": \"white\", \"zerolinewidth\": 2}}}, \"xaxis\": {\"anchor\": \"y\", \"domain\": [0.0, 0.98], \"title\": {\"text\": \"Phase\"}}, \"yaxis\": {\"anchor\": \"x\", \"domain\": [0.0, 1.0], \"title\": {\"text\": \"Licks\"}}},\n",
       "                        {\"responsive\": true}\n",
       "                    ).then(function(){\n",
       "                            \n",
       "var gd = document.getElementById('d551139c-4e1d-4189-8663-730a8be4d59a');\n",
       "var x = new MutationObserver(function (mutations, observer) {{\n",
       "        var display = window.getComputedStyle(gd).display;\n",
       "        if (!display || display === 'none') {{\n",
       "            console.log([gd, 'removed!']);\n",
       "            Plotly.purge(gd);\n",
       "            observer.disconnect();\n",
       "        }}\n",
       "}});\n",
       "\n",
       "// Listen for the removal of the full notebook cells\n",
       "var notebookContainer = gd.closest('#notebook-container');\n",
       "if (notebookContainer) {{\n",
       "    x.observe(notebookContainer, {childList: true});\n",
       "}}\n",
       "\n",
       "// Listen for the clearing of the current output cell\n",
       "var outputEl = gd.closest('.output');\n",
       "if (outputEl) {{\n",
       "    x.observe(outputEl, {childList: true});\n",
       "}}\n",
       "\n",
       "                        })\n",
       "                };\n",
       "                });\n",
       "            </script>\n",
       "        </div>"
      ]
     },
     "metadata": {},
     "output_type": "display_data"
    }
   ],
   "source": [
    "import plotly.express as px\n",
    "px.box(df_resamp,x='Phase',y='Licks',\n",
    "       color='Group',hover_name='Mouse_ID',height=400)#,\n",
    "#       category_orders=['BL','S','PS','R1','R2'])#,points='suspectedoutliers')"
   ]
  },
  {
   "cell_type": "code",
   "execution_count": 64,
   "metadata": {
    "ExecuteTime": {
     "end_time": "2020-07-01T01:38:26.667352Z",
     "start_time": "2020-07-01T01:38:26.665391Z"
    }
   },
   "outputs": [],
   "source": [
    "# n_to_match = df2_eq"
   ]
  },
  {
   "cell_type": "code",
   "execution_count": 65,
   "metadata": {
    "ExecuteTime": {
     "end_time": "2020-07-01T01:38:27.211436Z",
     "start_time": "2020-07-01T01:38:27.209537Z"
    }
   },
   "outputs": [],
   "source": [
    "# grp_dict = df_anova_phases.groupby('Group').groups\n",
    "\n",
    "# ## Match the largest number of subjects\n",
    "# n_to_match = max(list(map(lambda x: len(x),grp_dict.values())))\n",
    "# n_to_match"
   ]
  },
  {
   "cell_type": "code",
   "execution_count": 66,
   "metadata": {
    "ExecuteTime": {
     "end_time": "2020-07-01T01:38:27.413867Z",
     "start_time": "2020-07-01T01:38:27.411947Z"
    }
   },
   "outputs": [],
   "source": [
    "# df_list = []\n",
    "# for group in df_anova_phases[\"Group\"].unique():\n",
    "#     grp_df = df_anova_phases.groupby('Group').get_group(group)\n",
    "#     grp_df = grp_df.sample(n=n_to_match,replace=True)\n",
    "#     df_list.append(grp_df)"
   ]
  },
  {
   "cell_type": "code",
   "execution_count": 67,
   "metadata": {
    "ExecuteTime": {
     "end_time": "2020-07-01T01:38:27.616783Z",
     "start_time": "2020-07-01T01:38:27.614755Z"
    }
   },
   "outputs": [],
   "source": [
    "# df_anova_equal = pd.concat(df_list)\n",
    "# df_anova_equal"
   ]
  },
  {
   "cell_type": "markdown",
   "metadata": {},
   "source": [
    "### RM ANOVA"
   ]
  },
  {
   "cell_type": "code",
   "execution_count": 72,
   "metadata": {
    "ExecuteTime": {
     "end_time": "2020-07-01T01:38:50.060669Z",
     "start_time": "2020-07-01T01:38:50.036149Z"
    }
   },
   "outputs": [
    {
     "data": {
      "text/html": [
       "<div>\n",
       "<style scoped>\n",
       "    .dataframe tbody tr th:only-of-type {\n",
       "        vertical-align: middle;\n",
       "    }\n",
       "\n",
       "    .dataframe tbody tr th {\n",
       "        vertical-align: top;\n",
       "    }\n",
       "\n",
       "    .dataframe thead th {\n",
       "        text-align: right;\n",
       "    }\n",
       "</style>\n",
       "<table border=\"1\" class=\"dataframe\">\n",
       "  <thead>\n",
       "    <tr style=\"text-align: right;\">\n",
       "      <th></th>\n",
       "      <th>Mouse_ID</th>\n",
       "      <th>Group</th>\n",
       "      <th>Sex</th>\n",
       "      <th>Day</th>\n",
       "      <th>Licks</th>\n",
       "      <th>Phase</th>\n",
       "      <th>Day_of_Phase</th>\n",
       "    </tr>\n",
       "  </thead>\n",
       "  <tbody>\n",
       "    <tr>\n",
       "      <th>0</th>\n",
       "      <td>1</td>\n",
       "      <td>Control</td>\n",
       "      <td>F</td>\n",
       "      <td>BL1</td>\n",
       "      <td>665</td>\n",
       "      <td>BL</td>\n",
       "      <td>1</td>\n",
       "    </tr>\n",
       "    <tr>\n",
       "      <th>1</th>\n",
       "      <td>2</td>\n",
       "      <td>Control</td>\n",
       "      <td>F</td>\n",
       "      <td>BL1</td>\n",
       "      <td>859</td>\n",
       "      <td>BL</td>\n",
       "      <td>1</td>\n",
       "    </tr>\n",
       "    <tr>\n",
       "      <th>2</th>\n",
       "      <td>3</td>\n",
       "      <td>Control</td>\n",
       "      <td>F</td>\n",
       "      <td>BL1</td>\n",
       "      <td>589</td>\n",
       "      <td>BL</td>\n",
       "      <td>1</td>\n",
       "    </tr>\n",
       "    <tr>\n",
       "      <th>3</th>\n",
       "      <td>4</td>\n",
       "      <td>Control</td>\n",
       "      <td>M</td>\n",
       "      <td>BL1</td>\n",
       "      <td>939</td>\n",
       "      <td>BL</td>\n",
       "      <td>1</td>\n",
       "    </tr>\n",
       "    <tr>\n",
       "      <th>4</th>\n",
       "      <td>5</td>\n",
       "      <td>ChR2</td>\n",
       "      <td>F</td>\n",
       "      <td>BL1</td>\n",
       "      <td>710</td>\n",
       "      <td>BL</td>\n",
       "      <td>1</td>\n",
       "    </tr>\n",
       "    <tr>\n",
       "      <th>...</th>\n",
       "      <td>...</td>\n",
       "      <td>...</td>\n",
       "      <td>...</td>\n",
       "      <td>...</td>\n",
       "      <td>...</td>\n",
       "      <td>...</td>\n",
       "      <td>...</td>\n",
       "    </tr>\n",
       "    <tr>\n",
       "      <th>435</th>\n",
       "      <td>18</td>\n",
       "      <td>ChR2</td>\n",
       "      <td>F</td>\n",
       "      <td>R2_4</td>\n",
       "      <td>880</td>\n",
       "      <td>R2</td>\n",
       "      <td>4</td>\n",
       "    </tr>\n",
       "    <tr>\n",
       "      <th>436</th>\n",
       "      <td>19</td>\n",
       "      <td>ChR2</td>\n",
       "      <td>F</td>\n",
       "      <td>R2_4</td>\n",
       "      <td>1047</td>\n",
       "      <td>R2</td>\n",
       "      <td>4</td>\n",
       "    </tr>\n",
       "    <tr>\n",
       "      <th>437</th>\n",
       "      <td>20</td>\n",
       "      <td>ChR2</td>\n",
       "      <td>M</td>\n",
       "      <td>R2_4</td>\n",
       "      <td>293</td>\n",
       "      <td>R2</td>\n",
       "      <td>4</td>\n",
       "    </tr>\n",
       "    <tr>\n",
       "      <th>438</th>\n",
       "      <td>21</td>\n",
       "      <td>ChR2</td>\n",
       "      <td>M</td>\n",
       "      <td>R2_4</td>\n",
       "      <td>900</td>\n",
       "      <td>R2</td>\n",
       "      <td>4</td>\n",
       "    </tr>\n",
       "    <tr>\n",
       "      <th>439</th>\n",
       "      <td>22</td>\n",
       "      <td>Control</td>\n",
       "      <td>F</td>\n",
       "      <td>R2_4</td>\n",
       "      <td>200</td>\n",
       "      <td>R2</td>\n",
       "      <td>4</td>\n",
       "    </tr>\n",
       "  </tbody>\n",
       "</table>\n",
       "<p>440 rows × 7 columns</p>\n",
       "</div>"
      ],
      "text/plain": [
       "     Mouse_ID    Group Sex   Day  Licks Phase  Day_of_Phase\n",
       "0           1  Control   F   BL1    665    BL             1\n",
       "1           2  Control   F   BL1    859    BL             1\n",
       "2           3  Control   F   BL1    589    BL             1\n",
       "3           4  Control   M   BL1    939    BL             1\n",
       "4           5     ChR2   F   BL1    710    BL             1\n",
       "..        ...      ...  ..   ...    ...   ...           ...\n",
       "435        18     ChR2   F  R2_4    880    R2             4\n",
       "436        19     ChR2   F  R2_4   1047    R2             4\n",
       "437        20     ChR2   M  R2_4    293    R2             4\n",
       "438        21     ChR2   M  R2_4    900    R2             4\n",
       "439        22  Control   F  R2_4    200    R2             4\n",
       "\n",
       "[440 rows x 7 columns]"
      ]
     },
     "execution_count": 72,
     "metadata": {},
     "output_type": "execute_result"
    }
   ],
   "source": [
    "df"
   ]
  },
  {
   "cell_type": "code",
   "execution_count": 71,
   "metadata": {
    "ExecuteTime": {
     "end_time": "2020-07-01T01:38:47.201906Z",
     "start_time": "2020-07-01T01:38:47.199877Z"
    }
   },
   "outputs": [],
   "source": [
    "# # df2.pivot_table(index=['Group','Mouse_ID'],columns=['Day'])\n",
    "# df_resamp.reset_index(drop=True,inplace=True)#.pivot_table(index=['Group','Day_of_Phase','Mouse_ID'])#,columns=['Day'])\n",
    "# df_resamp"
   ]
  },
  {
   "cell_type": "code",
   "execution_count": 73,
   "metadata": {
    "ExecuteTime": {
     "end_time": "2020-07-01T01:38:52.886524Z",
     "start_time": "2020-07-01T01:38:52.884348Z"
    }
   },
   "outputs": [],
   "source": [
    "# df_resamp['Phase'].value_counts()"
   ]
  },
  {
   "cell_type": "code",
   "execution_count": null,
   "metadata": {},
   "outputs": [],
   "source": []
  },
  {
   "cell_type": "code",
   "execution_count": 87,
   "metadata": {
    "ExecuteTime": {
     "end_time": "2020-07-01T01:41:12.688187Z",
     "start_time": "2020-07-01T01:41:12.667498Z"
    }
   },
   "outputs": [
    {
     "ename": "ValueError",
     "evalue": "Data is unbalanced.",
     "output_type": "error",
     "traceback": [
      "\u001b[0;31m---------------------------------------------------------------------------\u001b[0m",
      "\u001b[0;31mValueError\u001b[0m                                Traceback (most recent call last)",
      "\u001b[0;32m<ipython-input-87-78e80623e9e2>\u001b[0m in \u001b[0;36m<module>\u001b[0;34m\u001b[0m\n\u001b[0;32m----> 1\u001b[0;31m \u001b[0maovrm\u001b[0m \u001b[0;34m=\u001b[0m \u001b[0mAnovaRM\u001b[0m\u001b[0;34m(\u001b[0m\u001b[0mdf\u001b[0m\u001b[0;34m,\u001b[0m \u001b[0;34m'Licks'\u001b[0m\u001b[0;34m,\u001b[0m \u001b[0;34m'Mouse_ID'\u001b[0m\u001b[0;34m,\u001b[0m \u001b[0mwithin\u001b[0m\u001b[0;34m=\u001b[0m\u001b[0;34m[\u001b[0m\u001b[0;34m'Group'\u001b[0m\u001b[0;34m]\u001b[0m\u001b[0;34m,\u001b[0m\u001b[0maggregate_func\u001b[0m\u001b[0;34m=\u001b[0m\u001b[0mnp\u001b[0m\u001b[0;34m.\u001b[0m\u001b[0mnanmean\u001b[0m\u001b[0;34m)\u001b[0m\u001b[0;34m.\u001b[0m\u001b[0mfit\u001b[0m\u001b[0;34m(\u001b[0m\u001b[0;34m)\u001b[0m\u001b[0;34m\u001b[0m\u001b[0;34m\u001b[0m\u001b[0m\n\u001b[0m\u001b[1;32m      2\u001b[0m \u001b[0maovrm\u001b[0m\u001b[0;34m.\u001b[0m\u001b[0msummary\u001b[0m\u001b[0;34m(\u001b[0m\u001b[0;34m)\u001b[0m\u001b[0;34m\u001b[0m\u001b[0;34m\u001b[0m\u001b[0m\n",
      "\u001b[0;32m//anaconda3/envs/learn-env/lib/python3.6/site-packages/statsmodels/stats/anova.py\u001b[0m in \u001b[0;36m__init__\u001b[0;34m(self, data, depvar, subject, within, between, aggregate_func)\u001b[0m\n\u001b[1;32m    507\u001b[0m                 \u001b[0;32mraise\u001b[0m \u001b[0mValueError\u001b[0m\u001b[0;34m(\u001b[0m\u001b[0mmsg\u001b[0m\u001b[0;34m)\u001b[0m\u001b[0;34m\u001b[0m\u001b[0;34m\u001b[0m\u001b[0m\n\u001b[1;32m    508\u001b[0m \u001b[0;34m\u001b[0m\u001b[0m\n\u001b[0;32m--> 509\u001b[0;31m         \u001b[0mself\u001b[0m\u001b[0;34m.\u001b[0m\u001b[0m_check_data_balanced\u001b[0m\u001b[0;34m(\u001b[0m\u001b[0;34m)\u001b[0m\u001b[0;34m\u001b[0m\u001b[0;34m\u001b[0m\u001b[0m\n\u001b[0m\u001b[1;32m    510\u001b[0m \u001b[0;34m\u001b[0m\u001b[0m\n\u001b[1;32m    511\u001b[0m     \u001b[0;32mdef\u001b[0m \u001b[0m_aggregate\u001b[0m\u001b[0;34m(\u001b[0m\u001b[0mself\u001b[0m\u001b[0;34m)\u001b[0m\u001b[0;34m:\u001b[0m\u001b[0;34m\u001b[0m\u001b[0;34m\u001b[0m\u001b[0m\n",
      "\u001b[0;32m//anaconda3/envs/learn-env/lib/python3.6/site-packages/statsmodels/stats/anova.py\u001b[0m in \u001b[0;36m_check_data_balanced\u001b[0;34m(self)\u001b[0m\n\u001b[1;32m    544\u001b[0m         \u001b[0;32mfor\u001b[0m \u001b[0mkey\u001b[0m \u001b[0;32min\u001b[0m \u001b[0mcell_count\u001b[0m\u001b[0;34m:\u001b[0m\u001b[0;34m\u001b[0m\u001b[0;34m\u001b[0m\u001b[0m\n\u001b[1;32m    545\u001b[0m             \u001b[0;32mif\u001b[0m \u001b[0mcount\u001b[0m \u001b[0;34m!=\u001b[0m \u001b[0mcell_count\u001b[0m\u001b[0;34m[\u001b[0m\u001b[0mkey\u001b[0m\u001b[0;34m]\u001b[0m\u001b[0;34m:\u001b[0m\u001b[0;34m\u001b[0m\u001b[0;34m\u001b[0m\u001b[0m\n\u001b[0;32m--> 546\u001b[0;31m                 \u001b[0;32mraise\u001b[0m \u001b[0mValueError\u001b[0m\u001b[0;34m(\u001b[0m\u001b[0merror_message\u001b[0m\u001b[0;34m)\u001b[0m\u001b[0;34m\u001b[0m\u001b[0;34m\u001b[0m\u001b[0m\n\u001b[0m\u001b[1;32m    547\u001b[0m         \u001b[0;32mif\u001b[0m \u001b[0mself\u001b[0m\u001b[0;34m.\u001b[0m\u001b[0mdata\u001b[0m\u001b[0;34m.\u001b[0m\u001b[0mshape\u001b[0m\u001b[0;34m[\u001b[0m\u001b[0;36m0\u001b[0m\u001b[0;34m]\u001b[0m \u001b[0;34m>\u001b[0m \u001b[0mcount\u001b[0m \u001b[0;34m*\u001b[0m \u001b[0mfactor_levels\u001b[0m\u001b[0;34m:\u001b[0m\u001b[0;34m\u001b[0m\u001b[0;34m\u001b[0m\u001b[0m\n\u001b[1;32m    548\u001b[0m             raise ValueError('There are more than 1 element in a cell! Missing'\n",
      "\u001b[0;31mValueError\u001b[0m: Data is unbalanced."
     ]
    }
   ],
   "source": [
    "aovrm = AnovaRM(df, 'Licks', 'Mouse_ID', within=['Phase','Group'],aggregate_func=np.nanmean).fit()\n",
    "aovrm.summary()"
   ]
  },
  {
   "cell_type": "code",
   "execution_count": null,
   "metadata": {
    "ExecuteTime": {
     "end_time": "2020-07-01T00:53:24.110064Z",
     "start_time": "2020-07-01T00:53:16.357Z"
    }
   },
   "outputs": [],
   "source": [
    "df2.isna().sum()"
   ]
  },
  {
   "cell_type": "code",
   "execution_count": null,
   "metadata": {
    "ExecuteTime": {
     "end_time": "2020-07-01T00:53:24.110847Z",
     "start_time": "2020-07-01T00:53:16.361Z"
    }
   },
   "outputs": [],
   "source": [
    "import statsmodels\n",
    "statsmodels.__version__"
   ]
  },
  {
   "cell_type": "code",
   "execution_count": null,
   "metadata": {
    "ExecuteTime": {
     "end_time": "2020-07-01T00:53:24.111569Z",
     "start_time": "2020-07-01T00:53:16.363Z"
    }
   },
   "outputs": [],
   "source": [
    "anovarm = AnovaRM(df2,'Licks','Mouse_ID',within=['Day'],\n",
    "                 aggregate_func='mean')#between=['Group'],\n",
    "res = anovarm.fit()\n",
    "print(res)"
   ]
  },
  {
   "cell_type": "code",
   "execution_count": null,
   "metadata": {},
   "outputs": [],
   "source": []
  },
  {
   "cell_type": "code",
   "execution_count": null,
   "metadata": {},
   "outputs": [],
   "source": []
  },
  {
   "cell_type": "markdown",
   "metadata": {},
   "source": [
    "# OLD PREPROCESSING"
   ]
  },
  {
   "cell_type": "code",
   "execution_count": null,
   "metadata": {
    "ExecuteTime": {
     "end_time": "2020-07-01T00:53:24.112361Z",
     "start_time": "2020-07-01T00:53:16.369Z"
    }
   },
   "outputs": [],
   "source": [
    "mean_to_df = {}\n",
    "for k, cols in col_dict.items():\n",
    "    mean_to_df[k] = df[cols].mean(axis=1)\n",
    "    \n",
    "df_means = pd.concat([df[['Mouse ID','Group','Sex']],\n",
    "                      pd.DataFrame(mean_to_df)],axis=1)\n",
    "df_means"
   ]
  },
  {
   "cell_type": "code",
   "execution_count": null,
   "metadata": {
    "ExecuteTime": {
     "end_time": "2020-07-01T00:53:24.113236Z",
     "start_time": "2020-07-01T00:53:16.371Z"
    }
   },
   "outputs": [],
   "source": [
    "# df_means.to_csv('../datasets/neuro_mouse_dirnking.csv',index=False)\n",
    "# df_means = pd.read_csv('../datasets/neuro_mouse_dirnking.csv')\n",
    "# df_means"
   ]
  },
  {
   "cell_type": "markdown",
   "metadata": {},
   "source": [
    "### Getting Group Data For EDA & Testing"
   ]
  },
  {
   "cell_type": "code",
   "execution_count": null,
   "metadata": {
    "ExecuteTime": {
     "end_time": "2020-07-01T00:53:24.114266Z",
     "start_time": "2020-07-01T00:53:16.374Z"
    }
   },
   "outputs": [],
   "source": [
    "df_means.head()"
   ]
  },
  {
   "cell_type": "code",
   "execution_count": null,
   "metadata": {
    "ExecuteTime": {
     "end_time": "2020-07-01T00:53:24.115188Z",
     "start_time": "2020-07-01T00:53:16.376Z"
    }
   },
   "outputs": [],
   "source": [
    "## Get grps \n",
    "\n",
    "## Two different ways of using groupby\n",
    "grps = df_means.groupby('Group').groups\n",
    "\n",
    "grp_control = df_means.loc[grps['Control']]\n",
    "grp_exp = df_means.groupby('Group').get_group('ChR2')\n",
    "#grpB\n",
    "# grps\n",
    "display( grp_exp.head().style.set_caption('Exp/ChR2'),\n",
    "        grp_control.head().style.set_caption('Controls'))"
   ]
  },
  {
   "cell_type": "code",
   "execution_count": null,
   "metadata": {
    "ExecuteTime": {
     "end_time": "2020-07-01T00:53:24.116135Z",
     "start_time": "2020-07-01T00:53:16.379Z"
    }
   },
   "outputs": [],
   "source": [
    "## Group counts\n",
    "len(grp_control), len(grp_exp)"
   ]
  },
  {
   "cell_type": "code",
   "execution_count": null,
   "metadata": {
    "ExecuteTime": {
     "end_time": "2020-07-01T00:53:24.116898Z",
     "start_time": "2020-07-01T00:53:16.381Z"
    }
   },
   "outputs": [],
   "source": [
    "\n",
    "# sns.distplot(grp_control['BL'])"
   ]
  },
  {
   "cell_type": "code",
   "execution_count": null,
   "metadata": {
    "ExecuteTime": {
     "end_time": "2020-07-01T00:53:24.117593Z",
     "start_time": "2020-07-01T00:53:16.384Z"
    }
   },
   "outputs": [],
   "source": [
    "# sem(grp_exp['BL'])\n",
    "# sem(grp_control['BL'])"
   ]
  },
  {
   "cell_type": "code",
   "execution_count": null,
   "metadata": {
    "ExecuteTime": {
     "end_time": "2020-07-01T00:53:24.118304Z",
     "start_time": "2020-07-01T00:53:16.387Z"
    }
   },
   "outputs": [],
   "source": [
    "from scipy.stats import sem\n",
    "## showing off SEM bars\n",
    "f,ax = plt.subplots(figsize=(5,5))\n",
    "ax.bar('Exp',grp_exp['BL'],yerr=sem(grp_exp['BL']))\n",
    "ax.bar('Control',grp_control['BL'],yerr=sem(grp_control['BL']))"
   ]
  },
  {
   "cell_type": "code",
   "execution_count": null,
   "metadata": {
    "ExecuteTime": {
     "end_time": "2020-07-01T00:53:24.119048Z",
     "start_time": "2020-07-01T00:53:16.389Z"
    }
   },
   "outputs": [],
   "source": [
    "def plot_dists(grp1,grp2,col='BL',name1='Exp',name2='Control'):\n",
    "\n",
    "    ## Defining \"gridspec_kws\" for plt.subplots()\n",
    "    ## This will make our first plot 3 times wider than the second.\n",
    "    gs_kw = dict(width_ratios=[3, 1])\n",
    "    \n",
    "    fig, axes = plt.subplots(figsize=(10,4),ncols=2,\n",
    "                             gridspec_kw=gs_kw,constrained_layout=True)\n",
    "\n",
    "    ## Defining the data \n",
    "    group1 = {'name':name1, \n",
    "             'data':grp1[col],\n",
    "             'plot_specs':{\n",
    "                 'hist_kws':dict(color='b', lw=2,ls='-'),\n",
    "                 'kde_kws':dict(color='b',lw=1,ls='-'),\n",
    "                 'label':f\"{name1} (n={len(grp1[col])})\"}\n",
    "             }\n",
    "    \n",
    "    group2 = {'name':name2, \n",
    "             'data':grp2[col],\n",
    "              'plot_specs':{\n",
    "                  'hist_kws':dict(color='orange', lw=2,ls='-'),\n",
    "                  'kde_kws':dict(color='orange',lw=1,ls='-'),\n",
    "                   'label':f\"{name2} (n={len(grp2[col])})\"}\n",
    "             }\n",
    "    \n",
    "    \n",
    "    ax=axes[0]\n",
    "    sns.distplot(group1['data'], **group1['plot_specs'],ax=axes[0])\n",
    "    sns.distplot(group2['data'], **group2['plot_specs'],ax=axes[0])\n",
    "    ax.legend()\n",
    "    \n",
    "    ax.set(ylabel=\"Density\")\n",
    "    ax.set(xlabel='Number of Licks')\n",
    "    \n",
    "    \n",
    "    ax = axes[1]\n",
    "    ax.bar(group1['name'],group1['data'].mean(),\n",
    "          yerr=sem(group1['data']))\n",
    "\n",
    "    ax.bar(group2['name'],group2['data'].mean(),\n",
    "          yerr=sem(group2['data']))    \n",
    "    \n",
    "    return fig,ax"
   ]
  },
  {
   "cell_type": "code",
   "execution_count": null,
   "metadata": {
    "ExecuteTime": {
     "end_time": "2020-07-01T00:53:24.119937Z",
     "start_time": "2020-07-01T00:53:16.391Z"
    }
   },
   "outputs": [],
   "source": [
    "fig,ax = plot_dists(grp_control,grp_exp,col='R',name1='ChR2', name2='Control')"
   ]
  },
  {
   "cell_type": "markdown",
   "metadata": {
    "ExecuteTime": {
     "end_time": "2020-01-23T22:50:31.197808Z",
     "start_time": "2020-01-23T22:50:31.195479Z"
    }
   },
   "source": [
    "### Writing functions to test assumptions"
   ]
  },
  {
   "cell_type": "code",
   "execution_count": null,
   "metadata": {
    "ExecuteTime": {
     "end_time": "2020-07-01T00:53:24.120730Z",
     "start_time": "2020-07-01T00:53:16.394Z"
    }
   },
   "outputs": [],
   "source": [
    "import scipy.stats as stats\n",
    "stats.normaltest(grp_control['BL'])"
   ]
  },
  {
   "cell_type": "code",
   "execution_count": null,
   "metadata": {
    "ExecuteTime": {
     "end_time": "2020-07-01T00:53:24.121456Z",
     "start_time": "2020-07-01T00:53:16.396Z"
    },
    "code_folding": []
   },
   "outputs": [],
   "source": [
    "def test_normality(grp_control,col='BL',alpha=0.05):\n",
    "    import scipy.stats as stats\n",
    "    stat,p =stats.normaltest(grp_control[col])\n",
    "    if p<alpha:\n",
    "        print(f\"Normal test p value of {np.round(p,3)} is < {alpha}, therefore data is NOT normal.\")\n",
    "    else:\n",
    "        print(f\"Normal test p value of {np.round(p,3)} is > {alpha}, therefore data IS normal.\")\n",
    "    return p\n",
    "\n",
    "def test_equal_variance(grp1,grp2, alpha=.05):\n",
    "    stat,p = stats.levene(grp1,grp2)\n",
    "    if p<alpha:\n",
    "        print(f\"Levene's test p value of {np.round(p,3)} is < {alpha}, therefore groups do NOT have equal variance.\")\n",
    "    else:\n",
    "        print(f\"Normal test p value of {np.round(p,3)} is > {alpha},  therefore groups DOES have equal variance.\")\n",
    "    return p\n",
    "\n",
    "\n",
    "\n",
    "# def test_assumptions(*args, normal=True,equal_var=True):\n",
    "#     pass"
   ]
  },
  {
   "cell_type": "code",
   "execution_count": null,
   "metadata": {
    "ExecuteTime": {
     "end_time": "2020-07-01T00:53:24.122251Z",
     "start_time": "2020-07-01T00:53:16.399Z"
    }
   },
   "outputs": [],
   "source": [
    "test_normality(grp_control,col='S'), test_normality(grp_exp,col='S');"
   ]
  },
  {
   "cell_type": "code",
   "execution_count": null,
   "metadata": {
    "ExecuteTime": {
     "end_time": "2020-07-01T00:53:24.123069Z",
     "start_time": "2020-07-01T00:53:16.401Z"
    },
    "code_folding": []
   },
   "outputs": [],
   "source": [
    "def Cohen_d(group1, group2):\n",
    "    \"\"\"\n",
    "    Compute Cohen's d.\n",
    "    \n",
    "    Args:\n",
    "        group1: Series or NumPy array\n",
    "        group2: Series or NumPy array\n",
    "\n",
    "    Returns:\n",
    "        d (float): effect size statistic\n",
    "\n",
    "    Interpretation:\n",
    "    > Small effect = 0.2\n",
    "    > Medium Effect = 0.5\n",
    "    > Large Effect = 0.8\n",
    "    \"\"\"\n",
    "    diff = group1.mean() - group2.mean()\n",
    "\n",
    "    n1, n2 = len(group1), len(group2)\n",
    "    var1 = group1.var()\n",
    "    var2 = group2.var()\n",
    "\n",
    "    # Calculate the pooled threshold as shown earlier\n",
    "    pooled_var = (n1 * var1 + n2 * var2) / (n1 + n2)\n",
    "    \n",
    "    # Calculate Cohen's d statistic\n",
    "    d = diff / np.sqrt(pooled_var)\n",
    "    \n",
    "    return d"
   ]
  },
  {
   "cell_type": "markdown",
   "metadata": {},
   "source": [
    "## NOTE: Functions below pasted in due to time. Will construct smaller but similar functions together next class"
   ]
  },
  {
   "cell_type": "code",
   "execution_count": null,
   "metadata": {
    "ExecuteTime": {
     "end_time": "2020-07-01T00:53:24.123878Z",
     "start_time": "2020-07-01T00:53:16.404Z"
    }
   },
   "outputs": [],
   "source": [
    "def plot_statplot(df_means,grps=None,\n",
    "                  group_col='Group',data_col='BL'):\n",
    "    \n",
    "    if grps is None:\n",
    "        grps = df_means.groupby(group_col).groups\n",
    "\n",
    "    ## Examine KDEs for BL\n",
    "    fig= plt.figure(figsize=(10,6))\n",
    "    axes=['','']\n",
    "    # Define gridspec to create grid coordinates             \n",
    "    gs = fig.add_gridspec(nrows=1,ncols=9)\n",
    "    axes[0] = fig.add_subplot(gs[0,0:7])\n",
    "    axes[1] = fig.add_subplot(gs[0,7:])\n",
    "\n",
    "    data1=df_means.loc[grps['ChR2'],data_col]\n",
    "    data2=df_means.loc[grps['Control'],data_col]\n",
    "    \n",
    "    group1 = {'name':'ChR2',\n",
    "             'data':data1,#df_means.loc[grps['ChR2'],data_col],\n",
    "             'n':len(data1)}\n",
    "    plot1 = {'hist_kws':dict(color='blue',lw=2, ls='-')}#,bins='auto')}\n",
    "\n",
    "    group2 = {'name':'Control',\n",
    "             'data':data2,#df_means.loc[grps['Control'],data_col],\n",
    "             'n':len(data2)}\n",
    "    plot2 = {'hist_kws':dict(color='orange',lw=2, ls='-')}#,bins='auto')}\n",
    "    \n",
    "    ax = axes[0]\n",
    "    label1= f\"{group1['name']} n={group1['n']}\"\n",
    "    sns.distplot(group1['data'], label=label1,\n",
    "                 ax=ax, hist_kws=plot1['hist_kws'])\n",
    "    # ax.legend()\n",
    "\n",
    "    label2= f\"{group2['name']} n={group2['n']}\"\n",
    "    sns.distplot(group2['data'], label=label2,\n",
    "                 ax=ax,hist_kws=plot2['hist_kws'])\n",
    "    ax.legend()\n",
    "\n",
    "    \n",
    "\n",
    "    ax.axvline(group1['data'].mean(),color=plot1['hist_kws']['color'], ls='--')\n",
    "    ax.axvline(group2['data'].mean(),color=plot2['hist_kws']['color'], ls='--')\n",
    "\n",
    "\n",
    "    ax = axes[1]\n",
    "\n",
    "    ax.bar(group1['name'],group1['data'].mean(),\n",
    "          yerr=sem(group1['data']))\n",
    "\n",
    "    ax.bar(group2['name'],group2['data'].mean(),\n",
    "          yerr=sem(group2['data']))\n",
    "    \n",
    "    plt.suptitle(f\"Phase = {data_col}\",fontsize=20)\n",
    "    \n",
    "    return fig, ax"
   ]
  },
  {
   "cell_type": "code",
   "execution_count": null,
   "metadata": {
    "ExecuteTime": {
     "end_time": "2020-07-01T00:53:24.124631Z",
     "start_time": "2020-07-01T00:53:16.406Z"
    }
   },
   "outputs": [],
   "source": [
    "def test_assumptions(df_means,grps=None,\n",
    "                     group_col='Group',\n",
    "                     grp1='ChR2',\n",
    "                     grp2='Control',\n",
    "                     data_col='BL',\n",
    "                    plot_data=False):\n",
    "    \"\"\"MASSIVE FUNCTION PASTED IN DUE TO VERY LATE STUDY GROUP\n",
    "    WE WILL CONSTRUCT A BETTER/SIMPLER VERSION OF THIS TOGETHER IN NEXT STUDY GROUP.\"\"\"\n",
    "    \n",
    "    if grps is None:\n",
    "        grps = df_means.groupby(group_col).groups\n",
    "        \n",
    "        \n",
    "    group1 = {'name':grp1,\n",
    "              'data':df_means.loc[grps[grp1],data_col]}\n",
    "    \n",
    "    group2 = {'name':grp2,\n",
    "              'data':df_means.loc[grps[grp2],data_col]}\n",
    "    \n",
    "    results = [['Col','Test','Group(s)','Stat','p','p<.05']]\n",
    "    \n",
    "    ## Normality testing\n",
    "    stat,p = stats.normaltest(group1['data'])\n",
    "    results.append([data_col,'Normality',group1['name'],\n",
    "                  stat, p, p<.05])\n",
    "    \n",
    "    stat,p = stats.normaltest(group2['data'])    \n",
    "    results.append([data_col,'Normality',group2['name'],\n",
    "                  stat, p, p<.05])\n",
    "    ## Homo. of Variance Testing\n",
    "    stat,p = stats.levene(group1['data'],group2['data'])\n",
    "    results.append([data_col,'Equal Variance','Both',\n",
    "                  stat, p, p<.05])\n",
    "    \n",
    "    \n",
    "    ## Parametric T-Test\n",
    "    stat,p = stats.ttest_ind(group1['data'],group2['data'])\n",
    "    results.append([data_col,'T-Test 2samp','Both',stat,p,p<.05])\n",
    "    \n",
    "    ## Non-Parametric MWU\n",
    "    stat,p = stats.mannwhitneyu(group1['data'],group2['data'])\n",
    "    results.append([data_col,'Mann Whitney U','Both',stat,p,p<.05])\n",
    "    \n",
    "    ## Effect size with Cohen's d\n",
    "    d = Cohen_d(group1['data'],group2['data'])\n",
    "    results.append([data_col, \"Cohen's d\", 'Both','','',d])\n",
    "    \n",
    "#     if plot_data:\n",
    "#         plot_dists(grp, col=data_col)\n",
    "    \n",
    "    return pd.DataFrame(results[1:],columns=results[0])\n",
    "\n",
    "res = test_assumptions(df_means)\n"
   ]
  },
  {
   "cell_type": "code",
   "execution_count": null,
   "metadata": {
    "ExecuteTime": {
     "end_time": "2020-07-01T00:53:24.125426Z",
     "start_time": "2020-07-01T00:53:16.409Z"
    },
    "scrolled": false
   },
   "outputs": [],
   "source": [
    "for phase in ['BL','S','PS','R']:\n",
    "    print('---'*30)\n",
    "\n",
    "    res = test_assumptions(df_means,data_col=phase)\n",
    "    display(res)\n",
    "    \n",
    "    fig,ax = plot_statplot(df_means, data_col=phase)\n",
    "    plt.show()\n",
    "\n",
    "# fig,ax = plot_dists(grp_control,grp_exp,col='R',name1='ChR2 Mice', name2='Control Mice')\n"
   ]
  },
  {
   "cell_type": "markdown",
   "metadata": {},
   "source": [
    "## CONCLUSION\n",
    "- Running the correct test according to the assumptions of normality and equal variance will ensure you can get the correct test result.\n",
    "\n",
    "- Notice how the last phase (R) did NOT come back as significant when we ran the t-test, but DID come back significant when we performed the Mann Whitney U instead. \n",
    "\n"
   ]
  },
  {
   "cell_type": "markdown",
   "metadata": {},
   "source": [
    "# APPENDIX"
   ]
  },
  {
   "cell_type": "markdown",
   "metadata": {},
   "source": [
    "(https://www.statsmodels.org/stable/generated/statsmodels.stats.multicomp.pairwise_tukeyhsd.html)"
   ]
  },
  {
   "cell_type": "code",
   "execution_count": null,
   "metadata": {},
   "outputs": [],
   "source": []
  },
  {
   "cell_type": "markdown",
   "metadata": {},
   "source": [
    "## Statistical Analysis Pipeline\n",
    "\n",
    "1. **Test for Normality**\n",
    "    - D'Agostino-Pearson's normality test<br>\n",
    "    ```scipy.stats.normaltest```\n",
    "    - Shapiro-Wilik Test<br>\n",
    "    ```scipy.stats.shapiro```<br>\n",
    "    \n",
    "    \n",
    "2. **Test for Homogeneity of Variance**\n",
    "\n",
    "    - Levene's Test<br>\n",
    "    ```scipy.stats.levene```\n",
    "\n",
    "\n",
    "3. **Choose appropriate test based upon 1. and 2.** <br> \n",
    "    - T Test (1-sample)\n",
    "        - `stats.ttest_1samp()`\n",
    "    - T Test (2-sample)\n",
    "        - `stats.ttest_ind()`\n",
    "        - [docs](https://docs.scipy.org/doc/scipy/reference/generated/scipy.stats.ttest_ind.html)\n",
    "    - Welch's T-Test (2-sample)\n",
    "        - `stats.ttest_ind(equal_var=False)`\n",
    "        - [docs](https://docs.scipy.org/doc/scipy/reference/generated/scipy.stats.ttest_ind.html)\n",
    "        \n",
    "    - Mann Whitney U\n",
    "        - `stats.mannwhitneyu()`\n",
    "        - [docs](https://docs.scipy.org/doc/scipy/reference/generated/scipy.stats.mannwhitneyu.html)\n",
    "    - ANOVA \n",
    "        - `stats.f_oneway()`\n",
    "        - [docs](https://docs.scipy.org/doc/scipy/reference/generated/scipy.stats.f_oneway.html)\n",
    "    - Tukey's\n",
    "     - `statsmodels.stats.multicomp.pairwise_tukeyhsd`\n",
    "     -[docs](https://www.statsmodels.org/stable/generated/statsmodels.stats.multicomp.pairwise_tukeyhsd.html)\n",
    "    \n",
    "\n",
    "4. **Calculate effect size for significant results.**\n",
    "    - Effect size: [cohen's d](https://stackoverflow.com/questions/21532471/how-to-calculate-cohens-d-in-python)\n",
    "    - Interpretation:\n",
    "        - Small effect = 0.2 ( cannot be seen by naked eye)\n",
    "        - Medium effect  = 0.5\n",
    "        - Large Effect = 0.8 (can be seen by naked eye)\n",
    "        \n",
    "5. **If significant, follow up with post-hoc tests (if have more than 2 groups)**\n",
    "    - [Tukey's](https://www.statsmodels.org/stable/generated/statsmodels.stats.multicomp.pairwise_tukeyhsd.html)\n"
   ]
  },
  {
   "cell_type": "code",
   "execution_count": null,
   "metadata": {
    "ExecuteTime": {
     "end_time": "2020-07-01T00:53:24.126286Z",
     "start_time": "2020-07-01T00:53:16.414Z"
    },
    "code_folding": [
     0
    ]
   },
   "outputs": [],
   "source": [
    "# def test_assumptions(df_means,grps=None,\n",
    "#                      group_col='Group',\n",
    "#                      grp1='ChR2',\n",
    "#                      grp2='Control',\n",
    "#                      data_col='BL'):\n",
    "    \n",
    "#     if grps is None:\n",
    "#         grps = df_means.groupby(group_col).groups\n",
    "        \n",
    "        \n",
    "#     group1 = {'name':grp1,\n",
    "#               'data':df_means.loc[grps[grp1],data_col]}\n",
    "    \n",
    "#     group2 = {'name':grp2,\n",
    "#               'data':df_means.loc[grps[grp2],data_col]}\n",
    "    \n",
    "#     results = [['Col','Test','Group(s)','Stat','p','p<.05']]\n",
    "    \n",
    "#     ## Normality testing\n",
    "#     stat,p = stats.normaltest(group1['data'])\n",
    "#     results.append([data_col,'Normality',group1['name'],\n",
    "#                   stat, p, p<.05])\n",
    "    \n",
    "#     stat,p = stats.normaltest(group2['data'])    \n",
    "#     results.append([data_col,'Normality',group2['name'],\n",
    "#                   stat, p, p<.05])\n",
    "#     ## Homo. of Variance Testing\n",
    "#     stat,p = stats.levene(group1['data'],group2['data'])\n",
    "#     results.append([data_col,'Equal Variance','Both',\n",
    "#                   stat, p, p<.05])\n",
    "    \n",
    "#     ## Parametric T-Test\n",
    "#     stat,p = stats.ttest_ind(group1['data'],group2['data'])\n",
    "#     results.append([data_col,'T-Test 2samp','Both',stat,p,p<.05])\n",
    "    \n",
    "#     ## Non-Parametric MWU\n",
    "#     stat,p = stats.mannwhitneyu(group1['data'],group2['data'])\n",
    "#     results.append([data_col,'Mann Whitney U','Both',stat,p,p<.05])\n",
    "    \n",
    "#     ## Effect size with Cohen's d\n",
    "#     d = Cohen_d(group1['data'],group2['data'])\n",
    "#     results.append([data_col, \"Cohen's d\", 'Both','','',d])\n",
    "    \n",
    "#     return pd.DataFrame(results[1:],columns=results[0])\n",
    "\n",
    "# test_assumptions(df_means)"
   ]
  },
  {
   "cell_type": "code",
   "execution_count": null,
   "metadata": {},
   "outputs": [],
   "source": []
  },
  {
   "cell_type": "markdown",
   "metadata": {},
   "source": [
    "## NORMALIZING ALL LICKS TO AVERAGE OF 4 BASELINE DAYS [NEW 06/29]\n"
   ]
  },
  {
   "cell_type": "code",
   "execution_count": null,
   "metadata": {},
   "outputs": [],
   "source": []
  },
  {
   "cell_type": "code",
   "execution_count": null,
   "metadata": {
    "ExecuteTime": {
     "end_time": "2020-07-01T01:07:10.267135Z",
     "start_time": "2020-07-01T01:07:10.263169Z"
    }
   },
   "outputs": [],
   "source": [
    "def process_df_to_pivot(df_,phase_dict):\n",
    "    ## MELTING THE DATA INTO FORM WORKABLE FOR PLOTS/ANALYSIS\n",
    "    df2 = pd.melt(df_.reset_index(),id_vars=['Mouse_ID','Group','Sex'],\n",
    "                  value_name='Licks',var_name='Day')\n",
    "    df2['Phase'] = df2['Day'].map(phase_dict)\n",
    "    df2['Day_of_Phase'] = df2['Day'].apply(lambda x: x[-1])\n",
    "    df2 = df2.dropna(subset=['Phase'])\n",
    "    return df2"
   ]
  },
  {
   "cell_type": "code",
   "execution_count": null,
   "metadata": {
    "ExecuteTime": {
     "end_time": "2020-07-01T01:00:39.090626Z",
     "start_time": "2020-07-01T01:00:39.084792Z"
    }
   },
   "outputs": [],
   "source": [
    "#Calculate average of BL days for each mouse\n",
    "baseline_lick_avgs = df[BL_cols].mean(axis=1)\n",
    "baseline_lick_avgs"
   ]
  },
  {
   "cell_type": "code",
   "execution_count": null,
   "metadata": {
    "ExecuteTime": {
     "end_time": "2020-07-01T00:53:22.745289Z",
     "start_time": "2020-07-01T00:53:22.684276Z"
    },
    "scrolled": true
   },
   "outputs": [],
   "source": [
    "df_norm = df.copy()#select_dtypes('number')#.applymap(lambda x:x/baseline_lick_avgs)\n",
    "## NORMALIZING ALL LICKS TO AVERAGE OF 4 BASELINE DAYS\n",
    "for col in df_norm.select_dtypes('number').columns:\n",
    "    df_norm[col] = df_norm[col] / baseline_lick_avgs\n",
    "df_norm"
   ]
  },
  {
   "cell_type": "code",
   "execution_count": null,
   "metadata": {
    "ExecuteTime": {
     "end_time": "2020-07-01T00:53:22.838106Z",
     "start_time": "2020-07-01T00:53:22.803266Z"
    }
   },
   "outputs": [],
   "source": [
    "df2_norm = process_df_to_pivot(df_norm,phase_dict)\n",
    "df2_norm"
   ]
  }
 ],
 "metadata": {
  "colab": {
   "collapsed_sections": [],
   "name": "Sect 18+19  with Titanic.ipynb",
   "provenance": []
  },
  "kernelspec": {
   "display_name": "Python [conda env:learn-env]",
   "language": "python",
   "name": "conda-env-learn-env-py"
  },
  "language_info": {
   "codemirror_mode": {
    "name": "ipython",
    "version": 3
   },
   "file_extension": ".py",
   "mimetype": "text/x-python",
   "name": "python",
   "nbconvert_exporter": "python",
   "pygments_lexer": "ipython3",
   "version": "3.6.9"
  },
  "toc": {
   "base_numbering": 1,
   "nav_menu": {},
   "number_sections": false,
   "sideBar": true,
   "skip_h1_title": false,
   "title_cell": "Table of Contents",
   "title_sidebar": "Contents",
   "toc_cell": false,
   "toc_position": {
    "height": "calc(100% - 180px)",
    "left": "10px",
    "top": "150px",
    "width": "320px"
   },
   "toc_section_display": true,
   "toc_window_display": true
  },
  "varInspector": {
   "cols": {
    "lenName": 16,
    "lenType": 16,
    "lenVar": 40
   },
   "kernels_config": {
    "python": {
     "delete_cmd_postfix": "",
     "delete_cmd_prefix": "del ",
     "library": "var_list.py",
     "varRefreshCmd": "print(var_dic_list())"
    },
    "r": {
     "delete_cmd_postfix": ") ",
     "delete_cmd_prefix": "rm(",
     "library": "var_list.r",
     "varRefreshCmd": "cat(var_dic_list()) "
    }
   },
   "position": {
    "height": "360.85px",
    "left": "630px",
    "right": "20px",
    "top": "38px",
    "width": "480px"
   },
   "types_to_exclude": [
    "module",
    "function",
    "builtin_function_or_method",
    "instance",
    "_Feature"
   ],
   "window_display": false
  }
 },
 "nbformat": 4,
 "nbformat_minor": 1
}
