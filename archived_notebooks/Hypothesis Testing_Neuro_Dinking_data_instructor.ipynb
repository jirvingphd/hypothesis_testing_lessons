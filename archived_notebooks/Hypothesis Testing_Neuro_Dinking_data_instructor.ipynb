{
 "cells": [
  {
   "cell_type": "markdown",
   "metadata": {
    "colab_type": "text",
    "id": "ZM6DyjYckZl2"
   },
   "source": [
    "\n",
    "# Hypothesis Testing with Neuro Data - RM ANOVA"
   ]
  },
  {
   "cell_type": "markdown",
   "metadata": {},
   "source": [
    "- 07/01/20"
   ]
  },
  {
   "cell_type": "markdown",
   "metadata": {},
   "source": [
    "## NOTES"
   ]
  },
  {
   "cell_type": "markdown",
   "metadata": {},
   "source": [
    "- This notebook is intended to walk through preparing my binge drinking data for Hypothesis Testing\n",
    "- Specifically, in this notebook I will attempt to use the most appropriate stat tests, which are not taught in the Learn curriculum\n",
    "\n",
    "\n",
    "- **Repeated Measures ANOVA in Python**\n",
    "-  **Two way RM ANOVA**"
   ]
  },
  {
   "cell_type": "markdown",
   "metadata": {},
   "source": [
    "### REFERENCES"
   ]
  },
  {
   "cell_type": "markdown",
   "metadata": {},
   "source": [
    "- [RM ANOVA IN Python with Statsmodels](https://www.marsja.se/repeated-measures-anova-in-python-using-statsmodels/)\n",
    "- One-way RM ANOVA (other packages): https://www.marsja.se/repeated-measures-anova-using-python/\n",
    "- Two-Way: https://marsja.se/two-way-anova-repeated-measures-using-python/\n"
   ]
  },
  {
   "cell_type": "markdown",
   "metadata": {},
   "source": [
    "# Statistical Tests Summary Table"
   ]
  },
  {
   "cell_type": "markdown",
   "metadata": {},
   "source": [
    "\n",
    "\n",
    "| Parametric tests (means) | Function | Nonparametric tests (medians) | Function |\n",
    " | --- | --- | --- | --- |\n",
    " | 1-sample t test |`scipy.stats.ttest_1samp()`|  1-sample Wilcoxon |`scipy.stats.wilcoxon`|\n",
    " | 2-sample t test |`scipy.stats.ttest_ind()` | Mann-Whitney U test |`scipy.stats.mannwhitneyu()` |\n",
    " | One-Way ANOVA | `scipy.stats.f_oneway()` | Kruskal-Wallis | `scipy.stats.kruskal` | \n",
    " \n",
    " \n",
    " | Factorial DOE with one factor and one blocking variable |Friedman test  |\n"
   ]
  },
  {
   "cell_type": "markdown",
   "metadata": {
    "ExecuteTime": {
     "end_time": "2020-01-21T22:34:50.811862Z",
     "start_time": "2020-01-21T22:34:50.809738Z"
    }
   },
   "source": [
    "# Real-World Science / Experimental Design"
   ]
  },
  {
   "cell_type": "markdown",
   "metadata": {},
   "source": [
    "- [James' Neuroscience Research Poster: Society for Neuroscience 2016](https://drive.google.com/open?id=14z2dUdPB_8ei3HA7R1j3ylwEP0kVZhJq)"
   ]
  },
  {
   "cell_type": "markdown",
   "metadata": {},
   "source": [
    "### The Role of Stress Neurons in the Amygdala in Addiction/Binge Drinking\n",
    "\n",
    "- We will be talking through some of the experiments from my Postdoctoral research on the roll of stress neurons in the escalation of binge drinking.\n"
   ]
  },
  {
   "cell_type": "markdown",
   "metadata": {},
   "source": [
    "#### The Opponent-Process Theory of Addiction \n",
    "\n",
    "\n",
    "<img src=\"https://raw.githubusercontent.com/jirvingphd/fsds_pt_100719_cohort_notes/master/Images/robinson-berridge-fig1.jpg\">"
   ]
  },
  {
   "cell_type": "markdown",
   "metadata": {},
   "source": [
    "## Hypothesis "
   ]
  },
  {
   "cell_type": "markdown",
   "metadata": {},
   "source": [
    "- Based on prior evidence in the field, stress neurons in the amygdala are believed to be responsible for the negative emotions that promote binge consumption to relieve negative symptoms"
   ]
  },
  {
   "cell_type": "markdown",
   "metadata": {},
   "source": [
    "$ H_1$: Increasing the activity of stress neurons (CRF neurons) in the amygdala will increase the amount of alcohol consumed by binge-drinking mice.\n",
    "\n",
    "$H_0$: Stimulation of CRF neurons has no effect on the amount of alcohol consumed.\n",
    "\n",
    "<img src=\"https://raw.githubusercontent.com/jirvingphd/fsds_pt_100719_cohort_notes/master/Images/jmi_poster_preds1.png\" width=60%>"
   ]
  },
  {
   "cell_type": "markdown",
   "metadata": {},
   "source": [
    "## Experimental Design"
   ]
  },
  {
   "cell_type": "markdown",
   "metadata": {},
   "source": [
    "<img src=\"https://raw.githubusercontent.com/jirvingphd/fsds_pt_100719_cohort_notes/master/Images/opto_6steps.jpg\">"
   ]
  },
  {
   "cell_type": "markdown",
   "metadata": {},
   "source": [
    "<img src=\"https://raw.githubusercontent.com/jirvingphd/hypothesis_testing_lessons/master/images/jmi_poster_fig1_no_mouse.png\">\n",
    "\n",
    "<!---\n",
    "<img src=\"https://raw.githubusercontent.com/jirvingphd/hypothesis_testing_lessons/master/images/jmi_poster_fig1.png\">--->"
   ]
  },
  {
   "cell_type": "markdown",
   "metadata": {
    "ExecuteTime": {
     "end_time": "2020-01-21T22:44:58.893416Z",
     "start_time": "2020-01-21T22:44:58.889888Z"
    }
   },
   "source": [
    "<img src=\"https://raw.githubusercontent.com/jirvingphd/fsds_pt_100719_cohort_notes/master/Images/jmi_poster_fig2.png\">\n",
    "\n",
    "<!---\n",
    "<img src=\"https://raw.githubusercontent.com/jirvingphd/fsds_100719_cohort_notes/master/images/sect_20_neuro_data.png\">')\n",
    "--->"
   ]
  },
  {
   "cell_type": "markdown",
   "metadata": {},
   "source": [
    "## Hypothesis Testing: Mouse Data"
   ]
  },
  {
   "cell_type": "markdown",
   "metadata": {},
   "source": [
    "### Hypothesis\n",
    "> Question: does stimulation of CRF Neurons in the central amygdala increase alcohol consumption?\n",
    "\n",
    "- Metric:\n",
    "- Groups:\n",
    "\n",
    "\n",
    "- $H_1$: \n",
    "\n",
    "- $H_0$: \n",
    "\n",
    "$\\alpha$=0.05\n"
   ]
  },
  {
   "cell_type": "markdown",
   "metadata": {},
   "source": [
    "### Step 1: which type of test?"
   ]
  },
  {
   "cell_type": "markdown",
   "metadata": {},
   "source": [
    "- What type of data?\n",
    "    -  Numerical (# of licks)\n",
    "- How many groups?\n",
    "    -  Control vs Experimental\n",
    "    - Training Phases (BL,S,PS,R)"
   ]
  },
  {
   "cell_type": "markdown",
   "metadata": {},
   "source": [
    "#### Let's First Try to Treat this as 2-sample T-Tests (one for each phase)"
   ]
  },
  {
   "cell_type": "code",
   "execution_count": 2,
   "metadata": {
    "ExecuteTime": {
     "end_time": "2020-07-01T21:25:59.896782Z",
     "start_time": "2020-07-01T21:25:56.007000Z"
    },
    "colab": {
     "base_uri": "https://localhost:8080/",
     "height": 221
    },
    "colab_type": "code",
    "id": "soGUgJ9RRJOp",
    "outputId": "e919e060-8aae-48d4-ed29-3b4637408f13"
   },
   "outputs": [
    {
     "name": "stderr",
     "output_type": "stream",
     "text": [
      "\n",
      "Bad key \"text.kerning_factor\" on line 4 in\n",
      "//anaconda3/envs/learn-env/lib/python3.6/site-packages/matplotlib/mpl-data/stylelib/_classic_test_patch.mplstyle.\n",
      "You probably need to get an updated matplotlibrc file from\n",
      "https://github.com/matplotlib/matplotlib/blob/v3.1.3/matplotlibrc.template\n",
      "or from the matplotlib source distribution\n",
      "//anaconda3/envs/learn-env/lib/python3.6/site-packages/statsmodels/tools/_testing.py:19: FutureWarning: pandas.util.testing is deprecated. Use the functions in the public API at pandas.testing instead.\n",
      "  import pandas.util.testing as tm\n"
     ]
    },
    {
     "name": "stdout",
     "output_type": "stream",
     "text": [
      "fsds v0.2.15 loaded.  Read the docs: https://fs-ds.readthedocs.io/en/latest/ \n"
     ]
    },
    {
     "data": {
      "text/html": [
       "<style  type=\"text/css\" >\n",
       "</style><table id=\"T_750cc662_bbe1_11ea_a2d4_4865ee12e626\" ><caption>Loaded Packages and Handles</caption><thead>    <tr>        <th class=\"col_heading level0 col0\" >Handle</th>        <th class=\"col_heading level0 col1\" >Package</th>        <th class=\"col_heading level0 col2\" >Description</th>    </tr></thead><tbody>\n",
       "                <tr>\n",
       "                                <td id=\"T_750cc662_bbe1_11ea_a2d4_4865ee12e626row0_col0\" class=\"data row0 col0\" >dp</td>\n",
       "                        <td id=\"T_750cc662_bbe1_11ea_a2d4_4865ee12e626row0_col1\" class=\"data row0 col1\" >IPython.display</td>\n",
       "                        <td id=\"T_750cc662_bbe1_11ea_a2d4_4865ee12e626row0_col2\" class=\"data row0 col2\" >Display modules with helpful display and clearing commands.</td>\n",
       "            </tr>\n",
       "            <tr>\n",
       "                                <td id=\"T_750cc662_bbe1_11ea_a2d4_4865ee12e626row1_col0\" class=\"data row1 col0\" >fs</td>\n",
       "                        <td id=\"T_750cc662_bbe1_11ea_a2d4_4865ee12e626row1_col1\" class=\"data row1 col1\" >fsds</td>\n",
       "                        <td id=\"T_750cc662_bbe1_11ea_a2d4_4865ee12e626row1_col2\" class=\"data row1 col2\" >Custom data science bootcamp student package</td>\n",
       "            </tr>\n",
       "            <tr>\n",
       "                                <td id=\"T_750cc662_bbe1_11ea_a2d4_4865ee12e626row2_col0\" class=\"data row2 col0\" >mpl</td>\n",
       "                        <td id=\"T_750cc662_bbe1_11ea_a2d4_4865ee12e626row2_col1\" class=\"data row2 col1\" >matplotlib</td>\n",
       "                        <td id=\"T_750cc662_bbe1_11ea_a2d4_4865ee12e626row2_col2\" class=\"data row2 col2\" >Matplotlib's base OOP module with formatting artists</td>\n",
       "            </tr>\n",
       "            <tr>\n",
       "                                <td id=\"T_750cc662_bbe1_11ea_a2d4_4865ee12e626row3_col0\" class=\"data row3 col0\" >plt</td>\n",
       "                        <td id=\"T_750cc662_bbe1_11ea_a2d4_4865ee12e626row3_col1\" class=\"data row3 col1\" >matplotlib.pyplot</td>\n",
       "                        <td id=\"T_750cc662_bbe1_11ea_a2d4_4865ee12e626row3_col2\" class=\"data row3 col2\" >Matplotlib's matlab-like plotting module</td>\n",
       "            </tr>\n",
       "            <tr>\n",
       "                                <td id=\"T_750cc662_bbe1_11ea_a2d4_4865ee12e626row4_col0\" class=\"data row4 col0\" >np</td>\n",
       "                        <td id=\"T_750cc662_bbe1_11ea_a2d4_4865ee12e626row4_col1\" class=\"data row4 col1\" >numpy</td>\n",
       "                        <td id=\"T_750cc662_bbe1_11ea_a2d4_4865ee12e626row4_col2\" class=\"data row4 col2\" >scientific computing with Python</td>\n",
       "            </tr>\n",
       "            <tr>\n",
       "                                <td id=\"T_750cc662_bbe1_11ea_a2d4_4865ee12e626row5_col0\" class=\"data row5 col0\" >pd</td>\n",
       "                        <td id=\"T_750cc662_bbe1_11ea_a2d4_4865ee12e626row5_col1\" class=\"data row5 col1\" >pandas</td>\n",
       "                        <td id=\"T_750cc662_bbe1_11ea_a2d4_4865ee12e626row5_col2\" class=\"data row5 col2\" >High performance data structures and tools</td>\n",
       "            </tr>\n",
       "            <tr>\n",
       "                                <td id=\"T_750cc662_bbe1_11ea_a2d4_4865ee12e626row6_col0\" class=\"data row6 col0\" >sns</td>\n",
       "                        <td id=\"T_750cc662_bbe1_11ea_a2d4_4865ee12e626row6_col1\" class=\"data row6 col1\" >seaborn</td>\n",
       "                        <td id=\"T_750cc662_bbe1_11ea_a2d4_4865ee12e626row6_col2\" class=\"data row6 col2\" >High-level data visualization library based on matplotlib</td>\n",
       "            </tr>\n",
       "    </tbody></table>"
      ],
      "text/plain": [
       "<pandas.io.formats.style.Styler at 0x10bd4b588>"
      ]
     },
     "metadata": {},
     "output_type": "display_data"
    },
    {
     "data": {
      "text/html": [
       "        <script type=\"text/javascript\">\n",
       "        window.PlotlyConfig = {MathJaxConfig: 'local'};\n",
       "        if (window.MathJax) {MathJax.Hub.Config({SVG: {font: \"STIX-Web\"}});}\n",
       "        if (typeof require !== 'undefined') {\n",
       "        require.undef(\"plotly\");\n",
       "        requirejs.config({\n",
       "            paths: {\n",
       "                'plotly': ['https://cdn.plot.ly/plotly-latest.min']\n",
       "            }\n",
       "        });\n",
       "        require(['plotly'], function(Plotly) {\n",
       "            window._Plotly = Plotly;\n",
       "        });\n",
       "        }\n",
       "        </script>\n",
       "        "
      ]
     },
     "metadata": {},
     "output_type": "display_data"
    },
    {
     "name": "stdout",
     "output_type": "stream",
     "text": [
      "[i] Pandas .iplot() method activated.\n"
     ]
    }
   ],
   "source": [
    "!pip install -U fsds\n",
    "from fsds.imports import *"
   ]
  },
  {
   "cell_type": "code",
   "execution_count": 3,
   "metadata": {
    "ExecuteTime": {
     "end_time": "2020-07-01T21:25:59.900866Z",
     "start_time": "2020-07-01T21:25:59.898102Z"
    }
   },
   "outputs": [],
   "source": [
    "plt.style.use('seaborn-notebook')\n",
    "pd.set_option('display.max_columns',0)\n",
    "pd.set_option('display.precision',3)"
   ]
  },
  {
   "cell_type": "markdown",
   "metadata": {},
   "source": [
    "# Obtaining/Preprocessing Data"
   ]
  },
  {
   "cell_type": "code",
   "execution_count": 4,
   "metadata": {
    "ExecuteTime": {
     "end_time": "2020-07-01T21:25:59.954072Z",
     "start_time": "2020-07-01T21:25:59.902446Z"
    }
   },
   "outputs": [
    {
     "data": {
      "text/html": [
       "<div>\n",
       "<style scoped>\n",
       "    .dataframe tbody tr th:only-of-type {\n",
       "        vertical-align: middle;\n",
       "    }\n",
       "\n",
       "    .dataframe tbody tr th {\n",
       "        vertical-align: top;\n",
       "    }\n",
       "\n",
       "    .dataframe thead th {\n",
       "        text-align: right;\n",
       "    }\n",
       "</style>\n",
       "<table border=\"1\" class=\"dataframe\">\n",
       "  <thead>\n",
       "    <tr style=\"text-align: right;\">\n",
       "      <th></th>\n",
       "      <th>Mouse_ID</th>\n",
       "      <th>Group</th>\n",
       "      <th>BL1</th>\n",
       "      <th>BL2</th>\n",
       "      <th>BL3</th>\n",
       "      <th>BL4</th>\n",
       "      <th>S1</th>\n",
       "      <th>S2</th>\n",
       "      <th>S3</th>\n",
       "      <th>S4</th>\n",
       "      <th>PS1</th>\n",
       "      <th>PS2</th>\n",
       "      <th>PS3</th>\n",
       "      <th>PS4</th>\n",
       "      <th>R1_1</th>\n",
       "      <th>R1_2</th>\n",
       "      <th>R1_3</th>\n",
       "      <th>R1_4</th>\n",
       "      <th>R2_1</th>\n",
       "      <th>R2_2</th>\n",
       "      <th>R2_3</th>\n",
       "      <th>R2_4</th>\n",
       "    </tr>\n",
       "  </thead>\n",
       "  <tbody>\n",
       "    <tr>\n",
       "      <th>0</th>\n",
       "      <td>1</td>\n",
       "      <td>Control</td>\n",
       "      <td>665</td>\n",
       "      <td>863</td>\n",
       "      <td>631</td>\n",
       "      <td>629</td>\n",
       "      <td>583</td>\n",
       "      <td>801</td>\n",
       "      <td>723</td>\n",
       "      <td>707</td>\n",
       "      <td>732</td>\n",
       "      <td>680</td>\n",
       "      <td>684</td>\n",
       "      <td>485</td>\n",
       "      <td>65</td>\n",
       "      <td>301</td>\n",
       "      <td>351</td>\n",
       "      <td>441</td>\n",
       "      <td>675</td>\n",
       "      <td>554</td>\n",
       "      <td>541</td>\n",
       "      <td>545</td>\n",
       "    </tr>\n",
       "    <tr>\n",
       "      <th>1</th>\n",
       "      <td>2</td>\n",
       "      <td>Control</td>\n",
       "      <td>859</td>\n",
       "      <td>849</td>\n",
       "      <td>685</td>\n",
       "      <td>731</td>\n",
       "      <td>854</td>\n",
       "      <td>1103</td>\n",
       "      <td>645</td>\n",
       "      <td>633</td>\n",
       "      <td>733</td>\n",
       "      <td>662</td>\n",
       "      <td>605</td>\n",
       "      <td>623</td>\n",
       "      <td>128</td>\n",
       "      <td>268</td>\n",
       "      <td>462</td>\n",
       "      <td>569</td>\n",
       "      <td>988</td>\n",
       "      <td>728</td>\n",
       "      <td>933</td>\n",
       "      <td>564</td>\n",
       "    </tr>\n",
       "    <tr>\n",
       "      <th>2</th>\n",
       "      <td>3</td>\n",
       "      <td>Control</td>\n",
       "      <td>589</td>\n",
       "      <td>507</td>\n",
       "      <td>635</td>\n",
       "      <td>902</td>\n",
       "      <td>699</td>\n",
       "      <td>743</td>\n",
       "      <td>761</td>\n",
       "      <td>949</td>\n",
       "      <td>872</td>\n",
       "      <td>952</td>\n",
       "      <td>828</td>\n",
       "      <td>806</td>\n",
       "      <td>129</td>\n",
       "      <td>311</td>\n",
       "      <td>669</td>\n",
       "      <td>666</td>\n",
       "      <td>516</td>\n",
       "      <td>579</td>\n",
       "      <td>913</td>\n",
       "      <td>736</td>\n",
       "    </tr>\n",
       "    <tr>\n",
       "      <th>3</th>\n",
       "      <td>4</td>\n",
       "      <td>Control</td>\n",
       "      <td>939</td>\n",
       "      <td>909</td>\n",
       "      <td>850</td>\n",
       "      <td>756</td>\n",
       "      <td>807</td>\n",
       "      <td>617</td>\n",
       "      <td>526</td>\n",
       "      <td>736</td>\n",
       "      <td>743</td>\n",
       "      <td>625</td>\n",
       "      <td>690</td>\n",
       "      <td>759</td>\n",
       "      <td>281</td>\n",
       "      <td>357</td>\n",
       "      <td>386</td>\n",
       "      <td>585</td>\n",
       "      <td>565</td>\n",
       "      <td>550</td>\n",
       "      <td>806</td>\n",
       "      <td>732</td>\n",
       "    </tr>\n",
       "    <tr>\n",
       "      <th>4</th>\n",
       "      <td>5</td>\n",
       "      <td>Experimental</td>\n",
       "      <td>710</td>\n",
       "      <td>505</td>\n",
       "      <td>494</td>\n",
       "      <td>596</td>\n",
       "      <td>620</td>\n",
       "      <td>589</td>\n",
       "      <td>676</td>\n",
       "      <td>537</td>\n",
       "      <td>779</td>\n",
       "      <td>537</td>\n",
       "      <td>581</td>\n",
       "      <td>515</td>\n",
       "      <td>477</td>\n",
       "      <td>659</td>\n",
       "      <td>737</td>\n",
       "      <td>606</td>\n",
       "      <td>713</td>\n",
       "      <td>682</td>\n",
       "      <td>709</td>\n",
       "      <td>759</td>\n",
       "    </tr>\n",
       "    <tr>\n",
       "      <th>5</th>\n",
       "      <td>6</td>\n",
       "      <td>Experimental</td>\n",
       "      <td>564</td>\n",
       "      <td>808</td>\n",
       "      <td>589</td>\n",
       "      <td>596</td>\n",
       "      <td>591</td>\n",
       "      <td>580</td>\n",
       "      <td>419</td>\n",
       "      <td>463</td>\n",
       "      <td>707</td>\n",
       "      <td>625</td>\n",
       "      <td>547</td>\n",
       "      <td>595</td>\n",
       "      <td>532</td>\n",
       "      <td>951</td>\n",
       "      <td>901</td>\n",
       "      <td>851</td>\n",
       "      <td>807</td>\n",
       "      <td>858</td>\n",
       "      <td>802</td>\n",
       "      <td>803</td>\n",
       "    </tr>\n",
       "    <tr>\n",
       "      <th>6</th>\n",
       "      <td>7</td>\n",
       "      <td>Experimental</td>\n",
       "      <td>722</td>\n",
       "      <td>732</td>\n",
       "      <td>783</td>\n",
       "      <td>946</td>\n",
       "      <td>882</td>\n",
       "      <td>723</td>\n",
       "      <td>764</td>\n",
       "      <td>892</td>\n",
       "      <td>621</td>\n",
       "      <td>764</td>\n",
       "      <td>720</td>\n",
       "      <td>478</td>\n",
       "      <td>297</td>\n",
       "      <td>558</td>\n",
       "      <td>803</td>\n",
       "      <td>694</td>\n",
       "      <td>855</td>\n",
       "      <td>797</td>\n",
       "      <td>938</td>\n",
       "      <td>878</td>\n",
       "    </tr>\n",
       "    <tr>\n",
       "      <th>7</th>\n",
       "      <td>8</td>\n",
       "      <td>Experimental</td>\n",
       "      <td>497</td>\n",
       "      <td>649</td>\n",
       "      <td>586</td>\n",
       "      <td>506</td>\n",
       "      <td>546</td>\n",
       "      <td>493</td>\n",
       "      <td>456</td>\n",
       "      <td>601</td>\n",
       "      <td>437</td>\n",
       "      <td>462</td>\n",
       "      <td>704</td>\n",
       "      <td>498</td>\n",
       "      <td>10</td>\n",
       "      <td>44</td>\n",
       "      <td>86</td>\n",
       "      <td>284</td>\n",
       "      <td>212</td>\n",
       "      <td>133</td>\n",
       "      <td>141</td>\n",
       "      <td>274</td>\n",
       "    </tr>\n",
       "    <tr>\n",
       "      <th>8</th>\n",
       "      <td>9</td>\n",
       "      <td>Experimental</td>\n",
       "      <td>741</td>\n",
       "      <td>668</td>\n",
       "      <td>778</td>\n",
       "      <td>638</td>\n",
       "      <td>759</td>\n",
       "      <td>791</td>\n",
       "      <td>568</td>\n",
       "      <td>664</td>\n",
       "      <td>390</td>\n",
       "      <td>346</td>\n",
       "      <td>773</td>\n",
       "      <td>682</td>\n",
       "      <td>3</td>\n",
       "      <td>212</td>\n",
       "      <td>417</td>\n",
       "      <td>443</td>\n",
       "      <td>486</td>\n",
       "      <td>444</td>\n",
       "      <td>533</td>\n",
       "      <td>578</td>\n",
       "    </tr>\n",
       "    <tr>\n",
       "      <th>9</th>\n",
       "      <td>10</td>\n",
       "      <td>Experimental</td>\n",
       "      <td>953</td>\n",
       "      <td>988</td>\n",
       "      <td>579</td>\n",
       "      <td>706</td>\n",
       "      <td>1106</td>\n",
       "      <td>812</td>\n",
       "      <td>902</td>\n",
       "      <td>835</td>\n",
       "      <td>829</td>\n",
       "      <td>801</td>\n",
       "      <td>1011</td>\n",
       "      <td>919</td>\n",
       "      <td>274</td>\n",
       "      <td>559</td>\n",
       "      <td>840</td>\n",
       "      <td>890</td>\n",
       "      <td>724</td>\n",
       "      <td>793</td>\n",
       "      <td>559</td>\n",
       "      <td>700</td>\n",
       "    </tr>\n",
       "    <tr>\n",
       "      <th>10</th>\n",
       "      <td>11</td>\n",
       "      <td>Experimental</td>\n",
       "      <td>753</td>\n",
       "      <td>613</td>\n",
       "      <td>573</td>\n",
       "      <td>642</td>\n",
       "      <td>820</td>\n",
       "      <td>752</td>\n",
       "      <td>759</td>\n",
       "      <td>564</td>\n",
       "      <td>635</td>\n",
       "      <td>641</td>\n",
       "      <td>706</td>\n",
       "      <td>763</td>\n",
       "      <td>287</td>\n",
       "      <td>526</td>\n",
       "      <td>841</td>\n",
       "      <td>838</td>\n",
       "      <td>691</td>\n",
       "      <td>657</td>\n",
       "      <td>680</td>\n",
       "      <td>781</td>\n",
       "    </tr>\n",
       "    <tr>\n",
       "      <th>11</th>\n",
       "      <td>12</td>\n",
       "      <td>Control</td>\n",
       "      <td>494</td>\n",
       "      <td>602</td>\n",
       "      <td>570</td>\n",
       "      <td>530</td>\n",
       "      <td>570</td>\n",
       "      <td>396</td>\n",
       "      <td>403</td>\n",
       "      <td>380</td>\n",
       "      <td>362</td>\n",
       "      <td>467</td>\n",
       "      <td>491</td>\n",
       "      <td>557</td>\n",
       "      <td>98</td>\n",
       "      <td>262</td>\n",
       "      <td>344</td>\n",
       "      <td>388</td>\n",
       "      <td>435</td>\n",
       "      <td>551</td>\n",
       "      <td>552</td>\n",
       "      <td>537</td>\n",
       "    </tr>\n",
       "    <tr>\n",
       "      <th>12</th>\n",
       "      <td>13</td>\n",
       "      <td>Control</td>\n",
       "      <td>587</td>\n",
       "      <td>630</td>\n",
       "      <td>564</td>\n",
       "      <td>627</td>\n",
       "      <td>572</td>\n",
       "      <td>419</td>\n",
       "      <td>369</td>\n",
       "      <td>416</td>\n",
       "      <td>403</td>\n",
       "      <td>552</td>\n",
       "      <td>575</td>\n",
       "      <td>589</td>\n",
       "      <td>172</td>\n",
       "      <td>298</td>\n",
       "      <td>422</td>\n",
       "      <td>596</td>\n",
       "      <td>447</td>\n",
       "      <td>589</td>\n",
       "      <td>463</td>\n",
       "      <td>364</td>\n",
       "    </tr>\n",
       "    <tr>\n",
       "      <th>13</th>\n",
       "      <td>14</td>\n",
       "      <td>Control</td>\n",
       "      <td>917</td>\n",
       "      <td>680</td>\n",
       "      <td>737</td>\n",
       "      <td>596</td>\n",
       "      <td>699</td>\n",
       "      <td>484</td>\n",
       "      <td>452</td>\n",
       "      <td>438</td>\n",
       "      <td>547</td>\n",
       "      <td>729</td>\n",
       "      <td>830</td>\n",
       "      <td>411</td>\n",
       "      <td>71</td>\n",
       "      <td>386</td>\n",
       "      <td>581</td>\n",
       "      <td>832</td>\n",
       "      <td>586</td>\n",
       "      <td>610</td>\n",
       "      <td>634</td>\n",
       "      <td>716</td>\n",
       "    </tr>\n",
       "    <tr>\n",
       "      <th>14</th>\n",
       "      <td>15</td>\n",
       "      <td>Control</td>\n",
       "      <td>440</td>\n",
       "      <td>767</td>\n",
       "      <td>642</td>\n",
       "      <td>623</td>\n",
       "      <td>532</td>\n",
       "      <td>663</td>\n",
       "      <td>601</td>\n",
       "      <td>553</td>\n",
       "      <td>315</td>\n",
       "      <td>434</td>\n",
       "      <td>543</td>\n",
       "      <td>619</td>\n",
       "      <td>115</td>\n",
       "      <td>101</td>\n",
       "      <td>356</td>\n",
       "      <td>457</td>\n",
       "      <td>412</td>\n",
       "      <td>582</td>\n",
       "      <td>549</td>\n",
       "      <td>696</td>\n",
       "    </tr>\n",
       "    <tr>\n",
       "      <th>15</th>\n",
       "      <td>16</td>\n",
       "      <td>Experimental</td>\n",
       "      <td>715</td>\n",
       "      <td>469</td>\n",
       "      <td>392</td>\n",
       "      <td>333</td>\n",
       "      <td>492</td>\n",
       "      <td>594</td>\n",
       "      <td>695</td>\n",
       "      <td>568</td>\n",
       "      <td>916</td>\n",
       "      <td>675</td>\n",
       "      <td>669</td>\n",
       "      <td>895</td>\n",
       "      <td>98</td>\n",
       "      <td>558</td>\n",
       "      <td>977</td>\n",
       "      <td>956</td>\n",
       "      <td>974</td>\n",
       "      <td>1049</td>\n",
       "      <td>1366</td>\n",
       "      <td>942</td>\n",
       "    </tr>\n",
       "    <tr>\n",
       "      <th>16</th>\n",
       "      <td>17</td>\n",
       "      <td>Experimental</td>\n",
       "      <td>184</td>\n",
       "      <td>250</td>\n",
       "      <td>373</td>\n",
       "      <td>457</td>\n",
       "      <td>505</td>\n",
       "      <td>475</td>\n",
       "      <td>519</td>\n",
       "      <td>578</td>\n",
       "      <td>542</td>\n",
       "      <td>477</td>\n",
       "      <td>601</td>\n",
       "      <td>390</td>\n",
       "      <td>131</td>\n",
       "      <td>656</td>\n",
       "      <td>845</td>\n",
       "      <td>699</td>\n",
       "      <td>494</td>\n",
       "      <td>920</td>\n",
       "      <td>431</td>\n",
       "      <td>521</td>\n",
       "    </tr>\n",
       "    <tr>\n",
       "      <th>17</th>\n",
       "      <td>18</td>\n",
       "      <td>Experimental</td>\n",
       "      <td>934</td>\n",
       "      <td>1237</td>\n",
       "      <td>354</td>\n",
       "      <td>705</td>\n",
       "      <td>646</td>\n",
       "      <td>619</td>\n",
       "      <td>885</td>\n",
       "      <td>626</td>\n",
       "      <td>496</td>\n",
       "      <td>954</td>\n",
       "      <td>718</td>\n",
       "      <td>821</td>\n",
       "      <td>170</td>\n",
       "      <td>909</td>\n",
       "      <td>1049</td>\n",
       "      <td>994</td>\n",
       "      <td>675</td>\n",
       "      <td>803</td>\n",
       "      <td>866</td>\n",
       "      <td>880</td>\n",
       "    </tr>\n",
       "    <tr>\n",
       "      <th>18</th>\n",
       "      <td>19</td>\n",
       "      <td>Experimental</td>\n",
       "      <td>578</td>\n",
       "      <td>548</td>\n",
       "      <td>556</td>\n",
       "      <td>479</td>\n",
       "      <td>533</td>\n",
       "      <td>721</td>\n",
       "      <td>651</td>\n",
       "      <td>546</td>\n",
       "      <td>537</td>\n",
       "      <td>564</td>\n",
       "      <td>519</td>\n",
       "      <td>446</td>\n",
       "      <td>601</td>\n",
       "      <td>565</td>\n",
       "      <td>450</td>\n",
       "      <td>684</td>\n",
       "      <td>1675</td>\n",
       "      <td>976</td>\n",
       "      <td>1249</td>\n",
       "      <td>1047</td>\n",
       "    </tr>\n",
       "    <tr>\n",
       "      <th>19</th>\n",
       "      <td>20</td>\n",
       "      <td>Experimental</td>\n",
       "      <td>400</td>\n",
       "      <td>193</td>\n",
       "      <td>188</td>\n",
       "      <td>350</td>\n",
       "      <td>232</td>\n",
       "      <td>34</td>\n",
       "      <td>65</td>\n",
       "      <td>158</td>\n",
       "      <td>89</td>\n",
       "      <td>175</td>\n",
       "      <td>186</td>\n",
       "      <td>319</td>\n",
       "      <td>14</td>\n",
       "      <td>60</td>\n",
       "      <td>118</td>\n",
       "      <td>149</td>\n",
       "      <td>133</td>\n",
       "      <td>270</td>\n",
       "      <td>472</td>\n",
       "      <td>293</td>\n",
       "    </tr>\n",
       "    <tr>\n",
       "      <th>20</th>\n",
       "      <td>21</td>\n",
       "      <td>Experimental</td>\n",
       "      <td>448</td>\n",
       "      <td>221</td>\n",
       "      <td>505</td>\n",
       "      <td>459</td>\n",
       "      <td>483</td>\n",
       "      <td>491</td>\n",
       "      <td>394</td>\n",
       "      <td>673</td>\n",
       "      <td>593</td>\n",
       "      <td>444</td>\n",
       "      <td>430</td>\n",
       "      <td>630</td>\n",
       "      <td>176</td>\n",
       "      <td>611</td>\n",
       "      <td>680</td>\n",
       "      <td>552</td>\n",
       "      <td>652</td>\n",
       "      <td>879</td>\n",
       "      <td>990</td>\n",
       "      <td>900</td>\n",
       "    </tr>\n",
       "    <tr>\n",
       "      <th>21</th>\n",
       "      <td>22</td>\n",
       "      <td>Control</td>\n",
       "      <td>270</td>\n",
       "      <td>132</td>\n",
       "      <td>250</td>\n",
       "      <td>192</td>\n",
       "      <td>364</td>\n",
       "      <td>229</td>\n",
       "      <td>219</td>\n",
       "      <td>329</td>\n",
       "      <td>120</td>\n",
       "      <td>147</td>\n",
       "      <td>186</td>\n",
       "      <td>337</td>\n",
       "      <td>8</td>\n",
       "      <td>70</td>\n",
       "      <td>18</td>\n",
       "      <td>175</td>\n",
       "      <td>232</td>\n",
       "      <td>238</td>\n",
       "      <td>209</td>\n",
       "      <td>200</td>\n",
       "    </tr>\n",
       "  </tbody>\n",
       "</table>\n",
       "</div>"
      ],
      "text/plain": [
       "    Mouse_ID         Group  BL1   BL2  BL3  ...  R1_4  R2_1  R2_2  R2_3  R2_4\n",
       "0          1       Control  665   863  631  ...   441   675   554   541   545\n",
       "1          2       Control  859   849  685  ...   569   988   728   933   564\n",
       "2          3       Control  589   507  635  ...   666   516   579   913   736\n",
       "3          4       Control  939   909  850  ...   585   565   550   806   732\n",
       "4          5  Experimental  710   505  494  ...   606   713   682   709   759\n",
       "5          6  Experimental  564   808  589  ...   851   807   858   802   803\n",
       "6          7  Experimental  722   732  783  ...   694   855   797   938   878\n",
       "7          8  Experimental  497   649  586  ...   284   212   133   141   274\n",
       "8          9  Experimental  741   668  778  ...   443   486   444   533   578\n",
       "9         10  Experimental  953   988  579  ...   890   724   793   559   700\n",
       "10        11  Experimental  753   613  573  ...   838   691   657   680   781\n",
       "11        12       Control  494   602  570  ...   388   435   551   552   537\n",
       "12        13       Control  587   630  564  ...   596   447   589   463   364\n",
       "13        14       Control  917   680  737  ...   832   586   610   634   716\n",
       "14        15       Control  440   767  642  ...   457   412   582   549   696\n",
       "15        16  Experimental  715   469  392  ...   956   974  1049  1366   942\n",
       "16        17  Experimental  184   250  373  ...   699   494   920   431   521\n",
       "17        18  Experimental  934  1237  354  ...   994   675   803   866   880\n",
       "18        19  Experimental  578   548  556  ...   684  1675   976  1249  1047\n",
       "19        20  Experimental  400   193  188  ...   149   133   270   472   293\n",
       "20        21  Experimental  448   221  505  ...   552   652   879   990   900\n",
       "21        22       Control  270   132  250  ...   175   232   238   209   200\n",
       "\n",
       "[22 rows x 22 columns]"
      ]
     },
     "execution_count": 4,
     "metadata": {},
     "output_type": "execute_result"
    }
   ],
   "source": [
    "df = pd.read_csv(\"../Neuroscience/mouse_drinking_data_cleaned.csv\")#,index_col=0)\n",
    "df.drop('Sex',inplace=True,axis=1)\n",
    "df "
   ]
  },
  {
   "cell_type": "markdown",
   "metadata": {},
   "source": [
    "#### Laying Out Our Approach\n",
    "\n",
    "1. Make a **dict/lists of the column names** that should be **averaged together** (`col_dict`)\n",
    "\n",
    "2. Make a new df of means using `col_dict`\n",
    "\n",
    "3. Make a grp dict using  `df_means.groupby('Group').groups` \n",
    "\n",
    "- Visualize the two populations\n",
    "\n",
    "- Prepare for hypothesis tests\n",
    "    - Either use `grps` dict to reference the correct columsn to pass into tests\n",
    "\n",
    "<!---\n",
    "**Variables:**\n",
    "\n",
    "- `col_dict` (dict): dict of column names to be grouped together for means\n",
    "- `df_means` (df): df of col_dict column means.\n",
    "- `grps` (dict): groupby dict where keys = 'Group' column and values = row indices\n",
    "\n",
    "- `data` (dict): Dictionary of...\n",
    "    - Series of each phase by group? --->"
   ]
  },
  {
   "cell_type": "code",
   "execution_count": 5,
   "metadata": {
    "ExecuteTime": {
     "end_time": "2020-07-01T21:25:59.960948Z",
     "start_time": "2020-07-01T21:25:59.955970Z"
    }
   },
   "outputs": [
    {
     "data": {
      "text/plain": [
       "{'BL': ['BL1', 'BL2', 'BL3', 'BL4'],\n",
       " 'S': ['S1', 'S2', 'S3', 'S4'],\n",
       " 'PS': ['PS1', 'PS2', 'PS3', 'PS4'],\n",
       " 'R1': ['R1_1', 'R1_2', 'R1_3', 'R1_4'],\n",
       " 'R2': ['R2_1', 'R2_2', 'R2_3', 'R2_4']}"
      ]
     },
     "execution_count": 5,
     "metadata": {},
     "output_type": "execute_result"
    }
   ],
   "source": [
    "phases = ['BL','S','PS','R1','R2']\n",
    "col_dict = {}\n",
    "for phase in phases:\n",
    "    col_dict[phase] = [col for col in df.columns if col.startswith(phase) ]\n",
    "col_dict    "
   ]
  },
  {
   "cell_type": "code",
   "execution_count": 6,
   "metadata": {
    "ExecuteTime": {
     "end_time": "2020-07-01T21:25:59.967260Z",
     "start_time": "2020-07-01T21:25:59.962516Z"
    },
    "scrolled": true
   },
   "outputs": [
    {
     "data": {
      "text/plain": [
       "{'BL1': 'BL',\n",
       " 'BL2': 'BL',\n",
       " 'BL3': 'BL',\n",
       " 'BL4': 'BL',\n",
       " 'S1': 'S',\n",
       " 'S2': 'S',\n",
       " 'S3': 'S',\n",
       " 'S4': 'S',\n",
       " 'PS1': 'PS',\n",
       " 'PS2': 'PS',\n",
       " 'PS3': 'PS',\n",
       " 'PS4': 'PS',\n",
       " 'R1_1': 'R1',\n",
       " 'R1_2': 'R1',\n",
       " 'R1_3': 'R1',\n",
       " 'R1_4': 'R1',\n",
       " 'R2_1': 'R2',\n",
       " 'R2_2': 'R2',\n",
       " 'R2_3': 'R2',\n",
       " 'R2_4': 'R2'}"
      ]
     },
     "execution_count": 6,
     "metadata": {},
     "output_type": "execute_result"
    }
   ],
   "source": [
    "phase_dict = {}\n",
    "for phase,colnames in col_dict.items():\n",
    "    for col in colnames:\n",
    "        phase_dict[col] = phase\n",
    "phase_dict"
   ]
  },
  {
   "cell_type": "code",
   "execution_count": 40,
   "metadata": {
    "ExecuteTime": {
     "end_time": "2020-07-01T21:42:53.157268Z",
     "start_time": "2020-07-01T21:42:53.155085Z"
    }
   },
   "outputs": [],
   "source": [
    "# df"
   ]
  },
  {
   "cell_type": "markdown",
   "metadata": {},
   "source": [
    "### Calculating means"
   ]
  },
  {
   "cell_type": "code",
   "execution_count": 41,
   "metadata": {
    "ExecuteTime": {
     "end_time": "2020-07-01T21:42:56.860639Z",
     "start_time": "2020-07-01T21:42:56.858665Z"
    }
   },
   "outputs": [],
   "source": [
    "# cols = col_dict['BL']\n",
    "# df[cols].mean(axis=1)"
   ]
  },
  {
   "cell_type": "code",
   "execution_count": 42,
   "metadata": {
    "ExecuteTime": {
     "end_time": "2020-07-01T21:43:04.595121Z",
     "start_time": "2020-07-01T21:43:04.562931Z"
    }
   },
   "outputs": [
    {
     "data": {
      "text/html": [
       "<div>\n",
       "<style scoped>\n",
       "    .dataframe tbody tr th:only-of-type {\n",
       "        vertical-align: middle;\n",
       "    }\n",
       "\n",
       "    .dataframe tbody tr th {\n",
       "        vertical-align: top;\n",
       "    }\n",
       "\n",
       "    .dataframe thead th {\n",
       "        text-align: right;\n",
       "    }\n",
       "</style>\n",
       "<table border=\"1\" class=\"dataframe\">\n",
       "  <thead>\n",
       "    <tr style=\"text-align: right;\">\n",
       "      <th></th>\n",
       "      <th>Mouse_ID</th>\n",
       "      <th>Group</th>\n",
       "      <th>BL</th>\n",
       "      <th>S</th>\n",
       "      <th>PS</th>\n",
       "      <th>R1</th>\n",
       "      <th>R2</th>\n",
       "    </tr>\n",
       "  </thead>\n",
       "  <tbody>\n",
       "    <tr>\n",
       "      <th>0</th>\n",
       "      <td>1</td>\n",
       "      <td>Control</td>\n",
       "      <td>697.00</td>\n",
       "      <td>703.50</td>\n",
       "      <td>645.25</td>\n",
       "      <td>289.50</td>\n",
       "      <td>578.75</td>\n",
       "    </tr>\n",
       "    <tr>\n",
       "      <th>1</th>\n",
       "      <td>2</td>\n",
       "      <td>Control</td>\n",
       "      <td>781.00</td>\n",
       "      <td>808.75</td>\n",
       "      <td>655.75</td>\n",
       "      <td>356.75</td>\n",
       "      <td>803.25</td>\n",
       "    </tr>\n",
       "    <tr>\n",
       "      <th>2</th>\n",
       "      <td>3</td>\n",
       "      <td>Control</td>\n",
       "      <td>658.25</td>\n",
       "      <td>788.00</td>\n",
       "      <td>864.50</td>\n",
       "      <td>443.75</td>\n",
       "      <td>686.00</td>\n",
       "    </tr>\n",
       "    <tr>\n",
       "      <th>3</th>\n",
       "      <td>4</td>\n",
       "      <td>Control</td>\n",
       "      <td>863.50</td>\n",
       "      <td>671.50</td>\n",
       "      <td>704.25</td>\n",
       "      <td>402.25</td>\n",
       "      <td>663.25</td>\n",
       "    </tr>\n",
       "    <tr>\n",
       "      <th>4</th>\n",
       "      <td>5</td>\n",
       "      <td>Experimental</td>\n",
       "      <td>576.25</td>\n",
       "      <td>605.50</td>\n",
       "      <td>603.00</td>\n",
       "      <td>619.75</td>\n",
       "      <td>715.75</td>\n",
       "    </tr>\n",
       "    <tr>\n",
       "      <th>5</th>\n",
       "      <td>6</td>\n",
       "      <td>Experimental</td>\n",
       "      <td>639.25</td>\n",
       "      <td>513.25</td>\n",
       "      <td>618.50</td>\n",
       "      <td>808.75</td>\n",
       "      <td>817.50</td>\n",
       "    </tr>\n",
       "    <tr>\n",
       "      <th>6</th>\n",
       "      <td>7</td>\n",
       "      <td>Experimental</td>\n",
       "      <td>795.75</td>\n",
       "      <td>815.25</td>\n",
       "      <td>645.75</td>\n",
       "      <td>588.00</td>\n",
       "      <td>867.00</td>\n",
       "    </tr>\n",
       "    <tr>\n",
       "      <th>7</th>\n",
       "      <td>8</td>\n",
       "      <td>Experimental</td>\n",
       "      <td>559.50</td>\n",
       "      <td>524.00</td>\n",
       "      <td>525.25</td>\n",
       "      <td>106.00</td>\n",
       "      <td>190.00</td>\n",
       "    </tr>\n",
       "    <tr>\n",
       "      <th>8</th>\n",
       "      <td>9</td>\n",
       "      <td>Experimental</td>\n",
       "      <td>706.25</td>\n",
       "      <td>695.50</td>\n",
       "      <td>547.75</td>\n",
       "      <td>268.75</td>\n",
       "      <td>510.25</td>\n",
       "    </tr>\n",
       "    <tr>\n",
       "      <th>9</th>\n",
       "      <td>10</td>\n",
       "      <td>Experimental</td>\n",
       "      <td>806.50</td>\n",
       "      <td>913.75</td>\n",
       "      <td>890.00</td>\n",
       "      <td>640.75</td>\n",
       "      <td>694.00</td>\n",
       "    </tr>\n",
       "    <tr>\n",
       "      <th>10</th>\n",
       "      <td>11</td>\n",
       "      <td>Experimental</td>\n",
       "      <td>645.25</td>\n",
       "      <td>723.75</td>\n",
       "      <td>686.25</td>\n",
       "      <td>623.00</td>\n",
       "      <td>702.25</td>\n",
       "    </tr>\n",
       "    <tr>\n",
       "      <th>11</th>\n",
       "      <td>12</td>\n",
       "      <td>Control</td>\n",
       "      <td>549.00</td>\n",
       "      <td>437.25</td>\n",
       "      <td>469.25</td>\n",
       "      <td>273.00</td>\n",
       "      <td>518.75</td>\n",
       "    </tr>\n",
       "    <tr>\n",
       "      <th>12</th>\n",
       "      <td>13</td>\n",
       "      <td>Control</td>\n",
       "      <td>602.00</td>\n",
       "      <td>444.00</td>\n",
       "      <td>529.75</td>\n",
       "      <td>372.00</td>\n",
       "      <td>465.75</td>\n",
       "    </tr>\n",
       "    <tr>\n",
       "      <th>13</th>\n",
       "      <td>14</td>\n",
       "      <td>Control</td>\n",
       "      <td>732.50</td>\n",
       "      <td>518.25</td>\n",
       "      <td>629.25</td>\n",
       "      <td>467.50</td>\n",
       "      <td>636.50</td>\n",
       "    </tr>\n",
       "    <tr>\n",
       "      <th>14</th>\n",
       "      <td>15</td>\n",
       "      <td>Control</td>\n",
       "      <td>618.00</td>\n",
       "      <td>587.25</td>\n",
       "      <td>477.75</td>\n",
       "      <td>257.25</td>\n",
       "      <td>559.75</td>\n",
       "    </tr>\n",
       "    <tr>\n",
       "      <th>15</th>\n",
       "      <td>16</td>\n",
       "      <td>Experimental</td>\n",
       "      <td>477.25</td>\n",
       "      <td>587.25</td>\n",
       "      <td>788.75</td>\n",
       "      <td>647.25</td>\n",
       "      <td>1082.75</td>\n",
       "    </tr>\n",
       "    <tr>\n",
       "      <th>16</th>\n",
       "      <td>17</td>\n",
       "      <td>Experimental</td>\n",
       "      <td>316.00</td>\n",
       "      <td>519.25</td>\n",
       "      <td>502.50</td>\n",
       "      <td>582.75</td>\n",
       "      <td>591.50</td>\n",
       "    </tr>\n",
       "    <tr>\n",
       "      <th>17</th>\n",
       "      <td>18</td>\n",
       "      <td>Experimental</td>\n",
       "      <td>807.50</td>\n",
       "      <td>694.00</td>\n",
       "      <td>747.25</td>\n",
       "      <td>780.50</td>\n",
       "      <td>806.00</td>\n",
       "    </tr>\n",
       "    <tr>\n",
       "      <th>18</th>\n",
       "      <td>19</td>\n",
       "      <td>Experimental</td>\n",
       "      <td>540.25</td>\n",
       "      <td>612.75</td>\n",
       "      <td>516.50</td>\n",
       "      <td>575.00</td>\n",
       "      <td>1236.75</td>\n",
       "    </tr>\n",
       "    <tr>\n",
       "      <th>19</th>\n",
       "      <td>20</td>\n",
       "      <td>Experimental</td>\n",
       "      <td>282.75</td>\n",
       "      <td>122.25</td>\n",
       "      <td>192.25</td>\n",
       "      <td>85.25</td>\n",
       "      <td>292.00</td>\n",
       "    </tr>\n",
       "    <tr>\n",
       "      <th>20</th>\n",
       "      <td>21</td>\n",
       "      <td>Experimental</td>\n",
       "      <td>408.25</td>\n",
       "      <td>510.25</td>\n",
       "      <td>524.25</td>\n",
       "      <td>504.75</td>\n",
       "      <td>855.25</td>\n",
       "    </tr>\n",
       "    <tr>\n",
       "      <th>21</th>\n",
       "      <td>22</td>\n",
       "      <td>Control</td>\n",
       "      <td>211.00</td>\n",
       "      <td>285.25</td>\n",
       "      <td>197.50</td>\n",
       "      <td>67.75</td>\n",
       "      <td>219.75</td>\n",
       "    </tr>\n",
       "  </tbody>\n",
       "</table>\n",
       "</div>"
      ],
      "text/plain": [
       "    Mouse_ID         Group      BL       S      PS      R1       R2\n",
       "0          1       Control  697.00  703.50  645.25  289.50   578.75\n",
       "1          2       Control  781.00  808.75  655.75  356.75   803.25\n",
       "2          3       Control  658.25  788.00  864.50  443.75   686.00\n",
       "3          4       Control  863.50  671.50  704.25  402.25   663.25\n",
       "4          5  Experimental  576.25  605.50  603.00  619.75   715.75\n",
       "5          6  Experimental  639.25  513.25  618.50  808.75   817.50\n",
       "6          7  Experimental  795.75  815.25  645.75  588.00   867.00\n",
       "7          8  Experimental  559.50  524.00  525.25  106.00   190.00\n",
       "8          9  Experimental  706.25  695.50  547.75  268.75   510.25\n",
       "9         10  Experimental  806.50  913.75  890.00  640.75   694.00\n",
       "10        11  Experimental  645.25  723.75  686.25  623.00   702.25\n",
       "11        12       Control  549.00  437.25  469.25  273.00   518.75\n",
       "12        13       Control  602.00  444.00  529.75  372.00   465.75\n",
       "13        14       Control  732.50  518.25  629.25  467.50   636.50\n",
       "14        15       Control  618.00  587.25  477.75  257.25   559.75\n",
       "15        16  Experimental  477.25  587.25  788.75  647.25  1082.75\n",
       "16        17  Experimental  316.00  519.25  502.50  582.75   591.50\n",
       "17        18  Experimental  807.50  694.00  747.25  780.50   806.00\n",
       "18        19  Experimental  540.25  612.75  516.50  575.00  1236.75\n",
       "19        20  Experimental  282.75  122.25  192.25   85.25   292.00\n",
       "20        21  Experimental  408.25  510.25  524.25  504.75   855.25\n",
       "21        22       Control  211.00  285.25  197.50   67.75   219.75"
      ]
     },
     "execution_count": 42,
     "metadata": {},
     "output_type": "execute_result"
    }
   ],
   "source": [
    "## Calculated the means by phase\n",
    "df_means = df[['Mouse_ID','Group']].copy()\n",
    "for phase, cols in col_dict.items():\n",
    "    df_means[phase] = df[cols].mean(axis=1)\n",
    "df_means"
   ]
  },
  {
   "cell_type": "code",
   "execution_count": 43,
   "metadata": {
    "ExecuteTime": {
     "end_time": "2020-07-01T21:44:20.640936Z",
     "start_time": "2020-07-01T21:44:20.599050Z"
    }
   },
   "outputs": [
    {
     "data": {
      "text/html": [
       "<div>\n",
       "<style scoped>\n",
       "    .dataframe tbody tr th:only-of-type {\n",
       "        vertical-align: middle;\n",
       "    }\n",
       "\n",
       "    .dataframe tbody tr th {\n",
       "        vertical-align: top;\n",
       "    }\n",
       "\n",
       "    .dataframe thead th {\n",
       "        text-align: right;\n",
       "    }\n",
       "</style>\n",
       "<table border=\"1\" class=\"dataframe\">\n",
       "  <thead>\n",
       "    <tr style=\"text-align: right;\">\n",
       "      <th></th>\n",
       "      <th>Mouse_ID</th>\n",
       "      <th>Group</th>\n",
       "      <th>BL1</th>\n",
       "      <th>BL2</th>\n",
       "      <th>BL3</th>\n",
       "      <th>BL4</th>\n",
       "      <th>S1</th>\n",
       "      <th>S2</th>\n",
       "      <th>S3</th>\n",
       "      <th>S4</th>\n",
       "      <th>PS1</th>\n",
       "      <th>PS2</th>\n",
       "      <th>PS3</th>\n",
       "      <th>PS4</th>\n",
       "      <th>R1_1</th>\n",
       "      <th>R1_2</th>\n",
       "      <th>R1_3</th>\n",
       "      <th>R1_4</th>\n",
       "      <th>R2_1</th>\n",
       "      <th>R2_2</th>\n",
       "      <th>R2_3</th>\n",
       "      <th>R2_4</th>\n",
       "    </tr>\n",
       "  </thead>\n",
       "  <tbody>\n",
       "    <tr>\n",
       "      <th>0</th>\n",
       "      <td>1</td>\n",
       "      <td>Control</td>\n",
       "      <td>665</td>\n",
       "      <td>863</td>\n",
       "      <td>631</td>\n",
       "      <td>629</td>\n",
       "      <td>583</td>\n",
       "      <td>801</td>\n",
       "      <td>723</td>\n",
       "      <td>707</td>\n",
       "      <td>732</td>\n",
       "      <td>680</td>\n",
       "      <td>684</td>\n",
       "      <td>485</td>\n",
       "      <td>65</td>\n",
       "      <td>301</td>\n",
       "      <td>351</td>\n",
       "      <td>441</td>\n",
       "      <td>675</td>\n",
       "      <td>554</td>\n",
       "      <td>541</td>\n",
       "      <td>545</td>\n",
       "    </tr>\n",
       "    <tr>\n",
       "      <th>1</th>\n",
       "      <td>2</td>\n",
       "      <td>Control</td>\n",
       "      <td>859</td>\n",
       "      <td>849</td>\n",
       "      <td>685</td>\n",
       "      <td>731</td>\n",
       "      <td>854</td>\n",
       "      <td>1103</td>\n",
       "      <td>645</td>\n",
       "      <td>633</td>\n",
       "      <td>733</td>\n",
       "      <td>662</td>\n",
       "      <td>605</td>\n",
       "      <td>623</td>\n",
       "      <td>128</td>\n",
       "      <td>268</td>\n",
       "      <td>462</td>\n",
       "      <td>569</td>\n",
       "      <td>988</td>\n",
       "      <td>728</td>\n",
       "      <td>933</td>\n",
       "      <td>564</td>\n",
       "    </tr>\n",
       "    <tr>\n",
       "      <th>2</th>\n",
       "      <td>3</td>\n",
       "      <td>Control</td>\n",
       "      <td>589</td>\n",
       "      <td>507</td>\n",
       "      <td>635</td>\n",
       "      <td>902</td>\n",
       "      <td>699</td>\n",
       "      <td>743</td>\n",
       "      <td>761</td>\n",
       "      <td>949</td>\n",
       "      <td>872</td>\n",
       "      <td>952</td>\n",
       "      <td>828</td>\n",
       "      <td>806</td>\n",
       "      <td>129</td>\n",
       "      <td>311</td>\n",
       "      <td>669</td>\n",
       "      <td>666</td>\n",
       "      <td>516</td>\n",
       "      <td>579</td>\n",
       "      <td>913</td>\n",
       "      <td>736</td>\n",
       "    </tr>\n",
       "    <tr>\n",
       "      <th>3</th>\n",
       "      <td>4</td>\n",
       "      <td>Control</td>\n",
       "      <td>939</td>\n",
       "      <td>909</td>\n",
       "      <td>850</td>\n",
       "      <td>756</td>\n",
       "      <td>807</td>\n",
       "      <td>617</td>\n",
       "      <td>526</td>\n",
       "      <td>736</td>\n",
       "      <td>743</td>\n",
       "      <td>625</td>\n",
       "      <td>690</td>\n",
       "      <td>759</td>\n",
       "      <td>281</td>\n",
       "      <td>357</td>\n",
       "      <td>386</td>\n",
       "      <td>585</td>\n",
       "      <td>565</td>\n",
       "      <td>550</td>\n",
       "      <td>806</td>\n",
       "      <td>732</td>\n",
       "    </tr>\n",
       "    <tr>\n",
       "      <th>4</th>\n",
       "      <td>5</td>\n",
       "      <td>Experimental</td>\n",
       "      <td>710</td>\n",
       "      <td>505</td>\n",
       "      <td>494</td>\n",
       "      <td>596</td>\n",
       "      <td>620</td>\n",
       "      <td>589</td>\n",
       "      <td>676</td>\n",
       "      <td>537</td>\n",
       "      <td>779</td>\n",
       "      <td>537</td>\n",
       "      <td>581</td>\n",
       "      <td>515</td>\n",
       "      <td>477</td>\n",
       "      <td>659</td>\n",
       "      <td>737</td>\n",
       "      <td>606</td>\n",
       "      <td>713</td>\n",
       "      <td>682</td>\n",
       "      <td>709</td>\n",
       "      <td>759</td>\n",
       "    </tr>\n",
       "    <tr>\n",
       "      <th>5</th>\n",
       "      <td>6</td>\n",
       "      <td>Experimental</td>\n",
       "      <td>564</td>\n",
       "      <td>808</td>\n",
       "      <td>589</td>\n",
       "      <td>596</td>\n",
       "      <td>591</td>\n",
       "      <td>580</td>\n",
       "      <td>419</td>\n",
       "      <td>463</td>\n",
       "      <td>707</td>\n",
       "      <td>625</td>\n",
       "      <td>547</td>\n",
       "      <td>595</td>\n",
       "      <td>532</td>\n",
       "      <td>951</td>\n",
       "      <td>901</td>\n",
       "      <td>851</td>\n",
       "      <td>807</td>\n",
       "      <td>858</td>\n",
       "      <td>802</td>\n",
       "      <td>803</td>\n",
       "    </tr>\n",
       "    <tr>\n",
       "      <th>6</th>\n",
       "      <td>7</td>\n",
       "      <td>Experimental</td>\n",
       "      <td>722</td>\n",
       "      <td>732</td>\n",
       "      <td>783</td>\n",
       "      <td>946</td>\n",
       "      <td>882</td>\n",
       "      <td>723</td>\n",
       "      <td>764</td>\n",
       "      <td>892</td>\n",
       "      <td>621</td>\n",
       "      <td>764</td>\n",
       "      <td>720</td>\n",
       "      <td>478</td>\n",
       "      <td>297</td>\n",
       "      <td>558</td>\n",
       "      <td>803</td>\n",
       "      <td>694</td>\n",
       "      <td>855</td>\n",
       "      <td>797</td>\n",
       "      <td>938</td>\n",
       "      <td>878</td>\n",
       "    </tr>\n",
       "    <tr>\n",
       "      <th>7</th>\n",
       "      <td>8</td>\n",
       "      <td>Experimental</td>\n",
       "      <td>497</td>\n",
       "      <td>649</td>\n",
       "      <td>586</td>\n",
       "      <td>506</td>\n",
       "      <td>546</td>\n",
       "      <td>493</td>\n",
       "      <td>456</td>\n",
       "      <td>601</td>\n",
       "      <td>437</td>\n",
       "      <td>462</td>\n",
       "      <td>704</td>\n",
       "      <td>498</td>\n",
       "      <td>10</td>\n",
       "      <td>44</td>\n",
       "      <td>86</td>\n",
       "      <td>284</td>\n",
       "      <td>212</td>\n",
       "      <td>133</td>\n",
       "      <td>141</td>\n",
       "      <td>274</td>\n",
       "    </tr>\n",
       "    <tr>\n",
       "      <th>8</th>\n",
       "      <td>9</td>\n",
       "      <td>Experimental</td>\n",
       "      <td>741</td>\n",
       "      <td>668</td>\n",
       "      <td>778</td>\n",
       "      <td>638</td>\n",
       "      <td>759</td>\n",
       "      <td>791</td>\n",
       "      <td>568</td>\n",
       "      <td>664</td>\n",
       "      <td>390</td>\n",
       "      <td>346</td>\n",
       "      <td>773</td>\n",
       "      <td>682</td>\n",
       "      <td>3</td>\n",
       "      <td>212</td>\n",
       "      <td>417</td>\n",
       "      <td>443</td>\n",
       "      <td>486</td>\n",
       "      <td>444</td>\n",
       "      <td>533</td>\n",
       "      <td>578</td>\n",
       "    </tr>\n",
       "    <tr>\n",
       "      <th>9</th>\n",
       "      <td>10</td>\n",
       "      <td>Experimental</td>\n",
       "      <td>953</td>\n",
       "      <td>988</td>\n",
       "      <td>579</td>\n",
       "      <td>706</td>\n",
       "      <td>1106</td>\n",
       "      <td>812</td>\n",
       "      <td>902</td>\n",
       "      <td>835</td>\n",
       "      <td>829</td>\n",
       "      <td>801</td>\n",
       "      <td>1011</td>\n",
       "      <td>919</td>\n",
       "      <td>274</td>\n",
       "      <td>559</td>\n",
       "      <td>840</td>\n",
       "      <td>890</td>\n",
       "      <td>724</td>\n",
       "      <td>793</td>\n",
       "      <td>559</td>\n",
       "      <td>700</td>\n",
       "    </tr>\n",
       "    <tr>\n",
       "      <th>10</th>\n",
       "      <td>11</td>\n",
       "      <td>Experimental</td>\n",
       "      <td>753</td>\n",
       "      <td>613</td>\n",
       "      <td>573</td>\n",
       "      <td>642</td>\n",
       "      <td>820</td>\n",
       "      <td>752</td>\n",
       "      <td>759</td>\n",
       "      <td>564</td>\n",
       "      <td>635</td>\n",
       "      <td>641</td>\n",
       "      <td>706</td>\n",
       "      <td>763</td>\n",
       "      <td>287</td>\n",
       "      <td>526</td>\n",
       "      <td>841</td>\n",
       "      <td>838</td>\n",
       "      <td>691</td>\n",
       "      <td>657</td>\n",
       "      <td>680</td>\n",
       "      <td>781</td>\n",
       "    </tr>\n",
       "    <tr>\n",
       "      <th>11</th>\n",
       "      <td>12</td>\n",
       "      <td>Control</td>\n",
       "      <td>494</td>\n",
       "      <td>602</td>\n",
       "      <td>570</td>\n",
       "      <td>530</td>\n",
       "      <td>570</td>\n",
       "      <td>396</td>\n",
       "      <td>403</td>\n",
       "      <td>380</td>\n",
       "      <td>362</td>\n",
       "      <td>467</td>\n",
       "      <td>491</td>\n",
       "      <td>557</td>\n",
       "      <td>98</td>\n",
       "      <td>262</td>\n",
       "      <td>344</td>\n",
       "      <td>388</td>\n",
       "      <td>435</td>\n",
       "      <td>551</td>\n",
       "      <td>552</td>\n",
       "      <td>537</td>\n",
       "    </tr>\n",
       "    <tr>\n",
       "      <th>12</th>\n",
       "      <td>13</td>\n",
       "      <td>Control</td>\n",
       "      <td>587</td>\n",
       "      <td>630</td>\n",
       "      <td>564</td>\n",
       "      <td>627</td>\n",
       "      <td>572</td>\n",
       "      <td>419</td>\n",
       "      <td>369</td>\n",
       "      <td>416</td>\n",
       "      <td>403</td>\n",
       "      <td>552</td>\n",
       "      <td>575</td>\n",
       "      <td>589</td>\n",
       "      <td>172</td>\n",
       "      <td>298</td>\n",
       "      <td>422</td>\n",
       "      <td>596</td>\n",
       "      <td>447</td>\n",
       "      <td>589</td>\n",
       "      <td>463</td>\n",
       "      <td>364</td>\n",
       "    </tr>\n",
       "    <tr>\n",
       "      <th>13</th>\n",
       "      <td>14</td>\n",
       "      <td>Control</td>\n",
       "      <td>917</td>\n",
       "      <td>680</td>\n",
       "      <td>737</td>\n",
       "      <td>596</td>\n",
       "      <td>699</td>\n",
       "      <td>484</td>\n",
       "      <td>452</td>\n",
       "      <td>438</td>\n",
       "      <td>547</td>\n",
       "      <td>729</td>\n",
       "      <td>830</td>\n",
       "      <td>411</td>\n",
       "      <td>71</td>\n",
       "      <td>386</td>\n",
       "      <td>581</td>\n",
       "      <td>832</td>\n",
       "      <td>586</td>\n",
       "      <td>610</td>\n",
       "      <td>634</td>\n",
       "      <td>716</td>\n",
       "    </tr>\n",
       "    <tr>\n",
       "      <th>14</th>\n",
       "      <td>15</td>\n",
       "      <td>Control</td>\n",
       "      <td>440</td>\n",
       "      <td>767</td>\n",
       "      <td>642</td>\n",
       "      <td>623</td>\n",
       "      <td>532</td>\n",
       "      <td>663</td>\n",
       "      <td>601</td>\n",
       "      <td>553</td>\n",
       "      <td>315</td>\n",
       "      <td>434</td>\n",
       "      <td>543</td>\n",
       "      <td>619</td>\n",
       "      <td>115</td>\n",
       "      <td>101</td>\n",
       "      <td>356</td>\n",
       "      <td>457</td>\n",
       "      <td>412</td>\n",
       "      <td>582</td>\n",
       "      <td>549</td>\n",
       "      <td>696</td>\n",
       "    </tr>\n",
       "    <tr>\n",
       "      <th>15</th>\n",
       "      <td>16</td>\n",
       "      <td>Experimental</td>\n",
       "      <td>715</td>\n",
       "      <td>469</td>\n",
       "      <td>392</td>\n",
       "      <td>333</td>\n",
       "      <td>492</td>\n",
       "      <td>594</td>\n",
       "      <td>695</td>\n",
       "      <td>568</td>\n",
       "      <td>916</td>\n",
       "      <td>675</td>\n",
       "      <td>669</td>\n",
       "      <td>895</td>\n",
       "      <td>98</td>\n",
       "      <td>558</td>\n",
       "      <td>977</td>\n",
       "      <td>956</td>\n",
       "      <td>974</td>\n",
       "      <td>1049</td>\n",
       "      <td>1366</td>\n",
       "      <td>942</td>\n",
       "    </tr>\n",
       "    <tr>\n",
       "      <th>16</th>\n",
       "      <td>17</td>\n",
       "      <td>Experimental</td>\n",
       "      <td>184</td>\n",
       "      <td>250</td>\n",
       "      <td>373</td>\n",
       "      <td>457</td>\n",
       "      <td>505</td>\n",
       "      <td>475</td>\n",
       "      <td>519</td>\n",
       "      <td>578</td>\n",
       "      <td>542</td>\n",
       "      <td>477</td>\n",
       "      <td>601</td>\n",
       "      <td>390</td>\n",
       "      <td>131</td>\n",
       "      <td>656</td>\n",
       "      <td>845</td>\n",
       "      <td>699</td>\n",
       "      <td>494</td>\n",
       "      <td>920</td>\n",
       "      <td>431</td>\n",
       "      <td>521</td>\n",
       "    </tr>\n",
       "    <tr>\n",
       "      <th>17</th>\n",
       "      <td>18</td>\n",
       "      <td>Experimental</td>\n",
       "      <td>934</td>\n",
       "      <td>1237</td>\n",
       "      <td>354</td>\n",
       "      <td>705</td>\n",
       "      <td>646</td>\n",
       "      <td>619</td>\n",
       "      <td>885</td>\n",
       "      <td>626</td>\n",
       "      <td>496</td>\n",
       "      <td>954</td>\n",
       "      <td>718</td>\n",
       "      <td>821</td>\n",
       "      <td>170</td>\n",
       "      <td>909</td>\n",
       "      <td>1049</td>\n",
       "      <td>994</td>\n",
       "      <td>675</td>\n",
       "      <td>803</td>\n",
       "      <td>866</td>\n",
       "      <td>880</td>\n",
       "    </tr>\n",
       "    <tr>\n",
       "      <th>18</th>\n",
       "      <td>19</td>\n",
       "      <td>Experimental</td>\n",
       "      <td>578</td>\n",
       "      <td>548</td>\n",
       "      <td>556</td>\n",
       "      <td>479</td>\n",
       "      <td>533</td>\n",
       "      <td>721</td>\n",
       "      <td>651</td>\n",
       "      <td>546</td>\n",
       "      <td>537</td>\n",
       "      <td>564</td>\n",
       "      <td>519</td>\n",
       "      <td>446</td>\n",
       "      <td>601</td>\n",
       "      <td>565</td>\n",
       "      <td>450</td>\n",
       "      <td>684</td>\n",
       "      <td>1675</td>\n",
       "      <td>976</td>\n",
       "      <td>1249</td>\n",
       "      <td>1047</td>\n",
       "    </tr>\n",
       "    <tr>\n",
       "      <th>19</th>\n",
       "      <td>20</td>\n",
       "      <td>Experimental</td>\n",
       "      <td>400</td>\n",
       "      <td>193</td>\n",
       "      <td>188</td>\n",
       "      <td>350</td>\n",
       "      <td>232</td>\n",
       "      <td>34</td>\n",
       "      <td>65</td>\n",
       "      <td>158</td>\n",
       "      <td>89</td>\n",
       "      <td>175</td>\n",
       "      <td>186</td>\n",
       "      <td>319</td>\n",
       "      <td>14</td>\n",
       "      <td>60</td>\n",
       "      <td>118</td>\n",
       "      <td>149</td>\n",
       "      <td>133</td>\n",
       "      <td>270</td>\n",
       "      <td>472</td>\n",
       "      <td>293</td>\n",
       "    </tr>\n",
       "    <tr>\n",
       "      <th>20</th>\n",
       "      <td>21</td>\n",
       "      <td>Experimental</td>\n",
       "      <td>448</td>\n",
       "      <td>221</td>\n",
       "      <td>505</td>\n",
       "      <td>459</td>\n",
       "      <td>483</td>\n",
       "      <td>491</td>\n",
       "      <td>394</td>\n",
       "      <td>673</td>\n",
       "      <td>593</td>\n",
       "      <td>444</td>\n",
       "      <td>430</td>\n",
       "      <td>630</td>\n",
       "      <td>176</td>\n",
       "      <td>611</td>\n",
       "      <td>680</td>\n",
       "      <td>552</td>\n",
       "      <td>652</td>\n",
       "      <td>879</td>\n",
       "      <td>990</td>\n",
       "      <td>900</td>\n",
       "    </tr>\n",
       "    <tr>\n",
       "      <th>21</th>\n",
       "      <td>22</td>\n",
       "      <td>Control</td>\n",
       "      <td>270</td>\n",
       "      <td>132</td>\n",
       "      <td>250</td>\n",
       "      <td>192</td>\n",
       "      <td>364</td>\n",
       "      <td>229</td>\n",
       "      <td>219</td>\n",
       "      <td>329</td>\n",
       "      <td>120</td>\n",
       "      <td>147</td>\n",
       "      <td>186</td>\n",
       "      <td>337</td>\n",
       "      <td>8</td>\n",
       "      <td>70</td>\n",
       "      <td>18</td>\n",
       "      <td>175</td>\n",
       "      <td>232</td>\n",
       "      <td>238</td>\n",
       "      <td>209</td>\n",
       "      <td>200</td>\n",
       "    </tr>\n",
       "  </tbody>\n",
       "</table>\n",
       "</div>"
      ],
      "text/plain": [
       "    Mouse_ID         Group  BL1   BL2  BL3  ...  R1_4  R2_1  R2_2  R2_3  R2_4\n",
       "0          1       Control  665   863  631  ...   441   675   554   541   545\n",
       "1          2       Control  859   849  685  ...   569   988   728   933   564\n",
       "2          3       Control  589   507  635  ...   666   516   579   913   736\n",
       "3          4       Control  939   909  850  ...   585   565   550   806   732\n",
       "4          5  Experimental  710   505  494  ...   606   713   682   709   759\n",
       "5          6  Experimental  564   808  589  ...   851   807   858   802   803\n",
       "6          7  Experimental  722   732  783  ...   694   855   797   938   878\n",
       "7          8  Experimental  497   649  586  ...   284   212   133   141   274\n",
       "8          9  Experimental  741   668  778  ...   443   486   444   533   578\n",
       "9         10  Experimental  953   988  579  ...   890   724   793   559   700\n",
       "10        11  Experimental  753   613  573  ...   838   691   657   680   781\n",
       "11        12       Control  494   602  570  ...   388   435   551   552   537\n",
       "12        13       Control  587   630  564  ...   596   447   589   463   364\n",
       "13        14       Control  917   680  737  ...   832   586   610   634   716\n",
       "14        15       Control  440   767  642  ...   457   412   582   549   696\n",
       "15        16  Experimental  715   469  392  ...   956   974  1049  1366   942\n",
       "16        17  Experimental  184   250  373  ...   699   494   920   431   521\n",
       "17        18  Experimental  934  1237  354  ...   994   675   803   866   880\n",
       "18        19  Experimental  578   548  556  ...   684  1675   976  1249  1047\n",
       "19        20  Experimental  400   193  188  ...   149   133   270   472   293\n",
       "20        21  Experimental  448   221  505  ...   552   652   879   990   900\n",
       "21        22       Control  270   132  250  ...   175   232   238   209   200\n",
       "\n",
       "[22 rows x 22 columns]"
      ]
     },
     "execution_count": 43,
     "metadata": {},
     "output_type": "execute_result"
    }
   ],
   "source": [
    "df"
   ]
  },
  {
   "cell_type": "markdown",
   "metadata": {},
   "source": [
    "### Getting Group Data For EDA & Testing"
   ]
  },
  {
   "cell_type": "code",
   "execution_count": 10,
   "metadata": {
    "ExecuteTime": {
     "end_time": "2020-07-01T21:26:00.067565Z",
     "start_time": "2020-07-01T21:26:00.051658Z"
    }
   },
   "outputs": [
    {
     "data": {
      "text/html": [
       "<style  type=\"text/css\" >\n",
       "</style><table id=\"T_7570a090_bbe1_11ea_a198_4865ee12e626\" ><caption>Control</caption><thead>    <tr>        <th class=\"blank level0\" ></th>        <th class=\"col_heading level0 col0\" >Mouse_ID</th>        <th class=\"col_heading level0 col1\" >Group</th>        <th class=\"col_heading level0 col2\" >BL</th>        <th class=\"col_heading level0 col3\" >S</th>        <th class=\"col_heading level0 col4\" >PS</th>        <th class=\"col_heading level0 col5\" >R1</th>        <th class=\"col_heading level0 col6\" >R2</th>    </tr></thead><tbody>\n",
       "                <tr>\n",
       "                        <th id=\"T_7570a090_bbe1_11ea_a198_4865ee12e626level0_row0\" class=\"row_heading level0 row0\" >0</th>\n",
       "                        <td id=\"T_7570a090_bbe1_11ea_a198_4865ee12e626row0_col0\" class=\"data row0 col0\" >1</td>\n",
       "                        <td id=\"T_7570a090_bbe1_11ea_a198_4865ee12e626row0_col1\" class=\"data row0 col1\" >Control</td>\n",
       "                        <td id=\"T_7570a090_bbe1_11ea_a198_4865ee12e626row0_col2\" class=\"data row0 col2\" >697.000</td>\n",
       "                        <td id=\"T_7570a090_bbe1_11ea_a198_4865ee12e626row0_col3\" class=\"data row0 col3\" >703.500</td>\n",
       "                        <td id=\"T_7570a090_bbe1_11ea_a198_4865ee12e626row0_col4\" class=\"data row0 col4\" >645.250</td>\n",
       "                        <td id=\"T_7570a090_bbe1_11ea_a198_4865ee12e626row0_col5\" class=\"data row0 col5\" >289.500</td>\n",
       "                        <td id=\"T_7570a090_bbe1_11ea_a198_4865ee12e626row0_col6\" class=\"data row0 col6\" >578.750</td>\n",
       "            </tr>\n",
       "            <tr>\n",
       "                        <th id=\"T_7570a090_bbe1_11ea_a198_4865ee12e626level0_row1\" class=\"row_heading level0 row1\" >1</th>\n",
       "                        <td id=\"T_7570a090_bbe1_11ea_a198_4865ee12e626row1_col0\" class=\"data row1 col0\" >2</td>\n",
       "                        <td id=\"T_7570a090_bbe1_11ea_a198_4865ee12e626row1_col1\" class=\"data row1 col1\" >Control</td>\n",
       "                        <td id=\"T_7570a090_bbe1_11ea_a198_4865ee12e626row1_col2\" class=\"data row1 col2\" >781.000</td>\n",
       "                        <td id=\"T_7570a090_bbe1_11ea_a198_4865ee12e626row1_col3\" class=\"data row1 col3\" >808.750</td>\n",
       "                        <td id=\"T_7570a090_bbe1_11ea_a198_4865ee12e626row1_col4\" class=\"data row1 col4\" >655.750</td>\n",
       "                        <td id=\"T_7570a090_bbe1_11ea_a198_4865ee12e626row1_col5\" class=\"data row1 col5\" >356.750</td>\n",
       "                        <td id=\"T_7570a090_bbe1_11ea_a198_4865ee12e626row1_col6\" class=\"data row1 col6\" >803.250</td>\n",
       "            </tr>\n",
       "            <tr>\n",
       "                        <th id=\"T_7570a090_bbe1_11ea_a198_4865ee12e626level0_row2\" class=\"row_heading level0 row2\" >2</th>\n",
       "                        <td id=\"T_7570a090_bbe1_11ea_a198_4865ee12e626row2_col0\" class=\"data row2 col0\" >3</td>\n",
       "                        <td id=\"T_7570a090_bbe1_11ea_a198_4865ee12e626row2_col1\" class=\"data row2 col1\" >Control</td>\n",
       "                        <td id=\"T_7570a090_bbe1_11ea_a198_4865ee12e626row2_col2\" class=\"data row2 col2\" >658.250</td>\n",
       "                        <td id=\"T_7570a090_bbe1_11ea_a198_4865ee12e626row2_col3\" class=\"data row2 col3\" >788.000</td>\n",
       "                        <td id=\"T_7570a090_bbe1_11ea_a198_4865ee12e626row2_col4\" class=\"data row2 col4\" >864.500</td>\n",
       "                        <td id=\"T_7570a090_bbe1_11ea_a198_4865ee12e626row2_col5\" class=\"data row2 col5\" >443.750</td>\n",
       "                        <td id=\"T_7570a090_bbe1_11ea_a198_4865ee12e626row2_col6\" class=\"data row2 col6\" >686.000</td>\n",
       "            </tr>\n",
       "            <tr>\n",
       "                        <th id=\"T_7570a090_bbe1_11ea_a198_4865ee12e626level0_row3\" class=\"row_heading level0 row3\" >3</th>\n",
       "                        <td id=\"T_7570a090_bbe1_11ea_a198_4865ee12e626row3_col0\" class=\"data row3 col0\" >4</td>\n",
       "                        <td id=\"T_7570a090_bbe1_11ea_a198_4865ee12e626row3_col1\" class=\"data row3 col1\" >Control</td>\n",
       "                        <td id=\"T_7570a090_bbe1_11ea_a198_4865ee12e626row3_col2\" class=\"data row3 col2\" >863.500</td>\n",
       "                        <td id=\"T_7570a090_bbe1_11ea_a198_4865ee12e626row3_col3\" class=\"data row3 col3\" >671.500</td>\n",
       "                        <td id=\"T_7570a090_bbe1_11ea_a198_4865ee12e626row3_col4\" class=\"data row3 col4\" >704.250</td>\n",
       "                        <td id=\"T_7570a090_bbe1_11ea_a198_4865ee12e626row3_col5\" class=\"data row3 col5\" >402.250</td>\n",
       "                        <td id=\"T_7570a090_bbe1_11ea_a198_4865ee12e626row3_col6\" class=\"data row3 col6\" >663.250</td>\n",
       "            </tr>\n",
       "            <tr>\n",
       "                        <th id=\"T_7570a090_bbe1_11ea_a198_4865ee12e626level0_row4\" class=\"row_heading level0 row4\" >11</th>\n",
       "                        <td id=\"T_7570a090_bbe1_11ea_a198_4865ee12e626row4_col0\" class=\"data row4 col0\" >12</td>\n",
       "                        <td id=\"T_7570a090_bbe1_11ea_a198_4865ee12e626row4_col1\" class=\"data row4 col1\" >Control</td>\n",
       "                        <td id=\"T_7570a090_bbe1_11ea_a198_4865ee12e626row4_col2\" class=\"data row4 col2\" >549.000</td>\n",
       "                        <td id=\"T_7570a090_bbe1_11ea_a198_4865ee12e626row4_col3\" class=\"data row4 col3\" >437.250</td>\n",
       "                        <td id=\"T_7570a090_bbe1_11ea_a198_4865ee12e626row4_col4\" class=\"data row4 col4\" >469.250</td>\n",
       "                        <td id=\"T_7570a090_bbe1_11ea_a198_4865ee12e626row4_col5\" class=\"data row4 col5\" >273.000</td>\n",
       "                        <td id=\"T_7570a090_bbe1_11ea_a198_4865ee12e626row4_col6\" class=\"data row4 col6\" >518.750</td>\n",
       "            </tr>\n",
       "    </tbody></table>"
      ],
      "text/plain": [
       "<pandas.io.formats.style.Styler at 0x133e2e7b8>"
      ]
     },
     "metadata": {},
     "output_type": "display_data"
    },
    {
     "data": {
      "text/html": [
       "<style  type=\"text/css\" >\n",
       "</style><table id=\"T_757171d2_bbe1_11ea_988f_4865ee12e626\" ><caption>Experimental</caption><thead>    <tr>        <th class=\"blank level0\" ></th>        <th class=\"col_heading level0 col0\" >Mouse_ID</th>        <th class=\"col_heading level0 col1\" >Group</th>        <th class=\"col_heading level0 col2\" >BL</th>        <th class=\"col_heading level0 col3\" >S</th>        <th class=\"col_heading level0 col4\" >PS</th>        <th class=\"col_heading level0 col5\" >R1</th>        <th class=\"col_heading level0 col6\" >R2</th>    </tr></thead><tbody>\n",
       "                <tr>\n",
       "                        <th id=\"T_757171d2_bbe1_11ea_988f_4865ee12e626level0_row0\" class=\"row_heading level0 row0\" >4</th>\n",
       "                        <td id=\"T_757171d2_bbe1_11ea_988f_4865ee12e626row0_col0\" class=\"data row0 col0\" >5</td>\n",
       "                        <td id=\"T_757171d2_bbe1_11ea_988f_4865ee12e626row0_col1\" class=\"data row0 col1\" >Experimental</td>\n",
       "                        <td id=\"T_757171d2_bbe1_11ea_988f_4865ee12e626row0_col2\" class=\"data row0 col2\" >576.250</td>\n",
       "                        <td id=\"T_757171d2_bbe1_11ea_988f_4865ee12e626row0_col3\" class=\"data row0 col3\" >605.500</td>\n",
       "                        <td id=\"T_757171d2_bbe1_11ea_988f_4865ee12e626row0_col4\" class=\"data row0 col4\" >603.000</td>\n",
       "                        <td id=\"T_757171d2_bbe1_11ea_988f_4865ee12e626row0_col5\" class=\"data row0 col5\" >619.750</td>\n",
       "                        <td id=\"T_757171d2_bbe1_11ea_988f_4865ee12e626row0_col6\" class=\"data row0 col6\" >715.750</td>\n",
       "            </tr>\n",
       "            <tr>\n",
       "                        <th id=\"T_757171d2_bbe1_11ea_988f_4865ee12e626level0_row1\" class=\"row_heading level0 row1\" >5</th>\n",
       "                        <td id=\"T_757171d2_bbe1_11ea_988f_4865ee12e626row1_col0\" class=\"data row1 col0\" >6</td>\n",
       "                        <td id=\"T_757171d2_bbe1_11ea_988f_4865ee12e626row1_col1\" class=\"data row1 col1\" >Experimental</td>\n",
       "                        <td id=\"T_757171d2_bbe1_11ea_988f_4865ee12e626row1_col2\" class=\"data row1 col2\" >639.250</td>\n",
       "                        <td id=\"T_757171d2_bbe1_11ea_988f_4865ee12e626row1_col3\" class=\"data row1 col3\" >513.250</td>\n",
       "                        <td id=\"T_757171d2_bbe1_11ea_988f_4865ee12e626row1_col4\" class=\"data row1 col4\" >618.500</td>\n",
       "                        <td id=\"T_757171d2_bbe1_11ea_988f_4865ee12e626row1_col5\" class=\"data row1 col5\" >808.750</td>\n",
       "                        <td id=\"T_757171d2_bbe1_11ea_988f_4865ee12e626row1_col6\" class=\"data row1 col6\" >817.500</td>\n",
       "            </tr>\n",
       "            <tr>\n",
       "                        <th id=\"T_757171d2_bbe1_11ea_988f_4865ee12e626level0_row2\" class=\"row_heading level0 row2\" >6</th>\n",
       "                        <td id=\"T_757171d2_bbe1_11ea_988f_4865ee12e626row2_col0\" class=\"data row2 col0\" >7</td>\n",
       "                        <td id=\"T_757171d2_bbe1_11ea_988f_4865ee12e626row2_col1\" class=\"data row2 col1\" >Experimental</td>\n",
       "                        <td id=\"T_757171d2_bbe1_11ea_988f_4865ee12e626row2_col2\" class=\"data row2 col2\" >795.750</td>\n",
       "                        <td id=\"T_757171d2_bbe1_11ea_988f_4865ee12e626row2_col3\" class=\"data row2 col3\" >815.250</td>\n",
       "                        <td id=\"T_757171d2_bbe1_11ea_988f_4865ee12e626row2_col4\" class=\"data row2 col4\" >645.750</td>\n",
       "                        <td id=\"T_757171d2_bbe1_11ea_988f_4865ee12e626row2_col5\" class=\"data row2 col5\" >588.000</td>\n",
       "                        <td id=\"T_757171d2_bbe1_11ea_988f_4865ee12e626row2_col6\" class=\"data row2 col6\" >867.000</td>\n",
       "            </tr>\n",
       "            <tr>\n",
       "                        <th id=\"T_757171d2_bbe1_11ea_988f_4865ee12e626level0_row3\" class=\"row_heading level0 row3\" >7</th>\n",
       "                        <td id=\"T_757171d2_bbe1_11ea_988f_4865ee12e626row3_col0\" class=\"data row3 col0\" >8</td>\n",
       "                        <td id=\"T_757171d2_bbe1_11ea_988f_4865ee12e626row3_col1\" class=\"data row3 col1\" >Experimental</td>\n",
       "                        <td id=\"T_757171d2_bbe1_11ea_988f_4865ee12e626row3_col2\" class=\"data row3 col2\" >559.500</td>\n",
       "                        <td id=\"T_757171d2_bbe1_11ea_988f_4865ee12e626row3_col3\" class=\"data row3 col3\" >524.000</td>\n",
       "                        <td id=\"T_757171d2_bbe1_11ea_988f_4865ee12e626row3_col4\" class=\"data row3 col4\" >525.250</td>\n",
       "                        <td id=\"T_757171d2_bbe1_11ea_988f_4865ee12e626row3_col5\" class=\"data row3 col5\" >106.000</td>\n",
       "                        <td id=\"T_757171d2_bbe1_11ea_988f_4865ee12e626row3_col6\" class=\"data row3 col6\" >190.000</td>\n",
       "            </tr>\n",
       "            <tr>\n",
       "                        <th id=\"T_757171d2_bbe1_11ea_988f_4865ee12e626level0_row4\" class=\"row_heading level0 row4\" >8</th>\n",
       "                        <td id=\"T_757171d2_bbe1_11ea_988f_4865ee12e626row4_col0\" class=\"data row4 col0\" >9</td>\n",
       "                        <td id=\"T_757171d2_bbe1_11ea_988f_4865ee12e626row4_col1\" class=\"data row4 col1\" >Experimental</td>\n",
       "                        <td id=\"T_757171d2_bbe1_11ea_988f_4865ee12e626row4_col2\" class=\"data row4 col2\" >706.250</td>\n",
       "                        <td id=\"T_757171d2_bbe1_11ea_988f_4865ee12e626row4_col3\" class=\"data row4 col3\" >695.500</td>\n",
       "                        <td id=\"T_757171d2_bbe1_11ea_988f_4865ee12e626row4_col4\" class=\"data row4 col4\" >547.750</td>\n",
       "                        <td id=\"T_757171d2_bbe1_11ea_988f_4865ee12e626row4_col5\" class=\"data row4 col5\" >268.750</td>\n",
       "                        <td id=\"T_757171d2_bbe1_11ea_988f_4865ee12e626row4_col6\" class=\"data row4 col6\" >510.250</td>\n",
       "            </tr>\n",
       "    </tbody></table>"
      ],
      "text/plain": [
       "<pandas.io.formats.style.Styler at 0x133e2eeb8>"
      ]
     },
     "metadata": {},
     "output_type": "display_data"
    }
   ],
   "source": [
    "## Get grps \n",
    "data = {}\n",
    "## Two different ways of using groupby\n",
    "grps = df_means.groupby('Group').groups\n",
    "\n",
    "for grp in grps:\n",
    "    data[grp] = df_means.groupby('Group').get_group(grp)\n",
    "    display(data[grp].head().style.set_caption(grp))\n",
    "    \n",
    "    "
   ]
  },
  {
   "cell_type": "code",
   "execution_count": 11,
   "metadata": {
    "ExecuteTime": {
     "end_time": "2020-07-01T21:26:00.072508Z",
     "start_time": "2020-07-01T21:26:00.069088Z"
    }
   },
   "outputs": [
    {
     "data": {
      "text/plain": [
       "dict_keys(['Control', 'Experimental'])"
      ]
     },
     "execution_count": 11,
     "metadata": {},
     "output_type": "execute_result"
    }
   ],
   "source": [
    "data.keys()"
   ]
  },
  {
   "cell_type": "code",
   "execution_count": 12,
   "metadata": {
    "ExecuteTime": {
     "end_time": "2020-07-01T21:26:00.078228Z",
     "start_time": "2020-07-01T21:26:00.073842Z"
    }
   },
   "outputs": [],
   "source": [
    "from scipy.stats import sem\n",
    "\n",
    "x = []\n",
    "y = []\n",
    "y_err = []\n",
    "phase = \"BL\"\n",
    "for group in data:\n",
    "    grp_data = data[group][phase]\n",
    "    x.append(group)\n",
    "    y.append(grp_data.mean())\n",
    "    y_err.append(sem(grp_data))\n",
    "    \n",
    "    "
   ]
  },
  {
   "cell_type": "code",
   "execution_count": 13,
   "metadata": {
    "ExecuteTime": {
     "end_time": "2020-07-01T21:26:00.083181Z",
     "start_time": "2020-07-01T21:26:00.079776Z"
    }
   },
   "outputs": [
    {
     "data": {
      "text/plain": [
       "[61.91035434649556, 48.92460135102792]"
      ]
     },
     "execution_count": 13,
     "metadata": {},
     "output_type": "execute_result"
    }
   ],
   "source": [
    "y_err"
   ]
  },
  {
   "cell_type": "code",
   "execution_count": 27,
   "metadata": {
    "ExecuteTime": {
     "end_time": "2020-07-01T21:31:13.351488Z",
     "start_time": "2020-07-01T21:31:13.252059Z"
    }
   },
   "outputs": [
    {
     "data": {
      "text/plain": [
       "<BarContainer object of 2 artists>"
      ]
     },
     "execution_count": 27,
     "metadata": {},
     "output_type": "execute_result"
    },
    {
     "data": {
      "image/png": "[encoded data removed]",
      "text/plain": [
       "<Figure size 144x288 with 1 Axes>"
      ]
     },
     "metadata": {
      "needs_background": "light"
     },
     "output_type": "display_data"
    }
   ],
   "source": [
    "fig,ax = plt.subplots(figsize=(2,4))\n",
    "plt.bar(x,y,yerr=y_err,color=['b','g'])\n"
   ]
  },
  {
   "cell_type": "code",
   "execution_count": 47,
   "metadata": {
    "ExecuteTime": {
     "end_time": "2020-07-01T21:45:25.399426Z",
     "start_time": "2020-07-01T21:45:25.394072Z"
    }
   },
   "outputs": [],
   "source": [
    "def plot_bars_yerr(data,phase = \"BL\"):\n",
    "    from scipy.stats import sem\n",
    "\n",
    "    ## Save x,y, and yerr\n",
    "    x = []\n",
    "    y = []\n",
    "    y_err = []\n",
    "    \n",
    "    for group in data:\n",
    "        grp_data = data[group][phase]\n",
    "        x.append(f\"{group}\")\n",
    "        y.append(grp_data.mean())\n",
    "        y_err.append(sem(grp_data))\n",
    "        \n",
    "    fig,ax = plt.subplots(figsize=(3,5))\n",
    "    ax.bar(x,y,yerr=y_err,color=['k','b'])\n",
    "    ax.set_title(f\"Phase = {phase}\")\n",
    "    ax.set(ylabel='# of Licks')\n",
    "    \n",
    "    return fig,ax"
   ]
  },
  {
   "cell_type": "markdown",
   "metadata": {
    "ExecuteTime": {
     "end_time": "2020-07-01T21:46:01.331338Z",
     "start_time": "2020-07-01T21:46:01.329075Z"
    }
   },
   "source": [
    "### Run 2-sample T-Test on Baseline Days"
   ]
  },
  {
   "cell_type": "code",
   "execution_count": 56,
   "metadata": {
    "ExecuteTime": {
     "end_time": "2020-07-01T21:46:35.096795Z",
     "start_time": "2020-07-01T21:46:34.997640Z"
    }
   },
   "outputs": [
    {
     "data": {
      "image/png": "[encoded data removed]",
      "text/plain": [
       "<Figure size 216x360 with 1 Axes>"
      ]
     },
     "metadata": {
      "needs_background": "light"
     },
     "output_type": "display_data"
    }
   ],
   "source": [
    "f,a = plot_bars_yerr(data,phase = \"BL\")"
   ]
  },
  {
   "cell_type": "code",
   "execution_count": 59,
   "metadata": {
    "ExecuteTime": {
     "end_time": "2020-07-01T21:47:40.534061Z",
     "start_time": "2020-07-01T21:47:40.433400Z"
    }
   },
   "outputs": [
    {
     "data": {
      "image/png": "[encoded data removed]",
      "text/plain": [
       "<Figure size 216x360 with 1 Axes>"
      ]
     },
     "metadata": {
      "needs_background": "light"
     },
     "output_type": "display_data"
    }
   ],
   "source": [
    "test_phase = \"BL\"\n",
    "f,a = plot_bars_yerr(data,phase)"
   ]
  },
  {
   "cell_type": "code",
   "execution_count": 82,
   "metadata": {
    "ExecuteTime": {
     "end_time": "2020-07-01T21:59:08.734537Z",
     "start_time": "2020-07-01T21:59:08.713999Z"
    }
   },
   "outputs": [
    {
     "name": "stderr",
     "output_type": "stream",
     "text": [
      "//anaconda3/envs/learn-env/lib/python3.6/site-packages/scipy/stats/stats.py:1535: UserWarning:\n",
      "\n",
      "kurtosistest only valid for n>=20 ... continuing anyway, n=9\n",
      "\n",
      "//anaconda3/envs/learn-env/lib/python3.6/site-packages/scipy/stats/stats.py:1535: UserWarning:\n",
      "\n",
      "kurtosistest only valid for n>=20 ... continuing anyway, n=13\n",
      "\n"
     ]
    },
    {
     "data": {
      "text/html": [
       "<div>\n",
       "<style scoped>\n",
       "    .dataframe tbody tr th:only-of-type {\n",
       "        vertical-align: middle;\n",
       "    }\n",
       "\n",
       "    .dataframe tbody tr th {\n",
       "        vertical-align: top;\n",
       "    }\n",
       "\n",
       "    .dataframe thead th {\n",
       "        text-align: right;\n",
       "    }\n",
       "</style>\n",
       "<table border=\"1\" class=\"dataframe\">\n",
       "  <thead>\n",
       "    <tr style=\"text-align: right;\">\n",
       "      <th></th>\n",
       "      <th>Group</th>\n",
       "      <th>n</th>\n",
       "      <th>Normaltest Stat</th>\n",
       "      <th>p</th>\n",
       "      <th>sig?</th>\n",
       "    </tr>\n",
       "  </thead>\n",
       "  <tbody>\n",
       "    <tr>\n",
       "      <th>0</th>\n",
       "      <td>Control</td>\n",
       "      <td>9</td>\n",
       "      <td>8.255</td>\n",
       "      <td>0.016</td>\n",
       "      <td>True</td>\n",
       "    </tr>\n",
       "    <tr>\n",
       "      <th>1</th>\n",
       "      <td>Experimental</td>\n",
       "      <td>13</td>\n",
       "      <td>0.790</td>\n",
       "      <td>0.674</td>\n",
       "      <td>False</td>\n",
       "    </tr>\n",
       "  </tbody>\n",
       "</table>\n",
       "</div>"
      ],
      "text/plain": [
       "          Group   n  Normaltest Stat      p   sig?\n",
       "0       Control   9            8.255  0.016   True\n",
       "1  Experimental  13            0.790  0.674  False"
      ]
     },
     "execution_count": 82,
     "metadata": {},
     "output_type": "execute_result"
    }
   ],
   "source": [
    "import scipy.stats as st\n",
    "\n",
    "## Make list of list of headers\n",
    "results = [['Group','n','Normaltest Stat','p','sig?']]\n",
    "\n",
    "## Make an empty list for our group data\n",
    "test_equal_var = []\n",
    "\n",
    "## Loop through the data dictionary \n",
    "for grp,grp_df in data.items():\n",
    "   \n",
    "    ## Grab the correct phase column from the group df\n",
    "    grp_data = grp_df[test_phase].copy()\n",
    "    ## Append group data to list of group data\n",
    "    test_equal_var.append(grp_data)\n",
    "    \n",
    "    ## Test for nomrality and save result \n",
    "    stat,p = st.normaltest(grp_data)\n",
    "    results.append([grp,len(grp_data),stat,p,p<.05])\n",
    "    \n",
    "pd.DataFrame(results[1:],columns=results[0])"
   ]
  },
  {
   "cell_type": "code",
   "execution_count": 85,
   "metadata": {
    "ExecuteTime": {
     "end_time": "2020-07-01T21:59:29.990554Z",
     "start_time": "2020-07-01T21:59:29.968157Z"
    }
   },
   "outputs": [
    {
     "name": "stderr",
     "output_type": "stream",
     "text": [
      "//anaconda3/envs/learn-env/lib/python3.6/site-packages/scipy/stats/stats.py:1535: UserWarning:\n",
      "\n",
      "kurtosistest only valid for n>=20 ... continuing anyway, n=9\n",
      "\n",
      "//anaconda3/envs/learn-env/lib/python3.6/site-packages/scipy/stats/stats.py:1535: UserWarning:\n",
      "\n",
      "kurtosistest only valid for n>=20 ... continuing anyway, n=13\n",
      "\n"
     ]
    },
    {
     "data": {
      "text/html": [
       "<div>\n",
       "<style scoped>\n",
       "    .dataframe tbody tr th:only-of-type {\n",
       "        vertical-align: middle;\n",
       "    }\n",
       "\n",
       "    .dataframe tbody tr th {\n",
       "        vertical-align: top;\n",
       "    }\n",
       "\n",
       "    .dataframe thead th {\n",
       "        text-align: right;\n",
       "    }\n",
       "</style>\n",
       "<table border=\"1\" class=\"dataframe\">\n",
       "  <thead>\n",
       "    <tr style=\"text-align: right;\">\n",
       "      <th></th>\n",
       "      <th>Group</th>\n",
       "      <th>n</th>\n",
       "      <th>Normaltest Stat</th>\n",
       "      <th>p</th>\n",
       "      <th>sig?</th>\n",
       "    </tr>\n",
       "  </thead>\n",
       "  <tbody>\n",
       "    <tr>\n",
       "      <th>0</th>\n",
       "      <td>Control</td>\n",
       "      <td>9</td>\n",
       "      <td>8.255</td>\n",
       "      <td>0.016</td>\n",
       "      <td>True</td>\n",
       "    </tr>\n",
       "    <tr>\n",
       "      <th>1</th>\n",
       "      <td>Experimental</td>\n",
       "      <td>13</td>\n",
       "      <td>0.790</td>\n",
       "      <td>0.674</td>\n",
       "      <td>False</td>\n",
       "    </tr>\n",
       "    <tr>\n",
       "      <th>2</th>\n",
       "      <td>Equal Variance</td>\n",
       "      <td>all</td>\n",
       "      <td>0.131</td>\n",
       "      <td>0.721</td>\n",
       "      <td>False</td>\n",
       "    </tr>\n",
       "  </tbody>\n",
       "</table>\n",
       "</div>"
      ],
      "text/plain": [
       "            Group    n  Normaltest Stat      p   sig?\n",
       "0         Control    9            8.255  0.016   True\n",
       "1    Experimental   13            0.790  0.674  False\n",
       "2  Equal Variance  all            0.131  0.721  False"
      ]
     },
     "execution_count": 85,
     "metadata": {},
     "output_type": "execute_result"
    }
   ],
   "source": [
    "import scipy.stats as st\n",
    "\n",
    "## Make list of list of headers\n",
    "results = [['Group','n','Normaltest Stat','p','sig?']]\n",
    "\n",
    "## Make an empty list for our group data\n",
    "test_equal_var = []\n",
    "\n",
    "## Loop through the data dictionary \n",
    "for grp,grp_df in data.items():\n",
    "   \n",
    "    ## Grab the correct phase column from the group df\n",
    "    grp_data = grp_df[test_phase].copy()\n",
    "    ## Append group data to list of group data\n",
    "    test_equal_var.append(grp_data)\n",
    "    \n",
    "    ## Test for nomrality and save result \n",
    "    stat,p = st.normaltest(grp_data)\n",
    "    results.append([grp,len(grp_data),stat,p,p<.05])\n",
    "\n",
    "\n",
    "## Test for equal variance\n",
    "stat, p = st.levene(*test_equal_var)\n",
    "results.append(['Equal Variance','all',stat,p,p<.05])\n",
    "    \n",
    "results_df = pd.DataFrame(results[1:],columns=results[0])\n",
    "results_df"
   ]
  },
  {
   "cell_type": "code",
   "execution_count": 86,
   "metadata": {
    "ExecuteTime": {
     "end_time": "2020-07-01T21:59:38.474804Z",
     "start_time": "2020-07-01T21:59:38.470766Z"
    }
   },
   "outputs": [
    {
     "data": {
      "text/plain": [
       "MannwhitneyuResult(statistic=47.0, pvalue=0.23130417364131195)"
      ]
     },
     "execution_count": 86,
     "metadata": {},
     "output_type": "execute_result"
    }
   ],
   "source": [
    "st.mannwhitneyu(*test_equal_var)"
   ]
  },
  {
   "cell_type": "code",
   "execution_count": null,
   "metadata": {},
   "outputs": [],
   "source": []
  },
  {
   "cell_type": "code",
   "execution_count": 111,
   "metadata": {
    "ExecuteTime": {
     "end_time": "2020-07-01T22:05:51.640389Z",
     "start_time": "2020-07-01T22:05:51.634444Z"
    }
   },
   "outputs": [],
   "source": [
    "## Functionize code for testing other phases\n",
    "import scipy.stats as st\n",
    "def test_assumptions(data,test_phase):#,plot=True):\n",
    "\n",
    "    ## Make list of list of headers\n",
    "    results = [['Phase','Group','n','Normaltest Stat','p','sig?']]\n",
    "\n",
    "    ## Make an empty list for our group data\n",
    "    test_equal_var = []\n",
    "\n",
    "    ## Loop through the data dictionary \n",
    "    for grp,grp_df in data.items():\n",
    "\n",
    "        ## Grab the correct phase column from the group df\n",
    "        grp_data = grp_df[test_phase].copy()\n",
    "        ## Append group data to list of group data\n",
    "        test_equal_var.append(grp_data)\n",
    "\n",
    "        ## Test for nomrality and save result \n",
    "        stat,p = st.normaltest(grp_data)\n",
    "        results.append([test_phase,grp,len(grp_data),stat,p,p<.05])\n",
    "\n",
    "\n",
    "    ## Test for equal variance\n",
    "    stat, p = st.levene(*test_equal_var)\n",
    "    results.append([test_phase,'Equal Variance','all',stat,p,p<.05])\n",
    "\n",
    "    results_df = pd.DataFrame(results[1:],columns=results[0])\n",
    "    return results_df"
   ]
  },
  {
   "cell_type": "code",
   "execution_count": 112,
   "metadata": {
    "ExecuteTime": {
     "end_time": "2020-07-01T22:05:53.747284Z",
     "start_time": "2020-07-01T22:05:53.727321Z"
    }
   },
   "outputs": [
    {
     "name": "stderr",
     "output_type": "stream",
     "text": [
      "//anaconda3/envs/learn-env/lib/python3.6/site-packages/scipy/stats/stats.py:1535: UserWarning:\n",
      "\n",
      "kurtosistest only valid for n>=20 ... continuing anyway, n=9\n",
      "\n",
      "//anaconda3/envs/learn-env/lib/python3.6/site-packages/scipy/stats/stats.py:1535: UserWarning:\n",
      "\n",
      "kurtosistest only valid for n>=20 ... continuing anyway, n=13\n",
      "\n"
     ]
    },
    {
     "data": {
      "text/html": [
       "<div>\n",
       "<style scoped>\n",
       "    .dataframe tbody tr th:only-of-type {\n",
       "        vertical-align: middle;\n",
       "    }\n",
       "\n",
       "    .dataframe tbody tr th {\n",
       "        vertical-align: top;\n",
       "    }\n",
       "\n",
       "    .dataframe thead th {\n",
       "        text-align: right;\n",
       "    }\n",
       "</style>\n",
       "<table border=\"1\" class=\"dataframe\">\n",
       "  <thead>\n",
       "    <tr style=\"text-align: right;\">\n",
       "      <th></th>\n",
       "      <th>Phase</th>\n",
       "      <th>Group</th>\n",
       "      <th>n</th>\n",
       "      <th>Normaltest Stat</th>\n",
       "      <th>p</th>\n",
       "      <th>sig?</th>\n",
       "    </tr>\n",
       "  </thead>\n",
       "  <tbody>\n",
       "    <tr>\n",
       "      <th>0</th>\n",
       "      <td>S</td>\n",
       "      <td>Control</td>\n",
       "      <td>9</td>\n",
       "      <td>0.490</td>\n",
       "      <td>0.783</td>\n",
       "      <td>False</td>\n",
       "    </tr>\n",
       "    <tr>\n",
       "      <th>1</th>\n",
       "      <td>S</td>\n",
       "      <td>Experimental</td>\n",
       "      <td>13</td>\n",
       "      <td>6.533</td>\n",
       "      <td>0.038</td>\n",
       "      <td>True</td>\n",
       "    </tr>\n",
       "    <tr>\n",
       "      <th>2</th>\n",
       "      <td>S</td>\n",
       "      <td>Equal Variance</td>\n",
       "      <td>all</td>\n",
       "      <td>0.072</td>\n",
       "      <td>0.791</td>\n",
       "      <td>False</td>\n",
       "    </tr>\n",
       "  </tbody>\n",
       "</table>\n",
       "</div>"
      ],
      "text/plain": [
       "  Phase           Group    n  Normaltest Stat      p   sig?\n",
       "0     S         Control    9            0.490  0.783  False\n",
       "1     S    Experimental   13            6.533  0.038   True\n",
       "2     S  Equal Variance  all            0.072  0.791  False"
      ]
     },
     "execution_count": 112,
     "metadata": {},
     "output_type": "execute_result"
    }
   ],
   "source": [
    "res_df=  test_assumptions(data,'S')\n",
    "res_df"
   ]
  },
  {
   "cell_type": "code",
   "execution_count": 102,
   "metadata": {
    "ExecuteTime": {
     "end_time": "2020-07-01T22:03:30.966847Z",
     "start_time": "2020-07-01T22:03:30.703945Z"
    }
   },
   "outputs": [
    {
     "data": {
      "image/png": "[encoded data removed]",
      "text/plain": [
       "<Figure size 216x360 with 1 Axes>"
      ]
     },
     "metadata": {
      "needs_background": "light"
     },
     "output_type": "display_data"
    }
   ],
   "source": [
    "fig,ax = plot_bars_yerr(data,phase='S')"
   ]
  },
  {
   "cell_type": "code",
   "execution_count": 113,
   "metadata": {
    "ExecuteTime": {
     "end_time": "2020-07-01T22:06:14.022986Z",
     "start_time": "2020-07-01T22:06:14.016673Z"
    }
   },
   "outputs": [],
   "source": [
    "## Add Plotting to function\n",
    "import scipy.stats as st\n",
    "def test_assumptions(data,test_phase,plot=True):\n",
    "\n",
    "    if plot:\n",
    "        fig,ax = plot_bars_yerr(data,phase=test_phase)\n",
    "        \n",
    "    ## Make list of list of headers\n",
    "    results = [['Phase','Group','n','Normaltest Stat','p','sig?']]\n",
    "\n",
    "    ## Make an empty list for our group data\n",
    "    test_equal_var = []\n",
    "\n",
    "    ## Loop through the data dictionary \n",
    "    for grp,grp_df in data.items():\n",
    "\n",
    "        ## Grab the correct phase column from the group df\n",
    "        grp_data = grp_df[test_phase].copy()\n",
    "        ## Append group data to list of group data\n",
    "        test_equal_var.append(grp_data)\n",
    "\n",
    "        ## Test for nomrality and save result \n",
    "        stat,p = st.normaltest(grp_data)\n",
    "        results.append([test_phase,grp,len(grp_data),stat,p,p<.05])\n",
    "\n",
    "\n",
    "    ## Test for equal variance\n",
    "    stat, p = st.levene(*test_equal_var)\n",
    "    results.append([test_phase,'Equal Variance','all',stat,p,p<.05])\n",
    "\n",
    "    results_df = pd.DataFrame(results[1:],columns=results[0])\n",
    "    return results_df"
   ]
  },
  {
   "cell_type": "code",
   "execution_count": 120,
   "metadata": {
    "ExecuteTime": {
     "end_time": "2020-07-01T22:08:57.614088Z",
     "start_time": "2020-07-01T22:08:57.117641Z"
    },
    "scrolled": false
   },
   "outputs": [
    {
     "name": "stderr",
     "output_type": "stream",
     "text": [
      "//anaconda3/envs/learn-env/lib/python3.6/site-packages/scipy/stats/stats.py:1535: UserWarning:\n",
      "\n",
      "kurtosistest only valid for n>=20 ... continuing anyway, n=9\n",
      "\n",
      "//anaconda3/envs/learn-env/lib/python3.6/site-packages/scipy/stats/stats.py:1535: UserWarning:\n",
      "\n",
      "kurtosistest only valid for n>=20 ... continuing anyway, n=13\n",
      "\n"
     ]
    },
    {
     "data": {
      "text/html": [
       "<div>\n",
       "<style scoped>\n",
       "    .dataframe tbody tr th:only-of-type {\n",
       "        vertical-align: middle;\n",
       "    }\n",
       "\n",
       "    .dataframe tbody tr th {\n",
       "        vertical-align: top;\n",
       "    }\n",
       "\n",
       "    .dataframe thead th {\n",
       "        text-align: right;\n",
       "    }\n",
       "</style>\n",
       "<table border=\"1\" class=\"dataframe\">\n",
       "  <thead>\n",
       "    <tr style=\"text-align: right;\">\n",
       "      <th></th>\n",
       "      <th>Phase</th>\n",
       "      <th>Group</th>\n",
       "      <th>n</th>\n",
       "      <th>Normaltest Stat</th>\n",
       "      <th>p</th>\n",
       "      <th>sig?</th>\n",
       "    </tr>\n",
       "  </thead>\n",
       "  <tbody>\n",
       "    <tr>\n",
       "      <th>0</th>\n",
       "      <td>BL</td>\n",
       "      <td>Control</td>\n",
       "      <td>9</td>\n",
       "      <td>8.255</td>\n",
       "      <td>0.016</td>\n",
       "      <td>True</td>\n",
       "    </tr>\n",
       "    <tr>\n",
       "      <th>1</th>\n",
       "      <td>BL</td>\n",
       "      <td>Experimental</td>\n",
       "      <td>13</td>\n",
       "      <td>0.790</td>\n",
       "      <td>0.674</td>\n",
       "      <td>False</td>\n",
       "    </tr>\n",
       "    <tr>\n",
       "      <th>2</th>\n",
       "      <td>BL</td>\n",
       "      <td>Equal Variance</td>\n",
       "      <td>all</td>\n",
       "      <td>0.131</td>\n",
       "      <td>0.721</td>\n",
       "      <td>False</td>\n",
       "    </tr>\n",
       "  </tbody>\n",
       "</table>\n",
       "</div>"
      ],
      "text/plain": [
       "  Phase           Group    n  Normaltest Stat      p   sig?\n",
       "0    BL         Control    9            8.255  0.016   True\n",
       "1    BL    Experimental   13            0.790  0.674  False\n",
       "2    BL  Equal Variance  all            0.131  0.721  False"
      ]
     },
     "metadata": {},
     "output_type": "display_data"
    },
    {
     "data": {
      "image/png": "[encoded data removed]",
      "text/plain": [
       "<Figure size 216x360 with 1 Axes>"
      ]
     },
     "metadata": {
      "needs_background": "light"
     },
     "output_type": "display_data"
    },
    {
     "name": "stderr",
     "output_type": "stream",
     "text": [
      "//anaconda3/envs/learn-env/lib/python3.6/site-packages/scipy/stats/stats.py:1535: UserWarning:\n",
      "\n",
      "kurtosistest only valid for n>=20 ... continuing anyway, n=9\n",
      "\n",
      "//anaconda3/envs/learn-env/lib/python3.6/site-packages/scipy/stats/stats.py:1535: UserWarning:\n",
      "\n",
      "kurtosistest only valid for n>=20 ... continuing anyway, n=13\n",
      "\n"
     ]
    },
    {
     "data": {
      "text/html": [
       "<div>\n",
       "<style scoped>\n",
       "    .dataframe tbody tr th:only-of-type {\n",
       "        vertical-align: middle;\n",
       "    }\n",
       "\n",
       "    .dataframe tbody tr th {\n",
       "        vertical-align: top;\n",
       "    }\n",
       "\n",
       "    .dataframe thead th {\n",
       "        text-align: right;\n",
       "    }\n",
       "</style>\n",
       "<table border=\"1\" class=\"dataframe\">\n",
       "  <thead>\n",
       "    <tr style=\"text-align: right;\">\n",
       "      <th></th>\n",
       "      <th>Phase</th>\n",
       "      <th>Group</th>\n",
       "      <th>n</th>\n",
       "      <th>Normaltest Stat</th>\n",
       "      <th>p</th>\n",
       "      <th>sig?</th>\n",
       "    </tr>\n",
       "  </thead>\n",
       "  <tbody>\n",
       "    <tr>\n",
       "      <th>0</th>\n",
       "      <td>S</td>\n",
       "      <td>Control</td>\n",
       "      <td>9</td>\n",
       "      <td>0.490</td>\n",
       "      <td>0.783</td>\n",
       "      <td>False</td>\n",
       "    </tr>\n",
       "    <tr>\n",
       "      <th>1</th>\n",
       "      <td>S</td>\n",
       "      <td>Experimental</td>\n",
       "      <td>13</td>\n",
       "      <td>6.533</td>\n",
       "      <td>0.038</td>\n",
       "      <td>True</td>\n",
       "    </tr>\n",
       "    <tr>\n",
       "      <th>2</th>\n",
       "      <td>S</td>\n",
       "      <td>Equal Variance</td>\n",
       "      <td>all</td>\n",
       "      <td>0.072</td>\n",
       "      <td>0.791</td>\n",
       "      <td>False</td>\n",
       "    </tr>\n",
       "  </tbody>\n",
       "</table>\n",
       "</div>"
      ],
      "text/plain": [
       "  Phase           Group    n  Normaltest Stat      p   sig?\n",
       "0     S         Control    9            0.490  0.783  False\n",
       "1     S    Experimental   13            6.533  0.038   True\n",
       "2     S  Equal Variance  all            0.072  0.791  False"
      ]
     },
     "metadata": {},
     "output_type": "display_data"
    },
    {
     "data": {
      "image/png": "[encoded data removed]",
      "text/plain": [
       "<Figure size 216x360 with 1 Axes>"
      ]
     },
     "metadata": {
      "needs_background": "light"
     },
     "output_type": "display_data"
    },
    {
     "name": "stderr",
     "output_type": "stream",
     "text": [
      "//anaconda3/envs/learn-env/lib/python3.6/site-packages/scipy/stats/stats.py:1535: UserWarning:\n",
      "\n",
      "kurtosistest only valid for n>=20 ... continuing anyway, n=9\n",
      "\n",
      "//anaconda3/envs/learn-env/lib/python3.6/site-packages/scipy/stats/stats.py:1535: UserWarning:\n",
      "\n",
      "kurtosistest only valid for n>=20 ... continuing anyway, n=13\n",
      "\n"
     ]
    },
    {
     "data": {
      "text/html": [
       "<div>\n",
       "<style scoped>\n",
       "    .dataframe tbody tr th:only-of-type {\n",
       "        vertical-align: middle;\n",
       "    }\n",
       "\n",
       "    .dataframe tbody tr th {\n",
       "        vertical-align: top;\n",
       "    }\n",
       "\n",
       "    .dataframe thead th {\n",
       "        text-align: right;\n",
       "    }\n",
       "</style>\n",
       "<table border=\"1\" class=\"dataframe\">\n",
       "  <thead>\n",
       "    <tr style=\"text-align: right;\">\n",
       "      <th></th>\n",
       "      <th>Phase</th>\n",
       "      <th>Group</th>\n",
       "      <th>n</th>\n",
       "      <th>Normaltest Stat</th>\n",
       "      <th>p</th>\n",
       "      <th>sig?</th>\n",
       "    </tr>\n",
       "  </thead>\n",
       "  <tbody>\n",
       "    <tr>\n",
       "      <th>0</th>\n",
       "      <td>PS</td>\n",
       "      <td>Control</td>\n",
       "      <td>9</td>\n",
       "      <td>2.276</td>\n",
       "      <td>0.321</td>\n",
       "      <td>False</td>\n",
       "    </tr>\n",
       "    <tr>\n",
       "      <th>1</th>\n",
       "      <td>PS</td>\n",
       "      <td>Experimental</td>\n",
       "      <td>13</td>\n",
       "      <td>3.780</td>\n",
       "      <td>0.151</td>\n",
       "      <td>False</td>\n",
       "    </tr>\n",
       "    <tr>\n",
       "      <th>2</th>\n",
       "      <td>PS</td>\n",
       "      <td>Equal Variance</td>\n",
       "      <td>all</td>\n",
       "      <td>0.052</td>\n",
       "      <td>0.822</td>\n",
       "      <td>False</td>\n",
       "    </tr>\n",
       "  </tbody>\n",
       "</table>\n",
       "</div>"
      ],
      "text/plain": [
       "  Phase           Group    n  Normaltest Stat      p   sig?\n",
       "0    PS         Control    9            2.276  0.321  False\n",
       "1    PS    Experimental   13            3.780  0.151  False\n",
       "2    PS  Equal Variance  all            0.052  0.822  False"
      ]
     },
     "metadata": {},
     "output_type": "display_data"
    },
    {
     "data": {
      "image/png": "[encoded data removed]",
      "text/plain": [
       "<Figure size 216x360 with 1 Axes>"
      ]
     },
     "metadata": {
      "needs_background": "light"
     },
     "output_type": "display_data"
    },
    {
     "name": "stderr",
     "output_type": "stream",
     "text": [
      "//anaconda3/envs/learn-env/lib/python3.6/site-packages/scipy/stats/stats.py:1535: UserWarning:\n",
      "\n",
      "kurtosistest only valid for n>=20 ... continuing anyway, n=9\n",
      "\n",
      "//anaconda3/envs/learn-env/lib/python3.6/site-packages/scipy/stats/stats.py:1535: UserWarning:\n",
      "\n",
      "kurtosistest only valid for n>=20 ... continuing anyway, n=13\n",
      "\n"
     ]
    },
    {
     "data": {
      "text/html": [
       "<div>\n",
       "<style scoped>\n",
       "    .dataframe tbody tr th:only-of-type {\n",
       "        vertical-align: middle;\n",
       "    }\n",
       "\n",
       "    .dataframe tbody tr th {\n",
       "        vertical-align: top;\n",
       "    }\n",
       "\n",
       "    .dataframe thead th {\n",
       "        text-align: right;\n",
       "    }\n",
       "</style>\n",
       "<table border=\"1\" class=\"dataframe\">\n",
       "  <thead>\n",
       "    <tr style=\"text-align: right;\">\n",
       "      <th></th>\n",
       "      <th>Phase</th>\n",
       "      <th>Group</th>\n",
       "      <th>n</th>\n",
       "      <th>Normaltest Stat</th>\n",
       "      <th>p</th>\n",
       "      <th>sig?</th>\n",
       "    </tr>\n",
       "  </thead>\n",
       "  <tbody>\n",
       "    <tr>\n",
       "      <th>0</th>\n",
       "      <td>R1</td>\n",
       "      <td>Control</td>\n",
       "      <td>9</td>\n",
       "      <td>3.932</td>\n",
       "      <td>0.140</td>\n",
       "      <td>False</td>\n",
       "    </tr>\n",
       "    <tr>\n",
       "      <th>1</th>\n",
       "      <td>R1</td>\n",
       "      <td>Experimental</td>\n",
       "      <td>13</td>\n",
       "      <td>3.078</td>\n",
       "      <td>0.215</td>\n",
       "      <td>False</td>\n",
       "    </tr>\n",
       "    <tr>\n",
       "      <th>2</th>\n",
       "      <td>R1</td>\n",
       "      <td>Equal Variance</td>\n",
       "      <td>all</td>\n",
       "      <td>1.026</td>\n",
       "      <td>0.323</td>\n",
       "      <td>False</td>\n",
       "    </tr>\n",
       "  </tbody>\n",
       "</table>\n",
       "</div>"
      ],
      "text/plain": [
       "  Phase           Group    n  Normaltest Stat      p   sig?\n",
       "0    R1         Control    9            3.932  0.140  False\n",
       "1    R1    Experimental   13            3.078  0.215  False\n",
       "2    R1  Equal Variance  all            1.026  0.323  False"
      ]
     },
     "metadata": {},
     "output_type": "display_data"
    },
    {
     "data": {
      "image/png": "[encoded data removed]",
      "text/plain": [
       "<Figure size 216x360 with 1 Axes>"
      ]
     },
     "metadata": {
      "needs_background": "light"
     },
     "output_type": "display_data"
    },
    {
     "name": "stderr",
     "output_type": "stream",
     "text": [
      "//anaconda3/envs/learn-env/lib/python3.6/site-packages/scipy/stats/stats.py:1535: UserWarning:\n",
      "\n",
      "kurtosistest only valid for n>=20 ... continuing anyway, n=9\n",
      "\n",
      "//anaconda3/envs/learn-env/lib/python3.6/site-packages/scipy/stats/stats.py:1535: UserWarning:\n",
      "\n",
      "kurtosistest only valid for n>=20 ... continuing anyway, n=13\n",
      "\n"
     ]
    },
    {
     "data": {
      "text/html": [
       "<div>\n",
       "<style scoped>\n",
       "    .dataframe tbody tr th:only-of-type {\n",
       "        vertical-align: middle;\n",
       "    }\n",
       "\n",
       "    .dataframe tbody tr th {\n",
       "        vertical-align: top;\n",
       "    }\n",
       "\n",
       "    .dataframe thead th {\n",
       "        text-align: right;\n",
       "    }\n",
       "</style>\n",
       "<table border=\"1\" class=\"dataframe\">\n",
       "  <thead>\n",
       "    <tr style=\"text-align: right;\">\n",
       "      <th></th>\n",
       "      <th>Phase</th>\n",
       "      <th>Group</th>\n",
       "      <th>n</th>\n",
       "      <th>Normaltest Stat</th>\n",
       "      <th>p</th>\n",
       "      <th>sig?</th>\n",
       "    </tr>\n",
       "  </thead>\n",
       "  <tbody>\n",
       "    <tr>\n",
       "      <th>0</th>\n",
       "      <td>R2</td>\n",
       "      <td>Control</td>\n",
       "      <td>9</td>\n",
       "      <td>4.193</td>\n",
       "      <td>0.123</td>\n",
       "      <td>False</td>\n",
       "    </tr>\n",
       "    <tr>\n",
       "      <th>1</th>\n",
       "      <td>R2</td>\n",
       "      <td>Experimental</td>\n",
       "      <td>13</td>\n",
       "      <td>0.325</td>\n",
       "      <td>0.850</td>\n",
       "      <td>False</td>\n",
       "    </tr>\n",
       "    <tr>\n",
       "      <th>2</th>\n",
       "      <td>R2</td>\n",
       "      <td>Equal Variance</td>\n",
       "      <td>all</td>\n",
       "      <td>1.730</td>\n",
       "      <td>0.203</td>\n",
       "      <td>False</td>\n",
       "    </tr>\n",
       "  </tbody>\n",
       "</table>\n",
       "</div>"
      ],
      "text/plain": [
       "  Phase           Group    n  Normaltest Stat      p   sig?\n",
       "0    R2         Control    9            4.193  0.123  False\n",
       "1    R2    Experimental   13            0.325  0.850  False\n",
       "2    R2  Equal Variance  all            1.730  0.203  False"
      ]
     },
     "metadata": {},
     "output_type": "display_data"
    },
    {
     "data": {
      "image/png": "[encoded data removed]",
      "text/plain": [
       "<Figure size 216x360 with 1 Axes>"
      ]
     },
     "metadata": {
      "needs_background": "light"
     },
     "output_type": "display_data"
    }
   ],
   "source": [
    "RESULTS = {}\n",
    "for phase in phases:\n",
    "    res_df = test_assumptions(data,phase)\n",
    "    \n",
    "    display(res_df)\n",
    "    plt.show()\n",
    "    "
   ]
  },
  {
   "cell_type": "markdown",
   "metadata": {},
   "source": [
    "## RM ANOVA Melting DF"
   ]
  },
  {
   "cell_type": "code",
   "execution_count": 117,
   "metadata": {
    "ExecuteTime": {
     "end_time": "2020-07-01T22:08:22.380761Z",
     "start_time": "2020-07-01T22:08:22.337779Z"
    }
   },
   "outputs": [
    {
     "data": {
      "text/html": [
       "<div>\n",
       "<style scoped>\n",
       "    .dataframe tbody tr th:only-of-type {\n",
       "        vertical-align: middle;\n",
       "    }\n",
       "\n",
       "    .dataframe tbody tr th {\n",
       "        vertical-align: top;\n",
       "    }\n",
       "\n",
       "    .dataframe thead th {\n",
       "        text-align: right;\n",
       "    }\n",
       "</style>\n",
       "<table border=\"1\" class=\"dataframe\">\n",
       "  <thead>\n",
       "    <tr style=\"text-align: right;\">\n",
       "      <th></th>\n",
       "      <th>Mouse_ID</th>\n",
       "      <th>Group</th>\n",
       "      <th>BL1</th>\n",
       "      <th>BL2</th>\n",
       "      <th>BL3</th>\n",
       "      <th>BL4</th>\n",
       "      <th>S1</th>\n",
       "      <th>S2</th>\n",
       "      <th>S3</th>\n",
       "      <th>S4</th>\n",
       "      <th>PS1</th>\n",
       "      <th>PS2</th>\n",
       "      <th>PS3</th>\n",
       "      <th>PS4</th>\n",
       "      <th>R1_1</th>\n",
       "      <th>R1_2</th>\n",
       "      <th>R1_3</th>\n",
       "      <th>R1_4</th>\n",
       "      <th>R2_1</th>\n",
       "      <th>R2_2</th>\n",
       "      <th>R2_3</th>\n",
       "      <th>R2_4</th>\n",
       "    </tr>\n",
       "  </thead>\n",
       "  <tbody>\n",
       "    <tr>\n",
       "      <th>0</th>\n",
       "      <td>1</td>\n",
       "      <td>Control</td>\n",
       "      <td>665</td>\n",
       "      <td>863</td>\n",
       "      <td>631</td>\n",
       "      <td>629</td>\n",
       "      <td>583</td>\n",
       "      <td>801</td>\n",
       "      <td>723</td>\n",
       "      <td>707</td>\n",
       "      <td>732</td>\n",
       "      <td>680</td>\n",
       "      <td>684</td>\n",
       "      <td>485</td>\n",
       "      <td>65</td>\n",
       "      <td>301</td>\n",
       "      <td>351</td>\n",
       "      <td>441</td>\n",
       "      <td>675</td>\n",
       "      <td>554</td>\n",
       "      <td>541</td>\n",
       "      <td>545</td>\n",
       "    </tr>\n",
       "    <tr>\n",
       "      <th>1</th>\n",
       "      <td>2</td>\n",
       "      <td>Control</td>\n",
       "      <td>859</td>\n",
       "      <td>849</td>\n",
       "      <td>685</td>\n",
       "      <td>731</td>\n",
       "      <td>854</td>\n",
       "      <td>1103</td>\n",
       "      <td>645</td>\n",
       "      <td>633</td>\n",
       "      <td>733</td>\n",
       "      <td>662</td>\n",
       "      <td>605</td>\n",
       "      <td>623</td>\n",
       "      <td>128</td>\n",
       "      <td>268</td>\n",
       "      <td>462</td>\n",
       "      <td>569</td>\n",
       "      <td>988</td>\n",
       "      <td>728</td>\n",
       "      <td>933</td>\n",
       "      <td>564</td>\n",
       "    </tr>\n",
       "    <tr>\n",
       "      <th>2</th>\n",
       "      <td>3</td>\n",
       "      <td>Control</td>\n",
       "      <td>589</td>\n",
       "      <td>507</td>\n",
       "      <td>635</td>\n",
       "      <td>902</td>\n",
       "      <td>699</td>\n",
       "      <td>743</td>\n",
       "      <td>761</td>\n",
       "      <td>949</td>\n",
       "      <td>872</td>\n",
       "      <td>952</td>\n",
       "      <td>828</td>\n",
       "      <td>806</td>\n",
       "      <td>129</td>\n",
       "      <td>311</td>\n",
       "      <td>669</td>\n",
       "      <td>666</td>\n",
       "      <td>516</td>\n",
       "      <td>579</td>\n",
       "      <td>913</td>\n",
       "      <td>736</td>\n",
       "    </tr>\n",
       "    <tr>\n",
       "      <th>3</th>\n",
       "      <td>4</td>\n",
       "      <td>Control</td>\n",
       "      <td>939</td>\n",
       "      <td>909</td>\n",
       "      <td>850</td>\n",
       "      <td>756</td>\n",
       "      <td>807</td>\n",
       "      <td>617</td>\n",
       "      <td>526</td>\n",
       "      <td>736</td>\n",
       "      <td>743</td>\n",
       "      <td>625</td>\n",
       "      <td>690</td>\n",
       "      <td>759</td>\n",
       "      <td>281</td>\n",
       "      <td>357</td>\n",
       "      <td>386</td>\n",
       "      <td>585</td>\n",
       "      <td>565</td>\n",
       "      <td>550</td>\n",
       "      <td>806</td>\n",
       "      <td>732</td>\n",
       "    </tr>\n",
       "    <tr>\n",
       "      <th>4</th>\n",
       "      <td>5</td>\n",
       "      <td>Experimental</td>\n",
       "      <td>710</td>\n",
       "      <td>505</td>\n",
       "      <td>494</td>\n",
       "      <td>596</td>\n",
       "      <td>620</td>\n",
       "      <td>589</td>\n",
       "      <td>676</td>\n",
       "      <td>537</td>\n",
       "      <td>779</td>\n",
       "      <td>537</td>\n",
       "      <td>581</td>\n",
       "      <td>515</td>\n",
       "      <td>477</td>\n",
       "      <td>659</td>\n",
       "      <td>737</td>\n",
       "      <td>606</td>\n",
       "      <td>713</td>\n",
       "      <td>682</td>\n",
       "      <td>709</td>\n",
       "      <td>759</td>\n",
       "    </tr>\n",
       "    <tr>\n",
       "      <th>5</th>\n",
       "      <td>6</td>\n",
       "      <td>Experimental</td>\n",
       "      <td>564</td>\n",
       "      <td>808</td>\n",
       "      <td>589</td>\n",
       "      <td>596</td>\n",
       "      <td>591</td>\n",
       "      <td>580</td>\n",
       "      <td>419</td>\n",
       "      <td>463</td>\n",
       "      <td>707</td>\n",
       "      <td>625</td>\n",
       "      <td>547</td>\n",
       "      <td>595</td>\n",
       "      <td>532</td>\n",
       "      <td>951</td>\n",
       "      <td>901</td>\n",
       "      <td>851</td>\n",
       "      <td>807</td>\n",
       "      <td>858</td>\n",
       "      <td>802</td>\n",
       "      <td>803</td>\n",
       "    </tr>\n",
       "    <tr>\n",
       "      <th>6</th>\n",
       "      <td>7</td>\n",
       "      <td>Experimental</td>\n",
       "      <td>722</td>\n",
       "      <td>732</td>\n",
       "      <td>783</td>\n",
       "      <td>946</td>\n",
       "      <td>882</td>\n",
       "      <td>723</td>\n",
       "      <td>764</td>\n",
       "      <td>892</td>\n",
       "      <td>621</td>\n",
       "      <td>764</td>\n",
       "      <td>720</td>\n",
       "      <td>478</td>\n",
       "      <td>297</td>\n",
       "      <td>558</td>\n",
       "      <td>803</td>\n",
       "      <td>694</td>\n",
       "      <td>855</td>\n",
       "      <td>797</td>\n",
       "      <td>938</td>\n",
       "      <td>878</td>\n",
       "    </tr>\n",
       "    <tr>\n",
       "      <th>7</th>\n",
       "      <td>8</td>\n",
       "      <td>Experimental</td>\n",
       "      <td>497</td>\n",
       "      <td>649</td>\n",
       "      <td>586</td>\n",
       "      <td>506</td>\n",
       "      <td>546</td>\n",
       "      <td>493</td>\n",
       "      <td>456</td>\n",
       "      <td>601</td>\n",
       "      <td>437</td>\n",
       "      <td>462</td>\n",
       "      <td>704</td>\n",
       "      <td>498</td>\n",
       "      <td>10</td>\n",
       "      <td>44</td>\n",
       "      <td>86</td>\n",
       "      <td>284</td>\n",
       "      <td>212</td>\n",
       "      <td>133</td>\n",
       "      <td>141</td>\n",
       "      <td>274</td>\n",
       "    </tr>\n",
       "    <tr>\n",
       "      <th>8</th>\n",
       "      <td>9</td>\n",
       "      <td>Experimental</td>\n",
       "      <td>741</td>\n",
       "      <td>668</td>\n",
       "      <td>778</td>\n",
       "      <td>638</td>\n",
       "      <td>759</td>\n",
       "      <td>791</td>\n",
       "      <td>568</td>\n",
       "      <td>664</td>\n",
       "      <td>390</td>\n",
       "      <td>346</td>\n",
       "      <td>773</td>\n",
       "      <td>682</td>\n",
       "      <td>3</td>\n",
       "      <td>212</td>\n",
       "      <td>417</td>\n",
       "      <td>443</td>\n",
       "      <td>486</td>\n",
       "      <td>444</td>\n",
       "      <td>533</td>\n",
       "      <td>578</td>\n",
       "    </tr>\n",
       "    <tr>\n",
       "      <th>9</th>\n",
       "      <td>10</td>\n",
       "      <td>Experimental</td>\n",
       "      <td>953</td>\n",
       "      <td>988</td>\n",
       "      <td>579</td>\n",
       "      <td>706</td>\n",
       "      <td>1106</td>\n",
       "      <td>812</td>\n",
       "      <td>902</td>\n",
       "      <td>835</td>\n",
       "      <td>829</td>\n",
       "      <td>801</td>\n",
       "      <td>1011</td>\n",
       "      <td>919</td>\n",
       "      <td>274</td>\n",
       "      <td>559</td>\n",
       "      <td>840</td>\n",
       "      <td>890</td>\n",
       "      <td>724</td>\n",
       "      <td>793</td>\n",
       "      <td>559</td>\n",
       "      <td>700</td>\n",
       "    </tr>\n",
       "    <tr>\n",
       "      <th>10</th>\n",
       "      <td>11</td>\n",
       "      <td>Experimental</td>\n",
       "      <td>753</td>\n",
       "      <td>613</td>\n",
       "      <td>573</td>\n",
       "      <td>642</td>\n",
       "      <td>820</td>\n",
       "      <td>752</td>\n",
       "      <td>759</td>\n",
       "      <td>564</td>\n",
       "      <td>635</td>\n",
       "      <td>641</td>\n",
       "      <td>706</td>\n",
       "      <td>763</td>\n",
       "      <td>287</td>\n",
       "      <td>526</td>\n",
       "      <td>841</td>\n",
       "      <td>838</td>\n",
       "      <td>691</td>\n",
       "      <td>657</td>\n",
       "      <td>680</td>\n",
       "      <td>781</td>\n",
       "    </tr>\n",
       "    <tr>\n",
       "      <th>11</th>\n",
       "      <td>12</td>\n",
       "      <td>Control</td>\n",
       "      <td>494</td>\n",
       "      <td>602</td>\n",
       "      <td>570</td>\n",
       "      <td>530</td>\n",
       "      <td>570</td>\n",
       "      <td>396</td>\n",
       "      <td>403</td>\n",
       "      <td>380</td>\n",
       "      <td>362</td>\n",
       "      <td>467</td>\n",
       "      <td>491</td>\n",
       "      <td>557</td>\n",
       "      <td>98</td>\n",
       "      <td>262</td>\n",
       "      <td>344</td>\n",
       "      <td>388</td>\n",
       "      <td>435</td>\n",
       "      <td>551</td>\n",
       "      <td>552</td>\n",
       "      <td>537</td>\n",
       "    </tr>\n",
       "    <tr>\n",
       "      <th>12</th>\n",
       "      <td>13</td>\n",
       "      <td>Control</td>\n",
       "      <td>587</td>\n",
       "      <td>630</td>\n",
       "      <td>564</td>\n",
       "      <td>627</td>\n",
       "      <td>572</td>\n",
       "      <td>419</td>\n",
       "      <td>369</td>\n",
       "      <td>416</td>\n",
       "      <td>403</td>\n",
       "      <td>552</td>\n",
       "      <td>575</td>\n",
       "      <td>589</td>\n",
       "      <td>172</td>\n",
       "      <td>298</td>\n",
       "      <td>422</td>\n",
       "      <td>596</td>\n",
       "      <td>447</td>\n",
       "      <td>589</td>\n",
       "      <td>463</td>\n",
       "      <td>364</td>\n",
       "    </tr>\n",
       "    <tr>\n",
       "      <th>13</th>\n",
       "      <td>14</td>\n",
       "      <td>Control</td>\n",
       "      <td>917</td>\n",
       "      <td>680</td>\n",
       "      <td>737</td>\n",
       "      <td>596</td>\n",
       "      <td>699</td>\n",
       "      <td>484</td>\n",
       "      <td>452</td>\n",
       "      <td>438</td>\n",
       "      <td>547</td>\n",
       "      <td>729</td>\n",
       "      <td>830</td>\n",
       "      <td>411</td>\n",
       "      <td>71</td>\n",
       "      <td>386</td>\n",
       "      <td>581</td>\n",
       "      <td>832</td>\n",
       "      <td>586</td>\n",
       "      <td>610</td>\n",
       "      <td>634</td>\n",
       "      <td>716</td>\n",
       "    </tr>\n",
       "    <tr>\n",
       "      <th>14</th>\n",
       "      <td>15</td>\n",
       "      <td>Control</td>\n",
       "      <td>440</td>\n",
       "      <td>767</td>\n",
       "      <td>642</td>\n",
       "      <td>623</td>\n",
       "      <td>532</td>\n",
       "      <td>663</td>\n",
       "      <td>601</td>\n",
       "      <td>553</td>\n",
       "      <td>315</td>\n",
       "      <td>434</td>\n",
       "      <td>543</td>\n",
       "      <td>619</td>\n",
       "      <td>115</td>\n",
       "      <td>101</td>\n",
       "      <td>356</td>\n",
       "      <td>457</td>\n",
       "      <td>412</td>\n",
       "      <td>582</td>\n",
       "      <td>549</td>\n",
       "      <td>696</td>\n",
       "    </tr>\n",
       "    <tr>\n",
       "      <th>15</th>\n",
       "      <td>16</td>\n",
       "      <td>Experimental</td>\n",
       "      <td>715</td>\n",
       "      <td>469</td>\n",
       "      <td>392</td>\n",
       "      <td>333</td>\n",
       "      <td>492</td>\n",
       "      <td>594</td>\n",
       "      <td>695</td>\n",
       "      <td>568</td>\n",
       "      <td>916</td>\n",
       "      <td>675</td>\n",
       "      <td>669</td>\n",
       "      <td>895</td>\n",
       "      <td>98</td>\n",
       "      <td>558</td>\n",
       "      <td>977</td>\n",
       "      <td>956</td>\n",
       "      <td>974</td>\n",
       "      <td>1049</td>\n",
       "      <td>1366</td>\n",
       "      <td>942</td>\n",
       "    </tr>\n",
       "    <tr>\n",
       "      <th>16</th>\n",
       "      <td>17</td>\n",
       "      <td>Experimental</td>\n",
       "      <td>184</td>\n",
       "      <td>250</td>\n",
       "      <td>373</td>\n",
       "      <td>457</td>\n",
       "      <td>505</td>\n",
       "      <td>475</td>\n",
       "      <td>519</td>\n",
       "      <td>578</td>\n",
       "      <td>542</td>\n",
       "      <td>477</td>\n",
       "      <td>601</td>\n",
       "      <td>390</td>\n",
       "      <td>131</td>\n",
       "      <td>656</td>\n",
       "      <td>845</td>\n",
       "      <td>699</td>\n",
       "      <td>494</td>\n",
       "      <td>920</td>\n",
       "      <td>431</td>\n",
       "      <td>521</td>\n",
       "    </tr>\n",
       "    <tr>\n",
       "      <th>17</th>\n",
       "      <td>18</td>\n",
       "      <td>Experimental</td>\n",
       "      <td>934</td>\n",
       "      <td>1237</td>\n",
       "      <td>354</td>\n",
       "      <td>705</td>\n",
       "      <td>646</td>\n",
       "      <td>619</td>\n",
       "      <td>885</td>\n",
       "      <td>626</td>\n",
       "      <td>496</td>\n",
       "      <td>954</td>\n",
       "      <td>718</td>\n",
       "      <td>821</td>\n",
       "      <td>170</td>\n",
       "      <td>909</td>\n",
       "      <td>1049</td>\n",
       "      <td>994</td>\n",
       "      <td>675</td>\n",
       "      <td>803</td>\n",
       "      <td>866</td>\n",
       "      <td>880</td>\n",
       "    </tr>\n",
       "    <tr>\n",
       "      <th>18</th>\n",
       "      <td>19</td>\n",
       "      <td>Experimental</td>\n",
       "      <td>578</td>\n",
       "      <td>548</td>\n",
       "      <td>556</td>\n",
       "      <td>479</td>\n",
       "      <td>533</td>\n",
       "      <td>721</td>\n",
       "      <td>651</td>\n",
       "      <td>546</td>\n",
       "      <td>537</td>\n",
       "      <td>564</td>\n",
       "      <td>519</td>\n",
       "      <td>446</td>\n",
       "      <td>601</td>\n",
       "      <td>565</td>\n",
       "      <td>450</td>\n",
       "      <td>684</td>\n",
       "      <td>1675</td>\n",
       "      <td>976</td>\n",
       "      <td>1249</td>\n",
       "      <td>1047</td>\n",
       "    </tr>\n",
       "    <tr>\n",
       "      <th>19</th>\n",
       "      <td>20</td>\n",
       "      <td>Experimental</td>\n",
       "      <td>400</td>\n",
       "      <td>193</td>\n",
       "      <td>188</td>\n",
       "      <td>350</td>\n",
       "      <td>232</td>\n",
       "      <td>34</td>\n",
       "      <td>65</td>\n",
       "      <td>158</td>\n",
       "      <td>89</td>\n",
       "      <td>175</td>\n",
       "      <td>186</td>\n",
       "      <td>319</td>\n",
       "      <td>14</td>\n",
       "      <td>60</td>\n",
       "      <td>118</td>\n",
       "      <td>149</td>\n",
       "      <td>133</td>\n",
       "      <td>270</td>\n",
       "      <td>472</td>\n",
       "      <td>293</td>\n",
       "    </tr>\n",
       "    <tr>\n",
       "      <th>20</th>\n",
       "      <td>21</td>\n",
       "      <td>Experimental</td>\n",
       "      <td>448</td>\n",
       "      <td>221</td>\n",
       "      <td>505</td>\n",
       "      <td>459</td>\n",
       "      <td>483</td>\n",
       "      <td>491</td>\n",
       "      <td>394</td>\n",
       "      <td>673</td>\n",
       "      <td>593</td>\n",
       "      <td>444</td>\n",
       "      <td>430</td>\n",
       "      <td>630</td>\n",
       "      <td>176</td>\n",
       "      <td>611</td>\n",
       "      <td>680</td>\n",
       "      <td>552</td>\n",
       "      <td>652</td>\n",
       "      <td>879</td>\n",
       "      <td>990</td>\n",
       "      <td>900</td>\n",
       "    </tr>\n",
       "    <tr>\n",
       "      <th>21</th>\n",
       "      <td>22</td>\n",
       "      <td>Control</td>\n",
       "      <td>270</td>\n",
       "      <td>132</td>\n",
       "      <td>250</td>\n",
       "      <td>192</td>\n",
       "      <td>364</td>\n",
       "      <td>229</td>\n",
       "      <td>219</td>\n",
       "      <td>329</td>\n",
       "      <td>120</td>\n",
       "      <td>147</td>\n",
       "      <td>186</td>\n",
       "      <td>337</td>\n",
       "      <td>8</td>\n",
       "      <td>70</td>\n",
       "      <td>18</td>\n",
       "      <td>175</td>\n",
       "      <td>232</td>\n",
       "      <td>238</td>\n",
       "      <td>209</td>\n",
       "      <td>200</td>\n",
       "    </tr>\n",
       "  </tbody>\n",
       "</table>\n",
       "</div>"
      ],
      "text/plain": [
       "    Mouse_ID         Group  BL1   BL2  BL3  ...  R1_4  R2_1  R2_2  R2_3  R2_4\n",
       "0          1       Control  665   863  631  ...   441   675   554   541   545\n",
       "1          2       Control  859   849  685  ...   569   988   728   933   564\n",
       "2          3       Control  589   507  635  ...   666   516   579   913   736\n",
       "3          4       Control  939   909  850  ...   585   565   550   806   732\n",
       "4          5  Experimental  710   505  494  ...   606   713   682   709   759\n",
       "5          6  Experimental  564   808  589  ...   851   807   858   802   803\n",
       "6          7  Experimental  722   732  783  ...   694   855   797   938   878\n",
       "7          8  Experimental  497   649  586  ...   284   212   133   141   274\n",
       "8          9  Experimental  741   668  778  ...   443   486   444   533   578\n",
       "9         10  Experimental  953   988  579  ...   890   724   793   559   700\n",
       "10        11  Experimental  753   613  573  ...   838   691   657   680   781\n",
       "11        12       Control  494   602  570  ...   388   435   551   552   537\n",
       "12        13       Control  587   630  564  ...   596   447   589   463   364\n",
       "13        14       Control  917   680  737  ...   832   586   610   634   716\n",
       "14        15       Control  440   767  642  ...   457   412   582   549   696\n",
       "15        16  Experimental  715   469  392  ...   956   974  1049  1366   942\n",
       "16        17  Experimental  184   250  373  ...   699   494   920   431   521\n",
       "17        18  Experimental  934  1237  354  ...   994   675   803   866   880\n",
       "18        19  Experimental  578   548  556  ...   684  1675   976  1249  1047\n",
       "19        20  Experimental  400   193  188  ...   149   133   270   472   293\n",
       "20        21  Experimental  448   221  505  ...   552   652   879   990   900\n",
       "21        22       Control  270   132  250  ...   175   232   238   209   200\n",
       "\n",
       "[22 rows x 22 columns]"
      ]
     },
     "execution_count": 117,
     "metadata": {},
     "output_type": "execute_result"
    }
   ],
   "source": [
    "df"
   ]
  },
  {
   "cell_type": "code",
   "execution_count": 121,
   "metadata": {
    "ExecuteTime": {
     "end_time": "2020-07-01T22:09:04.517658Z",
     "start_time": "2020-07-01T22:09:04.495557Z"
    }
   },
   "outputs": [
    {
     "data": {
      "text/html": [
       "<div>\n",
       "<style scoped>\n",
       "    .dataframe tbody tr th:only-of-type {\n",
       "        vertical-align: middle;\n",
       "    }\n",
       "\n",
       "    .dataframe tbody tr th {\n",
       "        vertical-align: top;\n",
       "    }\n",
       "\n",
       "    .dataframe thead th {\n",
       "        text-align: right;\n",
       "    }\n",
       "</style>\n",
       "<table border=\"1\" class=\"dataframe\">\n",
       "  <thead>\n",
       "    <tr style=\"text-align: right;\">\n",
       "      <th></th>\n",
       "      <th>Mouse_ID</th>\n",
       "      <th>Group</th>\n",
       "      <th>Day</th>\n",
       "      <th>Licks</th>\n",
       "    </tr>\n",
       "  </thead>\n",
       "  <tbody>\n",
       "    <tr>\n",
       "      <th>0</th>\n",
       "      <td>1</td>\n",
       "      <td>Control</td>\n",
       "      <td>BL1</td>\n",
       "      <td>665</td>\n",
       "    </tr>\n",
       "    <tr>\n",
       "      <th>1</th>\n",
       "      <td>2</td>\n",
       "      <td>Control</td>\n",
       "      <td>BL1</td>\n",
       "      <td>859</td>\n",
       "    </tr>\n",
       "    <tr>\n",
       "      <th>2</th>\n",
       "      <td>3</td>\n",
       "      <td>Control</td>\n",
       "      <td>BL1</td>\n",
       "      <td>589</td>\n",
       "    </tr>\n",
       "    <tr>\n",
       "      <th>3</th>\n",
       "      <td>4</td>\n",
       "      <td>Control</td>\n",
       "      <td>BL1</td>\n",
       "      <td>939</td>\n",
       "    </tr>\n",
       "    <tr>\n",
       "      <th>4</th>\n",
       "      <td>5</td>\n",
       "      <td>Experimental</td>\n",
       "      <td>BL1</td>\n",
       "      <td>710</td>\n",
       "    </tr>\n",
       "    <tr>\n",
       "      <th>...</th>\n",
       "      <td>...</td>\n",
       "      <td>...</td>\n",
       "      <td>...</td>\n",
       "      <td>...</td>\n",
       "    </tr>\n",
       "    <tr>\n",
       "      <th>435</th>\n",
       "      <td>18</td>\n",
       "      <td>Experimental</td>\n",
       "      <td>R2_4</td>\n",
       "      <td>880</td>\n",
       "    </tr>\n",
       "    <tr>\n",
       "      <th>436</th>\n",
       "      <td>19</td>\n",
       "      <td>Experimental</td>\n",
       "      <td>R2_4</td>\n",
       "      <td>1047</td>\n",
       "    </tr>\n",
       "    <tr>\n",
       "      <th>437</th>\n",
       "      <td>20</td>\n",
       "      <td>Experimental</td>\n",
       "      <td>R2_4</td>\n",
       "      <td>293</td>\n",
       "    </tr>\n",
       "    <tr>\n",
       "      <th>438</th>\n",
       "      <td>21</td>\n",
       "      <td>Experimental</td>\n",
       "      <td>R2_4</td>\n",
       "      <td>900</td>\n",
       "    </tr>\n",
       "    <tr>\n",
       "      <th>439</th>\n",
       "      <td>22</td>\n",
       "      <td>Control</td>\n",
       "      <td>R2_4</td>\n",
       "      <td>200</td>\n",
       "    </tr>\n",
       "  </tbody>\n",
       "</table>\n",
       "<p>440 rows × 4 columns</p>\n",
       "</div>"
      ],
      "text/plain": [
       "     Mouse_ID         Group   Day  Licks\n",
       "0           1       Control   BL1    665\n",
       "1           2       Control   BL1    859\n",
       "2           3       Control   BL1    589\n",
       "3           4       Control   BL1    939\n",
       "4           5  Experimental   BL1    710\n",
       "..        ...           ...   ...    ...\n",
       "435        18  Experimental  R2_4    880\n",
       "436        19  Experimental  R2_4   1047\n",
       "437        20  Experimental  R2_4    293\n",
       "438        21  Experimental  R2_4    900\n",
       "439        22       Control  R2_4    200\n",
       "\n",
       "[440 rows x 4 columns]"
      ]
     },
     "execution_count": 121,
     "metadata": {},
     "output_type": "execute_result"
    }
   ],
   "source": [
    "## MELTING THE DATA INTO FORM WORKABLE FOR PLOTS/ANALYSIS\n",
    "df2= pd.melt(df,id_vars=['Mouse_ID','Group'],\n",
    "              value_name='Licks',var_name='Day')\n",
    "df2"
   ]
  },
  {
   "cell_type": "code",
   "execution_count": 123,
   "metadata": {
    "ExecuteTime": {
     "end_time": "2020-07-01T22:09:43.203205Z",
     "start_time": "2020-07-01T22:09:43.181432Z"
    },
    "scrolled": true
   },
   "outputs": [
    {
     "data": {
      "text/html": [
       "<div>\n",
       "<style scoped>\n",
       "    .dataframe tbody tr th:only-of-type {\n",
       "        vertical-align: middle;\n",
       "    }\n",
       "\n",
       "    .dataframe tbody tr th {\n",
       "        vertical-align: top;\n",
       "    }\n",
       "\n",
       "    .dataframe thead th {\n",
       "        text-align: right;\n",
       "    }\n",
       "</style>\n",
       "<table border=\"1\" class=\"dataframe\">\n",
       "  <thead>\n",
       "    <tr style=\"text-align: right;\">\n",
       "      <th></th>\n",
       "      <th>Mouse_ID</th>\n",
       "      <th>Group</th>\n",
       "      <th>Day</th>\n",
       "      <th>Licks</th>\n",
       "      <th>Phase</th>\n",
       "      <th>Day_of_Phase</th>\n",
       "    </tr>\n",
       "  </thead>\n",
       "  <tbody>\n",
       "    <tr>\n",
       "      <th>0</th>\n",
       "      <td>1</td>\n",
       "      <td>Control</td>\n",
       "      <td>BL1</td>\n",
       "      <td>665</td>\n",
       "      <td>BL</td>\n",
       "      <td>1</td>\n",
       "    </tr>\n",
       "    <tr>\n",
       "      <th>1</th>\n",
       "      <td>2</td>\n",
       "      <td>Control</td>\n",
       "      <td>BL1</td>\n",
       "      <td>859</td>\n",
       "      <td>BL</td>\n",
       "      <td>1</td>\n",
       "    </tr>\n",
       "    <tr>\n",
       "      <th>2</th>\n",
       "      <td>3</td>\n",
       "      <td>Control</td>\n",
       "      <td>BL1</td>\n",
       "      <td>589</td>\n",
       "      <td>BL</td>\n",
       "      <td>1</td>\n",
       "    </tr>\n",
       "    <tr>\n",
       "      <th>3</th>\n",
       "      <td>4</td>\n",
       "      <td>Control</td>\n",
       "      <td>BL1</td>\n",
       "      <td>939</td>\n",
       "      <td>BL</td>\n",
       "      <td>1</td>\n",
       "    </tr>\n",
       "    <tr>\n",
       "      <th>4</th>\n",
       "      <td>5</td>\n",
       "      <td>Experimental</td>\n",
       "      <td>BL1</td>\n",
       "      <td>710</td>\n",
       "      <td>BL</td>\n",
       "      <td>1</td>\n",
       "    </tr>\n",
       "    <tr>\n",
       "      <th>...</th>\n",
       "      <td>...</td>\n",
       "      <td>...</td>\n",
       "      <td>...</td>\n",
       "      <td>...</td>\n",
       "      <td>...</td>\n",
       "      <td>...</td>\n",
       "    </tr>\n",
       "    <tr>\n",
       "      <th>435</th>\n",
       "      <td>18</td>\n",
       "      <td>Experimental</td>\n",
       "      <td>R2_4</td>\n",
       "      <td>880</td>\n",
       "      <td>R2</td>\n",
       "      <td>4</td>\n",
       "    </tr>\n",
       "    <tr>\n",
       "      <th>436</th>\n",
       "      <td>19</td>\n",
       "      <td>Experimental</td>\n",
       "      <td>R2_4</td>\n",
       "      <td>1047</td>\n",
       "      <td>R2</td>\n",
       "      <td>4</td>\n",
       "    </tr>\n",
       "    <tr>\n",
       "      <th>437</th>\n",
       "      <td>20</td>\n",
       "      <td>Experimental</td>\n",
       "      <td>R2_4</td>\n",
       "      <td>293</td>\n",
       "      <td>R2</td>\n",
       "      <td>4</td>\n",
       "    </tr>\n",
       "    <tr>\n",
       "      <th>438</th>\n",
       "      <td>21</td>\n",
       "      <td>Experimental</td>\n",
       "      <td>R2_4</td>\n",
       "      <td>900</td>\n",
       "      <td>R2</td>\n",
       "      <td>4</td>\n",
       "    </tr>\n",
       "    <tr>\n",
       "      <th>439</th>\n",
       "      <td>22</td>\n",
       "      <td>Control</td>\n",
       "      <td>R2_4</td>\n",
       "      <td>200</td>\n",
       "      <td>R2</td>\n",
       "      <td>4</td>\n",
       "    </tr>\n",
       "  </tbody>\n",
       "</table>\n",
       "<p>440 rows × 6 columns</p>\n",
       "</div>"
      ],
      "text/plain": [
       "     Mouse_ID         Group   Day  Licks Phase Day_of_Phase\n",
       "0           1       Control   BL1    665    BL            1\n",
       "1           2       Control   BL1    859    BL            1\n",
       "2           3       Control   BL1    589    BL            1\n",
       "3           4       Control   BL1    939    BL            1\n",
       "4           5  Experimental   BL1    710    BL            1\n",
       "..        ...           ...   ...    ...   ...          ...\n",
       "435        18  Experimental  R2_4    880    R2            4\n",
       "436        19  Experimental  R2_4   1047    R2            4\n",
       "437        20  Experimental  R2_4    293    R2            4\n",
       "438        21  Experimental  R2_4    900    R2            4\n",
       "439        22       Control  R2_4    200    R2            4\n",
       "\n",
       "[440 rows x 6 columns]"
      ]
     },
     "execution_count": 123,
     "metadata": {},
     "output_type": "execute_result"
    }
   ],
   "source": [
    "## Mapping Phase from Phase Dict\n",
    "df2['Phase'] = df2['Day'].map(phase_dict)\n",
    "\n",
    "## Getting Day of Phase\n",
    "df2['Day_of_Phase'] = df2['Day'].apply(lambda x: x[-1])\n",
    "# df2 = df2.dropna(subset=['Phase'])\n",
    "df2"
   ]
  },
  {
   "cell_type": "code",
   "execution_count": 125,
   "metadata": {
    "ExecuteTime": {
     "end_time": "2020-07-01T22:10:02.866565Z",
     "start_time": "2020-07-01T22:10:02.829233Z"
    }
   },
   "outputs": [
    {
     "data": {
      "text/html": [
       "<div>\n",
       "<style scoped>\n",
       "    .dataframe tbody tr th:only-of-type {\n",
       "        vertical-align: middle;\n",
       "    }\n",
       "\n",
       "    .dataframe tbody tr th {\n",
       "        vertical-align: top;\n",
       "    }\n",
       "\n",
       "    .dataframe thead th {\n",
       "        text-align: right;\n",
       "    }\n",
       "</style>\n",
       "<table border=\"1\" class=\"dataframe\">\n",
       "  <thead>\n",
       "    <tr style=\"text-align: right;\">\n",
       "      <th></th>\n",
       "      <th>sum_sq</th>\n",
       "      <th>df</th>\n",
       "      <th>F</th>\n",
       "      <th>PR(&gt;F)</th>\n",
       "    </tr>\n",
       "  </thead>\n",
       "  <tbody>\n",
       "    <tr>\n",
       "      <th>C(Group)</th>\n",
       "      <td>4.951e+05</td>\n",
       "      <td>1.0</td>\n",
       "      <td>9.240</td>\n",
       "      <td>2.512e-03</td>\n",
       "    </tr>\n",
       "    <tr>\n",
       "      <th>C(Phase)</th>\n",
       "      <td>2.254e+06</td>\n",
       "      <td>4.0</td>\n",
       "      <td>10.516</td>\n",
       "      <td>3.892e-08</td>\n",
       "    </tr>\n",
       "    <tr>\n",
       "      <th>C(Group):C(Phase)</th>\n",
       "      <td>9.140e+05</td>\n",
       "      <td>4.0</td>\n",
       "      <td>4.264</td>\n",
       "      <td>2.147e-03</td>\n",
       "    </tr>\n",
       "    <tr>\n",
       "      <th>Residual</th>\n",
       "      <td>2.304e+07</td>\n",
       "      <td>430.0</td>\n",
       "      <td>NaN</td>\n",
       "      <td>NaN</td>\n",
       "    </tr>\n",
       "  </tbody>\n",
       "</table>\n",
       "</div>"
      ],
      "text/plain": [
       "                      sum_sq     df       F     PR(>F)\n",
       "C(Group)           4.951e+05    1.0   9.240  2.512e-03\n",
       "C(Phase)           2.254e+06    4.0  10.516  3.892e-08\n",
       "C(Group):C(Phase)  9.140e+05    4.0   4.264  2.147e-03\n",
       "Residual           2.304e+07  430.0     NaN        NaN"
      ]
     },
     "metadata": {},
     "output_type": "display_data"
    }
   ],
   "source": [
    "import statsmodels.api as sm\n",
    "from statsmodels.formula.api import ols\n",
    "formula = \"Licks~C(Group)*C(Phase)\"#'S ~ C(E) + C(M) + X'\n",
    "lm = ols(formula, df2).fit()\n",
    "table = sm.stats.anova_lm(lm, typ=2)\n",
    "display(table)"
   ]
  },
  {
   "cell_type": "code",
   "execution_count": null,
   "metadata": {
    "ExecuteTime": {
     "end_time": "2020-07-01T19:42:39.016848Z",
     "start_time": "2020-07-01T19:42:39.009090Z"
    }
   },
   "outputs": [],
   "source": [
    "# df2.to_csv('../Neuroscience/mouse_drinking_data_melted.csv',index=False)"
   ]
  },
  {
   "cell_type": "code",
   "execution_count": null,
   "metadata": {
    "ExecuteTime": {
     "end_time": "2020-07-01T19:43:02.119604Z",
     "start_time": "2020-07-01T19:43:02.117616Z"
    }
   },
   "outputs": [],
   "source": [
    "# pd.read_csv('../Neuroscience/mouse_drinking_data_melted.csv')"
   ]
  },
  {
   "cell_type": "markdown",
   "metadata": {},
   "source": [
    "# 📕 TO DO (06/30/20): RM_ANOVA\n",
    "\n",
    "> ## Main Resources\n",
    "- https://www.marsja.se/repeated-measures-anova-in-python-using-statsmodels/\n",
    "\n",
    "> ### Additional Resources\n",
    "- https://www.marsja.se/three-ways-to-carry-out-2-way-anova-with-python/\n",
    "- https://www.marsja.se/four-ways-to-conduct-one-way-anovas-using-python/"
   ]
  },
  {
   "cell_type": "code",
   "execution_count": null,
   "metadata": {},
   "outputs": [],
   "source": [
    "import pandas as pd\n",
    "import statsmodels.api as sm\n",
    "from statsmodels.formula.api import ols"
   ]
  },
  {
   "cell_type": "code",
   "execution_count": null,
   "metadata": {
    "ExecuteTime": {
     "end_time": "2020-07-01T19:43:25.339645Z",
     "start_time": "2020-07-01T19:43:25.313307Z"
    }
   },
   "outputs": [],
   "source": [
    "df_melt = pd.read_csv('../Neuroscience/mouse_drinking_data_melted.csv')\n",
    "df_melt"
   ]
  },
  {
   "cell_type": "code",
   "execution_count": null,
   "metadata": {
    "ExecuteTime": {
     "end_time": "2020-07-01T19:43:49.650209Z",
     "start_time": "2020-07-01T19:43:49.640399Z"
    }
   },
   "outputs": [],
   "source": [
    "del df2\n",
    "# del df_melt"
   ]
  },
  {
   "cell_type": "code",
   "execution_count": null,
   "metadata": {
    "ExecuteTime": {
     "end_time": "2020-07-01T19:44:01.842324Z",
     "start_time": "2020-07-01T19:44:01.780437Z"
    }
   },
   "outputs": [],
   "source": [
    "df3 = df.pivot_table(values='Licks',index=['Group','Mouse_ID'],\n",
    "                      columns=['Phase','Day_of_Phase'])\n",
    "df3"
   ]
  },
  {
   "cell_type": "code",
   "execution_count": null,
   "metadata": {
    "ExecuteTime": {
     "end_time": "2020-07-01T01:31:14.422441Z",
     "start_time": "2020-07-01T01:31:14.419760Z"
    }
   },
   "outputs": [],
   "source": [
    "# df.groupby(['Group','Mouse_ID'])['Mouse_ID'].count()#.max()"
   ]
  },
  {
   "cell_type": "markdown",
   "metadata": {},
   "source": [
    "### NOTES (06/29/30)"
   ]
  },
  {
   "cell_type": "markdown",
   "metadata": {},
   "source": [
    "- There are 52 observations for ChR2, but only 36 for Control.\n",
    "    - This is probably why RMANOVA returns an error\n",
    "    \n",
    "- Possible Solutions:\n",
    "    - Remove mice from ChR2 group to match Control\n",
    "    - Resample from Control Group to match ChR2"
   ]
  },
  {
   "cell_type": "code",
   "execution_count": null,
   "metadata": {
    "ExecuteTime": {
     "end_time": "2020-07-01T01:31:14.433616Z",
     "start_time": "2020-07-01T01:31:14.424636Z"
    }
   },
   "outputs": [],
   "source": [
    "data = {}\n",
    "for grp in df.groupby('Group').groups:\n",
    "    data[grp] = df.groupby('Group').get_group(grp)\n",
    "    print(grp)\n",
    "    print(len(data[grp]['Mouse_ID'].unique()))\n",
    "    print()"
   ]
  },
  {
   "cell_type": "code",
   "execution_count": null,
   "metadata": {
    "ExecuteTime": {
     "end_time": "2020-07-01T01:31:26.677723Z",
     "start_time": "2020-07-01T01:31:26.675437Z"
    }
   },
   "outputs": [],
   "source": [
    "n_to_match = 13"
   ]
  },
  {
   "cell_type": "markdown",
   "metadata": {},
   "source": [
    "### Identifying which Mice to Remove (outliers)"
   ]
  },
  {
   "cell_type": "code",
   "execution_count": null,
   "metadata": {
    "ExecuteTime": {
     "end_time": "2020-07-01T01:31:28.132228Z",
     "start_time": "2020-07-01T01:31:28.130135Z"
    },
    "code_folding": [
     0
    ]
   },
   "outputs": [],
   "source": [
    "# ## Making df that can be used with plotly express\n",
    "# plotly_df = df2.copy()\n",
    "# # plotly_df['Day_of_Phase'] = plotly_df['Day'].apply(lambda x: x[-1])\n",
    "# plotly_df"
   ]
  },
  {
   "cell_type": "code",
   "execution_count": null,
   "metadata": {
    "ExecuteTime": {
     "end_time": "2020-07-01T01:31:29.197230Z",
     "start_time": "2020-07-01T01:31:28.516667Z"
    }
   },
   "outputs": [],
   "source": [
    "import plotly.express as px\n",
    "px.box(df,x='Phase',y='Licks',\n",
    "       color='Group',hover_name='Mouse_ID',height=400)#,\n",
    "#       category_orders=['BL','S','PS','R1','R2'])#,points='suspectedoutliers')"
   ]
  },
  {
   "cell_type": "markdown",
   "metadata": {},
   "source": [
    "> - Mice to Remove (try normalized first):\n",
    "    - ChR2:\n",
    "        - 20\n",
    "    - Control:\n",
    "        - "
   ]
  },
  {
   "cell_type": "markdown",
   "metadata": {},
   "source": [
    "# STOPPING POINT [06/30/20]"
   ]
  },
  {
   "cell_type": "code",
   "execution_count": null,
   "metadata": {
    "ExecuteTime": {
     "end_time": "2020-07-01T01:32:31.479955Z",
     "start_time": "2020-07-01T01:32:31.452797Z"
    }
   },
   "outputs": [],
   "source": [
    "df_anova_phases = df.pivot_table(index=['Group','Mouse_ID'],values='Licks',columns=['Phase'])\n",
    "display(df_anova_phases)"
   ]
  },
  {
   "cell_type": "code",
   "execution_count": null,
   "metadata": {
    "ExecuteTime": {
     "end_time": "2020-07-01T01:33:16.900546Z",
     "start_time": "2020-07-01T01:33:16.876074Z"
    }
   },
   "outputs": [],
   "source": [
    "df"
   ]
  },
  {
   "cell_type": "markdown",
   "metadata": {},
   "source": [
    "### Equalizing N's|"
   ]
  },
  {
   "cell_type": "code",
   "execution_count": null,
   "metadata": {
    "ExecuteTime": {
     "end_time": "2020-07-01T01:31:31.040187Z",
     "start_time": "2020-07-01T01:31:31.036134Z"
    }
   },
   "outputs": [],
   "source": [
    "n_chr2 = len(df_anova_phases.loc['ChR2'])\n",
    "n_control= len(df_anova_phases.loc['Control'])\n",
    "n_to_match = max( n_chr2,n_control)"
   ]
  },
  {
   "cell_type": "code",
   "execution_count": null,
   "metadata": {
    "ExecuteTime": {
     "end_time": "2020-07-01T01:33:42.051883Z",
     "start_time": "2020-07-01T01:33:42.027887Z"
    }
   },
   "outputs": [],
   "source": [
    "df"
   ]
  },
  {
   "cell_type": "code",
   "execution_count": null,
   "metadata": {
    "ExecuteTime": {
     "end_time": "2020-07-01T01:38:23.867443Z",
     "start_time": "2020-07-01T01:38:23.838099Z"
    }
   },
   "outputs": [],
   "source": [
    "## Resample dfa\n",
    "\n",
    "\n",
    "df_list = []\n",
    "# df_anova_phases.reset_index(inplace=True)\n",
    "for group in df[\"Group\"].unique():\n",
    "    grp_df = df.groupby('Group').get_group(group)\n",
    "    grp_df = grp_df.sample(n=n_to_match,replace=True,random_state=123)\n",
    "    df_list.append(grp_df)\n",
    "df\n"
   ]
  },
  {
   "cell_type": "code",
   "execution_count": null,
   "metadata": {
    "ExecuteTime": {
     "end_time": "2020-07-01T01:38:25.478712Z",
     "start_time": "2020-07-01T01:38:25.455250Z"
    }
   },
   "outputs": [],
   "source": [
    "from statsmodels.stats.anova import AnovaRM\n",
    "df_resamp = pd.concat(df_list)\n",
    "df_resamp"
   ]
  },
  {
   "cell_type": "code",
   "execution_count": null,
   "metadata": {
    "ExecuteTime": {
     "end_time": "2020-07-01T01:38:26.517203Z",
     "start_time": "2020-07-01T01:38:26.267218Z"
    }
   },
   "outputs": [],
   "source": [
    "import plotly.express as px\n",
    "px.box(df_resamp,x='Phase',y='Licks',\n",
    "       color='Group',hover_name='Mouse_ID',height=400)#,\n",
    "#       category_orders=['BL','S','PS','R1','R2'])#,points='suspectedoutliers')"
   ]
  },
  {
   "cell_type": "code",
   "execution_count": null,
   "metadata": {
    "ExecuteTime": {
     "end_time": "2020-07-01T01:38:26.667352Z",
     "start_time": "2020-07-01T01:38:26.665391Z"
    }
   },
   "outputs": [],
   "source": [
    "# n_to_match = df2_eq"
   ]
  },
  {
   "cell_type": "code",
   "execution_count": null,
   "metadata": {
    "ExecuteTime": {
     "end_time": "2020-07-01T01:38:27.211436Z",
     "start_time": "2020-07-01T01:38:27.209537Z"
    }
   },
   "outputs": [],
   "source": [
    "# grp_dict = df_anova_phases.groupby('Group').groups\n",
    "\n",
    "# ## Match the largest number of subjects\n",
    "# n_to_match = max(list(map(lambda x: len(x),grp_dict.values())))\n",
    "# n_to_match"
   ]
  },
  {
   "cell_type": "code",
   "execution_count": null,
   "metadata": {
    "ExecuteTime": {
     "end_time": "2020-07-01T01:38:27.413867Z",
     "start_time": "2020-07-01T01:38:27.411947Z"
    }
   },
   "outputs": [],
   "source": [
    "# df_list = []\n",
    "# for group in df_anova_phases[\"Group\"].unique():\n",
    "#     grp_df = df_anova_phases.groupby('Group').get_group(group)\n",
    "#     grp_df = grp_df.sample(n=n_to_match,replace=True)\n",
    "#     df_list.append(grp_df)"
   ]
  },
  {
   "cell_type": "code",
   "execution_count": null,
   "metadata": {
    "ExecuteTime": {
     "end_time": "2020-07-01T01:38:27.616783Z",
     "start_time": "2020-07-01T01:38:27.614755Z"
    }
   },
   "outputs": [],
   "source": [
    "# df_anova_equal = pd.concat(df_list)\n",
    "# df_anova_equal"
   ]
  },
  {
   "cell_type": "markdown",
   "metadata": {},
   "source": [
    "### RM ANOVA"
   ]
  },
  {
   "cell_type": "code",
   "execution_count": null,
   "metadata": {
    "ExecuteTime": {
     "end_time": "2020-07-01T01:38:50.060669Z",
     "start_time": "2020-07-01T01:38:50.036149Z"
    }
   },
   "outputs": [],
   "source": [
    "df"
   ]
  },
  {
   "cell_type": "code",
   "execution_count": null,
   "metadata": {
    "ExecuteTime": {
     "end_time": "2020-07-01T01:38:47.201906Z",
     "start_time": "2020-07-01T01:38:47.199877Z"
    }
   },
   "outputs": [],
   "source": [
    "# # df2.pivot_table(index=['Group','Mouse_ID'],columns=['Day'])\n",
    "# df_resamp.reset_index(drop=True,inplace=True)#.pivot_table(index=['Group','Day_of_Phase','Mouse_ID'])#,columns=['Day'])\n",
    "# df_resamp"
   ]
  },
  {
   "cell_type": "code",
   "execution_count": null,
   "metadata": {
    "ExecuteTime": {
     "end_time": "2020-07-01T01:38:52.886524Z",
     "start_time": "2020-07-01T01:38:52.884348Z"
    }
   },
   "outputs": [],
   "source": [
    "# df_resamp['Phase'].value_counts()"
   ]
  },
  {
   "cell_type": "code",
   "execution_count": null,
   "metadata": {},
   "outputs": [],
   "source": []
  },
  {
   "cell_type": "code",
   "execution_count": null,
   "metadata": {
    "ExecuteTime": {
     "end_time": "2020-07-01T01:41:12.688187Z",
     "start_time": "2020-07-01T01:41:12.667498Z"
    }
   },
   "outputs": [],
   "source": [
    "aovrm = AnovaRM(df, 'Licks', 'Mouse_ID', within=['Phase','Group'],aggregate_func=np.nanmean).fit()\n",
    "aovrm.summary()"
   ]
  },
  {
   "cell_type": "code",
   "execution_count": null,
   "metadata": {
    "ExecuteTime": {
     "end_time": "2020-07-01T00:53:24.110064Z",
     "start_time": "2020-07-01T00:53:16.357Z"
    }
   },
   "outputs": [],
   "source": [
    "df2.isna().sum()"
   ]
  },
  {
   "cell_type": "code",
   "execution_count": null,
   "metadata": {
    "ExecuteTime": {
     "end_time": "2020-07-01T00:53:24.110847Z",
     "start_time": "2020-07-01T00:53:16.361Z"
    }
   },
   "outputs": [],
   "source": [
    "import statsmodels\n",
    "statsmodels.__version__"
   ]
  },
  {
   "cell_type": "code",
   "execution_count": null,
   "metadata": {
    "ExecuteTime": {
     "end_time": "2020-07-01T00:53:24.111569Z",
     "start_time": "2020-07-01T00:53:16.363Z"
    }
   },
   "outputs": [],
   "source": [
    "anovarm = AnovaRM(df2,'Licks','Mouse_ID',within=['Day'],\n",
    "                 aggregate_func='mean')#between=['Group'],\n",
    "res = anovarm.fit()\n",
    "print(res)"
   ]
  },
  {
   "cell_type": "code",
   "execution_count": null,
   "metadata": {},
   "outputs": [],
   "source": []
  },
  {
   "cell_type": "code",
   "execution_count": null,
   "metadata": {},
   "outputs": [],
   "source": []
  },
  {
   "cell_type": "markdown",
   "metadata": {},
   "source": [
    "# OLD PREPROCESSING"
   ]
  },
  {
   "cell_type": "code",
   "execution_count": null,
   "metadata": {
    "ExecuteTime": {
     "end_time": "2020-07-01T00:53:24.112361Z",
     "start_time": "2020-07-01T00:53:16.369Z"
    }
   },
   "outputs": [],
   "source": [
    "mean_to_df = {}\n",
    "for k, cols in col_dict.items():\n",
    "    mean_to_df[k] = df[cols].mean(axis=1)\n",
    "    \n",
    "df_means = pd.concat([df[['Mouse ID','Group','Sex']],\n",
    "                      pd.DataFrame(mean_to_df)],axis=1)\n",
    "df_means"
   ]
  },
  {
   "cell_type": "code",
   "execution_count": null,
   "metadata": {
    "ExecuteTime": {
     "end_time": "2020-07-01T00:53:24.113236Z",
     "start_time": "2020-07-01T00:53:16.371Z"
    }
   },
   "outputs": [],
   "source": [
    "# df_means.to_csv('../datasets/neuro_mouse_dirnking.csv',index=False)\n",
    "# df_means = pd.read_csv('../datasets/neuro_mouse_dirnking.csv')\n",
    "# df_means"
   ]
  },
  {
   "cell_type": "markdown",
   "metadata": {},
   "source": [
    "### Getting Group Data For EDA & Testing"
   ]
  },
  {
   "cell_type": "code",
   "execution_count": null,
   "metadata": {
    "ExecuteTime": {
     "end_time": "2020-07-01T00:53:24.114266Z",
     "start_time": "2020-07-01T00:53:16.374Z"
    }
   },
   "outputs": [],
   "source": [
    "df_means.head()"
   ]
  },
  {
   "cell_type": "code",
   "execution_count": null,
   "metadata": {
    "ExecuteTime": {
     "end_time": "2020-07-01T00:53:24.115188Z",
     "start_time": "2020-07-01T00:53:16.376Z"
    }
   },
   "outputs": [],
   "source": [
    "## Get grps \n",
    "\n",
    "## Two different ways of using groupby\n",
    "grps = df_means.groupby('Group').groups\n",
    "\n",
    "grp_control = df_means.loc[grps['Control']]\n",
    "grp_exp = df_means.groupby('Group').get_group('ChR2')\n",
    "#grpB\n",
    "# grps\n",
    "display( grp_exp.head().style.set_caption('Exp/ChR2'),\n",
    "        grp_control.head().style.set_caption('Controls'))"
   ]
  },
  {
   "cell_type": "code",
   "execution_count": null,
   "metadata": {
    "ExecuteTime": {
     "end_time": "2020-07-01T00:53:24.116135Z",
     "start_time": "2020-07-01T00:53:16.379Z"
    }
   },
   "outputs": [],
   "source": [
    "## Group counts\n",
    "len(grp_control), len(grp_exp)"
   ]
  },
  {
   "cell_type": "code",
   "execution_count": null,
   "metadata": {
    "ExecuteTime": {
     "end_time": "2020-07-01T00:53:24.116898Z",
     "start_time": "2020-07-01T00:53:16.381Z"
    }
   },
   "outputs": [],
   "source": [
    "\n",
    "# sns.distplot(grp_control['BL'])"
   ]
  },
  {
   "cell_type": "code",
   "execution_count": null,
   "metadata": {
    "ExecuteTime": {
     "end_time": "2020-07-01T00:53:24.117593Z",
     "start_time": "2020-07-01T00:53:16.384Z"
    }
   },
   "outputs": [],
   "source": [
    "# sem(grp_exp['BL'])\n",
    "# sem(grp_control['BL'])"
   ]
  },
  {
   "cell_type": "code",
   "execution_count": null,
   "metadata": {
    "ExecuteTime": {
     "end_time": "2020-07-01T00:53:24.118304Z",
     "start_time": "2020-07-01T00:53:16.387Z"
    }
   },
   "outputs": [],
   "source": [
    "from scipy.stats import sem\n",
    "## showing off SEM bars\n",
    "f,ax = plt.subplots(figsize=(5,5))\n",
    "ax.bar('Exp',grp_exp['BL'],yerr=sem(grp_exp['BL']))\n",
    "ax.bar('Control',grp_control['BL'],yerr=sem(grp_control['BL']))"
   ]
  },
  {
   "cell_type": "code",
   "execution_count": null,
   "metadata": {
    "ExecuteTime": {
     "end_time": "2020-07-01T00:53:24.119048Z",
     "start_time": "2020-07-01T00:53:16.389Z"
    }
   },
   "outputs": [],
   "source": [
    "def plot_dists(grp1,grp2,col='BL',name1='Exp',name2='Control'):\n",
    "\n",
    "    ## Defining \"gridspec_kws\" for plt.subplots()\n",
    "    ## This will make our first plot 3 times wider than the second.\n",
    "    gs_kw = dict(width_ratios=[3, 1])\n",
    "    \n",
    "    fig, axes = plt.subplots(figsize=(10,4),ncols=2,\n",
    "                             gridspec_kw=gs_kw,constrained_layout=True)\n",
    "\n",
    "    ## Defining the data \n",
    "    group1 = {'name':name1, \n",
    "             'data':grp1[col],\n",
    "             'plot_specs':{\n",
    "                 'hist_kws':dict(color='b', lw=2,ls='-'),\n",
    "                 'kde_kws':dict(color='b',lw=1,ls='-'),\n",
    "                 'label':f\"{name1} (n={len(grp1[col])})\"}\n",
    "             }\n",
    "    \n",
    "    group2 = {'name':name2, \n",
    "             'data':grp2[col],\n",
    "              'plot_specs':{\n",
    "                  'hist_kws':dict(color='orange', lw=2,ls='-'),\n",
    "                  'kde_kws':dict(color='orange',lw=1,ls='-'),\n",
    "                   'label':f\"{name2} (n={len(grp2[col])})\"}\n",
    "             }\n",
    "    \n",
    "    \n",
    "    ax=axes[0]\n",
    "    sns.distplot(group1['data'], **group1['plot_specs'],ax=axes[0])\n",
    "    sns.distplot(group2['data'], **group2['plot_specs'],ax=axes[0])\n",
    "    ax.legend()\n",
    "    \n",
    "    ax.set(ylabel=\"Density\")\n",
    "    ax.set(xlabel='Number of Licks')\n",
    "    \n",
    "    \n",
    "    ax = axes[1]\n",
    "    ax.bar(group1['name'],group1['data'].mean(),\n",
    "          yerr=sem(group1['data']))\n",
    "\n",
    "    ax.bar(group2['name'],group2['data'].mean(),\n",
    "          yerr=sem(group2['data']))    \n",
    "    \n",
    "    return fig,ax"
   ]
  },
  {
   "cell_type": "code",
   "execution_count": null,
   "metadata": {
    "ExecuteTime": {
     "end_time": "2020-07-01T00:53:24.119937Z",
     "start_time": "2020-07-01T00:53:16.391Z"
    }
   },
   "outputs": [],
   "source": [
    "fig,ax = plot_dists(grp_control,grp_exp,col='R',name1='ChR2', name2='Control')"
   ]
  },
  {
   "cell_type": "markdown",
   "metadata": {
    "ExecuteTime": {
     "end_time": "2020-01-23T22:50:31.197808Z",
     "start_time": "2020-01-23T22:50:31.195479Z"
    }
   },
   "source": [
    "### Writing functions to test assumptions"
   ]
  },
  {
   "cell_type": "code",
   "execution_count": null,
   "metadata": {
    "ExecuteTime": {
     "end_time": "2020-07-01T00:53:24.120730Z",
     "start_time": "2020-07-01T00:53:16.394Z"
    }
   },
   "outputs": [],
   "source": [
    "import scipy.stats as stats\n",
    "stats.normaltest(grp_control['BL'])"
   ]
  },
  {
   "cell_type": "code",
   "execution_count": null,
   "metadata": {
    "ExecuteTime": {
     "end_time": "2020-07-01T00:53:24.121456Z",
     "start_time": "2020-07-01T00:53:16.396Z"
    },
    "code_folding": []
   },
   "outputs": [],
   "source": [
    "def test_normality(grp_control,col='BL',alpha=0.05):\n",
    "    import scipy.stats as stats\n",
    "    stat,p =stats.normaltest(grp_control[col])\n",
    "    if p<alpha:\n",
    "        print(f\"Normal test p value of {np.round(p,3)} is < {alpha}, therefore data is NOT normal.\")\n",
    "    else:\n",
    "        print(f\"Normal test p value of {np.round(p,3)} is > {alpha}, therefore data IS normal.\")\n",
    "    return p\n",
    "\n",
    "def test_equal_variance(grp1,grp2, alpha=.05):\n",
    "    stat,p = stats.levene(grp1,grp2)\n",
    "    if p<alpha:\n",
    "        print(f\"Levene's test p value of {np.round(p,3)} is < {alpha}, therefore groups do NOT have equal variance.\")\n",
    "    else:\n",
    "        print(f\"Normal test p value of {np.round(p,3)} is > {alpha},  therefore groups DOES have equal variance.\")\n",
    "    return p\n",
    "\n",
    "\n",
    "\n",
    "# def test_assumptions(*args, normal=True,equal_var=True):\n",
    "#     pass"
   ]
  },
  {
   "cell_type": "code",
   "execution_count": null,
   "metadata": {
    "ExecuteTime": {
     "end_time": "2020-07-01T00:53:24.122251Z",
     "start_time": "2020-07-01T00:53:16.399Z"
    }
   },
   "outputs": [],
   "source": [
    "test_normality(grp_control,col='S'), test_normality(grp_exp,col='S');"
   ]
  },
  {
   "cell_type": "code",
   "execution_count": null,
   "metadata": {
    "ExecuteTime": {
     "end_time": "2020-07-01T00:53:24.123069Z",
     "start_time": "2020-07-01T00:53:16.401Z"
    },
    "code_folding": []
   },
   "outputs": [],
   "source": [
    "def Cohen_d(group1, group2):\n",
    "    \"\"\"\n",
    "    Compute Cohen's d.\n",
    "    \n",
    "    Args:\n",
    "        group1: Series or NumPy array\n",
    "        group2: Series or NumPy array\n",
    "\n",
    "    Returns:\n",
    "        d (float): effect size statistic\n",
    "\n",
    "    Interpretation:\n",
    "    > Small effect = 0.2\n",
    "    > Medium Effect = 0.5\n",
    "    > Large Effect = 0.8\n",
    "    \"\"\"\n",
    "    diff = group1.mean() - group2.mean()\n",
    "\n",
    "    n1, n2 = len(group1), len(group2)\n",
    "    var1 = group1.var()\n",
    "    var2 = group2.var()\n",
    "\n",
    "    # Calculate the pooled threshold as shown earlier\n",
    "    pooled_var = (n1 * var1 + n2 * var2) / (n1 + n2)\n",
    "    \n",
    "    # Calculate Cohen's d statistic\n",
    "    d = diff / np.sqrt(pooled_var)\n",
    "    \n",
    "    return d"
   ]
  },
  {
   "cell_type": "markdown",
   "metadata": {},
   "source": [
    "## NOTE: Functions below pasted in due to time. Will construct smaller but similar functions together next class"
   ]
  },
  {
   "cell_type": "code",
   "execution_count": null,
   "metadata": {
    "ExecuteTime": {
     "end_time": "2020-07-01T00:53:24.123878Z",
     "start_time": "2020-07-01T00:53:16.404Z"
    }
   },
   "outputs": [],
   "source": [
    "def plot_statplot(df_means,grps=None,\n",
    "                  group_col='Group',data_col='BL'):\n",
    "    \n",
    "    if grps is None:\n",
    "        grps = df_means.groupby(group_col).groups\n",
    "\n",
    "    ## Examine KDEs for BL\n",
    "    fig= plt.figure(figsize=(10,6))\n",
    "    axes=['','']\n",
    "    # Define gridspec to create grid coordinates             \n",
    "    gs = fig.add_gridspec(nrows=1,ncols=9)\n",
    "    axes[0] = fig.add_subplot(gs[0,0:7])\n",
    "    axes[1] = fig.add_subplot(gs[0,7:])\n",
    "\n",
    "    data1=df_means.loc[grps['ChR2'],data_col]\n",
    "    data2=df_means.loc[grps['Control'],data_col]\n",
    "    \n",
    "    group1 = {'name':'ChR2',\n",
    "             'data':data1,#df_means.loc[grps['ChR2'],data_col],\n",
    "             'n':len(data1)}\n",
    "    plot1 = {'hist_kws':dict(color='blue',lw=2, ls='-')}#,bins='auto')}\n",
    "\n",
    "    group2 = {'name':'Control',\n",
    "             'data':data2,#df_means.loc[grps['Control'],data_col],\n",
    "             'n':len(data2)}\n",
    "    plot2 = {'hist_kws':dict(color='orange',lw=2, ls='-')}#,bins='auto')}\n",
    "    \n",
    "    ax = axes[0]\n",
    "    label1= f\"{group1['name']} n={group1['n']}\"\n",
    "    sns.distplot(group1['data'], label=label1,\n",
    "                 ax=ax, hist_kws=plot1['hist_kws'])\n",
    "    # ax.legend()\n",
    "\n",
    "    label2= f\"{group2['name']} n={group2['n']}\"\n",
    "    sns.distplot(group2['data'], label=label2,\n",
    "                 ax=ax,hist_kws=plot2['hist_kws'])\n",
    "    ax.legend()\n",
    "\n",
    "    \n",
    "\n",
    "    ax.axvline(group1['data'].mean(),color=plot1['hist_kws']['color'], ls='--')\n",
    "    ax.axvline(group2['data'].mean(),color=plot2['hist_kws']['color'], ls='--')\n",
    "\n",
    "\n",
    "    ax = axes[1]\n",
    "\n",
    "    ax.bar(group1['name'],group1['data'].mean(),\n",
    "          yerr=sem(group1['data']))\n",
    "\n",
    "    ax.bar(group2['name'],group2['data'].mean(),\n",
    "          yerr=sem(group2['data']))\n",
    "    \n",
    "    plt.suptitle(f\"Phase = {data_col}\",fontsize=20)\n",
    "    \n",
    "    return fig, ax"
   ]
  },
  {
   "cell_type": "code",
   "execution_count": null,
   "metadata": {
    "ExecuteTime": {
     "end_time": "2020-07-01T00:53:24.124631Z",
     "start_time": "2020-07-01T00:53:16.406Z"
    }
   },
   "outputs": [],
   "source": [
    "def test_assumptions(df_means,grps=None,\n",
    "                     group_col='Group',\n",
    "                     grp1='ChR2',\n",
    "                     grp2='Control',\n",
    "                     data_col='BL',\n",
    "                    plot_data=False):\n",
    "    \"\"\"MASSIVE FUNCTION PASTED IN DUE TO VERY LATE STUDY GROUP\n",
    "    WE WILL CONSTRUCT A BETTER/SIMPLER VERSION OF THIS TOGETHER IN NEXT STUDY GROUP.\"\"\"\n",
    "    \n",
    "    if grps is None:\n",
    "        grps = df_means.groupby(group_col).groups\n",
    "        \n",
    "        \n",
    "    group1 = {'name':grp1,\n",
    "              'data':df_means.loc[grps[grp1],data_col]}\n",
    "    \n",
    "    group2 = {'name':grp2,\n",
    "              'data':df_means.loc[grps[grp2],data_col]}\n",
    "    \n",
    "    results = [['Col','Test','Group(s)','Stat','p','p<.05']]\n",
    "    \n",
    "    ## Normality testing\n",
    "    stat,p = stats.normaltest(group1['data'])\n",
    "    results.append([data_col,'Normality',group1['name'],\n",
    "                  stat, p, p<.05])\n",
    "    \n",
    "    stat,p = stats.normaltest(group2['data'])    \n",
    "    results.append([data_col,'Normality',group2['name'],\n",
    "                  stat, p, p<.05])\n",
    "    ## Homo. of Variance Testing\n",
    "    stat,p = stats.levene(group1['data'],group2['data'])\n",
    "    results.append([data_col,'Equal Variance','Both',\n",
    "                  stat, p, p<.05])\n",
    "    \n",
    "    \n",
    "    ## Parametric T-Test\n",
    "    stat,p = stats.ttest_ind(group1['data'],group2['data'])\n",
    "    results.append([data_col,'T-Test 2samp','Both',stat,p,p<.05])\n",
    "    \n",
    "    ## Non-Parametric MWU\n",
    "    stat,p = stats.mannwhitneyu(group1['data'],group2['data'])\n",
    "    results.append([data_col,'Mann Whitney U','Both',stat,p,p<.05])\n",
    "    \n",
    "    ## Effect size with Cohen's d\n",
    "    d = Cohen_d(group1['data'],group2['data'])\n",
    "    results.append([data_col, \"Cohen's d\", 'Both','','',d])\n",
    "    \n",
    "#     if plot_data:\n",
    "#         plot_dists(grp, col=data_col)\n",
    "    \n",
    "    return pd.DataFrame(results[1:],columns=results[0])\n",
    "\n",
    "res = test_assumptions(df_means)\n"
   ]
  },
  {
   "cell_type": "code",
   "execution_count": null,
   "metadata": {
    "ExecuteTime": {
     "end_time": "2020-07-01T00:53:24.125426Z",
     "start_time": "2020-07-01T00:53:16.409Z"
    },
    "scrolled": false
   },
   "outputs": [],
   "source": [
    "for phase in ['BL','S','PS','R']:\n",
    "    print('---'*30)\n",
    "\n",
    "    res = test_assumptions(df_means,data_col=phase)\n",
    "    display(res)\n",
    "    \n",
    "    fig,ax = plot_statplot(df_means, data_col=phase)\n",
    "    plt.show()\n",
    "\n",
    "# fig,ax = plot_dists(grp_control,grp_exp,col='R',name1='ChR2 Mice', name2='Control Mice')\n"
   ]
  },
  {
   "cell_type": "markdown",
   "metadata": {},
   "source": [
    "## CONCLUSION\n",
    "- Running the correct test according to the assumptions of normality and equal variance will ensure you can get the correct test result.\n",
    "\n",
    "- Notice how the last phase (R) did NOT come back as significant when we ran the t-test, but DID come back significant when we performed the Mann Whitney U instead. \n",
    "\n"
   ]
  },
  {
   "cell_type": "markdown",
   "metadata": {},
   "source": [
    "# APPENDIX"
   ]
  },
  {
   "cell_type": "markdown",
   "metadata": {},
   "source": [
    "(https://www.statsmodels.org/stable/generated/statsmodels.stats.multicomp.pairwise_tukeyhsd.html)"
   ]
  },
  {
   "cell_type": "markdown",
   "metadata": {},
   "source": [
    "# APPENDIX"
   ]
  },
  {
   "cell_type": "markdown",
   "metadata": {
    "colab": {},
    "colab_type": "code",
    "id": "bvV8Knq8JVk7"
   },
   "source": [
    "## Effect Size Visual\n",
    "- https://rpsychologist.com/d3/NHST/\n"
   ]
  },
  {
   "cell_type": "markdown",
   "metadata": {},
   "source": [
    "## Ephys Figure\n",
    "<img src=\"https://raw.githubusercontent.com/jirvingphd/fsds_pt_100719_cohort_notes/master/Images/jmi_fig1.png\">"
   ]
  },
  {
   "cell_type": "code",
   "execution_count": null,
   "metadata": {},
   "outputs": [],
   "source": []
  },
  {
   "cell_type": "markdown",
   "metadata": {},
   "source": [
    "## Statistical Analysis Pipeline\n",
    "\n",
    "1. **Test for Normality**\n",
    "    - D'Agostino-Pearson's normality test<br>\n",
    "    ```scipy.stats.normaltest```\n",
    "    - Shapiro-Wilik Test<br>\n",
    "    ```scipy.stats.shapiro```<br>\n",
    "    \n",
    "    \n",
    "2. **Test for Homogeneity of Variance**\n",
    "\n",
    "    - Levene's Test<br>\n",
    "    ```scipy.stats.levene```\n",
    "\n",
    "\n",
    "3. **Choose appropriate test based upon 1. and 2.** <br> \n",
    "    - T Test (1-sample)\n",
    "        - `stats.ttest_1samp()`\n",
    "    - T Test (2-sample)\n",
    "        - `stats.ttest_ind()`\n",
    "        - [docs](https://docs.scipy.org/doc/scipy/reference/generated/scipy.stats.ttest_ind.html)\n",
    "    - Welch's T-Test (2-sample)\n",
    "        - `stats.ttest_ind(equal_var=False)`\n",
    "        - [docs](https://docs.scipy.org/doc/scipy/reference/generated/scipy.stats.ttest_ind.html)\n",
    "        \n",
    "    - Mann Whitney U\n",
    "        - `stats.mannwhitneyu()`\n",
    "        - [docs](https://docs.scipy.org/doc/scipy/reference/generated/scipy.stats.mannwhitneyu.html)\n",
    "    - ANOVA \n",
    "        - `stats.f_oneway()`\n",
    "        - [docs](https://docs.scipy.org/doc/scipy/reference/generated/scipy.stats.f_oneway.html)\n",
    "    - Tukey's\n",
    "     - `statsmodels.stats.multicomp.pairwise_tukeyhsd`\n",
    "     -[docs](https://www.statsmodels.org/stable/generated/statsmodels.stats.multicomp.pairwise_tukeyhsd.html)\n",
    "    \n",
    "\n",
    "4. **Calculate effect size for significant results.**\n",
    "    - Effect size: [cohen's d](https://stackoverflow.com/questions/21532471/how-to-calculate-cohens-d-in-python)\n",
    "    - Interpretation:\n",
    "        - Small effect = 0.2 ( cannot be seen by naked eye)\n",
    "        - Medium effect  = 0.5\n",
    "        - Large Effect = 0.8 (can be seen by naked eye)\n",
    "        \n",
    "5. **If significant, follow up with post-hoc tests (if have more than 2 groups)**\n",
    "    - [Tukey's](https://www.statsmodels.org/stable/generated/statsmodels.stats.multicomp.pairwise_tukeyhsd.html)\n"
   ]
  },
  {
   "cell_type": "code",
   "execution_count": null,
   "metadata": {
    "ExecuteTime": {
     "end_time": "2020-07-01T00:53:24.126286Z",
     "start_time": "2020-07-01T00:53:16.414Z"
    },
    "code_folding": [
     0
    ]
   },
   "outputs": [],
   "source": [
    "# def test_assumptions(df_means,grps=None,\n",
    "#                      group_col='Group',\n",
    "#                      grp1='ChR2',\n",
    "#                      grp2='Control',\n",
    "#                      data_col='BL'):\n",
    "    \n",
    "#     if grps is None:\n",
    "#         grps = df_means.groupby(group_col).groups\n",
    "        \n",
    "        \n",
    "#     group1 = {'name':grp1,\n",
    "#               'data':df_means.loc[grps[grp1],data_col]}\n",
    "    \n",
    "#     group2 = {'name':grp2,\n",
    "#               'data':df_means.loc[grps[grp2],data_col]}\n",
    "    \n",
    "#     results = [['Col','Test','Group(s)','Stat','p','p<.05']]\n",
    "    \n",
    "#     ## Normality testing\n",
    "#     stat,p = stats.normaltest(group1['data'])\n",
    "#     results.append([data_col,'Normality',group1['name'],\n",
    "#                   stat, p, p<.05])\n",
    "    \n",
    "#     stat,p = stats.normaltest(group2['data'])    \n",
    "#     results.append([data_col,'Normality',group2['name'],\n",
    "#                   stat, p, p<.05])\n",
    "#     ## Homo. of Variance Testing\n",
    "#     stat,p = stats.levene(group1['data'],group2['data'])\n",
    "#     results.append([data_col,'Equal Variance','Both',\n",
    "#                   stat, p, p<.05])\n",
    "    \n",
    "#     ## Parametric T-Test\n",
    "#     stat,p = stats.ttest_ind(group1['data'],group2['data'])\n",
    "#     results.append([data_col,'T-Test 2samp','Both',stat,p,p<.05])\n",
    "    \n",
    "#     ## Non-Parametric MWU\n",
    "#     stat,p = stats.mannwhitneyu(group1['data'],group2['data'])\n",
    "#     results.append([data_col,'Mann Whitney U','Both',stat,p,p<.05])\n",
    "    \n",
    "#     ## Effect size with Cohen's d\n",
    "#     d = Cohen_d(group1['data'],group2['data'])\n",
    "#     results.append([data_col, \"Cohen's d\", 'Both','','',d])\n",
    "    \n",
    "#     return pd.DataFrame(results[1:],columns=results[0])\n",
    "\n",
    "# test_assumptions(df_means)"
   ]
  },
  {
   "cell_type": "code",
   "execution_count": null,
   "metadata": {},
   "outputs": [],
   "source": []
  },
  {
   "cell_type": "markdown",
   "metadata": {},
   "source": [
    "## NORMALIZING ALL LICKS TO AVERAGE OF 4 BASELINE DAYS [NEW 06/29]\n"
   ]
  },
  {
   "cell_type": "code",
   "execution_count": null,
   "metadata": {},
   "outputs": [],
   "source": []
  },
  {
   "cell_type": "code",
   "execution_count": null,
   "metadata": {
    "ExecuteTime": {
     "end_time": "2020-07-01T01:07:10.267135Z",
     "start_time": "2020-07-01T01:07:10.263169Z"
    }
   },
   "outputs": [],
   "source": [
    "def process_df_to_pivot(df_,phase_dict):\n",
    "    ## MELTING THE DATA INTO FORM WORKABLE FOR PLOTS/ANALYSIS\n",
    "    df2 = pd.melt(df_.reset_index(),id_vars=['Mouse_ID','Group','Sex'],\n",
    "                  value_name='Licks',var_name='Day')\n",
    "    df2['Phase'] = df2['Day'].map(phase_dict)\n",
    "    df2['Day_of_Phase'] = df2['Day'].apply(lambda x: x[-1])\n",
    "    df2 = df2.dropna(subset=['Phase'])\n",
    "    return df2"
   ]
  },
  {
   "cell_type": "code",
   "execution_count": null,
   "metadata": {
    "ExecuteTime": {
     "end_time": "2020-07-01T01:00:39.090626Z",
     "start_time": "2020-07-01T01:00:39.084792Z"
    }
   },
   "outputs": [],
   "source": [
    "#Calculate average of BL days for each mouse\n",
    "baseline_lick_avgs = df[BL_cols].mean(axis=1)\n",
    "baseline_lick_avgs"
   ]
  },
  {
   "cell_type": "code",
   "execution_count": null,
   "metadata": {
    "ExecuteTime": {
     "end_time": "2020-07-01T00:53:22.745289Z",
     "start_time": "2020-07-01T00:53:22.684276Z"
    },
    "scrolled": true
   },
   "outputs": [],
   "source": [
    "df_norm = df.copy()#select_dtypes('number')#.applymap(lambda x:x/baseline_lick_avgs)\n",
    "## NORMALIZING ALL LICKS TO AVERAGE OF 4 BASELINE DAYS\n",
    "for col in df_norm.select_dtypes('number').columns:\n",
    "    df_norm[col] = df_norm[col] / baseline_lick_avgs\n",
    "df_norm"
   ]
  },
  {
   "cell_type": "code",
   "execution_count": null,
   "metadata": {
    "ExecuteTime": {
     "end_time": "2020-07-01T00:53:22.838106Z",
     "start_time": "2020-07-01T00:53:22.803266Z"
    }
   },
   "outputs": [],
   "source": [
    "df2_norm = process_df_to_pivot(df_norm,phase_dict)\n",
    "df2_norm"
   ]
  }
 ],
 "metadata": {
  "colab": {
   "collapsed_sections": [],
   "name": "Sect 18+19  with Titanic.ipynb",
   "provenance": []
  },
  "kernelspec": {
   "display_name": "Python [conda env:learn-env]",
   "language": "python",
   "name": "conda-env-learn-env-py"
  },
  "language_info": {
   "codemirror_mode": {
    "name": "ipython",
    "version": 3
   },
   "file_extension": ".py",
   "mimetype": "text/x-python",
   "name": "python",
   "nbconvert_exporter": "python",
   "pygments_lexer": "ipython3",
   "version": "3.6.9"
  },
  "toc": {
   "base_numbering": 1,
   "nav_menu": {},
   "number_sections": false,
   "sideBar": true,
   "skip_h1_title": false,
   "title_cell": "Table of Contents",
   "title_sidebar": "Contents",
   "toc_cell": false,
   "toc_position": {
    "height": "calc(100% - 180px)",
    "left": "10px",
    "top": "150px",
    "width": "320px"
   },
   "toc_section_display": true,
   "toc_window_display": true
  },
  "varInspector": {
   "cols": {
    "lenName": 16,
    "lenType": 16,
    "lenVar": 40
   },
   "kernels_config": {
    "python": {
     "delete_cmd_postfix": "",
     "delete_cmd_prefix": "del ",
     "library": "var_list.py",
     "varRefreshCmd": "print(var_dic_list())"
    },
    "r": {
     "delete_cmd_postfix": ") ",
     "delete_cmd_prefix": "rm(",
     "library": "var_list.r",
     "varRefreshCmd": "cat(var_dic_list()) "
    }
   },
   "position": {
    "height": "360.85px",
    "left": "630px",
    "right": "20px",
    "top": "38px",
    "width": "480px"
   },
   "types_to_exclude": [
    "module",
    "function",
    "builtin_function_or_method",
    "instance",
    "_Feature"
   ],
   "window_display": false
  }
 },
 "nbformat": 4,
 "nbformat_minor": 1
}
