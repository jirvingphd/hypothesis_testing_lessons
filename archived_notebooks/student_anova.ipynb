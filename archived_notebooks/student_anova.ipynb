{
 "cells": [
  {
   "cell_type": "markdown",
   "metadata": {},
   "source": [
    "# Mod 3 Final Project"
   ]
  },
  {
   "cell_type": "markdown",
   "metadata": {},
   "source": [
    "## Student Info\n",
    "\n",
    "- Name: \n",
    "- Cohort: \n",
    "- Instructor:\n"
   ]
  },
  {
   "cell_type": "markdown",
   "metadata": {},
   "source": [
    "## Instructions:"
   ]
  },
  {
   "cell_type": "markdown",
   "metadata": {},
   "source": [
    "- Open and read the project assignment and guidelines in `MOD_PROJECT_README.ipynb`\n",
    "- Review the hypothesis testing workflow found in this repo's `README.md` and inside `hypothesis_testing_workflow.ipynb` (also at the bottom of the `MOD_PROJECT_README.ipynb`)\n",
    "\n",
    "- 3 functions from study group/learn.co lessons have been provided inside `functions.py`\n",
    "    - `Cohen_d`, `find_outliers_IQR`,`find_outliers_Z`"
   ]
  },
  {
   "cell_type": "markdown",
   "metadata": {},
   "source": []
  },
  {
   "cell_type": "markdown",
   "metadata": {},
   "source": [
    "<img src=\"https://raw.githubusercontent.com/jirvingphd/dsc-mod-3-project-online-ds-ft-100719/master/Northwind_ERD_updated.png\">"
   ]
  },
  {
   "cell_type": "markdown",
   "metadata": {},
   "source": [
    "# PROJECT"
   ]
  },
  {
   "cell_type": "code",
   "execution_count": 1,
   "metadata": {
    "ExecuteTime": {
     "end_time": "2020-03-31T16:24:33.185159Z",
     "start_time": "2020-03-31T16:24:27.434127Z"
    }
   },
   "outputs": [
    {
     "name": "stdout",
     "output_type": "stream",
     "text": [
      "fsds_1007219  v0.7.17 loaded.  Read the docs: https://fsds.readthedocs.io/en/latest/ \n"
     ]
    },
    {
     "data": {
      "text/html": [
       "<style  type=\"text/css\" >\n",
       "</style><table id=\"T_1a636af6_736c_11ea_a554_acde48001122\" ><caption>Loaded Packages and Handles</caption><thead>    <tr>        <th class=\"col_heading level0 col0\" >Handle</th>        <th class=\"col_heading level0 col1\" >Package</th>        <th class=\"col_heading level0 col2\" >Description</th>    </tr></thead><tbody>\n",
       "                <tr>\n",
       "                                <td id=\"T_1a636af6_736c_11ea_a554_acde48001122row0_col0\" class=\"data row0 col0\" >dp</td>\n",
       "                        <td id=\"T_1a636af6_736c_11ea_a554_acde48001122row0_col1\" class=\"data row0 col1\" >IPython.display</td>\n",
       "                        <td id=\"T_1a636af6_736c_11ea_a554_acde48001122row0_col2\" class=\"data row0 col2\" >Display modules with helpful display and clearing commands.</td>\n",
       "            </tr>\n",
       "            <tr>\n",
       "                                <td id=\"T_1a636af6_736c_11ea_a554_acde48001122row1_col0\" class=\"data row1 col0\" >fs</td>\n",
       "                        <td id=\"T_1a636af6_736c_11ea_a554_acde48001122row1_col1\" class=\"data row1 col1\" >fsds_100719</td>\n",
       "                        <td id=\"T_1a636af6_736c_11ea_a554_acde48001122row1_col2\" class=\"data row1 col2\" >Custom data science bootcamp student package</td>\n",
       "            </tr>\n",
       "            <tr>\n",
       "                                <td id=\"T_1a636af6_736c_11ea_a554_acde48001122row2_col0\" class=\"data row2 col0\" >mpl</td>\n",
       "                        <td id=\"T_1a636af6_736c_11ea_a554_acde48001122row2_col1\" class=\"data row2 col1\" >matplotlib</td>\n",
       "                        <td id=\"T_1a636af6_736c_11ea_a554_acde48001122row2_col2\" class=\"data row2 col2\" >Matplotlib's base OOP module with formatting artists</td>\n",
       "            </tr>\n",
       "            <tr>\n",
       "                                <td id=\"T_1a636af6_736c_11ea_a554_acde48001122row3_col0\" class=\"data row3 col0\" >plt</td>\n",
       "                        <td id=\"T_1a636af6_736c_11ea_a554_acde48001122row3_col1\" class=\"data row3 col1\" >matplotlib.pyplot</td>\n",
       "                        <td id=\"T_1a636af6_736c_11ea_a554_acde48001122row3_col2\" class=\"data row3 col2\" >Matplotlib's matlab-like plotting module</td>\n",
       "            </tr>\n",
       "            <tr>\n",
       "                                <td id=\"T_1a636af6_736c_11ea_a554_acde48001122row4_col0\" class=\"data row4 col0\" >np</td>\n",
       "                        <td id=\"T_1a636af6_736c_11ea_a554_acde48001122row4_col1\" class=\"data row4 col1\" >numpy</td>\n",
       "                        <td id=\"T_1a636af6_736c_11ea_a554_acde48001122row4_col2\" class=\"data row4 col2\" >scientific computing with Python</td>\n",
       "            </tr>\n",
       "            <tr>\n",
       "                                <td id=\"T_1a636af6_736c_11ea_a554_acde48001122row5_col0\" class=\"data row5 col0\" >pd</td>\n",
       "                        <td id=\"T_1a636af6_736c_11ea_a554_acde48001122row5_col1\" class=\"data row5 col1\" >pandas</td>\n",
       "                        <td id=\"T_1a636af6_736c_11ea_a554_acde48001122row5_col2\" class=\"data row5 col2\" >High performance data structures and tools</td>\n",
       "            </tr>\n",
       "            <tr>\n",
       "                                <td id=\"T_1a636af6_736c_11ea_a554_acde48001122row6_col0\" class=\"data row6 col0\" >sns</td>\n",
       "                        <td id=\"T_1a636af6_736c_11ea_a554_acde48001122row6_col1\" class=\"data row6 col1\" >seaborn</td>\n",
       "                        <td id=\"T_1a636af6_736c_11ea_a554_acde48001122row6_col2\" class=\"data row6 col2\" >High-level data visualization library based on matplotlib</td>\n",
       "            </tr>\n",
       "    </tbody></table>"
      ],
      "text/plain": [
       "<pandas.io.formats.style.Styler at 0x1c1a632780>"
      ]
     },
     "metadata": {},
     "output_type": "display_data"
    },
    {
     "data": {
      "text/html": [
       "        <script type=\"text/javascript\">\n",
       "        window.PlotlyConfig = {MathJaxConfig: 'local'};\n",
       "        if (window.MathJax) {MathJax.Hub.Config({SVG: {font: \"STIX-Web\"}});}\n",
       "        if (typeof require !== 'undefined') {\n",
       "        require.undef(\"plotly\");\n",
       "        requirejs.config({\n",
       "            paths: {\n",
       "                'plotly': ['https://cdn.plot.ly/plotly-latest.min']\n",
       "            }\n",
       "        });\n",
       "        require(['plotly'], function(Plotly) {\n",
       "            window._Plotly = Plotly;\n",
       "        });\n",
       "        }\n",
       "        </script>\n",
       "        "
      ]
     },
     "metadata": {},
     "output_type": "display_data"
    },
    {
     "name": "stdout",
     "output_type": "stream",
     "text": [
      "[i] Pandas .iplot() method activated.\n"
     ]
    }
   ],
   "source": [
    "!pip install -U fsds_100719\n",
    "from fsds_100719.imports import *\n",
    "\n",
    "import pandas as pd"
   ]
  },
  {
   "cell_type": "code",
   "execution_count": 2,
   "metadata": {
    "ExecuteTime": {
     "end_time": "2020-03-31T16:24:33.191956Z",
     "start_time": "2020-03-31T16:24:33.187345Z"
    }
   },
   "outputs": [],
   "source": [
    "# import functions as fn\n",
    "# help(fn)\n",
    "from functions import find_outliers_IQR,find_outliers_Z,prep_data_for_tukeys"
   ]
  },
  {
   "cell_type": "code",
   "execution_count": 3,
   "metadata": {
    "ExecuteTime": {
     "end_time": "2020-03-31T16:24:33.198601Z",
     "start_time": "2020-03-31T16:24:33.194437Z"
    }
   },
   "outputs": [],
   "source": [
    "import sqlite3\n",
    "connect = sqlite3.connect('Northwind_small.sqlite')\n",
    "cur = connect.cursor()"
   ]
  },
  {
   "cell_type": "code",
   "execution_count": 4,
   "metadata": {
    "ExecuteTime": {
     "end_time": "2020-03-31T16:24:33.213756Z",
     "start_time": "2020-03-31T16:24:33.200317Z"
    }
   },
   "outputs": [
    {
     "data": {
      "text/html": [
       "<div>\n",
       "<style scoped>\n",
       "    .dataframe tbody tr th:only-of-type {\n",
       "        vertical-align: middle;\n",
       "    }\n",
       "\n",
       "    .dataframe tbody tr th {\n",
       "        vertical-align: top;\n",
       "    }\n",
       "\n",
       "    .dataframe thead th {\n",
       "        text-align: right;\n",
       "    }\n",
       "</style>\n",
       "<table border=\"1\" class=\"dataframe\">\n",
       "  <thead>\n",
       "    <tr style=\"text-align: right;\">\n",
       "      <th></th>\n",
       "      <th>Table</th>\n",
       "    </tr>\n",
       "  </thead>\n",
       "  <tbody>\n",
       "    <tr>\n",
       "      <td>0</td>\n",
       "      <td>Employee</td>\n",
       "    </tr>\n",
       "    <tr>\n",
       "      <td>1</td>\n",
       "      <td>Category</td>\n",
       "    </tr>\n",
       "    <tr>\n",
       "      <td>2</td>\n",
       "      <td>Customer</td>\n",
       "    </tr>\n",
       "    <tr>\n",
       "      <td>3</td>\n",
       "      <td>Shipper</td>\n",
       "    </tr>\n",
       "    <tr>\n",
       "      <td>4</td>\n",
       "      <td>Supplier</td>\n",
       "    </tr>\n",
       "    <tr>\n",
       "      <td>5</td>\n",
       "      <td>Order</td>\n",
       "    </tr>\n",
       "    <tr>\n",
       "      <td>6</td>\n",
       "      <td>Product</td>\n",
       "    </tr>\n",
       "    <tr>\n",
       "      <td>7</td>\n",
       "      <td>OrderDetail</td>\n",
       "    </tr>\n",
       "    <tr>\n",
       "      <td>8</td>\n",
       "      <td>CustomerCustomerDemo</td>\n",
       "    </tr>\n",
       "    <tr>\n",
       "      <td>9</td>\n",
       "      <td>CustomerDemographic</td>\n",
       "    </tr>\n",
       "    <tr>\n",
       "      <td>10</td>\n",
       "      <td>Region</td>\n",
       "    </tr>\n",
       "    <tr>\n",
       "      <td>11</td>\n",
       "      <td>Territory</td>\n",
       "    </tr>\n",
       "    <tr>\n",
       "      <td>12</td>\n",
       "      <td>EmployeeTerritory</td>\n",
       "    </tr>\n",
       "  </tbody>\n",
       "</table>\n",
       "</div>"
      ],
      "text/plain": [
       "                   Table\n",
       "0               Employee\n",
       "1               Category\n",
       "2               Customer\n",
       "3                Shipper\n",
       "4               Supplier\n",
       "5                  Order\n",
       "6                Product\n",
       "7            OrderDetail\n",
       "8   CustomerCustomerDemo\n",
       "9    CustomerDemographic\n",
       "10                Region\n",
       "11             Territory\n",
       "12     EmployeeTerritory"
      ]
     },
     "execution_count": 4,
     "metadata": {},
     "output_type": "execute_result"
    }
   ],
   "source": [
    "## To see all tables\n",
    "cur.execute(\"\"\"SELECT name FROM sqlite_master WHERE type='table';\"\"\")\n",
    "df_tables = pd.DataFrame(cur.fetchall(), columns=['Table'])\n",
    "df_tables"
   ]
  },
  {
   "cell_type": "markdown",
   "metadata": {},
   "source": [
    "# Hypothesis 1"
   ]
  },
  {
   "cell_type": "markdown",
   "metadata": {},
   "source": [
    "> Does discount amount have a statistically significant effect on the quantity of a product in an order? If so, at what level(s) of discount?\n",
    "\n",
    "- $H_0$:\n",
    "- $H_A$:"
   ]
  },
  {
   "cell_type": "code",
   "execution_count": 5,
   "metadata": {
    "ExecuteTime": {
     "end_time": "2020-03-31T16:24:33.224903Z",
     "start_time": "2020-03-31T16:24:33.215160Z"
    }
   },
   "outputs": [
    {
     "data": {
      "text/plain": [
       "(('Id', None, None, None, None, None, None),\n",
       " ('OrderId', None, None, None, None, None, None),\n",
       " ('ProductId', None, None, None, None, None, None),\n",
       " ('UnitPrice', None, None, None, None, None, None),\n",
       " ('Quantity', None, None, None, None, None, None),\n",
       " ('Discount', None, None, None, None, None, None))"
      ]
     },
     "execution_count": 5,
     "metadata": {},
     "output_type": "execute_result"
    }
   ],
   "source": [
    "data = cur.execute(\"\"\"SELECT * FROM OrderDetail\"\"\").fetchall()\n",
    "cur.description"
   ]
  },
  {
   "cell_type": "code",
   "execution_count": 6,
   "metadata": {
    "ExecuteTime": {
     "end_time": "2020-03-31T16:24:33.430032Z",
     "start_time": "2020-03-31T16:24:33.403338Z"
    }
   },
   "outputs": [
    {
     "data": {
      "text/html": [
       "<div>\n",
       "<style scoped>\n",
       "    .dataframe tbody tr th:only-of-type {\n",
       "        vertical-align: middle;\n",
       "    }\n",
       "\n",
       "    .dataframe tbody tr th {\n",
       "        vertical-align: top;\n",
       "    }\n",
       "\n",
       "    .dataframe thead th {\n",
       "        text-align: right;\n",
       "    }\n",
       "</style>\n",
       "<table border=\"1\" class=\"dataframe\">\n",
       "  <thead>\n",
       "    <tr style=\"text-align: right;\">\n",
       "      <th></th>\n",
       "      <th>Id</th>\n",
       "      <th>OrderId</th>\n",
       "      <th>ProductId</th>\n",
       "      <th>UnitPrice</th>\n",
       "      <th>Quantity</th>\n",
       "      <th>Discount</th>\n",
       "    </tr>\n",
       "  </thead>\n",
       "  <tbody>\n",
       "    <tr>\n",
       "      <td>0</td>\n",
       "      <td>10248/11</td>\n",
       "      <td>10248</td>\n",
       "      <td>11</td>\n",
       "      <td>14.00</td>\n",
       "      <td>12</td>\n",
       "      <td>0.00</td>\n",
       "    </tr>\n",
       "    <tr>\n",
       "      <td>1</td>\n",
       "      <td>10248/42</td>\n",
       "      <td>10248</td>\n",
       "      <td>42</td>\n",
       "      <td>9.80</td>\n",
       "      <td>10</td>\n",
       "      <td>0.00</td>\n",
       "    </tr>\n",
       "    <tr>\n",
       "      <td>2</td>\n",
       "      <td>10248/72</td>\n",
       "      <td>10248</td>\n",
       "      <td>72</td>\n",
       "      <td>34.80</td>\n",
       "      <td>5</td>\n",
       "      <td>0.00</td>\n",
       "    </tr>\n",
       "    <tr>\n",
       "      <td>3</td>\n",
       "      <td>10249/14</td>\n",
       "      <td>10249</td>\n",
       "      <td>14</td>\n",
       "      <td>18.60</td>\n",
       "      <td>9</td>\n",
       "      <td>0.00</td>\n",
       "    </tr>\n",
       "    <tr>\n",
       "      <td>4</td>\n",
       "      <td>10249/51</td>\n",
       "      <td>10249</td>\n",
       "      <td>51</td>\n",
       "      <td>42.40</td>\n",
       "      <td>40</td>\n",
       "      <td>0.00</td>\n",
       "    </tr>\n",
       "    <tr>\n",
       "      <td>...</td>\n",
       "      <td>...</td>\n",
       "      <td>...</td>\n",
       "      <td>...</td>\n",
       "      <td>...</td>\n",
       "      <td>...</td>\n",
       "      <td>...</td>\n",
       "    </tr>\n",
       "    <tr>\n",
       "      <td>2150</td>\n",
       "      <td>11077/64</td>\n",
       "      <td>11077</td>\n",
       "      <td>64</td>\n",
       "      <td>33.25</td>\n",
       "      <td>2</td>\n",
       "      <td>0.03</td>\n",
       "    </tr>\n",
       "    <tr>\n",
       "      <td>2151</td>\n",
       "      <td>11077/66</td>\n",
       "      <td>11077</td>\n",
       "      <td>66</td>\n",
       "      <td>17.00</td>\n",
       "      <td>1</td>\n",
       "      <td>0.00</td>\n",
       "    </tr>\n",
       "    <tr>\n",
       "      <td>2152</td>\n",
       "      <td>11077/73</td>\n",
       "      <td>11077</td>\n",
       "      <td>73</td>\n",
       "      <td>15.00</td>\n",
       "      <td>2</td>\n",
       "      <td>0.01</td>\n",
       "    </tr>\n",
       "    <tr>\n",
       "      <td>2153</td>\n",
       "      <td>11077/75</td>\n",
       "      <td>11077</td>\n",
       "      <td>75</td>\n",
       "      <td>7.75</td>\n",
       "      <td>4</td>\n",
       "      <td>0.00</td>\n",
       "    </tr>\n",
       "    <tr>\n",
       "      <td>2154</td>\n",
       "      <td>11077/77</td>\n",
       "      <td>11077</td>\n",
       "      <td>77</td>\n",
       "      <td>13.00</td>\n",
       "      <td>2</td>\n",
       "      <td>0.00</td>\n",
       "    </tr>\n",
       "  </tbody>\n",
       "</table>\n",
       "<p>2155 rows × 6 columns</p>\n",
       "</div>"
      ],
      "text/plain": [
       "            Id  OrderId  ProductId  UnitPrice  Quantity  Discount\n",
       "0     10248/11    10248         11      14.00        12      0.00\n",
       "1     10248/42    10248         42       9.80        10      0.00\n",
       "2     10248/72    10248         72      34.80         5      0.00\n",
       "3     10249/14    10249         14      18.60         9      0.00\n",
       "4     10249/51    10249         51      42.40        40      0.00\n",
       "...        ...      ...        ...        ...       ...       ...\n",
       "2150  11077/64    11077         64      33.25         2      0.03\n",
       "2151  11077/66    11077         66      17.00         1      0.00\n",
       "2152  11077/73    11077         73      15.00         2      0.01\n",
       "2153  11077/75    11077         75       7.75         4      0.00\n",
       "2154  11077/77    11077         77      13.00         2      0.00\n",
       "\n",
       "[2155 rows x 6 columns]"
      ]
     },
     "execution_count": 6,
     "metadata": {},
     "output_type": "execute_result"
    }
   ],
   "source": [
    "df = pd.DataFrame(data, columns=[x[0] for x in cur.description])\n",
    "df"
   ]
  },
  {
   "cell_type": "code",
   "execution_count": 7,
   "metadata": {
    "ExecuteTime": {
     "end_time": "2020-03-31T16:24:34.122030Z",
     "start_time": "2020-03-31T16:24:34.119628Z"
    }
   },
   "outputs": [],
   "source": [
    "from scipy import stats"
   ]
  },
  {
   "cell_type": "code",
   "execution_count": 8,
   "metadata": {
    "ExecuteTime": {
     "end_time": "2020-03-31T16:24:35.012482Z",
     "start_time": "2020-03-31T16:24:35.008616Z"
    }
   },
   "outputs": [],
   "source": [
    "def find_outliers(X):\n",
    "    z_scores = np.abs(stats.zscore(X))\n",
    "    idx_outs =  z_scores>3\n",
    "    if isinstance(X,pd.Series):\n",
    "        idx_outs = pd.Series(idx_outs,index=X.index)\n",
    "    return idx_outs"
   ]
  },
  {
   "cell_type": "code",
   "execution_count": null,
   "metadata": {},
   "outputs": [],
   "source": []
  },
  {
   "cell_type": "code",
   "execution_count": 9,
   "metadata": {
    "ExecuteTime": {
     "end_time": "2020-03-31T16:24:35.742014Z",
     "start_time": "2020-03-31T16:24:35.725027Z"
    }
   },
   "outputs": [],
   "source": [
    "grps = df.groupby('Discount').groups\n",
    "for group_name,idx in grps.items():\n",
    "    grps[group_name] = df.loc[idx]['Quantity'].copy()\n",
    "# grps[0.0]"
   ]
  },
  {
   "cell_type": "code",
   "execution_count": 10,
   "metadata": {
    "ExecuteTime": {
     "end_time": "2020-03-31T16:24:36.917833Z",
     "start_time": "2020-03-31T16:24:36.902702Z"
    },
    "scrolled": true
   },
   "outputs": [
    {
     "name": "stdout",
     "output_type": "stream",
     "text": [
      "Group 0.01 has too few n to include (n=1)\n",
      "Group 0.02 has too few n to include (n=2)\n",
      "Group 0.03 has too few n to include (n=3)\n",
      "Group 0.04 has too few n to include (n=1)\n",
      "Group 0.06 has too few n to include (n=1)\n"
     ]
    },
    {
     "name": "stderr",
     "output_type": "stream",
     "text": [
      "/anaconda3/envs/learn-env/lib/python3.6/site-packages/scipy/stats/stats.py:2315: RuntimeWarning:\n",
      "\n",
      "invalid value encountered in true_divide\n",
      "\n"
     ]
    }
   ],
   "source": [
    "grps_clean ={}\n",
    "for discount,data in grps.items():\n",
    "    \n",
    "    grp_name = f\"{str(int(round(discount*100,0)))}%\"\n",
    "   \n",
    "    idx_outs = find_outliers(data)\n",
    "    clean_data = data[~idx_outs]#.rename(grp_name)\n",
    "    \n",
    "    if len(clean_data)>3:\n",
    "        grps_clean[grp_name]=clean_data\n",
    "    else:\n",
    "        print(f\"Group {discount} has too few n to include (n={len(clean_data)})\")"
   ]
  },
  {
   "cell_type": "code",
   "execution_count": 11,
   "metadata": {
    "ExecuteTime": {
     "end_time": "2020-03-31T16:24:37.514415Z",
     "start_time": "2020-03-31T16:24:37.504810Z"
    }
   },
   "outputs": [
    {
     "data": {
      "text/plain": [
       "dict_values([0       12\n",
       "1       10\n",
       "2        5\n",
       "3        9\n",
       "4       40\n",
       "        ..\n",
       "2147     2\n",
       "2148     2\n",
       "2151     1\n",
       "2153     4\n",
       "2154     2\n",
       "Name: Quantity, Length: 1297, dtype: int64, 8        6\n",
       "9       15\n",
       "11      40\n",
       "12      25\n",
       "51      12\n",
       "        ..\n",
       "2116    10\n",
       "2123    14\n",
       "2134     1\n",
       "2137     2\n",
       "2144     2\n",
       "Name: Quantity, Length: 182, dtype: int64, 107     10\n",
       "108      3\n",
       "115     20\n",
       "116     24\n",
       "117      2\n",
       "        ..\n",
       "2095    30\n",
       "2096    77\n",
       "2098    25\n",
       "2099     4\n",
       "2135     2\n",
       "Name: Quantity, Length: 170, dtype: int64, 6       35\n",
       "7       15\n",
       "17      15\n",
       "18      21\n",
       "48      25\n",
       "        ..\n",
       "2112    20\n",
       "2113    30\n",
       "2124    10\n",
       "2125    30\n",
       "2126     2\n",
       "Name: Quantity, Length: 155, dtype: int64, 29      50\n",
       "30      65\n",
       "31       6\n",
       "40      12\n",
       "99      45\n",
       "        ..\n",
       "2069    35\n",
       "2071    25\n",
       "2091    10\n",
       "2092    12\n",
       "2130    24\n",
       "Name: Quantity, Length: 159, dtype: int64, 34      16\n",
       "36      15\n",
       "37      21\n",
       "43      60\n",
       "45      60\n",
       "        ..\n",
       "2101     4\n",
       "2102    20\n",
       "2127    20\n",
       "2128    20\n",
       "2129    10\n",
       "Name: Quantity, Length: 151, dtype: int64])"
      ]
     },
     "execution_count": 11,
     "metadata": {},
     "output_type": "execute_result"
    }
   ],
   "source": [
    "grps_clean.values()"
   ]
  },
  {
   "cell_type": "code",
   "execution_count": 12,
   "metadata": {
    "ExecuteTime": {
     "end_time": "2020-03-31T16:24:38.055271Z",
     "start_time": "2020-03-31T16:24:38.050640Z"
    }
   },
   "outputs": [],
   "source": [
    "def dict2df(grps_clean, colname_grp='Group', colname_data='Data'):\n",
    "    df_list=[]\n",
    "    for discount, grp_df in grps_clean.items():\n",
    "        grp_df = grp_df.to_frame()\n",
    "        grp_df['Group'] = discount\n",
    "        df_list.append(grp_df)\n",
    "\n",
    "    df_clean = pd.concat(df_list,axis=0)\n",
    "    df_clean.columns=[colname_data,colname_grp]\n",
    "    return df_clean[[colname_grp,colname_data]]"
   ]
  },
  {
   "cell_type": "code",
   "execution_count": 13,
   "metadata": {
    "ExecuteTime": {
     "end_time": "2020-03-31T16:24:39.020909Z",
     "start_time": "2020-03-31T16:24:39.008475Z"
    }
   },
   "outputs": [],
   "source": [
    "df_clean = dict2df(grps_clean,'Discount','Quantity')"
   ]
  },
  {
   "cell_type": "code",
   "execution_count": 14,
   "metadata": {
    "ExecuteTime": {
     "end_time": "2020-03-31T16:24:40.200731Z",
     "start_time": "2020-03-31T16:24:39.758776Z"
    }
   },
   "outputs": [
    {
     "data": {
      "text/plain": [
       "<matplotlib.axes._subplots.AxesSubplot at 0x1c1d0bb7f0>"
      ]
     },
     "execution_count": 14,
     "metadata": {},
     "output_type": "execute_result"
    },
    {
     "data": {
      "image/png": "[encoded data removed]",
      "text/plain": [
       "<Figure size 432x288 with 1 Axes>"
      ]
     },
     "metadata": {
      "needs_background": "light"
     },
     "output_type": "display_data"
    }
   ],
   "source": [
    "sns.barplot(data=df_clean,x='Discount',y='Quantity',ci=68)"
   ]
  },
  {
   "cell_type": "code",
   "execution_count": 17,
   "metadata": {
    "ExecuteTime": {
     "end_time": "2020-03-31T16:26:21.990480Z",
     "start_time": "2020-03-31T16:26:21.959917Z"
    }
   },
   "outputs": [
    {
     "data": {
      "text/html": [
       "<div>\n",
       "<style scoped>\n",
       "    .dataframe tbody tr th:only-of-type {\n",
       "        vertical-align: middle;\n",
       "    }\n",
       "\n",
       "    .dataframe tbody tr th {\n",
       "        vertical-align: top;\n",
       "    }\n",
       "\n",
       "    .dataframe thead th {\n",
       "        text-align: right;\n",
       "    }\n",
       "</style>\n",
       "<table border=\"1\" class=\"dataframe\">\n",
       "  <thead>\n",
       "    <tr style=\"text-align: right;\">\n",
       "      <th></th>\n",
       "      <th>df</th>\n",
       "      <th>sum_sq</th>\n",
       "      <th>mean_sq</th>\n",
       "      <th>F</th>\n",
       "      <th>PR(&gt;F)</th>\n",
       "    </tr>\n",
       "  </thead>\n",
       "  <tbody>\n",
       "    <tr>\n",
       "      <td>C(Discount)</td>\n",
       "      <td>5.0</td>\n",
       "      <td>16749.424678</td>\n",
       "      <td>3349.884936</td>\n",
       "      <td>12.979617</td>\n",
       "      <td>1.837472e-12</td>\n",
       "    </tr>\n",
       "    <tr>\n",
       "      <td>Residual</td>\n",
       "      <td>2108.0</td>\n",
       "      <td>544049.769740</td>\n",
       "      <td>258.088126</td>\n",
       "      <td>NaN</td>\n",
       "      <td>NaN</td>\n",
       "    </tr>\n",
       "  </tbody>\n",
       "</table>\n",
       "</div>"
      ],
      "text/plain": [
       "                 df         sum_sq      mean_sq          F        PR(>F)\n",
       "C(Discount)     5.0   16749.424678  3349.884936  12.979617  1.837472e-12\n",
       "Residual     2108.0  544049.769740   258.088126        NaN           NaN"
      ]
     },
     "execution_count": 17,
     "metadata": {},
     "output_type": "execute_result"
    }
   ],
   "source": [
    "import statsmodels.api as sm\n",
    "from statsmodels.formula.api import ols\n",
    "\n",
    "formula = 'Quantity ~ C(Discount)'\n",
    "model = ols(formula,df_clean).fit()\n",
    "\n",
    "table= sm.stats.anova_lm(model)#.round(3)\n",
    "table"
   ]
  },
  {
   "cell_type": "code",
   "execution_count": 18,
   "metadata": {
    "ExecuteTime": {
     "end_time": "2020-03-31T16:26:30.623539Z",
     "start_time": "2020-03-31T16:26:30.621307Z"
    }
   },
   "outputs": [],
   "source": [
    "# grouper.get_group('0%')"
   ]
  },
  {
   "cell_type": "code",
   "execution_count": 19,
   "metadata": {
    "ExecuteTime": {
     "end_time": "2020-03-31T16:26:37.189912Z",
     "start_time": "2020-03-31T16:26:37.168682Z"
    }
   },
   "outputs": [
    {
     "name": "stdout",
     "output_type": "stream",
     "text": [
      "For group 0% (n=1297), normality test stat = 189.44, p-val=0.0 \n",
      "\n",
      "For group 10% (n=170), normality test stat = 39.408, p-val=0.0 \n",
      "\n",
      "For group 15% (n=155), normality test stat = 29.69, p-val=0.0 \n",
      "\n",
      "For group 20% (n=159), normality test stat = 15.269, p-val=0.0005 \n",
      "\n",
      "For group 25% (n=151), normality test stat = 13.364, p-val=0.0013 \n",
      "\n",
      "For group 5% (n=182), normality test stat = 34.143, p-val=0.0 \n",
      "\n"
     ]
    }
   ],
   "source": [
    "grouper = df_clean.groupby('Discount')\n",
    "for grp_name in grouper.groups:\n",
    "    data = grouper.get_group(grp_name)['Quantity']\n",
    "    \n",
    "    val,p = stats.normaltest(data) \n",
    "    print(f\"For group {grp_name} (n={len(data)}), normality test stat = {round(val,3)}, p-val={round(p,4)} \\n\")"
   ]
  },
  {
   "cell_type": "code",
   "execution_count": 20,
   "metadata": {
    "ExecuteTime": {
     "end_time": "2020-03-31T16:26:37.606284Z",
     "start_time": "2020-03-31T16:26:37.603615Z"
    }
   },
   "outputs": [],
   "source": [
    "def color_sig(val):\n",
    "    color = 'green' if val < .05 else 'black'\n",
    "    return 'color: %s' % color"
   ]
  },
  {
   "cell_type": "code",
   "execution_count": 21,
   "metadata": {
    "ExecuteTime": {
     "end_time": "2020-03-31T16:26:38.922757Z",
     "start_time": "2020-03-31T16:26:38.889343Z"
    }
   },
   "outputs": [
    {
     "data": {
      "text/html": [
       "<style  type=\"text/css\" >\n",
       "    #T_65c36848_736c_11ea_aa52_acde48001122row0_col3 {\n",
       "            color:  green;\n",
       "        }    #T_65c36848_736c_11ea_aa52_acde48001122row1_col3 {\n",
       "            color:  green;\n",
       "        }    #T_65c36848_736c_11ea_aa52_acde48001122row2_col3 {\n",
       "            color:  green;\n",
       "        }    #T_65c36848_736c_11ea_aa52_acde48001122row3_col3 {\n",
       "            color:  green;\n",
       "        }    #T_65c36848_736c_11ea_aa52_acde48001122row4_col3 {\n",
       "            color:  green;\n",
       "        }    #T_65c36848_736c_11ea_aa52_acde48001122row5_col3 {\n",
       "            color:  green;\n",
       "        }</style><table id=\"T_65c36848_736c_11ea_aa52_acde48001122\" ><thead>    <tr>        <th class=\"blank level0\" ></th>        <th class=\"col_heading level0 col0\" >Group</th>        <th class=\"col_heading level0 col1\" >n</th>        <th class=\"col_heading level0 col2\" >Normality Stat</th>        <th class=\"col_heading level0 col3\" >p-value</th>    </tr></thead><tbody>\n",
       "                <tr>\n",
       "                        <th id=\"T_65c36848_736c_11ea_aa52_acde48001122level0_row0\" class=\"row_heading level0 row0\" >0</th>\n",
       "                        <td id=\"T_65c36848_736c_11ea_aa52_acde48001122row0_col0\" class=\"data row0 col0\" >0%</td>\n",
       "                        <td id=\"T_65c36848_736c_11ea_aa52_acde48001122row0_col1\" class=\"data row0 col1\" >1297</td>\n",
       "                        <td id=\"T_65c36848_736c_11ea_aa52_acde48001122row0_col2\" class=\"data row0 col2\" >189.44</td>\n",
       "                        <td id=\"T_65c36848_736c_11ea_aa52_acde48001122row0_col3\" class=\"data row0 col3\" >0</td>\n",
       "            </tr>\n",
       "            <tr>\n",
       "                        <th id=\"T_65c36848_736c_11ea_aa52_acde48001122level0_row1\" class=\"row_heading level0 row1\" >1</th>\n",
       "                        <td id=\"T_65c36848_736c_11ea_aa52_acde48001122row1_col0\" class=\"data row1 col0\" >10%</td>\n",
       "                        <td id=\"T_65c36848_736c_11ea_aa52_acde48001122row1_col1\" class=\"data row1 col1\" >170</td>\n",
       "                        <td id=\"T_65c36848_736c_11ea_aa52_acde48001122row1_col2\" class=\"data row1 col2\" >39.4078</td>\n",
       "                        <td id=\"T_65c36848_736c_11ea_aa52_acde48001122row1_col3\" class=\"data row1 col3\" >0</td>\n",
       "            </tr>\n",
       "            <tr>\n",
       "                        <th id=\"T_65c36848_736c_11ea_aa52_acde48001122level0_row2\" class=\"row_heading level0 row2\" >2</th>\n",
       "                        <td id=\"T_65c36848_736c_11ea_aa52_acde48001122row2_col0\" class=\"data row2 col0\" >15%</td>\n",
       "                        <td id=\"T_65c36848_736c_11ea_aa52_acde48001122row2_col1\" class=\"data row2 col1\" >155</td>\n",
       "                        <td id=\"T_65c36848_736c_11ea_aa52_acde48001122row2_col2\" class=\"data row2 col2\" >29.6898</td>\n",
       "                        <td id=\"T_65c36848_736c_11ea_aa52_acde48001122row2_col3\" class=\"data row2 col3\" >0</td>\n",
       "            </tr>\n",
       "            <tr>\n",
       "                        <th id=\"T_65c36848_736c_11ea_aa52_acde48001122level0_row3\" class=\"row_heading level0 row3\" >3</th>\n",
       "                        <td id=\"T_65c36848_736c_11ea_aa52_acde48001122row3_col0\" class=\"data row3 col0\" >20%</td>\n",
       "                        <td id=\"T_65c36848_736c_11ea_aa52_acde48001122row3_col1\" class=\"data row3 col1\" >159</td>\n",
       "                        <td id=\"T_65c36848_736c_11ea_aa52_acde48001122row3_col2\" class=\"data row3 col2\" >15.2686</td>\n",
       "                        <td id=\"T_65c36848_736c_11ea_aa52_acde48001122row3_col3\" class=\"data row3 col3\" >0.0005</td>\n",
       "            </tr>\n",
       "            <tr>\n",
       "                        <th id=\"T_65c36848_736c_11ea_aa52_acde48001122level0_row4\" class=\"row_heading level0 row4\" >4</th>\n",
       "                        <td id=\"T_65c36848_736c_11ea_aa52_acde48001122row4_col0\" class=\"data row4 col0\" >25%</td>\n",
       "                        <td id=\"T_65c36848_736c_11ea_aa52_acde48001122row4_col1\" class=\"data row4 col1\" >151</td>\n",
       "                        <td id=\"T_65c36848_736c_11ea_aa52_acde48001122row4_col2\" class=\"data row4 col2\" >13.3644</td>\n",
       "                        <td id=\"T_65c36848_736c_11ea_aa52_acde48001122row4_col3\" class=\"data row4 col3\" >0.0013</td>\n",
       "            </tr>\n",
       "            <tr>\n",
       "                        <th id=\"T_65c36848_736c_11ea_aa52_acde48001122level0_row5\" class=\"row_heading level0 row5\" >5</th>\n",
       "                        <td id=\"T_65c36848_736c_11ea_aa52_acde48001122row5_col0\" class=\"data row5 col0\" >5%</td>\n",
       "                        <td id=\"T_65c36848_736c_11ea_aa52_acde48001122row5_col1\" class=\"data row5 col1\" >182</td>\n",
       "                        <td id=\"T_65c36848_736c_11ea_aa52_acde48001122row5_col2\" class=\"data row5 col2\" >34.143</td>\n",
       "                        <td id=\"T_65c36848_736c_11ea_aa52_acde48001122row5_col3\" class=\"data row5 col3\" >0</td>\n",
       "            </tr>\n",
       "    </tbody></table>"
      ],
      "text/plain": [
       "<pandas.io.formats.style.Styler at 0x1c1d280ba8>"
      ]
     },
     "metadata": {},
     "output_type": "display_data"
    }
   ],
   "source": [
    "def test_normality(df_clean, style=True):\n",
    "    res = [['Group','n','Normality Stat','p-value']]\n",
    "\n",
    "    grouper = df_clean.groupby('Discount')\n",
    "    for grp_name in grouper.groups:\n",
    "        data = grouper.get_group(grp_name)['Quantity']\n",
    "\n",
    "        val,p = stats.normaltest(data) \n",
    "        res.append([grp_name, len(data), val, p])\n",
    "    res_df = pd.DataFrame(res[1:],columns=res[0]).round(4)\n",
    "    \n",
    "    if style:\n",
    "        display(res_df.style.applymap(color_sig,subset=['p-value']))\n",
    "    else:\n",
    "        return res_df\n",
    "\n",
    "\n",
    "\n",
    "test_normality(df_clean)\n"
   ]
  },
  {
   "cell_type": "code",
   "execution_count": 22,
   "metadata": {
    "ExecuteTime": {
     "end_time": "2020-03-31T16:26:39.454882Z",
     "start_time": "2020-03-31T16:26:39.448284Z"
    }
   },
   "outputs": [
    {
     "data": {
      "text/plain": [
       "LeveneResult(statistic=4.7429850894071715, pvalue=0.0002591859866634427)"
      ]
     },
     "execution_count": 22,
     "metadata": {},
     "output_type": "execute_result"
    }
   ],
   "source": [
    "## Check assumption of equal variance\n",
    "clean_data = list(grps_clean.values())\n",
    "stats.levene(*clean_data)"
   ]
  },
  {
   "cell_type": "code",
   "execution_count": 23,
   "metadata": {
    "ExecuteTime": {
     "end_time": "2020-03-31T16:26:40.254465Z",
     "start_time": "2020-03-31T16:26:40.248796Z"
    }
   },
   "outputs": [
    {
     "name": "stdout",
     "output_type": "stream",
     "text": [
      "Kruskal Wallis H-Test Result = 53.651, p =0.0\n"
     ]
    }
   ],
   "source": [
    "val, p = stats.kruskal(*clean_data)\n",
    "print(f\"Kruskal Wallis H-Test Result = {round(val,3)}, p ={round(p,4)}\")"
   ]
  },
  {
   "cell_type": "markdown",
   "metadata": {
    "ExecuteTime": {
     "end_time": "2020-03-28T18:03:51.900208Z",
     "start_time": "2020-03-28T18:03:51.896107Z"
    }
   },
   "source": [
    "> \"A Kruskal-Wallis H test showed that there was a statistically significant difference in pain score between the different drug treatments, χ2(2) = 8.520, p = 0.014, with a mean rank pain score of 35.33 for Drug A, 34.83 for Drug B and 21.35 for Drug C.\" - *[LAERD Statistics](https://statistics.laerd.com/spss-tutorials/kruskal-wallis-h-test-using-spss-statistics.php)*"
   ]
  },
  {
   "cell_type": "code",
   "execution_count": 24,
   "metadata": {
    "ExecuteTime": {
     "end_time": "2020-03-31T16:26:43.152959Z",
     "start_time": "2020-03-31T16:26:43.053418Z"
    }
   },
   "outputs": [
    {
     "data": {
      "text/html": [
       "<table class=\"simpletable\">\n",
       "<caption>Multiple Comparison of Means - Tukey HSD, FWER=0.05</caption>\n",
       "<tr>\n",
       "  <th>group1</th> <th>group2</th> <th>meandiff</th>  <th>p-adj</th>  <th>lower</th>   <th>upper</th>  <th>reject</th>\n",
       "</tr>\n",
       "<tr>\n",
       "    <td>0%</td>     <td>10%</td>   <td>2.9654</td>  <td>0.2098</td> <td>-0.7723</td> <td>6.7031</td>   <td>False</td>\n",
       "</tr>\n",
       "<tr>\n",
       "    <td>0%</td>     <td>15%</td>   <td>6.9176</td>   <td>0.001</td> <td>3.0233</td>  <td>10.8119</td>  <td>True</td> \n",
       "</tr>\n",
       "<tr>\n",
       "    <td>0%</td>     <td>20%</td>   <td>5.6293</td>   <td>0.001</td> <td>1.7791</td>  <td>9.4796</td>   <td>True</td> \n",
       "</tr>\n",
       "<tr>\n",
       "    <td>0%</td>     <td>25%</td>   <td>6.1416</td>   <td>0.001</td> <td>2.2016</td>  <td>10.0817</td>  <td>True</td> \n",
       "</tr>\n",
       "<tr>\n",
       "    <td>0%</td>     <td>5%</td>    <td>6.0639</td>   <td>0.001</td> <td>2.4368</td>   <td>9.691</td>   <td>True</td> \n",
       "</tr>\n",
       "<tr>\n",
       "    <td>10%</td>    <td>15%</td>   <td>3.9522</td>  <td>0.2311</td> <td>-1.1368</td> <td>9.0412</td>   <td>False</td>\n",
       "</tr>\n",
       "<tr>\n",
       "    <td>10%</td>    <td>20%</td>   <td>2.6639</td>  <td>0.6409</td> <td>-2.3915</td> <td>7.7193</td>   <td>False</td>\n",
       "</tr>\n",
       "<tr>\n",
       "    <td>10%</td>    <td>25%</td>   <td>3.1762</td>  <td>0.4872</td> <td>-1.9479</td> <td>8.3004</td>   <td>False</td>\n",
       "</tr>\n",
       "<tr>\n",
       "    <td>10%</td>    <td>5%</td>    <td>3.0985</td>  <td>0.4621</td> <td>-1.789</td>  <td>7.9861</td>   <td>False</td>\n",
       "</tr>\n",
       "<tr>\n",
       "    <td>15%</td>    <td>20%</td>   <td>-1.2883</td>   <td>0.9</td>  <td>-6.4605</td>  <td>3.884</td>   <td>False</td>\n",
       "</tr>\n",
       "<tr>\n",
       "    <td>15%</td>    <td>25%</td>   <td>-0.7759</td>   <td>0.9</td>  <td>-6.0154</td> <td>4.4635</td>   <td>False</td>\n",
       "</tr>\n",
       "<tr>\n",
       "    <td>15%</td>    <td>5%</td>    <td>-0.8537</td>   <td>0.9</td>  <td>-5.862</td>  <td>4.1547</td>   <td>False</td>\n",
       "</tr>\n",
       "<tr>\n",
       "    <td>20%</td>    <td>25%</td>   <td>0.5123</td>    <td>0.9</td>  <td>-4.6945</td> <td>5.7191</td>   <td>False</td>\n",
       "</tr>\n",
       "<tr>\n",
       "    <td>20%</td>    <td>5%</td>    <td>0.4346</td>    <td>0.9</td>  <td>-4.5396</td> <td>5.4088</td>   <td>False</td>\n",
       "</tr>\n",
       "<tr>\n",
       "    <td>25%</td>    <td>5%</td>    <td>-0.0777</td>   <td>0.9</td>  <td>-5.1218</td> <td>4.9663</td>   <td>False</td>\n",
       "</tr>\n",
       "</table>"
      ],
      "text/plain": [
       "<class 'statsmodels.iolib.table.SimpleTable'>"
      ]
     },
     "execution_count": 24,
     "metadata": {},
     "output_type": "execute_result"
    }
   ],
   "source": [
    "from statsmodels.stats.multicomp import pairwise_tukeyhsd\n",
    "from statsmodels.stats.multicomp import MultiComparison\n",
    "mc = MultiComparison(df_clean['Quantity'], df_clean['Discount'])\n",
    "result = mc.tukeyhsd()\n",
    "result.summary()"
   ]
  },
  {
   "cell_type": "code",
   "execution_count": 25,
   "metadata": {
    "ExecuteTime": {
     "end_time": "2020-03-31T16:26:43.622091Z",
     "start_time": "2020-03-31T16:26:43.600327Z"
    }
   },
   "outputs": [
    {
     "data": {
      "text/html": [
       "<style  type=\"text/css\" >\n",
       "    #T_688f8de8_736c_11ea_a959_acde48001122row0_col3 {\n",
       "            color:  black;\n",
       "        }    #T_688f8de8_736c_11ea_a959_acde48001122row1_col3 {\n",
       "            color:  green;\n",
       "        }    #T_688f8de8_736c_11ea_a959_acde48001122row2_col3 {\n",
       "            color:  green;\n",
       "        }    #T_688f8de8_736c_11ea_a959_acde48001122row3_col3 {\n",
       "            color:  green;\n",
       "        }    #T_688f8de8_736c_11ea_a959_acde48001122row4_col3 {\n",
       "            color:  green;\n",
       "        }    #T_688f8de8_736c_11ea_a959_acde48001122row5_col3 {\n",
       "            color:  black;\n",
       "        }    #T_688f8de8_736c_11ea_a959_acde48001122row6_col3 {\n",
       "            color:  black;\n",
       "        }    #T_688f8de8_736c_11ea_a959_acde48001122row7_col3 {\n",
       "            color:  black;\n",
       "        }    #T_688f8de8_736c_11ea_a959_acde48001122row8_col3 {\n",
       "            color:  black;\n",
       "        }    #T_688f8de8_736c_11ea_a959_acde48001122row9_col3 {\n",
       "            color:  black;\n",
       "        }    #T_688f8de8_736c_11ea_a959_acde48001122row10_col3 {\n",
       "            color:  black;\n",
       "        }    #T_688f8de8_736c_11ea_a959_acde48001122row11_col3 {\n",
       "            color:  black;\n",
       "        }    #T_688f8de8_736c_11ea_a959_acde48001122row12_col3 {\n",
       "            color:  black;\n",
       "        }    #T_688f8de8_736c_11ea_a959_acde48001122row13_col3 {\n",
       "            color:  black;\n",
       "        }    #T_688f8de8_736c_11ea_a959_acde48001122row14_col3 {\n",
       "            color:  black;\n",
       "        }</style><table id=\"T_688f8de8_736c_11ea_a959_acde48001122\" ><thead>    <tr>        <th class=\"blank level0\" ></th>        <th class=\"col_heading level0 col0\" >group1</th>        <th class=\"col_heading level0 col1\" >group2</th>        <th class=\"col_heading level0 col2\" >meandiff</th>        <th class=\"col_heading level0 col3\" >p-adj</th>        <th class=\"col_heading level0 col4\" >lower</th>        <th class=\"col_heading level0 col5\" >upper</th>        <th class=\"col_heading level0 col6\" >reject</th>    </tr></thead><tbody>\n",
       "                <tr>\n",
       "                        <th id=\"T_688f8de8_736c_11ea_a959_acde48001122level0_row0\" class=\"row_heading level0 row0\" >0</th>\n",
       "                        <td id=\"T_688f8de8_736c_11ea_a959_acde48001122row0_col0\" class=\"data row0 col0\" >0%</td>\n",
       "                        <td id=\"T_688f8de8_736c_11ea_a959_acde48001122row0_col1\" class=\"data row0 col1\" >10%</td>\n",
       "                        <td id=\"T_688f8de8_736c_11ea_a959_acde48001122row0_col2\" class=\"data row0 col2\" >2.9654</td>\n",
       "                        <td id=\"T_688f8de8_736c_11ea_a959_acde48001122row0_col3\" class=\"data row0 col3\" >0.2098</td>\n",
       "                        <td id=\"T_688f8de8_736c_11ea_a959_acde48001122row0_col4\" class=\"data row0 col4\" >-0.7723</td>\n",
       "                        <td id=\"T_688f8de8_736c_11ea_a959_acde48001122row0_col5\" class=\"data row0 col5\" >6.7031</td>\n",
       "                        <td id=\"T_688f8de8_736c_11ea_a959_acde48001122row0_col6\" class=\"data row0 col6\" >False</td>\n",
       "            </tr>\n",
       "            <tr>\n",
       "                        <th id=\"T_688f8de8_736c_11ea_a959_acde48001122level0_row1\" class=\"row_heading level0 row1\" >1</th>\n",
       "                        <td id=\"T_688f8de8_736c_11ea_a959_acde48001122row1_col0\" class=\"data row1 col0\" >0%</td>\n",
       "                        <td id=\"T_688f8de8_736c_11ea_a959_acde48001122row1_col1\" class=\"data row1 col1\" >15%</td>\n",
       "                        <td id=\"T_688f8de8_736c_11ea_a959_acde48001122row1_col2\" class=\"data row1 col2\" >6.9176</td>\n",
       "                        <td id=\"T_688f8de8_736c_11ea_a959_acde48001122row1_col3\" class=\"data row1 col3\" >0.001</td>\n",
       "                        <td id=\"T_688f8de8_736c_11ea_a959_acde48001122row1_col4\" class=\"data row1 col4\" >3.0233</td>\n",
       "                        <td id=\"T_688f8de8_736c_11ea_a959_acde48001122row1_col5\" class=\"data row1 col5\" >10.8119</td>\n",
       "                        <td id=\"T_688f8de8_736c_11ea_a959_acde48001122row1_col6\" class=\"data row1 col6\" >True</td>\n",
       "            </tr>\n",
       "            <tr>\n",
       "                        <th id=\"T_688f8de8_736c_11ea_a959_acde48001122level0_row2\" class=\"row_heading level0 row2\" >2</th>\n",
       "                        <td id=\"T_688f8de8_736c_11ea_a959_acde48001122row2_col0\" class=\"data row2 col0\" >0%</td>\n",
       "                        <td id=\"T_688f8de8_736c_11ea_a959_acde48001122row2_col1\" class=\"data row2 col1\" >20%</td>\n",
       "                        <td id=\"T_688f8de8_736c_11ea_a959_acde48001122row2_col2\" class=\"data row2 col2\" >5.6293</td>\n",
       "                        <td id=\"T_688f8de8_736c_11ea_a959_acde48001122row2_col3\" class=\"data row2 col3\" >0.001</td>\n",
       "                        <td id=\"T_688f8de8_736c_11ea_a959_acde48001122row2_col4\" class=\"data row2 col4\" >1.7791</td>\n",
       "                        <td id=\"T_688f8de8_736c_11ea_a959_acde48001122row2_col5\" class=\"data row2 col5\" >9.4796</td>\n",
       "                        <td id=\"T_688f8de8_736c_11ea_a959_acde48001122row2_col6\" class=\"data row2 col6\" >True</td>\n",
       "            </tr>\n",
       "            <tr>\n",
       "                        <th id=\"T_688f8de8_736c_11ea_a959_acde48001122level0_row3\" class=\"row_heading level0 row3\" >3</th>\n",
       "                        <td id=\"T_688f8de8_736c_11ea_a959_acde48001122row3_col0\" class=\"data row3 col0\" >0%</td>\n",
       "                        <td id=\"T_688f8de8_736c_11ea_a959_acde48001122row3_col1\" class=\"data row3 col1\" >25%</td>\n",
       "                        <td id=\"T_688f8de8_736c_11ea_a959_acde48001122row3_col2\" class=\"data row3 col2\" >6.1416</td>\n",
       "                        <td id=\"T_688f8de8_736c_11ea_a959_acde48001122row3_col3\" class=\"data row3 col3\" >0.001</td>\n",
       "                        <td id=\"T_688f8de8_736c_11ea_a959_acde48001122row3_col4\" class=\"data row3 col4\" >2.2016</td>\n",
       "                        <td id=\"T_688f8de8_736c_11ea_a959_acde48001122row3_col5\" class=\"data row3 col5\" >10.0817</td>\n",
       "                        <td id=\"T_688f8de8_736c_11ea_a959_acde48001122row3_col6\" class=\"data row3 col6\" >True</td>\n",
       "            </tr>\n",
       "            <tr>\n",
       "                        <th id=\"T_688f8de8_736c_11ea_a959_acde48001122level0_row4\" class=\"row_heading level0 row4\" >4</th>\n",
       "                        <td id=\"T_688f8de8_736c_11ea_a959_acde48001122row4_col0\" class=\"data row4 col0\" >0%</td>\n",
       "                        <td id=\"T_688f8de8_736c_11ea_a959_acde48001122row4_col1\" class=\"data row4 col1\" >5%</td>\n",
       "                        <td id=\"T_688f8de8_736c_11ea_a959_acde48001122row4_col2\" class=\"data row4 col2\" >6.0639</td>\n",
       "                        <td id=\"T_688f8de8_736c_11ea_a959_acde48001122row4_col3\" class=\"data row4 col3\" >0.001</td>\n",
       "                        <td id=\"T_688f8de8_736c_11ea_a959_acde48001122row4_col4\" class=\"data row4 col4\" >2.4368</td>\n",
       "                        <td id=\"T_688f8de8_736c_11ea_a959_acde48001122row4_col5\" class=\"data row4 col5\" >9.691</td>\n",
       "                        <td id=\"T_688f8de8_736c_11ea_a959_acde48001122row4_col6\" class=\"data row4 col6\" >True</td>\n",
       "            </tr>\n",
       "            <tr>\n",
       "                        <th id=\"T_688f8de8_736c_11ea_a959_acde48001122level0_row5\" class=\"row_heading level0 row5\" >5</th>\n",
       "                        <td id=\"T_688f8de8_736c_11ea_a959_acde48001122row5_col0\" class=\"data row5 col0\" >10%</td>\n",
       "                        <td id=\"T_688f8de8_736c_11ea_a959_acde48001122row5_col1\" class=\"data row5 col1\" >15%</td>\n",
       "                        <td id=\"T_688f8de8_736c_11ea_a959_acde48001122row5_col2\" class=\"data row5 col2\" >3.9522</td>\n",
       "                        <td id=\"T_688f8de8_736c_11ea_a959_acde48001122row5_col3\" class=\"data row5 col3\" >0.2311</td>\n",
       "                        <td id=\"T_688f8de8_736c_11ea_a959_acde48001122row5_col4\" class=\"data row5 col4\" >-1.1368</td>\n",
       "                        <td id=\"T_688f8de8_736c_11ea_a959_acde48001122row5_col5\" class=\"data row5 col5\" >9.0412</td>\n",
       "                        <td id=\"T_688f8de8_736c_11ea_a959_acde48001122row5_col6\" class=\"data row5 col6\" >False</td>\n",
       "            </tr>\n",
       "            <tr>\n",
       "                        <th id=\"T_688f8de8_736c_11ea_a959_acde48001122level0_row6\" class=\"row_heading level0 row6\" >6</th>\n",
       "                        <td id=\"T_688f8de8_736c_11ea_a959_acde48001122row6_col0\" class=\"data row6 col0\" >10%</td>\n",
       "                        <td id=\"T_688f8de8_736c_11ea_a959_acde48001122row6_col1\" class=\"data row6 col1\" >20%</td>\n",
       "                        <td id=\"T_688f8de8_736c_11ea_a959_acde48001122row6_col2\" class=\"data row6 col2\" >2.6639</td>\n",
       "                        <td id=\"T_688f8de8_736c_11ea_a959_acde48001122row6_col3\" class=\"data row6 col3\" >0.6409</td>\n",
       "                        <td id=\"T_688f8de8_736c_11ea_a959_acde48001122row6_col4\" class=\"data row6 col4\" >-2.3915</td>\n",
       "                        <td id=\"T_688f8de8_736c_11ea_a959_acde48001122row6_col5\" class=\"data row6 col5\" >7.7193</td>\n",
       "                        <td id=\"T_688f8de8_736c_11ea_a959_acde48001122row6_col6\" class=\"data row6 col6\" >False</td>\n",
       "            </tr>\n",
       "            <tr>\n",
       "                        <th id=\"T_688f8de8_736c_11ea_a959_acde48001122level0_row7\" class=\"row_heading level0 row7\" >7</th>\n",
       "                        <td id=\"T_688f8de8_736c_11ea_a959_acde48001122row7_col0\" class=\"data row7 col0\" >10%</td>\n",
       "                        <td id=\"T_688f8de8_736c_11ea_a959_acde48001122row7_col1\" class=\"data row7 col1\" >25%</td>\n",
       "                        <td id=\"T_688f8de8_736c_11ea_a959_acde48001122row7_col2\" class=\"data row7 col2\" >3.1762</td>\n",
       "                        <td id=\"T_688f8de8_736c_11ea_a959_acde48001122row7_col3\" class=\"data row7 col3\" >0.4872</td>\n",
       "                        <td id=\"T_688f8de8_736c_11ea_a959_acde48001122row7_col4\" class=\"data row7 col4\" >-1.9479</td>\n",
       "                        <td id=\"T_688f8de8_736c_11ea_a959_acde48001122row7_col5\" class=\"data row7 col5\" >8.3004</td>\n",
       "                        <td id=\"T_688f8de8_736c_11ea_a959_acde48001122row7_col6\" class=\"data row7 col6\" >False</td>\n",
       "            </tr>\n",
       "            <tr>\n",
       "                        <th id=\"T_688f8de8_736c_11ea_a959_acde48001122level0_row8\" class=\"row_heading level0 row8\" >8</th>\n",
       "                        <td id=\"T_688f8de8_736c_11ea_a959_acde48001122row8_col0\" class=\"data row8 col0\" >10%</td>\n",
       "                        <td id=\"T_688f8de8_736c_11ea_a959_acde48001122row8_col1\" class=\"data row8 col1\" >5%</td>\n",
       "                        <td id=\"T_688f8de8_736c_11ea_a959_acde48001122row8_col2\" class=\"data row8 col2\" >3.0985</td>\n",
       "                        <td id=\"T_688f8de8_736c_11ea_a959_acde48001122row8_col3\" class=\"data row8 col3\" >0.4621</td>\n",
       "                        <td id=\"T_688f8de8_736c_11ea_a959_acde48001122row8_col4\" class=\"data row8 col4\" >-1.789</td>\n",
       "                        <td id=\"T_688f8de8_736c_11ea_a959_acde48001122row8_col5\" class=\"data row8 col5\" >7.9861</td>\n",
       "                        <td id=\"T_688f8de8_736c_11ea_a959_acde48001122row8_col6\" class=\"data row8 col6\" >False</td>\n",
       "            </tr>\n",
       "            <tr>\n",
       "                        <th id=\"T_688f8de8_736c_11ea_a959_acde48001122level0_row9\" class=\"row_heading level0 row9\" >9</th>\n",
       "                        <td id=\"T_688f8de8_736c_11ea_a959_acde48001122row9_col0\" class=\"data row9 col0\" >15%</td>\n",
       "                        <td id=\"T_688f8de8_736c_11ea_a959_acde48001122row9_col1\" class=\"data row9 col1\" >20%</td>\n",
       "                        <td id=\"T_688f8de8_736c_11ea_a959_acde48001122row9_col2\" class=\"data row9 col2\" >-1.2883</td>\n",
       "                        <td id=\"T_688f8de8_736c_11ea_a959_acde48001122row9_col3\" class=\"data row9 col3\" >0.9</td>\n",
       "                        <td id=\"T_688f8de8_736c_11ea_a959_acde48001122row9_col4\" class=\"data row9 col4\" >-6.4605</td>\n",
       "                        <td id=\"T_688f8de8_736c_11ea_a959_acde48001122row9_col5\" class=\"data row9 col5\" >3.884</td>\n",
       "                        <td id=\"T_688f8de8_736c_11ea_a959_acde48001122row9_col6\" class=\"data row9 col6\" >False</td>\n",
       "            </tr>\n",
       "            <tr>\n",
       "                        <th id=\"T_688f8de8_736c_11ea_a959_acde48001122level0_row10\" class=\"row_heading level0 row10\" >10</th>\n",
       "                        <td id=\"T_688f8de8_736c_11ea_a959_acde48001122row10_col0\" class=\"data row10 col0\" >15%</td>\n",
       "                        <td id=\"T_688f8de8_736c_11ea_a959_acde48001122row10_col1\" class=\"data row10 col1\" >25%</td>\n",
       "                        <td id=\"T_688f8de8_736c_11ea_a959_acde48001122row10_col2\" class=\"data row10 col2\" >-0.7759</td>\n",
       "                        <td id=\"T_688f8de8_736c_11ea_a959_acde48001122row10_col3\" class=\"data row10 col3\" >0.9</td>\n",
       "                        <td id=\"T_688f8de8_736c_11ea_a959_acde48001122row10_col4\" class=\"data row10 col4\" >-6.0154</td>\n",
       "                        <td id=\"T_688f8de8_736c_11ea_a959_acde48001122row10_col5\" class=\"data row10 col5\" >4.4635</td>\n",
       "                        <td id=\"T_688f8de8_736c_11ea_a959_acde48001122row10_col6\" class=\"data row10 col6\" >False</td>\n",
       "            </tr>\n",
       "            <tr>\n",
       "                        <th id=\"T_688f8de8_736c_11ea_a959_acde48001122level0_row11\" class=\"row_heading level0 row11\" >11</th>\n",
       "                        <td id=\"T_688f8de8_736c_11ea_a959_acde48001122row11_col0\" class=\"data row11 col0\" >15%</td>\n",
       "                        <td id=\"T_688f8de8_736c_11ea_a959_acde48001122row11_col1\" class=\"data row11 col1\" >5%</td>\n",
       "                        <td id=\"T_688f8de8_736c_11ea_a959_acde48001122row11_col2\" class=\"data row11 col2\" >-0.8537</td>\n",
       "                        <td id=\"T_688f8de8_736c_11ea_a959_acde48001122row11_col3\" class=\"data row11 col3\" >0.9</td>\n",
       "                        <td id=\"T_688f8de8_736c_11ea_a959_acde48001122row11_col4\" class=\"data row11 col4\" >-5.862</td>\n",
       "                        <td id=\"T_688f8de8_736c_11ea_a959_acde48001122row11_col5\" class=\"data row11 col5\" >4.1547</td>\n",
       "                        <td id=\"T_688f8de8_736c_11ea_a959_acde48001122row11_col6\" class=\"data row11 col6\" >False</td>\n",
       "            </tr>\n",
       "            <tr>\n",
       "                        <th id=\"T_688f8de8_736c_11ea_a959_acde48001122level0_row12\" class=\"row_heading level0 row12\" >12</th>\n",
       "                        <td id=\"T_688f8de8_736c_11ea_a959_acde48001122row12_col0\" class=\"data row12 col0\" >20%</td>\n",
       "                        <td id=\"T_688f8de8_736c_11ea_a959_acde48001122row12_col1\" class=\"data row12 col1\" >25%</td>\n",
       "                        <td id=\"T_688f8de8_736c_11ea_a959_acde48001122row12_col2\" class=\"data row12 col2\" >0.5123</td>\n",
       "                        <td id=\"T_688f8de8_736c_11ea_a959_acde48001122row12_col3\" class=\"data row12 col3\" >0.9</td>\n",
       "                        <td id=\"T_688f8de8_736c_11ea_a959_acde48001122row12_col4\" class=\"data row12 col4\" >-4.6945</td>\n",
       "                        <td id=\"T_688f8de8_736c_11ea_a959_acde48001122row12_col5\" class=\"data row12 col5\" >5.7191</td>\n",
       "                        <td id=\"T_688f8de8_736c_11ea_a959_acde48001122row12_col6\" class=\"data row12 col6\" >False</td>\n",
       "            </tr>\n",
       "            <tr>\n",
       "                        <th id=\"T_688f8de8_736c_11ea_a959_acde48001122level0_row13\" class=\"row_heading level0 row13\" >13</th>\n",
       "                        <td id=\"T_688f8de8_736c_11ea_a959_acde48001122row13_col0\" class=\"data row13 col0\" >20%</td>\n",
       "                        <td id=\"T_688f8de8_736c_11ea_a959_acde48001122row13_col1\" class=\"data row13 col1\" >5%</td>\n",
       "                        <td id=\"T_688f8de8_736c_11ea_a959_acde48001122row13_col2\" class=\"data row13 col2\" >0.4346</td>\n",
       "                        <td id=\"T_688f8de8_736c_11ea_a959_acde48001122row13_col3\" class=\"data row13 col3\" >0.9</td>\n",
       "                        <td id=\"T_688f8de8_736c_11ea_a959_acde48001122row13_col4\" class=\"data row13 col4\" >-4.5396</td>\n",
       "                        <td id=\"T_688f8de8_736c_11ea_a959_acde48001122row13_col5\" class=\"data row13 col5\" >5.4088</td>\n",
       "                        <td id=\"T_688f8de8_736c_11ea_a959_acde48001122row13_col6\" class=\"data row13 col6\" >False</td>\n",
       "            </tr>\n",
       "            <tr>\n",
       "                        <th id=\"T_688f8de8_736c_11ea_a959_acde48001122level0_row14\" class=\"row_heading level0 row14\" >14</th>\n",
       "                        <td id=\"T_688f8de8_736c_11ea_a959_acde48001122row14_col0\" class=\"data row14 col0\" >25%</td>\n",
       "                        <td id=\"T_688f8de8_736c_11ea_a959_acde48001122row14_col1\" class=\"data row14 col1\" >5%</td>\n",
       "                        <td id=\"T_688f8de8_736c_11ea_a959_acde48001122row14_col2\" class=\"data row14 col2\" >-0.0777</td>\n",
       "                        <td id=\"T_688f8de8_736c_11ea_a959_acde48001122row14_col3\" class=\"data row14 col3\" >0.9</td>\n",
       "                        <td id=\"T_688f8de8_736c_11ea_a959_acde48001122row14_col4\" class=\"data row14 col4\" >-5.1218</td>\n",
       "                        <td id=\"T_688f8de8_736c_11ea_a959_acde48001122row14_col5\" class=\"data row14 col5\" >4.9663</td>\n",
       "                        <td id=\"T_688f8de8_736c_11ea_a959_acde48001122row14_col6\" class=\"data row14 col6\" >False</td>\n",
       "            </tr>\n",
       "    </tbody></table>"
      ],
      "text/plain": [
       "<pandas.io.formats.style.Styler at 0x1c1afb0eb8>"
      ]
     },
     "execution_count": 25,
     "metadata": {},
     "output_type": "execute_result"
    }
   ],
   "source": [
    "df_tukey = pd.DataFrame(result._results_table.data[1:],\n",
    "                        columns=result._results_table.data[0])\n",
    "df_tukey.style.applymap(color_sig,subset=['p-adj'])"
   ]
  },
  {
   "cell_type": "code",
   "execution_count": null,
   "metadata": {},
   "outputs": [],
   "source": []
  },
  {
   "cell_type": "code",
   "execution_count": null,
   "metadata": {},
   "outputs": [],
   "source": []
  },
  {
   "cell_type": "code",
   "execution_count": null,
   "metadata": {},
   "outputs": [],
   "source": []
  },
  {
   "cell_type": "code",
   "execution_count": 91,
   "metadata": {
    "ExecuteTime": {
     "end_time": "2020-03-28T17:52:35.690114Z",
     "start_time": "2020-03-28T17:52:35.656540Z"
    }
   },
   "outputs": [
    {
     "data": {
      "text/html": [
       "<div>\n",
       "<style scoped>\n",
       "    .dataframe tbody tr th:only-of-type {\n",
       "        vertical-align: middle;\n",
       "    }\n",
       "\n",
       "    .dataframe tbody tr th {\n",
       "        vertical-align: top;\n",
       "    }\n",
       "\n",
       "    .dataframe thead th {\n",
       "        text-align: right;\n",
       "    }\n",
       "</style>\n",
       "<table border=\"1\" class=\"dataframe\">\n",
       "  <thead>\n",
       "    <tr style=\"text-align: right;\">\n",
       "      <th></th>\n",
       "      <th>df</th>\n",
       "      <th>sum_sq</th>\n",
       "      <th>mean_sq</th>\n",
       "      <th>F</th>\n",
       "      <th>PR(&gt;F)</th>\n",
       "    </tr>\n",
       "  </thead>\n",
       "  <tbody>\n",
       "    <tr>\n",
       "      <td>C(Discount)</td>\n",
       "      <td>10.0</td>\n",
       "      <td>21258.404</td>\n",
       "      <td>2125.840</td>\n",
       "      <td>6.012</td>\n",
       "      <td>0.0</td>\n",
       "    </tr>\n",
       "    <tr>\n",
       "      <td>Residual</td>\n",
       "      <td>2144.0</td>\n",
       "      <td>758141.233</td>\n",
       "      <td>353.611</td>\n",
       "      <td>NaN</td>\n",
       "      <td>NaN</td>\n",
       "    </tr>\n",
       "  </tbody>\n",
       "</table>\n",
       "</div>"
      ],
      "text/plain": [
       "                 df      sum_sq   mean_sq      F  PR(>F)\n",
       "C(Discount)    10.0   21258.404  2125.840  6.012     0.0\n",
       "Residual     2144.0  758141.233   353.611    NaN     NaN"
      ]
     },
     "execution_count": 91,
     "metadata": {},
     "output_type": "execute_result"
    }
   ],
   "source": [
    "formula = \"Quantity ~ C(Discount)\"#\"*UnitPrice\"\n",
    "lm = ols(formula,df).fit()\n",
    "\n",
    "table = sm.stats.anova_lm(lm)#typ=2)\n",
    "\n",
    "table.round(3)"
   ]
  },
  {
   "cell_type": "code",
   "execution_count": 74,
   "metadata": {
    "ExecuteTime": {
     "end_time": "2020-03-28T17:45:17.311896Z",
     "start_time": "2020-03-28T17:45:17.309908Z"
    }
   },
   "outputs": [],
   "source": [
    "# formula = \"Quantity ~ C(Discount) +UnitPrice + C(Discount):UnitPrice\"\n",
    "# lm = ols(formula,df).fit()\n",
    "\n",
    "# table = sm.stats.anova_lm(lm)#typ=2)\n",
    "\n",
    "# table.round(3)"
   ]
  },
  {
   "cell_type": "code",
   "execution_count": 15,
   "metadata": {
    "ExecuteTime": {
     "end_time": "2020-03-28T17:37:08.013750Z",
     "start_time": "2020-03-28T17:37:07.964748Z"
    }
   },
   "outputs": [
    {
     "data": {
      "text/html": [
       "<div>\n",
       "<style scoped>\n",
       "    .dataframe tbody tr th:only-of-type {\n",
       "        vertical-align: middle;\n",
       "    }\n",
       "\n",
       "    .dataframe tbody tr th {\n",
       "        vertical-align: top;\n",
       "    }\n",
       "\n",
       "    .dataframe thead th {\n",
       "        text-align: right;\n",
       "    }\n",
       "</style>\n",
       "<table border=\"1\" class=\"dataframe\">\n",
       "  <thead>\n",
       "    <tr style=\"text-align: right;\">\n",
       "      <th></th>\n",
       "      <th>df</th>\n",
       "      <th>sum_sq</th>\n",
       "      <th>mean_sq</th>\n",
       "      <th>F</th>\n",
       "      <th>PR(&gt;F)</th>\n",
       "    </tr>\n",
       "  </thead>\n",
       "  <tbody>\n",
       "    <tr>\n",
       "      <td>C(Discount)</td>\n",
       "      <td>10.0</td>\n",
       "      <td>21258.404</td>\n",
       "      <td>2125.840</td>\n",
       "      <td>6.005</td>\n",
       "      <td>0.000</td>\n",
       "    </tr>\n",
       "    <tr>\n",
       "      <td>UnitPrice</td>\n",
       "      <td>1.0</td>\n",
       "      <td>39.419</td>\n",
       "      <td>39.419</td>\n",
       "      <td>0.111</td>\n",
       "      <td>0.739</td>\n",
       "    </tr>\n",
       "    <tr>\n",
       "      <td>C(Discount):UnitPrice</td>\n",
       "      <td>10.0</td>\n",
       "      <td>2532.639</td>\n",
       "      <td>253.264</td>\n",
       "      <td>0.715</td>\n",
       "      <td>0.711</td>\n",
       "    </tr>\n",
       "    <tr>\n",
       "      <td>Residual</td>\n",
       "      <td>2136.0</td>\n",
       "      <td>756157.134</td>\n",
       "      <td>354.006</td>\n",
       "      <td>NaN</td>\n",
       "      <td>NaN</td>\n",
       "    </tr>\n",
       "  </tbody>\n",
       "</table>\n",
       "</div>"
      ],
      "text/plain": [
       "                           df      sum_sq   mean_sq      F  PR(>F)\n",
       "C(Discount)              10.0   21258.404  2125.840  6.005   0.000\n",
       "UnitPrice                 1.0      39.419    39.419  0.111   0.739\n",
       "C(Discount):UnitPrice    10.0    2532.639   253.264  0.715   0.711\n",
       "Residual               2136.0  756157.134   354.006    NaN     NaN"
      ]
     },
     "execution_count": 15,
     "metadata": {},
     "output_type": "execute_result"
    }
   ],
   "source": [
    "formula = \"Quantity ~ C(Discount)*UnitPrice\"\n",
    "lm = ols(formula,df).fit()\n",
    "\n",
    "table = sm.stats.anova_lm(lm)#typ=2)\n",
    "\n",
    "table.round(3)"
   ]
  },
  {
   "cell_type": "code",
   "execution_count": 16,
   "metadata": {
    "ExecuteTime": {
     "end_time": "2020-03-28T17:37:08.030634Z",
     "start_time": "2020-03-28T17:37:08.015801Z"
    }
   },
   "outputs": [
    {
     "name": "stdout",
     "output_type": "stream",
     "text": [
      "Overall model F(18, 2136) = 3.648, p=0.0000\n"
     ]
    },
    {
     "data": {
      "text/html": [
       "<div>\n",
       "<style scoped>\n",
       "    .dataframe tbody tr th:only-of-type {\n",
       "        vertical-align: middle;\n",
       "    }\n",
       "\n",
       "    .dataframe tbody tr th {\n",
       "        vertical-align: top;\n",
       "    }\n",
       "\n",
       "    .dataframe thead th {\n",
       "        text-align: right;\n",
       "    }\n",
       "</style>\n",
       "<table border=\"1\" class=\"dataframe\">\n",
       "  <thead>\n",
       "    <tr style=\"text-align: right;\">\n",
       "      <th></th>\n",
       "      <th>df</th>\n",
       "      <th>sum_sq</th>\n",
       "      <th>mean_sq</th>\n",
       "      <th>F</th>\n",
       "      <th>PR(&gt;F)</th>\n",
       "    </tr>\n",
       "  </thead>\n",
       "  <tbody>\n",
       "    <tr>\n",
       "      <td>C(Discount)</td>\n",
       "      <td>10.0</td>\n",
       "      <td>21258.404</td>\n",
       "      <td>2125.840</td>\n",
       "      <td>6.005</td>\n",
       "      <td>0.000</td>\n",
       "    </tr>\n",
       "    <tr>\n",
       "      <td>UnitPrice</td>\n",
       "      <td>1.0</td>\n",
       "      <td>39.419</td>\n",
       "      <td>39.419</td>\n",
       "      <td>0.111</td>\n",
       "      <td>0.739</td>\n",
       "    </tr>\n",
       "    <tr>\n",
       "      <td>C(Discount):UnitPrice</td>\n",
       "      <td>10.0</td>\n",
       "      <td>2532.639</td>\n",
       "      <td>253.264</td>\n",
       "      <td>0.715</td>\n",
       "      <td>0.711</td>\n",
       "    </tr>\n",
       "    <tr>\n",
       "      <td>Residual</td>\n",
       "      <td>2136.0</td>\n",
       "      <td>756157.134</td>\n",
       "      <td>354.006</td>\n",
       "      <td>NaN</td>\n",
       "      <td>NaN</td>\n",
       "    </tr>\n",
       "  </tbody>\n",
       "</table>\n",
       "</div>"
      ],
      "text/plain": [
       "                           df      sum_sq   mean_sq      F  PR(>F)\n",
       "C(Discount)              10.0   21258.404  2125.840  6.005   0.000\n",
       "UnitPrice                 1.0      39.419    39.419  0.111   0.739\n",
       "C(Discount):UnitPrice    10.0    2532.639   253.264  0.715   0.711\n",
       "Residual               2136.0  756157.134   354.006    NaN     NaN"
      ]
     },
     "metadata": {},
     "output_type": "display_data"
    }
   ],
   "source": [
    "print(f\"Overall model F({lm.df_model:.0f}, {lm.df_resid:.0f}) = {lm.fvalue:.3f}, p={lm.f_pvalue:.4f}\")\n",
    "display(table.round(3))"
   ]
  },
  {
   "cell_type": "code",
   "execution_count": 17,
   "metadata": {
    "ExecuteTime": {
     "end_time": "2020-03-28T17:37:08.034952Z",
     "start_time": "2020-03-28T17:37:08.032566Z"
    }
   },
   "outputs": [],
   "source": [
    "# lm.summary()"
   ]
  },
  {
   "cell_type": "markdown",
   "metadata": {},
   "source": [
    "## Discounts by Country"
   ]
  },
  {
   "cell_type": "code",
   "execution_count": 26,
   "metadata": {
    "ExecuteTime": {
     "end_time": "2020-03-31T16:26:52.652803Z",
     "start_time": "2020-03-31T16:26:52.649803Z"
    }
   },
   "outputs": [],
   "source": [
    "# Statsmodels\n",
    "import statsmodels.api as sm\n",
    "import statsmodels.formula.api as smf\n",
    "import statsmodels.stats.api as sms\n",
    "import scipy.stats as stats"
   ]
  },
  {
   "cell_type": "code",
   "execution_count": 27,
   "metadata": {
    "ExecuteTime": {
     "end_time": "2020-03-31T16:26:57.276200Z",
     "start_time": "2020-03-31T16:26:57.251968Z"
    }
   },
   "outputs": [
    {
     "data": {
      "text/html": [
       "<div>\n",
       "<style scoped>\n",
       "    .dataframe tbody tr th:only-of-type {\n",
       "        vertical-align: middle;\n",
       "    }\n",
       "\n",
       "    .dataframe tbody tr th {\n",
       "        vertical-align: top;\n",
       "    }\n",
       "\n",
       "    .dataframe thead th {\n",
       "        text-align: right;\n",
       "    }\n",
       "</style>\n",
       "<table border=\"1\" class=\"dataframe\">\n",
       "  <thead>\n",
       "    <tr style=\"text-align: right;\">\n",
       "      <th></th>\n",
       "      <th>Id</th>\n",
       "      <th>OrderId</th>\n",
       "      <th>ProductId</th>\n",
       "      <th>UnitPrice</th>\n",
       "      <th>Quantity</th>\n",
       "      <th>Discount</th>\n",
       "    </tr>\n",
       "  </thead>\n",
       "  <tbody>\n",
       "    <tr>\n",
       "      <td>0</td>\n",
       "      <td>10248/11</td>\n",
       "      <td>10248</td>\n",
       "      <td>11</td>\n",
       "      <td>14.00</td>\n",
       "      <td>12</td>\n",
       "      <td>0.00</td>\n",
       "    </tr>\n",
       "    <tr>\n",
       "      <td>1</td>\n",
       "      <td>10248/42</td>\n",
       "      <td>10248</td>\n",
       "      <td>42</td>\n",
       "      <td>9.80</td>\n",
       "      <td>10</td>\n",
       "      <td>0.00</td>\n",
       "    </tr>\n",
       "    <tr>\n",
       "      <td>2</td>\n",
       "      <td>10248/72</td>\n",
       "      <td>10248</td>\n",
       "      <td>72</td>\n",
       "      <td>34.80</td>\n",
       "      <td>5</td>\n",
       "      <td>0.00</td>\n",
       "    </tr>\n",
       "    <tr>\n",
       "      <td>3</td>\n",
       "      <td>10249/14</td>\n",
       "      <td>10249</td>\n",
       "      <td>14</td>\n",
       "      <td>18.60</td>\n",
       "      <td>9</td>\n",
       "      <td>0.00</td>\n",
       "    </tr>\n",
       "    <tr>\n",
       "      <td>4</td>\n",
       "      <td>10249/51</td>\n",
       "      <td>10249</td>\n",
       "      <td>51</td>\n",
       "      <td>42.40</td>\n",
       "      <td>40</td>\n",
       "      <td>0.00</td>\n",
       "    </tr>\n",
       "    <tr>\n",
       "      <td>...</td>\n",
       "      <td>...</td>\n",
       "      <td>...</td>\n",
       "      <td>...</td>\n",
       "      <td>...</td>\n",
       "      <td>...</td>\n",
       "      <td>...</td>\n",
       "    </tr>\n",
       "    <tr>\n",
       "      <td>2150</td>\n",
       "      <td>11077/64</td>\n",
       "      <td>11077</td>\n",
       "      <td>64</td>\n",
       "      <td>33.25</td>\n",
       "      <td>2</td>\n",
       "      <td>0.03</td>\n",
       "    </tr>\n",
       "    <tr>\n",
       "      <td>2151</td>\n",
       "      <td>11077/66</td>\n",
       "      <td>11077</td>\n",
       "      <td>66</td>\n",
       "      <td>17.00</td>\n",
       "      <td>1</td>\n",
       "      <td>0.00</td>\n",
       "    </tr>\n",
       "    <tr>\n",
       "      <td>2152</td>\n",
       "      <td>11077/73</td>\n",
       "      <td>11077</td>\n",
       "      <td>73</td>\n",
       "      <td>15.00</td>\n",
       "      <td>2</td>\n",
       "      <td>0.01</td>\n",
       "    </tr>\n",
       "    <tr>\n",
       "      <td>2153</td>\n",
       "      <td>11077/75</td>\n",
       "      <td>11077</td>\n",
       "      <td>75</td>\n",
       "      <td>7.75</td>\n",
       "      <td>4</td>\n",
       "      <td>0.00</td>\n",
       "    </tr>\n",
       "    <tr>\n",
       "      <td>2154</td>\n",
       "      <td>11077/77</td>\n",
       "      <td>11077</td>\n",
       "      <td>77</td>\n",
       "      <td>13.00</td>\n",
       "      <td>2</td>\n",
       "      <td>0.00</td>\n",
       "    </tr>\n",
       "  </tbody>\n",
       "</table>\n",
       "<p>2155 rows × 6 columns</p>\n",
       "</div>"
      ],
      "text/plain": [
       "            Id  OrderId  ProductId  UnitPrice  Quantity  Discount\n",
       "0     10248/11    10248         11      14.00        12      0.00\n",
       "1     10248/42    10248         42       9.80        10      0.00\n",
       "2     10248/72    10248         72      34.80         5      0.00\n",
       "3     10249/14    10249         14      18.60         9      0.00\n",
       "4     10249/51    10249         51      42.40        40      0.00\n",
       "...        ...      ...        ...        ...       ...       ...\n",
       "2150  11077/64    11077         64      33.25         2      0.03\n",
       "2151  11077/66    11077         66      17.00         1      0.00\n",
       "2152  11077/73    11077         73      15.00         2      0.01\n",
       "2153  11077/75    11077         75       7.75         4      0.00\n",
       "2154  11077/77    11077         77      13.00         2      0.00\n",
       "\n",
       "[2155 rows x 6 columns]"
      ]
     },
     "execution_count": 27,
     "metadata": {},
     "output_type": "execute_result"
    }
   ],
   "source": [
    "query = \"SELECT * FROM OrderDetail\"\n",
    "df_od = pd.DataFrame(cur.execute(query).fetchall(),\n",
    "                    columns =[x[0] for x in cur.description])\n",
    "df_od"
   ]
  },
  {
   "cell_type": "code",
   "execution_count": 28,
   "metadata": {
    "ExecuteTime": {
     "end_time": "2020-03-31T16:26:58.160590Z",
     "start_time": "2020-03-31T16:26:58.124165Z"
    }
   },
   "outputs": [
    {
     "data": {
      "text/html": [
       "<div>\n",
       "<style scoped>\n",
       "    .dataframe tbody tr th:only-of-type {\n",
       "        vertical-align: middle;\n",
       "    }\n",
       "\n",
       "    .dataframe tbody tr th {\n",
       "        vertical-align: top;\n",
       "    }\n",
       "\n",
       "    .dataframe thead th {\n",
       "        text-align: right;\n",
       "    }\n",
       "</style>\n",
       "<table border=\"1\" class=\"dataframe\">\n",
       "  <thead>\n",
       "    <tr style=\"text-align: right;\">\n",
       "      <th></th>\n",
       "      <th>OrderId</th>\n",
       "      <th>CustomerId</th>\n",
       "      <th>EmployeeId</th>\n",
       "      <th>OrderDate</th>\n",
       "      <th>RequiredDate</th>\n",
       "      <th>ShippedDate</th>\n",
       "      <th>ShipVia</th>\n",
       "      <th>Freight</th>\n",
       "      <th>ShipName</th>\n",
       "      <th>ShipAddress</th>\n",
       "      <th>ShipCity</th>\n",
       "      <th>ShipRegion</th>\n",
       "      <th>ShipPostalCode</th>\n",
       "      <th>ShipCountry</th>\n",
       "    </tr>\n",
       "  </thead>\n",
       "  <tbody>\n",
       "    <tr>\n",
       "      <td>0</td>\n",
       "      <td>10248</td>\n",
       "      <td>VINET</td>\n",
       "      <td>5</td>\n",
       "      <td>2012-07-04</td>\n",
       "      <td>2012-08-01</td>\n",
       "      <td>2012-07-16</td>\n",
       "      <td>3</td>\n",
       "      <td>32.38</td>\n",
       "      <td>Vins et alcools Chevalier</td>\n",
       "      <td>59 rue de l'Abbaye</td>\n",
       "      <td>Reims</td>\n",
       "      <td>Western Europe</td>\n",
       "      <td>51100</td>\n",
       "      <td>France</td>\n",
       "    </tr>\n",
       "    <tr>\n",
       "      <td>1</td>\n",
       "      <td>10249</td>\n",
       "      <td>TOMSP</td>\n",
       "      <td>6</td>\n",
       "      <td>2012-07-05</td>\n",
       "      <td>2012-08-16</td>\n",
       "      <td>2012-07-10</td>\n",
       "      <td>1</td>\n",
       "      <td>11.61</td>\n",
       "      <td>Toms Spezialitäten</td>\n",
       "      <td>Luisenstr. 48</td>\n",
       "      <td>Münster</td>\n",
       "      <td>Western Europe</td>\n",
       "      <td>44087</td>\n",
       "      <td>Germany</td>\n",
       "    </tr>\n",
       "    <tr>\n",
       "      <td>2</td>\n",
       "      <td>10250</td>\n",
       "      <td>HANAR</td>\n",
       "      <td>4</td>\n",
       "      <td>2012-07-08</td>\n",
       "      <td>2012-08-05</td>\n",
       "      <td>2012-07-12</td>\n",
       "      <td>2</td>\n",
       "      <td>65.83</td>\n",
       "      <td>Hanari Carnes</td>\n",
       "      <td>Rua do Paço, 67</td>\n",
       "      <td>Rio de Janeiro</td>\n",
       "      <td>South America</td>\n",
       "      <td>05454-876</td>\n",
       "      <td>Brazil</td>\n",
       "    </tr>\n",
       "    <tr>\n",
       "      <td>3</td>\n",
       "      <td>10251</td>\n",
       "      <td>VICTE</td>\n",
       "      <td>3</td>\n",
       "      <td>2012-07-08</td>\n",
       "      <td>2012-08-05</td>\n",
       "      <td>2012-07-15</td>\n",
       "      <td>1</td>\n",
       "      <td>41.34</td>\n",
       "      <td>Victuailles en stock</td>\n",
       "      <td>2, rue du Commerce</td>\n",
       "      <td>Lyon</td>\n",
       "      <td>Western Europe</td>\n",
       "      <td>69004</td>\n",
       "      <td>France</td>\n",
       "    </tr>\n",
       "    <tr>\n",
       "      <td>4</td>\n",
       "      <td>10252</td>\n",
       "      <td>SUPRD</td>\n",
       "      <td>4</td>\n",
       "      <td>2012-07-09</td>\n",
       "      <td>2012-08-06</td>\n",
       "      <td>2012-07-11</td>\n",
       "      <td>2</td>\n",
       "      <td>51.30</td>\n",
       "      <td>Suprêmes délices</td>\n",
       "      <td>Boulevard Tirou, 255</td>\n",
       "      <td>Charleroi</td>\n",
       "      <td>Western Europe</td>\n",
       "      <td>B-6000</td>\n",
       "      <td>Belgium</td>\n",
       "    </tr>\n",
       "    <tr>\n",
       "      <td>...</td>\n",
       "      <td>...</td>\n",
       "      <td>...</td>\n",
       "      <td>...</td>\n",
       "      <td>...</td>\n",
       "      <td>...</td>\n",
       "      <td>...</td>\n",
       "      <td>...</td>\n",
       "      <td>...</td>\n",
       "      <td>...</td>\n",
       "      <td>...</td>\n",
       "      <td>...</td>\n",
       "      <td>...</td>\n",
       "      <td>...</td>\n",
       "      <td>...</td>\n",
       "    </tr>\n",
       "    <tr>\n",
       "      <td>825</td>\n",
       "      <td>11073</td>\n",
       "      <td>PERIC</td>\n",
       "      <td>2</td>\n",
       "      <td>2014-05-05</td>\n",
       "      <td>2014-06-02</td>\n",
       "      <td>None</td>\n",
       "      <td>2</td>\n",
       "      <td>24.95</td>\n",
       "      <td>Pericles Comidas clásicas</td>\n",
       "      <td>Calle Dr. Jorge Cash 321</td>\n",
       "      <td>México D.F.</td>\n",
       "      <td>Central America</td>\n",
       "      <td>05033</td>\n",
       "      <td>Mexico</td>\n",
       "    </tr>\n",
       "    <tr>\n",
       "      <td>826</td>\n",
       "      <td>11074</td>\n",
       "      <td>SIMOB</td>\n",
       "      <td>7</td>\n",
       "      <td>2014-05-06</td>\n",
       "      <td>2014-06-03</td>\n",
       "      <td>None</td>\n",
       "      <td>2</td>\n",
       "      <td>18.44</td>\n",
       "      <td>Simons bistro</td>\n",
       "      <td>Vinbæltet 34</td>\n",
       "      <td>Kobenhavn</td>\n",
       "      <td>Northern Europe</td>\n",
       "      <td>1734</td>\n",
       "      <td>Denmark</td>\n",
       "    </tr>\n",
       "    <tr>\n",
       "      <td>827</td>\n",
       "      <td>11075</td>\n",
       "      <td>RICSU</td>\n",
       "      <td>8</td>\n",
       "      <td>2014-05-06</td>\n",
       "      <td>2014-06-03</td>\n",
       "      <td>None</td>\n",
       "      <td>2</td>\n",
       "      <td>6.19</td>\n",
       "      <td>Richter Supermarkt</td>\n",
       "      <td>Starenweg 5</td>\n",
       "      <td>Genève</td>\n",
       "      <td>Western Europe</td>\n",
       "      <td>1204</td>\n",
       "      <td>Switzerland</td>\n",
       "    </tr>\n",
       "    <tr>\n",
       "      <td>828</td>\n",
       "      <td>11076</td>\n",
       "      <td>BONAP</td>\n",
       "      <td>4</td>\n",
       "      <td>2014-05-06</td>\n",
       "      <td>2014-06-03</td>\n",
       "      <td>None</td>\n",
       "      <td>2</td>\n",
       "      <td>38.28</td>\n",
       "      <td>Bon app'</td>\n",
       "      <td>12, rue des Bouchers</td>\n",
       "      <td>Marseille</td>\n",
       "      <td>Western Europe</td>\n",
       "      <td>13008</td>\n",
       "      <td>France</td>\n",
       "    </tr>\n",
       "    <tr>\n",
       "      <td>829</td>\n",
       "      <td>11077</td>\n",
       "      <td>RATTC</td>\n",
       "      <td>1</td>\n",
       "      <td>2014-05-06</td>\n",
       "      <td>2014-06-03</td>\n",
       "      <td>None</td>\n",
       "      <td>2</td>\n",
       "      <td>8.53</td>\n",
       "      <td>Rattlesnake Canyon Grocery</td>\n",
       "      <td>2817 Milton Dr.</td>\n",
       "      <td>Albuquerque</td>\n",
       "      <td>North America</td>\n",
       "      <td>87110</td>\n",
       "      <td>USA</td>\n",
       "    </tr>\n",
       "  </tbody>\n",
       "</table>\n",
       "<p>830 rows × 14 columns</p>\n",
       "</div>"
      ],
      "text/plain": [
       "     OrderId CustomerId  EmployeeId   OrderDate RequiredDate ShippedDate  \\\n",
       "0      10248      VINET           5  2012-07-04   2012-08-01  2012-07-16   \n",
       "1      10249      TOMSP           6  2012-07-05   2012-08-16  2012-07-10   \n",
       "2      10250      HANAR           4  2012-07-08   2012-08-05  2012-07-12   \n",
       "3      10251      VICTE           3  2012-07-08   2012-08-05  2012-07-15   \n",
       "4      10252      SUPRD           4  2012-07-09   2012-08-06  2012-07-11   \n",
       "..       ...        ...         ...         ...          ...         ...   \n",
       "825    11073      PERIC           2  2014-05-05   2014-06-02        None   \n",
       "826    11074      SIMOB           7  2014-05-06   2014-06-03        None   \n",
       "827    11075      RICSU           8  2014-05-06   2014-06-03        None   \n",
       "828    11076      BONAP           4  2014-05-06   2014-06-03        None   \n",
       "829    11077      RATTC           1  2014-05-06   2014-06-03        None   \n",
       "\n",
       "     ShipVia  Freight                    ShipName               ShipAddress  \\\n",
       "0          3    32.38   Vins et alcools Chevalier        59 rue de l'Abbaye   \n",
       "1          1    11.61          Toms Spezialitäten             Luisenstr. 48   \n",
       "2          2    65.83               Hanari Carnes           Rua do Paço, 67   \n",
       "3          1    41.34        Victuailles en stock        2, rue du Commerce   \n",
       "4          2    51.30            Suprêmes délices      Boulevard Tirou, 255   \n",
       "..       ...      ...                         ...                       ...   \n",
       "825        2    24.95   Pericles Comidas clásicas  Calle Dr. Jorge Cash 321   \n",
       "826        2    18.44               Simons bistro              Vinbæltet 34   \n",
       "827        2     6.19          Richter Supermarkt               Starenweg 5   \n",
       "828        2    38.28                    Bon app'      12, rue des Bouchers   \n",
       "829        2     8.53  Rattlesnake Canyon Grocery           2817 Milton Dr.   \n",
       "\n",
       "           ShipCity       ShipRegion ShipPostalCode  ShipCountry  \n",
       "0             Reims   Western Europe          51100       France  \n",
       "1           Münster   Western Europe          44087      Germany  \n",
       "2    Rio de Janeiro    South America      05454-876       Brazil  \n",
       "3              Lyon   Western Europe          69004       France  \n",
       "4         Charleroi   Western Europe         B-6000      Belgium  \n",
       "..              ...              ...            ...          ...  \n",
       "825     México D.F.  Central America          05033       Mexico  \n",
       "826       Kobenhavn  Northern Europe           1734      Denmark  \n",
       "827          Genève   Western Europe           1204  Switzerland  \n",
       "828       Marseille   Western Europe          13008       France  \n",
       "829     Albuquerque    North America          87110          USA  \n",
       "\n",
       "[830 rows x 14 columns]"
      ]
     },
     "execution_count": 28,
     "metadata": {},
     "output_type": "execute_result"
    }
   ],
   "source": [
    "query = \"SELECT * FROM 'Order'\"\n",
    "df_o = pd.DataFrame(cur.execute(query).fetchall(),\n",
    "                    columns =[x[0] for x in cur.description])\n",
    "df_o.rename({'Id':'OrderId'},axis=1,inplace=True)\n",
    "df_o"
   ]
  },
  {
   "cell_type": "code",
   "execution_count": 29,
   "metadata": {
    "ExecuteTime": {
     "end_time": "2020-03-31T16:27:25.797964Z",
     "start_time": "2020-03-31T16:27:25.766054Z"
    }
   },
   "outputs": [
    {
     "data": {
      "text/html": [
       "<div>\n",
       "<style scoped>\n",
       "    .dataframe tbody tr th:only-of-type {\n",
       "        vertical-align: middle;\n",
       "    }\n",
       "\n",
       "    .dataframe tbody tr th {\n",
       "        vertical-align: top;\n",
       "    }\n",
       "\n",
       "    .dataframe thead th {\n",
       "        text-align: right;\n",
       "    }\n",
       "</style>\n",
       "<table border=\"1\" class=\"dataframe\">\n",
       "  <thead>\n",
       "    <tr style=\"text-align: right;\">\n",
       "      <th></th>\n",
       "      <th>Id</th>\n",
       "      <th>OrderId</th>\n",
       "      <th>ProductId</th>\n",
       "      <th>UnitPrice</th>\n",
       "      <th>Quantity</th>\n",
       "      <th>Discount</th>\n",
       "      <th>CustomerId</th>\n",
       "      <th>EmployeeId</th>\n",
       "      <th>OrderDate</th>\n",
       "      <th>RequiredDate</th>\n",
       "      <th>ShippedDate</th>\n",
       "      <th>ShipVia</th>\n",
       "      <th>Freight</th>\n",
       "      <th>ShipName</th>\n",
       "      <th>ShipAddress</th>\n",
       "      <th>ShipCity</th>\n",
       "      <th>ShipRegion</th>\n",
       "      <th>ShipPostalCode</th>\n",
       "      <th>ShipCountry</th>\n",
       "    </tr>\n",
       "  </thead>\n",
       "  <tbody>\n",
       "    <tr>\n",
       "      <td>0</td>\n",
       "      <td>10248/11</td>\n",
       "      <td>10248</td>\n",
       "      <td>11</td>\n",
       "      <td>14.0</td>\n",
       "      <td>12</td>\n",
       "      <td>0.0</td>\n",
       "      <td>VINET</td>\n",
       "      <td>5</td>\n",
       "      <td>2012-07-04</td>\n",
       "      <td>2012-08-01</td>\n",
       "      <td>2012-07-16</td>\n",
       "      <td>3</td>\n",
       "      <td>32.38</td>\n",
       "      <td>Vins et alcools Chevalier</td>\n",
       "      <td>59 rue de l'Abbaye</td>\n",
       "      <td>Reims</td>\n",
       "      <td>Western Europe</td>\n",
       "      <td>51100</td>\n",
       "      <td>France</td>\n",
       "    </tr>\n",
       "    <tr>\n",
       "      <td>1</td>\n",
       "      <td>10248/42</td>\n",
       "      <td>10248</td>\n",
       "      <td>42</td>\n",
       "      <td>9.8</td>\n",
       "      <td>10</td>\n",
       "      <td>0.0</td>\n",
       "      <td>VINET</td>\n",
       "      <td>5</td>\n",
       "      <td>2012-07-04</td>\n",
       "      <td>2012-08-01</td>\n",
       "      <td>2012-07-16</td>\n",
       "      <td>3</td>\n",
       "      <td>32.38</td>\n",
       "      <td>Vins et alcools Chevalier</td>\n",
       "      <td>59 rue de l'Abbaye</td>\n",
       "      <td>Reims</td>\n",
       "      <td>Western Europe</td>\n",
       "      <td>51100</td>\n",
       "      <td>France</td>\n",
       "    </tr>\n",
       "    <tr>\n",
       "      <td>2</td>\n",
       "      <td>10248/72</td>\n",
       "      <td>10248</td>\n",
       "      <td>72</td>\n",
       "      <td>34.8</td>\n",
       "      <td>5</td>\n",
       "      <td>0.0</td>\n",
       "      <td>VINET</td>\n",
       "      <td>5</td>\n",
       "      <td>2012-07-04</td>\n",
       "      <td>2012-08-01</td>\n",
       "      <td>2012-07-16</td>\n",
       "      <td>3</td>\n",
       "      <td>32.38</td>\n",
       "      <td>Vins et alcools Chevalier</td>\n",
       "      <td>59 rue de l'Abbaye</td>\n",
       "      <td>Reims</td>\n",
       "      <td>Western Europe</td>\n",
       "      <td>51100</td>\n",
       "      <td>France</td>\n",
       "    </tr>\n",
       "    <tr>\n",
       "      <td>3</td>\n",
       "      <td>10249/14</td>\n",
       "      <td>10249</td>\n",
       "      <td>14</td>\n",
       "      <td>18.6</td>\n",
       "      <td>9</td>\n",
       "      <td>0.0</td>\n",
       "      <td>TOMSP</td>\n",
       "      <td>6</td>\n",
       "      <td>2012-07-05</td>\n",
       "      <td>2012-08-16</td>\n",
       "      <td>2012-07-10</td>\n",
       "      <td>1</td>\n",
       "      <td>11.61</td>\n",
       "      <td>Toms Spezialitäten</td>\n",
       "      <td>Luisenstr. 48</td>\n",
       "      <td>Münster</td>\n",
       "      <td>Western Europe</td>\n",
       "      <td>44087</td>\n",
       "      <td>Germany</td>\n",
       "    </tr>\n",
       "    <tr>\n",
       "      <td>4</td>\n",
       "      <td>10249/51</td>\n",
       "      <td>10249</td>\n",
       "      <td>51</td>\n",
       "      <td>42.4</td>\n",
       "      <td>40</td>\n",
       "      <td>0.0</td>\n",
       "      <td>TOMSP</td>\n",
       "      <td>6</td>\n",
       "      <td>2012-07-05</td>\n",
       "      <td>2012-08-16</td>\n",
       "      <td>2012-07-10</td>\n",
       "      <td>1</td>\n",
       "      <td>11.61</td>\n",
       "      <td>Toms Spezialitäten</td>\n",
       "      <td>Luisenstr. 48</td>\n",
       "      <td>Münster</td>\n",
       "      <td>Western Europe</td>\n",
       "      <td>44087</td>\n",
       "      <td>Germany</td>\n",
       "    </tr>\n",
       "  </tbody>\n",
       "</table>\n",
       "</div>"
      ],
      "text/plain": [
       "         Id  OrderId  ProductId  UnitPrice  Quantity  Discount CustomerId  \\\n",
       "0  10248/11    10248         11       14.0        12       0.0      VINET   \n",
       "1  10248/42    10248         42        9.8        10       0.0      VINET   \n",
       "2  10248/72    10248         72       34.8         5       0.0      VINET   \n",
       "3  10249/14    10249         14       18.6         9       0.0      TOMSP   \n",
       "4  10249/51    10249         51       42.4        40       0.0      TOMSP   \n",
       "\n",
       "   EmployeeId   OrderDate RequiredDate ShippedDate  ShipVia  Freight  \\\n",
       "0           5  2012-07-04   2012-08-01  2012-07-16        3    32.38   \n",
       "1           5  2012-07-04   2012-08-01  2012-07-16        3    32.38   \n",
       "2           5  2012-07-04   2012-08-01  2012-07-16        3    32.38   \n",
       "3           6  2012-07-05   2012-08-16  2012-07-10        1    11.61   \n",
       "4           6  2012-07-05   2012-08-16  2012-07-10        1    11.61   \n",
       "\n",
       "                    ShipName         ShipAddress ShipCity      ShipRegion  \\\n",
       "0  Vins et alcools Chevalier  59 rue de l'Abbaye    Reims  Western Europe   \n",
       "1  Vins et alcools Chevalier  59 rue de l'Abbaye    Reims  Western Europe   \n",
       "2  Vins et alcools Chevalier  59 rue de l'Abbaye    Reims  Western Europe   \n",
       "3         Toms Spezialitäten       Luisenstr. 48  Münster  Western Europe   \n",
       "4         Toms Spezialitäten       Luisenstr. 48  Münster  Western Europe   \n",
       "\n",
       "  ShipPostalCode ShipCountry  \n",
       "0          51100      France  \n",
       "1          51100      France  \n",
       "2          51100      France  \n",
       "3          44087     Germany  \n",
       "4          44087     Germany  "
      ]
     },
     "execution_count": 29,
     "metadata": {},
     "output_type": "execute_result"
    }
   ],
   "source": [
    "df = pd.merge(df_od,df_o,on='OrderId')\n",
    "df.head()"
   ]
  },
  {
   "cell_type": "code",
   "execution_count": 31,
   "metadata": {
    "ExecuteTime": {
     "end_time": "2020-03-31T16:27:28.643498Z",
     "start_time": "2020-03-31T16:27:28.641162Z"
    }
   },
   "outputs": [],
   "source": [
    "# df.groupby('')"
   ]
  },
  {
   "cell_type": "code",
   "execution_count": null,
   "metadata": {
    "ExecuteTime": {
     "end_time": "2020-03-28T17:37:08.440247Z",
     "start_time": "2020-03-28T17:37:01.961Z"
    }
   },
   "outputs": [],
   "source": [
    "df.isna().sum()"
   ]
  },
  {
   "cell_type": "code",
   "execution_count": 34,
   "metadata": {
    "ExecuteTime": {
     "end_time": "2020-03-31T16:28:35.795229Z",
     "start_time": "2020-03-31T16:28:35.792733Z"
    }
   },
   "outputs": [],
   "source": [
    "formula = \"Quantity~ C(Discount)+C(ShipRegion) +  C(Discount):C(ShipRegion)\"\n"
   ]
  },
  {
   "cell_type": "code",
   "execution_count": 33,
   "metadata": {
    "ExecuteTime": {
     "end_time": "2020-03-31T16:28:18.754367Z",
     "start_time": "2020-03-31T16:28:16.955972Z"
    }
   },
   "outputs": [
    {
     "name": "stderr",
     "output_type": "stream",
     "text": [
      "/anaconda3/envs/learn-env/lib/python3.6/site-packages/statsmodels/base/model.py:1752: ValueWarning:\n",
      "\n",
      "covariance of constraints does not have full rank. The number of constraints is 10, but rank is 5\n",
      "\n",
      "/anaconda3/envs/learn-env/lib/python3.6/site-packages/statsmodels/base/model.py:1752: ValueWarning:\n",
      "\n",
      "covariance of constraints does not have full rank. The number of constraints is 8, but rank is 5\n",
      "\n",
      "/anaconda3/envs/learn-env/lib/python3.6/site-packages/statsmodels/base/model.py:1752: ValueWarning:\n",
      "\n",
      "covariance of constraints does not have full rank. The number of constraints is 80, but rank is 36\n",
      "\n"
     ]
    },
    {
     "data": {
      "text/html": [
       "<div>\n",
       "<style scoped>\n",
       "    .dataframe tbody tr th:only-of-type {\n",
       "        vertical-align: middle;\n",
       "    }\n",
       "\n",
       "    .dataframe tbody tr th {\n",
       "        vertical-align: top;\n",
       "    }\n",
       "\n",
       "    .dataframe thead th {\n",
       "        text-align: right;\n",
       "    }\n",
       "</style>\n",
       "<table border=\"1\" class=\"dataframe\">\n",
       "  <thead>\n",
       "    <tr style=\"text-align: right;\">\n",
       "      <th></th>\n",
       "      <th>sum_sq</th>\n",
       "      <th>df</th>\n",
       "      <th>F</th>\n",
       "      <th>PR(&gt;F)</th>\n",
       "    </tr>\n",
       "  </thead>\n",
       "  <tbody>\n",
       "    <tr>\n",
       "      <td>C(Discount)</td>\n",
       "      <td>-66833.982</td>\n",
       "      <td>10.0</td>\n",
       "      <td>-19.927</td>\n",
       "      <td>1.000</td>\n",
       "    </tr>\n",
       "    <tr>\n",
       "      <td>C(ShipRegion)</td>\n",
       "      <td>34234.563</td>\n",
       "      <td>8.0</td>\n",
       "      <td>12.759</td>\n",
       "      <td>0.000</td>\n",
       "    </tr>\n",
       "    <tr>\n",
       "      <td>C(Discount):C(ShipRegion)</td>\n",
       "      <td>46707.155</td>\n",
       "      <td>80.0</td>\n",
       "      <td>1.741</td>\n",
       "      <td>0.004</td>\n",
       "    </tr>\n",
       "    <tr>\n",
       "      <td>Residual</td>\n",
       "      <td>706005.862</td>\n",
       "      <td>2105.0</td>\n",
       "      <td>NaN</td>\n",
       "      <td>NaN</td>\n",
       "    </tr>\n",
       "  </tbody>\n",
       "</table>\n",
       "</div>"
      ],
      "text/plain": [
       "                               sum_sq      df       F  PR(>F)\n",
       "C(Discount)                -66833.982    10.0 -19.927   1.000\n",
       "C(ShipRegion)               34234.563     8.0  12.759   0.000\n",
       "C(Discount):C(ShipRegion)   46707.155    80.0   1.741   0.004\n",
       "Residual                   706005.862  2105.0     NaN     NaN"
      ]
     },
     "execution_count": 33,
     "metadata": {},
     "output_type": "execute_result"
    }
   ],
   "source": [
    "formula = \"Quantity~ C(Discount)*C(ShipRegion)\"\n",
    "model = ols(formula,df).fit()\n",
    "table = sm.stats.anova_lm(model,typ=2)\n",
    "table.round(3)"
   ]
  },
  {
   "cell_type": "code",
   "execution_count": null,
   "metadata": {
    "ExecuteTime": {
     "end_time": "2020-03-28T17:37:08.442113Z",
     "start_time": "2020-03-28T17:37:01.965Z"
    }
   },
   "outputs": [],
   "source": [
    "from statsmodels.stats.multicomp import pairwise_tukeyhsd\n",
    "from statsmodels.stats.multicomp import MultiComparison\n"
   ]
  },
  {
   "cell_type": "code",
   "execution_count": null,
   "metadata": {
    "ExecuteTime": {
     "end_time": "2020-03-28T17:37:08.443071Z",
     "start_time": "2020-03-28T17:37:01.967Z"
    }
   },
   "outputs": [],
   "source": [
    "mc = MultiComparison(df['Score'], data['Archer'])\n",
    "result = mc.tukeyhsd()"
   ]
  },
  {
   "cell_type": "code",
   "execution_count": null,
   "metadata": {
    "ExecuteTime": {
     "end_time": "2020-03-28T17:37:08.443847Z",
     "start_time": "2020-03-28T17:37:01.969Z"
    }
   },
   "outputs": [],
   "source": [
    "capt = f\"Overall model F({model.df_model:.0f}, {model.df_resid:.0f}) = {model.fvalue:.3f}, p={model.f_pvalue:.4f}\"\n",
    "sm.stats.anova_lm(model).round(3).style.set_caption(capt)"
   ]
  },
  {
   "cell_type": "code",
   "execution_count": null,
   "metadata": {},
   "outputs": [],
   "source": []
  }
 ],
 "metadata": {
  "kernelspec": {
   "display_name": "Python 3.6.9 64-bit ('learn-env': conda)",
   "language": "python",
   "name": "python36964bitlearnenvconda5e778df2e0df4e31951cf19db85f0750"
  },
  "language_info": {
   "codemirror_mode": {
    "name": "ipython",
    "version": 3
   },
   "file_extension": ".py",
   "mimetype": "text/x-python",
   "name": "python",
   "nbconvert_exporter": "python",
   "pygments_lexer": "ipython3",
   "version": "3.6.9"
  },
  "toc": {
   "base_numbering": 1,
   "nav_menu": {},
   "number_sections": false,
   "sideBar": true,
   "skip_h1_title": false,
   "title_cell": "Table of Contents",
   "title_sidebar": "Contents",
   "toc_cell": false,
   "toc_position": {
    "height": "calc(100% - 180px)",
    "left": "10px",
    "top": "150px",
    "width": "165px"
   },
   "toc_section_display": true,
   "toc_window_display": true
  },
  "varInspector": {
   "cols": {
    "lenName": 16,
    "lenType": 16,
    "lenVar": 40
   },
   "kernels_config": {
    "python": {
     "delete_cmd_postfix": "",
     "delete_cmd_prefix": "del ",
     "library": "var_list.py",
     "varRefreshCmd": "print(var_dic_list())"
    },
    "r": {
     "delete_cmd_postfix": ") ",
     "delete_cmd_prefix": "rm(",
     "library": "var_list.r",
     "varRefreshCmd": "cat(var_dic_list()) "
    }
   },
   "types_to_exclude": [
    "module",
    "function",
    "builtin_function_or_method",
    "instance",
    "_Feature"
   ],
   "window_display": false
  }
 },
 "nbformat": 4,
 "nbformat_minor": 2
}
