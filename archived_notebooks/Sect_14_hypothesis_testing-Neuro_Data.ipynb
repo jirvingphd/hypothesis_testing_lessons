{
 "cells": [
  {
   "cell_type": "markdown",
   "metadata": {
    "colab_type": "text",
    "id": "vTGgxPxAJbpa"
   },
   "source": [
    "# Sect 14: Hypothesis Testing\n",
    "- online-dtsc-ft-030220 study group\n",
    "- 04/07/20\n"
   ]
  },
  {
   "cell_type": "markdown",
   "metadata": {
    "colab_type": "text",
    "id": "FhPot0rrLiDK"
   },
   "source": [
    "# Learning Objectives\n",
    "\n",
    "- **Describe the steps of the Scientific Method**\n",
    "    - Describe $H_0$ vs $H_1$\n",
    "    - Describe $\\alpha$ threshold and $p$ values.\n",
    "    - Describe Type I vs Type II errors\n",
    "\n",
    "\n",
    "- **Use my neuroscience research poster as an example of experimental design.**\n",
    "    - Control vs Experimental Groups\n",
    "    - Touch on T-Tests vs ANOVAs \n",
    "    - Touch on One-Way ANOVA vs One-Way Repeated Measures ANOVA\n",
    "    - Develop an appreciation for *not* having to collect the data ourselves. \n",
    "\n",
    "- **Discuss T-Tests and their Assumptions**\n",
    "\n",
    "- **Introduce additional stat tests from next sections.**"
   ]
  },
  {
   "cell_type": "markdown",
   "metadata": {
    "colab_type": "text",
    "id": "2YJwM0KKJr_G"
   },
   "source": [
    "## Resources\n",
    "- [Google Drive Folder for Section 20](https://drive.google.com/drive/folders/1a9AEWgeaU4fthzHGaN5Y8fQ-AuIgye6z?usp=sharing)\n",
    "    - [CodeAcademy Slides](https://drive.google.com/file/d/1aSoAyGifa6elhs5lQDeSkfOow5lDVfzW/view?usp=sharing)\n",
    "    - [James' Neuroscience Research Poster](https://drive.google.com/open?id=14z2dUdPB_8ei3HA7R1j3ylwEP0kVZhJq)\n"
   ]
  },
  {
   "cell_type": "markdown",
   "metadata": {
    "colab_type": "text",
    "id": "F-ZkZNJQyUJg"
   },
   "source": [
    "## Questions/Topics:\n",
    "- \n",
    "\n",
    "\n",
    "\n",
    "## Next Class/Maybe This Class:\n",
    "- Analyzing my neuroscience data with T-tests.\n",
    "- When to pick which statistical tests to run.\n"
   ]
  },
  {
   "cell_type": "markdown",
   "metadata": {},
   "source": [
    "# The Scientific Method"
   ]
  },
  {
   "cell_type": "markdown",
   "metadata": {},
   "source": [
    "<img src=\"https://raw.githubusercontent.com/jirvingphd/dsc-experimental-design-onl01-dtsc-ft-030220/master/images/new_the-scientific-method.png\">"
   ]
  },
  {
   "cell_type": "markdown",
   "metadata": {},
   "source": [
    "## Foundations of a Sound Experiment"
   ]
  },
  {
   "cell_type": "markdown",
   "metadata": {},
   "source": [
    "- **Control Group/Random Controlled Trials**\n",
    "\n",
    "- **If humans are administering the experiment and/or grading/recording observations** about the groups, we should ideally use a **double blind** design (though single blind is better than nothing).\n",
    "\n",
    "<img src=\"https://raw.githubusercontent.com/jirvingphd/dsc-experimental-design-online-ds-pt-100719/master/images/new_double_blind.png\" width=60%>"
   ]
  },
  {
   "cell_type": "markdown",
   "metadata": {},
   "source": [
    "- **Sampling Techniques:**\n",
    "    - Sampling is independent\n",
    "    - Sample is collected randomly\n",
    "    - Sample is approximately normally distributed\n",
    "    - Appropriate sample size\n",
    "    \n",
    "- **Reproducibility**"
   ]
  },
  {
   "cell_type": "markdown",
   "metadata": {},
   "source": [
    "# P-Values & Null Hypotheses"
   ]
  },
  {
   "cell_type": "markdown",
   "metadata": {
    "ExecuteTime": {
     "end_time": "2020-01-21T22:27:02.794260Z",
     "start_time": "2020-01-21T22:27:02.789275Z"
    }
   },
   "source": [
    "**_Null Hypothesis_**: There is no relationship between A and B   \n",
    "Example: \"There is no relationship between this flu medication and a reduced recovery time from the flu\".\n",
    "\n",
    "The _Null Hypothesis_ is usually denoted as $H_{0}$\n",
    "\n",
    "**_Alternative Hypothesis_**: The hypothesis traditionally thought of when creating a hypothesis for an experiment  \n",
    "Example: \"This flu medication reduces recovery time for the flu.\"\n",
    "\n",
    "The _Alternative Hypothesis_ is usually denoted as $H_{1}$"
   ]
  },
  {
   "cell_type": "markdown",
   "metadata": {},
   "source": [
    "\n",
    "> **Alpha ($\\alpha$):** is the probability of a Type I error i.e. finding a difference when a difference does not exist. \n",
    "\n",
    "> Most medical literature uses an alpha cut-off of 5% (0.05), indicating a 5% chance that a significant difference is actually due to chance and is not a true difference. \n",
    "\n",
    "> **Beta ($\\beta$):** is the probability of a Type II error i.e. not detecting a difference when one actually exists. \n",
    "\n",
    "> Beta is directly related to study power (Power = $1 - \\beta$) which you will investigate further in the next lesson. Most medical literature uses a beta cut-off of 20% (0.2), indicating a 20% chance that a significant difference is missed. "
   ]
  },
  {
   "cell_type": "markdown",
   "metadata": {},
   "source": [
    "$\\alpha$ **_(alpha)_**: The marginal threshold at which you're okay with rejecting the null hypothesis. \n"
   ]
  },
  {
   "cell_type": "markdown",
   "metadata": {
    "ExecuteTime": {
     "end_time": "2020-01-21T22:28:07.486666Z",
     "start_time": "2020-01-21T22:28:07.482601Z"
    }
   },
   "source": [
    "> If you set an alpha value of $\\alpha = 0.05$, you're essentially saying \"I'm okay with accepting my alternative hypothesis as true if there is less than a 5% chance that the results that I'm seeing are actually due to randomness.\"\n",
    "\n",
    "In simple terms:\n",
    "\n",
    "$p < \\alpha$: Reject the _Null Hypothesis_ and accept the _Alternative Hypothesis_\n",
    "\n",
    "$p >= \\alpha$: Fail to reject the _Null Hypothesis_.  "
   ]
  },
  {
   "cell_type": "markdown",
   "metadata": {},
   "source": [
    "**_p-value_**: The probability of observing a test statistic at least as large as the one observed, by random chance, assuming that the null hypothesis is true.\n",
    "\n",
    "If you calculate a p-value and it comes out to 0.03, you can interpret this as saying \"There is a 3% chance of obtaining the results I'm seeing when the null hypothesis is true.\"  \n"
   ]
  },
  {
   "cell_type": "markdown",
   "metadata": {},
   "source": [
    "\n",
    "**_Example One-Tail Hypothesis_**\n",
    "\n",
    "$H_{1} : \\mu_1 < \\mu_2 $ The treatment group given this weight loss drug will lose more weight on average than the control group that was given a competitor's weight loss drug \n",
    "\n",
    "$ H_{0} : \\mu1 >= \\mu_2$  The treatment group given this weight loss drug will not lose more weight on average than the control group that was given a competitor's weight loss drug\". \n",
    "\n",
    "A **_Two-Tail Test_** is for when you want to test if a parameter falls between (or outside of) a range of two given values. \n",
    "\n",
    "**_Example Two-Tail Hypothesis_**\n",
    "\n",
    "$H_{1} : \\mu_1 \\neq \\mu_2$ \"People in the experimental group that are administered this drug will not lose the same amount of weight as the people in the control group.  They will be heavier or lighter\". \n",
    "\n",
    "$H_{0} : \\mu_1 = \\mu_2$ \"People in the experimental group that are administered this drug will lose the same amount of weight as the people in the control group.\" \n"
   ]
  },
  {
   "cell_type": "markdown",
   "metadata": {
    "ExecuteTime": {
     "end_time": "2020-04-07T23:54:34.782256Z",
     "start_time": "2020-04-07T23:54:34.779818Z"
    }
   },
   "source": [
    "# Revisiting the Normal Distribution"
   ]
  },
  {
   "cell_type": "code",
   "execution_count": 1,
   "metadata": {
    "ExecuteTime": {
     "end_time": "2020-04-08T15:08:18.118010Z",
     "start_time": "2020-04-08T15:08:11.482089Z"
    }
   },
   "outputs": [
    {
     "name": "stdout",
     "output_type": "stream",
     "text": [
      "fsds_1007219  v0.7.20 loaded.  Read the docs: https://fsds.readthedocs.io/en/latest/ \n"
     ]
    },
    {
     "data": {
      "text/html": [
       "<style  type=\"text/css\" >\n",
       "</style><table id=\"T_c6ab43b4_79aa_11ea_88a9_acde48001122\" ><caption>Loaded Packages and Handles</caption><thead>    <tr>        <th class=\"col_heading level0 col0\" >Handle</th>        <th class=\"col_heading level0 col1\" >Package</th>        <th class=\"col_heading level0 col2\" >Description</th>    </tr></thead><tbody>\n",
       "                <tr>\n",
       "                                <td id=\"T_c6ab43b4_79aa_11ea_88a9_acde48001122row0_col0\" class=\"data row0 col0\" >dp</td>\n",
       "                        <td id=\"T_c6ab43b4_79aa_11ea_88a9_acde48001122row0_col1\" class=\"data row0 col1\" >IPython.display</td>\n",
       "                        <td id=\"T_c6ab43b4_79aa_11ea_88a9_acde48001122row0_col2\" class=\"data row0 col2\" >Display modules with helpful display and clearing commands.</td>\n",
       "            </tr>\n",
       "            <tr>\n",
       "                                <td id=\"T_c6ab43b4_79aa_11ea_88a9_acde48001122row1_col0\" class=\"data row1 col0\" >fs</td>\n",
       "                        <td id=\"T_c6ab43b4_79aa_11ea_88a9_acde48001122row1_col1\" class=\"data row1 col1\" >fsds_100719</td>\n",
       "                        <td id=\"T_c6ab43b4_79aa_11ea_88a9_acde48001122row1_col2\" class=\"data row1 col2\" >Custom data science bootcamp student package</td>\n",
       "            </tr>\n",
       "            <tr>\n",
       "                                <td id=\"T_c6ab43b4_79aa_11ea_88a9_acde48001122row2_col0\" class=\"data row2 col0\" >mpl</td>\n",
       "                        <td id=\"T_c6ab43b4_79aa_11ea_88a9_acde48001122row2_col1\" class=\"data row2 col1\" >matplotlib</td>\n",
       "                        <td id=\"T_c6ab43b4_79aa_11ea_88a9_acde48001122row2_col2\" class=\"data row2 col2\" >Matplotlib's base OOP module with formatting artists</td>\n",
       "            </tr>\n",
       "            <tr>\n",
       "                                <td id=\"T_c6ab43b4_79aa_11ea_88a9_acde48001122row3_col0\" class=\"data row3 col0\" >plt</td>\n",
       "                        <td id=\"T_c6ab43b4_79aa_11ea_88a9_acde48001122row3_col1\" class=\"data row3 col1\" >matplotlib.pyplot</td>\n",
       "                        <td id=\"T_c6ab43b4_79aa_11ea_88a9_acde48001122row3_col2\" class=\"data row3 col2\" >Matplotlib's matlab-like plotting module</td>\n",
       "            </tr>\n",
       "            <tr>\n",
       "                                <td id=\"T_c6ab43b4_79aa_11ea_88a9_acde48001122row4_col0\" class=\"data row4 col0\" >np</td>\n",
       "                        <td id=\"T_c6ab43b4_79aa_11ea_88a9_acde48001122row4_col1\" class=\"data row4 col1\" >numpy</td>\n",
       "                        <td id=\"T_c6ab43b4_79aa_11ea_88a9_acde48001122row4_col2\" class=\"data row4 col2\" >scientific computing with Python</td>\n",
       "            </tr>\n",
       "            <tr>\n",
       "                                <td id=\"T_c6ab43b4_79aa_11ea_88a9_acde48001122row5_col0\" class=\"data row5 col0\" >pd</td>\n",
       "                        <td id=\"T_c6ab43b4_79aa_11ea_88a9_acde48001122row5_col1\" class=\"data row5 col1\" >pandas</td>\n",
       "                        <td id=\"T_c6ab43b4_79aa_11ea_88a9_acde48001122row5_col2\" class=\"data row5 col2\" >High performance data structures and tools</td>\n",
       "            </tr>\n",
       "            <tr>\n",
       "                                <td id=\"T_c6ab43b4_79aa_11ea_88a9_acde48001122row6_col0\" class=\"data row6 col0\" >sns</td>\n",
       "                        <td id=\"T_c6ab43b4_79aa_11ea_88a9_acde48001122row6_col1\" class=\"data row6 col1\" >seaborn</td>\n",
       "                        <td id=\"T_c6ab43b4_79aa_11ea_88a9_acde48001122row6_col2\" class=\"data row6 col2\" >High-level data visualization library based on matplotlib</td>\n",
       "            </tr>\n",
       "    </tbody></table>"
      ],
      "text/plain": [
       "<pandas.io.formats.style.Styler at 0x1c1bc7c748>"
      ]
     },
     "metadata": {},
     "output_type": "display_data"
    },
    {
     "data": {
      "text/html": [
       "        <script type=\"text/javascript\">\n",
       "        window.PlotlyConfig = {MathJaxConfig: 'local'};\n",
       "        if (window.MathJax) {MathJax.Hub.Config({SVG: {font: \"STIX-Web\"}});}\n",
       "        if (typeof require !== 'undefined') {\n",
       "        require.undef(\"plotly\");\n",
       "        requirejs.config({\n",
       "            paths: {\n",
       "                'plotly': ['https://cdn.plot.ly/plotly-latest.min']\n",
       "            }\n",
       "        });\n",
       "        require(['plotly'], function(Plotly) {\n",
       "            window._Plotly = Plotly;\n",
       "        });\n",
       "        }\n",
       "        </script>\n",
       "        "
      ]
     },
     "metadata": {},
     "output_type": "display_data"
    },
    {
     "name": "stdout",
     "output_type": "stream",
     "text": [
      "[i] Pandas .iplot() method activated.\n"
     ]
    }
   ],
   "source": [
    "!pip install -U fsds_100719\n",
    "from fsds_100719.imports import *"
   ]
  },
  {
   "cell_type": "markdown",
   "metadata": {
    "colab_type": "text",
    "id": "dT1toD0noc3A"
   },
   "source": [
    "## Normal Distribution"
   ]
  },
  {
   "cell_type": "markdown",
   "metadata": {},
   "source": [
    "> **The Normal Distribution is symmetrical and its mean, median and mode are equal.** \n",
    "* area under curve is equal to 1.0\n",
    "* denser in the center and less dense in the tails\n",
    "* defined by two parameters, the mean ($\\mu$) and the standard deviation ($\\sigma$).\n",
    "    \n",
    "\n",
    "<center><img src=\"https://raw.githubusercontent.com/jirvingphd/dsc-normal-distribution-online-ds-ft-100719/master/images/normal_sd_new.png\" width=600></center>\n"
   ]
  },
  {
   "cell_type": "code",
   "execution_count": 2,
   "metadata": {
    "ExecuteTime": {
     "end_time": "2020-04-08T15:08:18.390117Z",
     "start_time": "2020-04-08T15:08:18.120334Z"
    }
   },
   "outputs": [
    {
     "data": {
      "image/png": "[encoded data removed]",
      "text/plain": [
       "<Figure size 720x432 with 1 Axes>"
      ]
     },
     "metadata": {
      "needs_background": "light"
     },
     "output_type": "display_data"
    }
   ],
   "source": [
    "import scipy.stats as stats\n",
    "x = np.arange(-4,4,.01)\n",
    "y = stats.norm.pdf(x)\n",
    "\n",
    "fig,ax = plt.subplots(figsize=(10,6),nrows=1)\n",
    "\n",
    "ax.plot(x,y,zorder=-1,lw=3)\n",
    "ax.set_ylim(0)\n",
    "ax.grid(which='major',axis='x')"
   ]
  },
  {
   "cell_type": "code",
   "execution_count": 3,
   "metadata": {
    "ExecuteTime": {
     "end_time": "2020-04-08T15:08:18.400829Z",
     "start_time": "2020-04-08T15:08:18.394010Z"
    }
   },
   "outputs": [
    {
     "name": "stdout",
     "output_type": "stream",
     "text": [
      "0.683 0.954\n"
     ]
    }
   ],
   "source": [
    "# ## Prove percentage rules - \n",
    "cdf_1SD = round(stats.norm.cdf(1) - stats.norm.cdf(-1),3)\n",
    "cdf_3SD = round(stats.norm.cdf(2) - stats.norm.cdf(-2),3)\n",
    "print(cdf_1SD,cdf_3SD)\n",
    "# plot_kws= {'ha':'center','backgroundcolor':'white',\n",
    "#            'bbox': dict(boxstyle=\"round\", fc=\"0.8\")}\n",
    "# ax.annotate(str(z1),(-1,.1),**plot_kws)\n",
    "\n",
    "# fig"
   ]
  },
  {
   "cell_type": "markdown",
   "metadata": {},
   "source": [
    "## Standardized Normal Distribution"
   ]
  },
  {
   "cell_type": "markdown",
   "metadata": {},
   "source": [
    "- Special case of the normal distribution where $\\mu=0$ and $\\sigma=1$"
   ]
  },
  {
   "cell_type": "code",
   "execution_count": 4,
   "metadata": {
    "ExecuteTime": {
     "end_time": "2020-04-08T15:08:18.733675Z",
     "start_time": "2020-04-08T15:08:18.403685Z"
    }
   },
   "outputs": [
    {
     "data": {
      "text/html": [
       "<div>\n",
       "<style scoped>\n",
       "    .dataframe tbody tr th:only-of-type {\n",
       "        vertical-align: middle;\n",
       "    }\n",
       "\n",
       "    .dataframe tbody tr th {\n",
       "        vertical-align: top;\n",
       "    }\n",
       "\n",
       "    .dataframe thead th {\n",
       "        text-align: right;\n",
       "    }\n",
       "</style>\n",
       "<table border=\"1\" class=\"dataframe\">\n",
       "  <thead>\n",
       "    <tr style=\"text-align: right;\">\n",
       "      <th></th>\n",
       "      <th>Gender</th>\n",
       "      <th>Height</th>\n",
       "      <th>Weight</th>\n",
       "    </tr>\n",
       "  </thead>\n",
       "  <tbody>\n",
       "    <tr>\n",
       "      <td>0</td>\n",
       "      <td>Male</td>\n",
       "      <td>73.847017</td>\n",
       "      <td>241.893563</td>\n",
       "    </tr>\n",
       "    <tr>\n",
       "      <td>1</td>\n",
       "      <td>Male</td>\n",
       "      <td>68.781904</td>\n",
       "      <td>162.310473</td>\n",
       "    </tr>\n",
       "    <tr>\n",
       "      <td>2</td>\n",
       "      <td>Male</td>\n",
       "      <td>74.110105</td>\n",
       "      <td>212.740856</td>\n",
       "    </tr>\n",
       "    <tr>\n",
       "      <td>3</td>\n",
       "      <td>Male</td>\n",
       "      <td>71.730978</td>\n",
       "      <td>220.042470</td>\n",
       "    </tr>\n",
       "    <tr>\n",
       "      <td>4</td>\n",
       "      <td>Male</td>\n",
       "      <td>69.881796</td>\n",
       "      <td>206.349801</td>\n",
       "    </tr>\n",
       "  </tbody>\n",
       "</table>\n",
       "</div>"
      ],
      "text/plain": [
       "  Gender     Height      Weight\n",
       "0   Male  73.847017  241.893563\n",
       "1   Male  68.781904  162.310473\n",
       "2   Male  74.110105  212.740856\n",
       "3   Male  71.730978  220.042470\n",
       "4   Male  69.881796  206.349801"
      ]
     },
     "execution_count": 4,
     "metadata": {},
     "output_type": "execute_result"
    }
   ],
   "source": [
    "dfh = fs.datasets.load_height_weight()\n",
    "dfh.head()"
   ]
  },
  {
   "cell_type": "markdown",
   "metadata": {
    "ExecuteTime": {
     "end_time": "2020-01-17T21:14:10.883191Z",
     "start_time": "2020-01-17T21:14:10.881053Z"
    }
   },
   "source": [
    "## Z-Scores"
   ]
  },
  {
   "cell_type": "code",
   "execution_count": 5,
   "metadata": {
    "ExecuteTime": {
     "end_time": "2020-04-08T15:08:19.333953Z",
     "start_time": "2020-04-08T15:08:18.735744Z"
    }
   },
   "outputs": [
    {
     "data": {
      "text/plain": [
       "array([[<matplotlib.axes._subplots.AxesSubplot object at 0x1c1e863c88>,\n",
       "        <matplotlib.axes._subplots.AxesSubplot object at 0x15179e89b0>]],\n",
       "      dtype=object)"
      ]
     },
     "execution_count": 5,
     "metadata": {},
     "output_type": "execute_result"
    },
    {
     "data": {
      "image/png": "[encoded data removed]",
      "text/plain": [
       "<Figure size 720x360 with 2 Axes>"
      ]
     },
     "metadata": {
      "needs_background": "light"
     },
     "output_type": "display_data"
    }
   ],
   "source": [
    "dfh.hist(bins='auto',figsize=(10,5))"
   ]
  },
  {
   "cell_type": "markdown",
   "metadata": {},
   "source": [
    "#### Z-score\n",
    "\n",
    "The standard score (more commonly referred to as a $z$-score) is a very useful statistic because it allows us to:\n",
    "1. Calculate the probability of a certain score occurring within a given normal distribution and \n",
    "2. Compare two scores that are from different normal distributions.\n",
    "\n",
    "Any normal distribution can be converted to a standard normal distribution and vice versa using this\n",
    "equation:\n",
    "\n",
    "$$\\Large z=\\frac{x-\\mu}{\\sigma}$$\n",
    "\n",
    "- where $x$ is an individual data point\n",
    "- $\\mu$ is the mean\n",
    "- $\\sigma$ is the standard deviation"
   ]
  },
  {
   "cell_type": "code",
   "execution_count": 12,
   "metadata": {
    "ExecuteTime": {
     "end_time": "2020-04-08T15:09:17.813630Z",
     "start_time": "2020-04-08T15:09:17.806959Z"
    }
   },
   "outputs": [],
   "source": [
    "dfh['HeightZ'] = (dfh[\"Height\"] - dfh['Height'].mean())/ dfh['Height'].std()\n",
    "dfh['WeightZ'] = (dfh[\"Weight\"] - dfh['Weight'].mean()) /dfh['Weight'].std()\n"
   ]
  },
  {
   "cell_type": "code",
   "execution_count": 13,
   "metadata": {
    "ExecuteTime": {
     "end_time": "2020-04-08T15:09:19.555671Z",
     "start_time": "2020-04-08T15:09:18.593711Z"
    }
   },
   "outputs": [
    {
     "data": {
      "text/plain": [
       "array([[<matplotlib.axes._subplots.AxesSubplot object at 0x1c1ea23128>,\n",
       "        <matplotlib.axes._subplots.AxesSubplot object at 0x1c1eb79320>],\n",
       "       [<matplotlib.axes._subplots.AxesSubplot object at 0x1c1ebae4e0>,\n",
       "        <matplotlib.axes._subplots.AxesSubplot object at 0x1c1ebe0748>]],\n",
       "      dtype=object)"
      ]
     },
     "execution_count": 13,
     "metadata": {},
     "output_type": "execute_result"
    },
    {
     "data": {
      "image/png": "[encoded data removed]",
      "text/plain": [
       "<Figure size 864x720 with 4 Axes>"
      ]
     },
     "metadata": {
      "needs_background": "light"
     },
     "output_type": "display_data"
    }
   ],
   "source": [
    "dfh.hist(figsize=(12,10),bins='auto')"
   ]
  },
  {
   "cell_type": "markdown",
   "metadata": {},
   "source": [
    "## Z-Scoring does not affect the data distribution, just standardizes units"
   ]
  },
  {
   "cell_type": "markdown",
   "metadata": {
    "colab_type": "text",
    "id": "-ryhenIMk2bH"
   },
   "source": [
    "# Statistical Testing with Z-scores and p-values"
   ]
  },
  {
   "cell_type": "markdown",
   "metadata": {},
   "source": [
    "- Once data is standardized, can start answering questions about population membership usint $Z$-Tests"
   ]
  },
  {
   "cell_type": "markdown",
   "metadata": {
    "colab_type": "text",
    "id": "tTSol_nkk5LW"
   },
   "source": [
    "### Population vs Sample\n",
    "<img src=\"https://raw.githubusercontent.com/jirvingphd/dsc-z-score-p-value-online-ds-ft-100719/master/images/sample.png\" width=40%>\n",
    "\n",
    "\n",
    ">A **population** is the collection of **all the items of interest in a study**. The numbers you obtain when using a population are called **parameters**.\n",
    "\n",
    "> A **sample** is a **subset of the population**. The numbers you obtain when working with a sample are called **statistics**.\n",
    "\n"
   ]
  },
  {
   "cell_type": "markdown",
   "metadata": {
    "colab_type": "text",
    "id": "SkL-KNS2rPGd"
   },
   "source": [
    "## What Are Hypotheses ?\n",
    "\n",
    "- Null Hypothesis: $H_0$ there is no relationship / the samples come from the same population.\n",
    "\n",
    "- Alternative: $H_A$/$H_1$ there is a relationship / the samples DO NOT come from same distribution\n"
   ]
  },
  {
   "cell_type": "markdown",
   "metadata": {
    "colab_type": "text",
    "id": "TCgnbI1hrRIz"
   },
   "source": [
    " ### $\\large \\alpha$= 0.05\n",
    "\n",
    "\n",
    "- What does it mean?\n",
    "    - cutoff for judging whether our sample is \"significantly\" different than the population.\n",
    "    - % chance that you would observe this sample from your population dataset\n",
    "\n",
    "\n",
    "\n"
   ]
  },
  {
   "cell_type": "code",
   "execution_count": 8,
   "metadata": {
    "ExecuteTime": {
     "end_time": "2020-04-08T15:08:20.932217Z",
     "start_time": "2020-04-08T15:08:20.528285Z"
    }
   },
   "outputs": [
    {
     "data": {
      "image/png": "[encoded data removed]",
      "text/plain": [
       "<Figure size 720x360 with 1 Axes>"
      ]
     },
     "metadata": {
      "needs_background": "light"
     },
     "output_type": "display_data"
    }
   ],
   "source": [
    "ax = dfh['Height'].hist(bins='auto',figsize=(10,5))\n",
    "meanH = dfh['Height'].mean()\n",
    "stdH = dfh[\"Height\"].std()\n",
    "\n",
    "ax.axvline(meanH,c='k')\n",
    "fig =ax.get_figure()"
   ]
  },
  {
   "cell_type": "code",
   "execution_count": 9,
   "metadata": {
    "ExecuteTime": {
     "end_time": "2020-04-08T15:08:21.121266Z",
     "start_time": "2020-04-08T15:08:20.934263Z"
    }
   },
   "outputs": [
    {
     "data": {
      "image/png": "[encoded data removed]",
      "text/plain": [
       "<Figure size 720x360 with 1 Axes>"
      ]
     },
     "execution_count": 9,
     "metadata": {},
     "output_type": "execute_result"
    }
   ],
   "source": [
    "potential_alien_lifeform = 77#height\n",
    "ax.axvline(potential_alien_lifeform,color='red')\n",
    "fig"
   ]
  },
  {
   "cell_type": "markdown",
   "metadata": {
    "colab_type": "text",
    "id": "kWuQRi1xlBH8"
   },
   "source": [
    "### One-Sample $z$-test\n",
    "\n",
    "> **The one-sample $z$-test is used only for tests related to the sample mean.** \n",
    "<img src=\"https://raw.githubusercontent.com/learn-co-students/dsc-z-score-p-value-online-ds-pt-100719/master/images/pvalue.png\" width=70%>\n",
    "\n",
    "\n",
    "<!---<img src=\"https://raw.githubusercontent.com/jirvingphd/dsc-z-score-p-value-online-ds-ft-100719/master/images/cumprob2.png\" width=400--->"
   ]
  },
  {
   "cell_type": "markdown",
   "metadata": {},
   "source": [
    "H0 =  The lifeform's height comes from the human population. \n",
    "\n",
    "H1 = The lifesform's height is significantly different than humans. (its from another population)."
   ]
  },
  {
   "cell_type": "code",
   "execution_count": 14,
   "metadata": {
    "ExecuteTime": {
     "end_time": "2020-04-08T15:11:20.206207Z",
     "start_time": "2020-04-08T15:11:20.200478Z"
    }
   },
   "outputs": [
    {
     "data": {
      "text/plain": [
       "2.7634470526084107"
      ]
     },
     "execution_count": 14,
     "metadata": {},
     "output_type": "execute_result"
    }
   ],
   "source": [
    "dfh['HeightZ'] = (dfh[\"Height\"] - dfh['Height'].mean())/ dfh['Height'].std()\n",
    "z_alien = (potential_alien_lifeform - meanH) /stdH\n",
    "z_alien"
   ]
  },
  {
   "cell_type": "code",
   "execution_count": 15,
   "metadata": {
    "ExecuteTime": {
     "end_time": "2020-04-08T15:11:22.003191Z",
     "start_time": "2020-04-08T15:11:21.999142Z"
    }
   },
   "outputs": [
    {
     "data": {
      "text/plain": [
       "0.0028597185423705485"
      ]
     },
     "execution_count": 15,
     "metadata": {},
     "output_type": "execute_result"
    }
   ],
   "source": [
    "alpha=0.05\n",
    "1 - stats.norm.cdf(z_alien)"
   ]
  },
  {
   "cell_type": "markdown",
   "metadata": {
    "colab_type": "text",
    "id": "yS5r2H5ZrRGf"
   },
   "source": [
    "\n",
    "\n",
    "| Set     | $H_0   $    | $H_a$ | Tails |\n",
    "|---------|-------|-------|-------|\n",
    "|<img width=30/>|<img width=100/>|<img width=100/>|<img width=50/>|\n",
    "| 1  | $\\mu= M $ |$\\mu \\neq M $ | 2  | \n",
    "| 2  | $\\mu \\geq M $ |$\\mu < M $ | 1  | \n",
    "| 3  | $\\mu \\leq M $ |$\\mu > M $ | 1  | \n"
   ]
  },
  {
   "cell_type": "code",
   "execution_count": null,
   "metadata": {},
   "outputs": [],
   "source": []
  },
  {
   "cell_type": "markdown",
   "metadata": {},
   "source": [
    "## Effect Size"
   ]
  },
  {
   "cell_type": "markdown",
   "metadata": {},
   "source": [
    "- Effect size is assessing how strong the significant difference.\n",
    "- Cohen's d is unit-agnostic and easy to interpret.\n",
    "\n",
    "Small effect = 0.2\n",
    "\n",
    "Medium Effect = 0.5\n",
    "\n",
    "Large Effect = 0.8\n",
    "\n",
    "\n",
    "```python\n",
    "def Cohen_d(group1, group2):\n",
    "\n",
    "    # Compute Cohen's d.\n",
    "\n",
    "    # group1: Series or NumPy array\n",
    "    # group2: Series or NumPy array\n",
    "\n",
    "    # returns a floating point number \n",
    "\n",
    "    diff = group1.mean() - group2.mean()\n",
    "\n",
    "    n1, n2 = len(group1), len(group2)\n",
    "    var1 = group1.var()\n",
    "    var2 = group2.var()\n",
    "\n",
    "    # Calculate the pooled threshold as shown earlier\n",
    "    pooled_var = (n1 * var1 + n2 * var2) / (n1 + n2)\n",
    "    \n",
    "    # Calculate Cohen's d statistic\n",
    "    d = diff / np.sqrt(pooled_var)\n",
    "    \n",
    "    return d\n",
    "```"
   ]
  },
  {
   "cell_type": "markdown",
   "metadata": {
    "ExecuteTime": {
     "end_time": "2020-01-21T22:34:50.811862Z",
     "start_time": "2020-01-21T22:34:50.809738Z"
    }
   },
   "source": [
    "# Real-World Science / Experimental Design"
   ]
  },
  {
   "cell_type": "markdown",
   "metadata": {},
   "source": [
    "- [James' Neuroscience Research Poster: Society for Neuroscience 2016](https://drive.google.com/open?id=14z2dUdPB_8ei3HA7R1j3ylwEP0kVZhJq)"
   ]
  },
  {
   "cell_type": "markdown",
   "metadata": {},
   "source": [
    "## The Role of Stress Neurons in the Amygdala in Addiction/Binge Drinking\n",
    "\n",
    "- We will be talking through some of the experiments from my Postdoctoral research on the roll of stress neurons in the escalation of binge drinking.\n"
   ]
  },
  {
   "cell_type": "markdown",
   "metadata": {},
   "source": [
    "### The Opponent-Process Theory of Addiction \n",
    "\n",
    "\n",
    "<img src=\"https://raw.githubusercontent.com/jirvingphd/fsds_pt_100719_cohort_notes/master/Images/robinson-berridge-fig1.jpg\">"
   ]
  },
  {
   "cell_type": "markdown",
   "metadata": {},
   "source": [
    "## Hypothesis "
   ]
  },
  {
   "cell_type": "markdown",
   "metadata": {},
   "source": [
    "- Based on prior evidence in the field, stress neurons in the amygdala are believed to be responsible for the negative emotions that promote binge consumption to relieve negative symptoms"
   ]
  },
  {
   "cell_type": "markdown",
   "metadata": {},
   "source": []
  },
  {
   "cell_type": "markdown",
   "metadata": {},
   "source": [
    "$ H_1$: Increasing the activity of stress neurons (CRF neurons) in the amygdala will increase the amount of alcohol consumed by binge-drinking mice.\n",
    "\n",
    "$H_0$: Stimulation of CRF neurons has no effect on the amount of alcohol consumed.\n",
    "\n",
    "<img src=\"https://raw.githubusercontent.com/jirvingphd/fsds_pt_100719_cohort_notes/master/Images/jmi_poster_preds1.png\" width=60%>"
   ]
  },
  {
   "cell_type": "markdown",
   "metadata": {},
   "source": [
    "## Experimental Design"
   ]
  },
  {
   "cell_type": "markdown",
   "metadata": {},
   "source": [
    "<img src=\"https://raw.githubusercontent.com/jirvingphd/fsds_pt_100719_cohort_notes/master/Images/opto_6steps.jpg\">"
   ]
  },
  {
   "cell_type": "markdown",
   "metadata": {},
   "source": [
    "<img src=\"https://raw.githubusercontent.com/jirvingphd/hypothesis_testing_lessons/master/images/jmi_poster_fig1_no_mouse.png\">\n",
    "\n",
    "<!---\n",
    "<img src=\"https://raw.githubusercontent.com/jirvingphd/hypothesis_testing_lessons/master/images/jmi_poster_fig1.png\">--->"
   ]
  },
  {
   "cell_type": "markdown",
   "metadata": {
    "ExecuteTime": {
     "end_time": "2020-01-21T22:44:58.893416Z",
     "start_time": "2020-01-21T22:44:58.889888Z"
    }
   },
   "source": [
    "<img src=\"https://raw.githubusercontent.com/jirvingphd/fsds_pt_100719_cohort_notes/master/Images/jmi_poster_fig2.png\">"
   ]
  },
  {
   "cell_type": "markdown",
   "metadata": {},
   "source": [
    "# 💻 Hypothesis Testing with T-Tests: Activity"
   ]
  },
  {
   "cell_type": "code",
   "execution_count": null,
   "metadata": {
    "ExecuteTime": {
     "end_time": "2020-04-08T14:58:32.693406Z",
     "start_time": "2020-04-08T14:58:27.591Z"
    }
   },
   "outputs": [],
   "source": [
    "import os,glob\n",
    "folder = '../Hypothesis Testing Project/'\n",
    "display(os.listdir(folder))"
   ]
  },
  {
   "cell_type": "code",
   "execution_count": null,
   "metadata": {
    "ExecuteTime": {
     "end_time": "2020-04-08T14:58:32.694391Z",
     "start_time": "2020-04-08T14:58:27.592Z"
    },
    "scrolled": true
   },
   "outputs": [],
   "source": [
    "# ## Run this code to see the project readme\n",
    "# from IPython.display import Markdown\n",
    "# with open( folder+'README.md','r') as file:\n",
    "#     display(Markdown(file.read()))"
   ]
  },
  {
   "cell_type": "markdown",
   "metadata": {},
   "source": []
  },
  {
   "cell_type": "code",
   "execution_count": null,
   "metadata": {
    "ExecuteTime": {
     "end_time": "2020-04-08T14:58:32.695525Z",
     "start_time": "2020-04-08T14:58:27.594Z"
    }
   },
   "outputs": [],
   "source": [
    "from fsds_100719.imports import *\n",
    "import warnings\n",
    "warnings.filterwarnings('ignore')\n",
    "import sqlite3\n",
    "connect = sqlite3.connect('Northwind_small.sqlite')\n",
    "cur = connect.cursor()\n",
    "\n",
    "## To see all tables\n",
    "cur.execute(\"\"\"SELECT name FROM sqlite_master WHERE type='table';\"\"\")\n",
    "df_tables = pd.DataFrame(cur.fetchall(), columns=['Table'])\n",
    "df_tables"
   ]
  },
  {
   "cell_type": "markdown",
   "metadata": {},
   "source": [
    "## Hypothesis 1"
   ]
  },
  {
   "cell_type": "markdown",
   "metadata": {},
   "source": [
    "> Does discount amount have a statistically significant effect on the quantity of a product in an order?(Today)\n",
    "?> If so, at what level(s) of discount? (will revisit post sect 15)\n",
    "\n",
    "- $H_0$:\n",
    "- $H_A$:"
   ]
  },
  {
   "cell_type": "code",
   "execution_count": null,
   "metadata": {
    "ExecuteTime": {
     "end_time": "2020-04-08T14:58:32.697003Z",
     "start_time": "2020-04-08T14:58:27.595Z"
    }
   },
   "outputs": [],
   "source": [
    "data = cur.execute(\"\"\"SELECT * FROM OrderDetail\"\"\").fetchall()\n",
    "cur.description"
   ]
  },
  {
   "cell_type": "code",
   "execution_count": null,
   "metadata": {
    "ExecuteTime": {
     "end_time": "2020-04-08T14:58:32.698129Z",
     "start_time": "2020-04-08T14:58:27.597Z"
    }
   },
   "outputs": [],
   "source": [
    "df = pd.DataFrame(data, columns=[x[0] for x in cur.description])\n",
    "df"
   ]
  },
  {
   "cell_type": "code",
   "execution_count": null,
   "metadata": {
    "ExecuteTime": {
     "end_time": "2020-04-08T14:58:32.699184Z",
     "start_time": "2020-04-08T14:58:27.598Z"
    }
   },
   "outputs": [],
   "source": [
    "df['discounted'] = (df['Discount']>0).astype(int)\n",
    "df"
   ]
  },
  {
   "cell_type": "code",
   "execution_count": null,
   "metadata": {
    "ExecuteTime": {
     "end_time": "2020-04-08T14:58:32.700184Z",
     "start_time": "2020-04-08T14:58:27.599Z"
    }
   },
   "outputs": [],
   "source": [
    "sns.barplot(data=df, x='discounted',y='Quantity',ci=68)#,hue='discounted')"
   ]
  },
  {
   "cell_type": "code",
   "execution_count": null,
   "metadata": {
    "ExecuteTime": {
     "end_time": "2020-04-08T14:58:32.701236Z",
     "start_time": "2020-04-08T14:58:27.601Z"
    }
   },
   "outputs": [],
   "source": [
    "grps = df.groupby('discounted').groups\n",
    "data = {}\n",
    "for grp, idx in grps.items():\n",
    "    data[grp] = df.loc[idx]['Quantity'].copy()\n",
    "data"
   ]
  },
  {
   "cell_type": "code",
   "execution_count": null,
   "metadata": {
    "ExecuteTime": {
     "end_time": "2020-04-08T14:58:32.702096Z",
     "start_time": "2020-04-08T14:58:27.603Z"
    }
   },
   "outputs": [],
   "source": [
    "## test for normality\n",
    "from scipy.stats import normaltest\n",
    "for grp_name, grp_data  in data.items():\n",
    "    stat,p = normaltest(grp_data)\n",
    "    if p<.05:\n",
    "        result = 'NOT normal'\n",
    "\n",
    "    else:\n",
    "        result = 'normal'\n",
    "        \n",
    "    print(f\"Discount group {grp_name} (n={len(grp_data)}) is {result}.\")\n",
    "    print(f\"   - Normaltest Result: {round(stat,4)}, p={round(p,4)}\",end='\\n\\n')    "
   ]
  },
  {
   "cell_type": "code",
   "execution_count": null,
   "metadata": {
    "ExecuteTime": {
     "end_time": "2020-04-08T14:58:32.702970Z",
     "start_time": "2020-04-08T14:58:27.604Z"
    }
   },
   "outputs": [],
   "source": [
    "from scipy.stats import levene\n",
    "levene(*data.values())"
   ]
  },
  {
   "cell_type": "code",
   "execution_count": null,
   "metadata": {
    "ExecuteTime": {
     "end_time": "2020-04-08T14:58:32.703762Z",
     "start_time": "2020-04-08T14:58:27.605Z"
    }
   },
   "outputs": [],
   "source": [
    "from scipy.stats import ttest_ind\n",
    "ttest_ind(*data.values(),equal_var=False)"
   ]
  },
  {
   "cell_type": "markdown",
   "metadata": {},
   "source": [
    "# APPENDIX"
   ]
  },
  {
   "cell_type": "markdown",
   "metadata": {
    "colab": {},
    "colab_type": "code",
    "id": "bvV8Knq8JVk7"
   },
   "source": [
    "## Effect Size Visual\n",
    "- https://rpsychologist.com/d3/NHST/\n"
   ]
  },
  {
   "cell_type": "markdown",
   "metadata": {},
   "source": [
    "## Ephys Figure\n",
    "<img src=\"https://raw.githubusercontent.com/jirvingphd/fsds_pt_100719_cohort_notes/master/Images/jmi_fig1.png\">"
   ]
  },
  {
   "cell_type": "code",
   "execution_count": null,
   "metadata": {},
   "outputs": [],
   "source": []
  }
 ],
 "metadata": {
  "colab": {
   "collapsed_sections": [],
   "name": "Sect 20_hypothesis_testing.ipynb",
   "provenance": []
  },
  "kernelspec": {
   "display_name": "Python 3",
   "language": "python",
   "name": "python3"
  },
  "language_info": {
   "codemirror_mode": {
    "name": "ipython",
    "version": 3
   },
   "file_extension": ".py",
   "mimetype": "text/x-python",
   "name": "python",
   "nbconvert_exporter": "python",
   "pygments_lexer": "ipython3",
   "version": "3.6.9"
  },
  "toc": {
   "base_numbering": 1,
   "nav_menu": {},
   "number_sections": true,
   "sideBar": true,
   "skip_h1_title": false,
   "title_cell": "Table of Contents",
   "title_sidebar": "Contents",
   "toc_cell": false,
   "toc_position": {
    "height": "calc(100% - 180px)",
    "left": "10px",
    "top": "150px",
    "width": "256px"
   },
   "toc_section_display": true,
   "toc_window_display": true
  }
 },
 "nbformat": 4,
 "nbformat_minor": 1
}
